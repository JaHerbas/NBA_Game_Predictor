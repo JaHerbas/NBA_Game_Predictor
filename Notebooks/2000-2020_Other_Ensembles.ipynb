{
 "cells": [
  {
   "cell_type": "markdown",
   "metadata": {},
   "source": [
    "# ENSEMBLES & OTHERS"
   ]
  },
  {
   "cell_type": "markdown",
   "metadata": {},
   "source": [
    "In this notebook I'll be concentrating on testing other ensembles but only on the 10 year dataset equivalent to the 10 most recent seasons (from 2010 to 2020). If time permits it, or even after I have handed this project, I will extend these tests to the rest of the datasets and will ultimately try to find the most optimum number of year to consider for Regular Season Game Predictions.\n",
    "\n",
    "As always I will start importing all thee necessary libraries and probably I will end up importing some that I won't have to use, but will do as I will continue with this project."
   ]
  },
  {
   "cell_type": "markdown",
   "metadata": {},
   "source": [
    "# Importing libraries and data loading"
   ]
  },
  {
   "cell_type": "code",
   "execution_count": 5,
   "metadata": {
    "ExecuteTime": {
     "end_time": "2020-08-24T00:24:50.219139Z",
     "start_time": "2020-08-24T00:24:50.209974Z"
    }
   },
   "outputs": [],
   "source": [
    "import pandas as pd\n",
    "import numpy as np\n",
    "np.random.seed(0)\n",
    "import matplotlib.pyplot as plt\n",
    "%matplotlib inline\n",
    "import seaborn as sns\n",
    "import xgboost as xgb\n",
    "\n",
    "\n",
    "from sklearn.svm import LinearSVC\n",
    "from sklearn.svm import SVC\n",
    "from sklearn import svm\n",
    "from sklearn.preprocessing import StandardScaler\n",
    "\n",
    "from sklearn.metrics import confusion_matrix\n",
    "from sklearn.model_selection import train_test_split, GridSearchCV, cross_val_score\n",
    "from sklearn import metrics\n",
    "from sklearn.tree import DecisionTreeClassifier\n",
    "from sklearn.ensemble import RandomForestClassifier, AdaBoostClassifier\n",
    "from sklearn.ensemble import BaggingClassifier\n",
    "from xgboost import XGBClassifier\n",
    "from sklearn.metrics import accuracy_score\n",
    "from sklearn.ensemble import AdaBoostClassifier, GradientBoostingClassifier\n",
    "from sklearn.metrics import accuracy_score, f1_score, confusion_matrix, classification_report\n"
   ]
  },
  {
   "cell_type": "code",
   "execution_count": 6,
   "metadata": {
    "ExecuteTime": {
     "end_time": "2020-08-24T00:24:51.083999Z",
     "start_time": "2020-08-24T00:24:51.040987Z"
    }
   },
   "outputs": [
    {
     "data": {
      "text/html": [
       "<div>\n",
       "<style scoped>\n",
       "    .dataframe tbody tr th:only-of-type {\n",
       "        vertical-align: middle;\n",
       "    }\n",
       "\n",
       "    .dataframe tbody tr th {\n",
       "        vertical-align: top;\n",
       "    }\n",
       "\n",
       "    .dataframe thead th {\n",
       "        text-align: right;\n",
       "    }\n",
       "</style>\n",
       "<table border=\"1\" class=\"dataframe\">\n",
       "  <thead>\n",
       "    <tr style=\"text-align: right;\">\n",
       "      <th></th>\n",
       "      <th>Game_Result</th>\n",
       "      <th>Team1_FGA</th>\n",
       "      <th>Team1_FG_P</th>\n",
       "      <th>Team1_3PA</th>\n",
       "      <th>Team1_3P_P</th>\n",
       "      <th>Team1_OFFRTG</th>\n",
       "      <th>Team1_DEFRTG</th>\n",
       "      <th>Team1_REB_P</th>\n",
       "      <th>Team1_AST/TO</th>\n",
       "      <th>Team1_PACE</th>\n",
       "      <th>Team2_FGA</th>\n",
       "      <th>Team2_FG_P</th>\n",
       "      <th>Team2_3PA</th>\n",
       "      <th>Team2_3P_P</th>\n",
       "      <th>Team2_OFFRTG</th>\n",
       "      <th>Team2_DEFRTG</th>\n",
       "      <th>Team2_REB_P</th>\n",
       "      <th>Team2_AST/TO</th>\n",
       "      <th>Team2_PACE</th>\n",
       "    </tr>\n",
       "  </thead>\n",
       "  <tbody>\n",
       "    <tr>\n",
       "      <td>0</td>\n",
       "      <td>1</td>\n",
       "      <td>96.0</td>\n",
       "      <td>46.5</td>\n",
       "      <td>43.2</td>\n",
       "      <td>38.0</td>\n",
       "      <td>112.2</td>\n",
       "      <td>114.2</td>\n",
       "      <td>46.9</td>\n",
       "      <td>1.89</td>\n",
       "      <td>106.09</td>\n",
       "      <td>86.8</td>\n",
       "      <td>46.3</td>\n",
       "      <td>36.8</td>\n",
       "      <td>38.0</td>\n",
       "      <td>107.5</td>\n",
       "      <td>99.1</td>\n",
       "      <td>51.1</td>\n",
       "      <td>1.26</td>\n",
       "      <td>104.23</td>\n",
       "    </tr>\n",
       "    <tr>\n",
       "      <td>1</td>\n",
       "      <td>1</td>\n",
       "      <td>87.5</td>\n",
       "      <td>45.7</td>\n",
       "      <td>29.0</td>\n",
       "      <td>33.6</td>\n",
       "      <td>107.9</td>\n",
       "      <td>96.8</td>\n",
       "      <td>51.4</td>\n",
       "      <td>1.54</td>\n",
       "      <td>101.00</td>\n",
       "      <td>84.0</td>\n",
       "      <td>49.6</td>\n",
       "      <td>29.5</td>\n",
       "      <td>36.7</td>\n",
       "      <td>112.9</td>\n",
       "      <td>107.5</td>\n",
       "      <td>49.6</td>\n",
       "      <td>1.35</td>\n",
       "      <td>101.50</td>\n",
       "    </tr>\n",
       "    <tr>\n",
       "      <td>2</td>\n",
       "      <td>1</td>\n",
       "      <td>94.0</td>\n",
       "      <td>41.1</td>\n",
       "      <td>36.2</td>\n",
       "      <td>29.3</td>\n",
       "      <td>103.7</td>\n",
       "      <td>109.6</td>\n",
       "      <td>45.2</td>\n",
       "      <td>1.81</td>\n",
       "      <td>101.80</td>\n",
       "      <td>86.0</td>\n",
       "      <td>46.3</td>\n",
       "      <td>35.8</td>\n",
       "      <td>41.9</td>\n",
       "      <td>104.9</td>\n",
       "      <td>114.2</td>\n",
       "      <td>47.3</td>\n",
       "      <td>1.30</td>\n",
       "      <td>103.00</td>\n",
       "    </tr>\n",
       "    <tr>\n",
       "      <td>3</td>\n",
       "      <td>0</td>\n",
       "      <td>81.6</td>\n",
       "      <td>47.8</td>\n",
       "      <td>26.8</td>\n",
       "      <td>41.8</td>\n",
       "      <td>106.3</td>\n",
       "      <td>110.4</td>\n",
       "      <td>50.9</td>\n",
       "      <td>1.23</td>\n",
       "      <td>101.70</td>\n",
       "      <td>91.5</td>\n",
       "      <td>44.8</td>\n",
       "      <td>24.0</td>\n",
       "      <td>36.5</td>\n",
       "      <td>105.3</td>\n",
       "      <td>108.5</td>\n",
       "      <td>45.8</td>\n",
       "      <td>2.00</td>\n",
       "      <td>99.88</td>\n",
       "    </tr>\n",
       "    <tr>\n",
       "      <td>4</td>\n",
       "      <td>1</td>\n",
       "      <td>86.5</td>\n",
       "      <td>46.0</td>\n",
       "      <td>32.0</td>\n",
       "      <td>32.8</td>\n",
       "      <td>105.5</td>\n",
       "      <td>107.7</td>\n",
       "      <td>53.1</td>\n",
       "      <td>1.32</td>\n",
       "      <td>100.50</td>\n",
       "      <td>90.5</td>\n",
       "      <td>39.5</td>\n",
       "      <td>33.0</td>\n",
       "      <td>28.8</td>\n",
       "      <td>97.2</td>\n",
       "      <td>94.7</td>\n",
       "      <td>49.2</td>\n",
       "      <td>1.77</td>\n",
       "      <td>98.75</td>\n",
       "    </tr>\n",
       "  </tbody>\n",
       "</table>\n",
       "</div>"
      ],
      "text/plain": [
       "   Game_Result  Team1_FGA  Team1_FG_P  Team1_3PA  Team1_3P_P  Team1_OFFRTG  \\\n",
       "0            1       96.0        46.5       43.2        38.0         112.2   \n",
       "1            1       87.5        45.7       29.0        33.6         107.9   \n",
       "2            1       94.0        41.1       36.2        29.3         103.7   \n",
       "3            0       81.6        47.8       26.8        41.8         106.3   \n",
       "4            1       86.5        46.0       32.0        32.8         105.5   \n",
       "\n",
       "   Team1_DEFRTG  Team1_REB_P  Team1_AST/TO  Team1_PACE  Team2_FGA  Team2_FG_P  \\\n",
       "0         114.2         46.9          1.89      106.09       86.8        46.3   \n",
       "1          96.8         51.4          1.54      101.00       84.0        49.6   \n",
       "2         109.6         45.2          1.81      101.80       86.0        46.3   \n",
       "3         110.4         50.9          1.23      101.70       91.5        44.8   \n",
       "4         107.7         53.1          1.32      100.50       90.5        39.5   \n",
       "\n",
       "   Team2_3PA  Team2_3P_P  Team2_OFFRTG  Team2_DEFRTG  Team2_REB_P  \\\n",
       "0       36.8        38.0         107.5          99.1         51.1   \n",
       "1       29.5        36.7         112.9         107.5         49.6   \n",
       "2       35.8        41.9         104.9         114.2         47.3   \n",
       "3       24.0        36.5         105.3         108.5         45.8   \n",
       "4       33.0        28.8          97.2          94.7         49.2   \n",
       "\n",
       "   Team2_AST/TO  Team2_PACE  \n",
       "0          1.26      104.23  \n",
       "1          1.35      101.50  \n",
       "2          1.30      103.00  \n",
       "3          2.00       99.88  \n",
       "4          1.77       98.75  "
      ]
     },
     "execution_count": 6,
     "metadata": {},
     "output_type": "execute_result"
    }
   ],
   "source": [
    "df = pd.read_csv('2010-2020_Model_Ready.csv', index_col=0)\n",
    "df.head()"
   ]
  },
  {
   "cell_type": "markdown",
   "metadata": {},
   "source": [
    "Remember that this data has been cleaned and conditioned to start with the models directly. Still I will do a couple of checks just in case and to remind me of a few details about the data itself"
   ]
  },
  {
   "cell_type": "code",
   "execution_count": 7,
   "metadata": {
    "ExecuteTime": {
     "end_time": "2020-08-24T00:24:51.901056Z",
     "start_time": "2020-08-24T00:24:51.897283Z"
    }
   },
   "outputs": [
    {
     "data": {
      "text/plain": [
       "(12198, 19)"
      ]
     },
     "execution_count": 7,
     "metadata": {},
     "output_type": "execute_result"
    }
   ],
   "source": [
    "df.shape"
   ]
  },
  {
   "cell_type": "code",
   "execution_count": 8,
   "metadata": {
    "ExecuteTime": {
     "end_time": "2020-08-24T00:24:52.431317Z",
     "start_time": "2020-08-24T00:24:52.427626Z"
    },
    "scrolled": true
   },
   "outputs": [
    {
     "name": "stdout",
     "output_type": "stream",
     "text": [
      "0    1\n",
      "1    1\n",
      "2    1\n",
      "3    0\n",
      "4    1\n",
      "Name: Game_Result, dtype: int64\n"
     ]
    }
   ],
   "source": [
    "print(df.Game_Result[0:5])"
   ]
  },
  {
   "cell_type": "markdown",
   "metadata": {},
   "source": [
    "Before I start testing some of the Ensemble methods I will create a box plot of all each column in my 10 season stats dataframe to see if there is anything that needs to be further adjusted/cleaned."
   ]
  },
  {
   "cell_type": "code",
   "execution_count": 12,
   "metadata": {
    "ExecuteTime": {
     "end_time": "2020-08-24T00:25:10.467454Z",
     "start_time": "2020-08-24T00:25:10.066276Z"
    },
    "scrolled": false
   },
   "outputs": [
    {
     "data": {
      "image/png": "[encoded data removed]",
      "text/plain": [
       "<Figure size 1440x720 with 1 Axes>"
      ]
     },
     "metadata": {
      "needs_background": "light"
     },
     "output_type": "display_data"
    }
   ],
   "source": [
    "# Create a box plot of each column\n",
    "plt.figure(figsize=(20, 10))\n",
    "plt.boxplot([df[col] for col in df.columns])\n",
    "plt.title(\"Box plot of all columns in dataset\")\n",
    "plt.xticks(range(len(df.columns.values)), df.columns.values)\n",
    "plt.show()"
   ]
  },
  {
   "cell_type": "markdown",
   "metadata": {},
   "source": [
    "Even when there seems to be some outliers, in fact, there aren't. The reason is because this data is a series of basketball stats, and normally those values that might be irregular performances are very important, therefore I cannot filter/erase them."
   ]
  },
  {
   "cell_type": "markdown",
   "metadata": {},
   "source": [
    "Because this will be the same data set used for different ensemble method, I will only have to create target (y) and features (X) once, and the same goes for splitting thee data:"
   ]
  },
  {
   "cell_type": "code",
   "execution_count": 13,
   "metadata": {
    "ExecuteTime": {
     "end_time": "2020-08-24T00:25:11.978099Z",
     "start_time": "2020-08-24T00:25:11.974141Z"
    }
   },
   "outputs": [],
   "source": [
    "# Create features (X) and target (y)\n",
    "y = df['Game_Result']\n",
    "X = df.drop(['Game_Result'], axis=1)"
   ]
  },
  {
   "cell_type": "code",
   "execution_count": 14,
   "metadata": {
    "ExecuteTime": {
     "end_time": "2020-08-24T00:25:12.643895Z",
     "start_time": "2020-08-24T00:25:12.637816Z"
    }
   },
   "outputs": [],
   "source": [
    "# Perform the split\n",
    "X_test, X_train, y_test, y_train = train_test_split(X, y, test_size=0.25, random_state=42)"
   ]
  },
  {
   "cell_type": "markdown",
   "metadata": {},
   "source": [
    "Generating the Model"
   ]
  },
  {
   "cell_type": "markdown",
   "metadata": {},
   "source": [
    "# SVM Linear Classifier"
   ]
  },
  {
   "cell_type": "markdown",
   "metadata": {},
   "source": [
    "## Creating the SVM Classifier"
   ]
  },
  {
   "cell_type": "code",
   "execution_count": 15,
   "metadata": {
    "ExecuteTime": {
     "end_time": "2020-08-24T00:25:13.776469Z",
     "start_time": "2020-08-24T00:25:13.773882Z"
    }
   },
   "outputs": [],
   "source": [
    "#Create a svm Classifier\n",
    "clf = svm.SVC(kernel='linear') # Linear Kernel"
   ]
  },
  {
   "cell_type": "markdown",
   "metadata": {},
   "source": [
    "## Training the Model and Predicting "
   ]
  },
  {
   "cell_type": "code",
   "execution_count": 16,
   "metadata": {
    "ExecuteTime": {
     "end_time": "2020-08-24T00:25:16.737881Z",
     "start_time": "2020-08-24T00:25:14.792951Z"
    }
   },
   "outputs": [],
   "source": [
    "#Train the model using the training sets\n",
    "clf.fit(X_train, y_train)\n",
    "\n",
    "#Predict the response for test dataset\n",
    "y_pred = clf.predict(X_test)"
   ]
  },
  {
   "cell_type": "markdown",
   "metadata": {},
   "source": [
    "## Evaluating the Model"
   ]
  },
  {
   "cell_type": "markdown",
   "metadata": {},
   "source": [
    "Let's estimate how accurately the classifier/model can predict the Game_Result, which translates as the Home Team (Team1) winning the game\n",
    "\n",
    "The way to do this is by computing the accuracy, which can be done by comparing actual test set values and predicted values"
   ]
  },
  {
   "cell_type": "code",
   "execution_count": 17,
   "metadata": {
    "ExecuteTime": {
     "end_time": "2020-08-24T00:25:25.367147Z",
     "start_time": "2020-08-24T00:25:25.361673Z"
    }
   },
   "outputs": [
    {
     "name": "stdout",
     "output_type": "stream",
     "text": [
      "Accuracy: 0.7188456493222563\n"
     ]
    }
   ],
   "source": [
    "print(\"Accuracy:\", metrics.accuracy_score(y_test, y_pred))"
   ]
  },
  {
   "cell_type": "markdown",
   "metadata": {},
   "source": [
    "71.88% is not a bad accuracy to start with. Lets look at other metrics now:"
   ]
  },
  {
   "cell_type": "code",
   "execution_count": 18,
   "metadata": {
    "ExecuteTime": {
     "end_time": "2020-08-24T00:25:26.363087Z",
     "start_time": "2020-08-24T00:25:26.351682Z"
    }
   },
   "outputs": [
    {
     "name": "stdout",
     "output_type": "stream",
     "text": [
      "Precision: 0.7363344051446945\n",
      "Recall: 0.8109972041006523\n"
     ]
    }
   ],
   "source": [
    "# Model Precision: what percentage of positive tuples are labeled as such?\n",
    "print(\"Precision:\",metrics.precision_score(y_test, y_pred))\n",
    "\n",
    "# Model Recall: what percentage of positive tuples are labelled as such?\n",
    "print(\"Recall:\",metrics.recall_score(y_test, y_pred))"
   ]
  },
  {
   "cell_type": "markdown",
   "metadata": {},
   "source": [
    "Both, the precision and recall are quite good, in particular the Recall of 81.10%."
   ]
  },
  {
   "cell_type": "markdown",
   "metadata": {},
   "source": [
    "# SCV Prediction "
   ]
  },
  {
   "cell_type": "code",
   "execution_count": 19,
   "metadata": {
    "ExecuteTime": {
     "end_time": "2020-08-24T00:25:30.495756Z",
     "start_time": "2020-08-24T00:25:28.840209Z"
    }
   },
   "outputs": [
    {
     "data": {
      "text/plain": [
       "0.7157848710100568"
      ]
     },
     "execution_count": 19,
     "metadata": {},
     "output_type": "execute_result"
    }
   ],
   "source": [
    "# SVC prediction model attempt (gamma set to 'scale')\n",
    "\n",
    "clf = SVC(gamma='scale',probability=True)\n",
    "clf.fit(X_train, y_train)\n",
    "clf.score(X_test,y_test)"
   ]
  },
  {
   "cell_type": "markdown",
   "metadata": {
    "ExecuteTime": {
     "end_time": "2020-08-24T00:08:15.919188Z",
     "start_time": "2020-08-24T00:08:15.915768Z"
    }
   },
   "source": [
    "An accuracy of 71.58%, very close to the SVM Linear Classifier"
   ]
  },
  {
   "cell_type": "markdown",
   "metadata": {},
   "source": [
    "# BaggingSVC Enseemble Classification"
   ]
  },
  {
   "cell_type": "code",
   "execution_count": 20,
   "metadata": {
    "ExecuteTime": {
     "end_time": "2020-08-24T00:25:35.010496Z",
     "start_time": "2020-08-24T00:25:30.921085Z"
    }
   },
   "outputs": [
    {
     "data": {
      "text/plain": [
       "0.7162221250546568"
      ]
     },
     "execution_count": 20,
     "metadata": {},
     "output_type": "execute_result"
    }
   ],
   "source": [
    "#BaggingSVC Ensemble classification\n",
    "\n",
    "advclf = BaggingClassifier(base_estimator=SVC(gamma='scale'), n_estimators=10, random_state=0)\n",
    "advclf.fit(X_train, y_train)\n",
    "advclf.score(X_test,y_test)"
   ]
  },
  {
   "cell_type": "markdown",
   "metadata": {},
   "source": [
    "# Adaboost & Gradient Boosting Classifier"
   ]
  },
  {
   "cell_type": "code",
   "execution_count": 21,
   "metadata": {
    "ExecuteTime": {
     "end_time": "2020-08-24T00:25:35.517380Z",
     "start_time": "2020-08-24T00:25:35.514993Z"
    }
   },
   "outputs": [],
   "source": [
    "# TRAINING THE MODELS\n",
    "\n",
    "# Instantiate an AdaBoostClassifier\n",
    "adaboost_clf = AdaBoostClassifier(random_state=42)\n",
    "\n",
    "# Instantiate an GradientBoostingClassifier\n",
    "gbt_clf = GradientBoostingClassifier(random_state=42)"
   ]
  },
  {
   "cell_type": "code",
   "execution_count": 22,
   "metadata": {
    "ExecuteTime": {
     "end_time": "2020-08-24T00:25:36.135295Z",
     "start_time": "2020-08-24T00:25:35.949950Z"
    }
   },
   "outputs": [
    {
     "data": {
      "text/plain": [
       "AdaBoostClassifier(random_state=42)"
      ]
     },
     "execution_count": 22,
     "metadata": {},
     "output_type": "execute_result"
    }
   ],
   "source": [
    "adaboost_clf.fit(X_train, y_train)"
   ]
  },
  {
   "cell_type": "code",
   "execution_count": 23,
   "metadata": {
    "ExecuteTime": {
     "end_time": "2020-08-24T00:25:37.328980Z",
     "start_time": "2020-08-24T00:25:36.585738Z"
    }
   },
   "outputs": [
    {
     "data": {
      "text/plain": [
       "GradientBoostingClassifier(random_state=42)"
      ]
     },
     "execution_count": 23,
     "metadata": {},
     "output_type": "execute_result"
    }
   ],
   "source": [
    "gbt_clf.fit(X_train, y_train)"
   ]
  },
  {
   "cell_type": "code",
   "execution_count": 24,
   "metadata": {
    "ExecuteTime": {
     "end_time": "2020-08-24T00:25:37.906435Z",
     "start_time": "2020-08-24T00:25:37.828979Z"
    }
   },
   "outputs": [],
   "source": [
    "# Using the models to predict labels on both training and test sets\n",
    "\n",
    "# AdaBoost model predictions\n",
    "adaboost_train_preds = adaboost_clf.predict(X_train)\n",
    "adaboost_test_preds = adaboost_clf.predict(X_test)\n",
    "\n",
    "# GradientBoosting model predictions\n",
    "gbt_clf_train_preds = gbt_clf.predict(X_train)\n",
    "gbt_clf_test_preds = gbt_clf.predict(X_test)"
   ]
  },
  {
   "cell_type": "code",
   "execution_count": 25,
   "metadata": {
    "ExecuteTime": {
     "end_time": "2020-08-24T00:25:38.336100Z",
     "start_time": "2020-08-24T00:25:38.315685Z"
    }
   },
   "outputs": [
    {
     "name": "stdout",
     "output_type": "stream",
     "text": [
      "Training Metrics\n",
      "Model: AdaBoost\n",
      "Accuracy: 0.7340983606557377\n",
      "F1-Score: 0.7835601814785161\n",
      "\n",
      "Model: Gradient Boosted Trees\n",
      "Accuracy: 0.7934426229508197\n",
      "F1-Score: 0.8324468085106382\n",
      "\n",
      "Testing Metrics\n",
      "Model: AdaBoost\n",
      "Accuracy: 0.6935942282466113\n",
      "F1-Score: 0.7480449438202247\n",
      "\n",
      "Model: Gradient Boosted Trees\n",
      "Accuracy: 0.7052907739396589\n",
      "F1-Score: 0.7594145993217919\n"
     ]
    }
   ],
   "source": [
    "# Calculating the accuracy and f1-score for each model:\n",
    "\n",
    "def display_acc_and_f1_score(true, preds, model_name):\n",
    "    acc = accuracy_score(true, preds)\n",
    "    f1 = f1_score(true, preds)\n",
    "    print(\"Model: {}\".format(model_name))\n",
    "    print(\"Accuracy: {}\".format(acc))\n",
    "    print(\"F1-Score: {}\".format(f1))\n",
    "    \n",
    "print(\"Training Metrics\")\n",
    "display_acc_and_f1_score(y_train, adaboost_train_preds, model_name='AdaBoost')\n",
    "print(\"\")\n",
    "display_acc_and_f1_score(y_train, gbt_clf_train_preds, model_name='Gradient Boosted Trees')\n",
    "print(\"\")\n",
    "print(\"Testing Metrics\")\n",
    "display_acc_and_f1_score(y_test, adaboost_test_preds, model_name='AdaBoost')\n",
    "print(\"\")\n",
    "display_acc_and_f1_score(y_test, gbt_clf_test_preds, model_name='Gradient Boosted Trees')"
   ]
  },
  {
   "cell_type": "markdown",
   "metadata": {},
   "source": [
    "## Confusion Matrix"
   ]
  },
  {
   "cell_type": "code",
   "execution_count": 26,
   "metadata": {
    "ExecuteTime": {
     "end_time": "2020-08-24T00:25:42.194609Z",
     "start_time": "2020-08-24T00:25:42.181791Z"
    }
   },
   "outputs": [
    {
     "data": {
      "text/plain": [
       "array([[2184, 1599],\n",
       "       [1204, 4161]])"
      ]
     },
     "execution_count": 26,
     "metadata": {},
     "output_type": "execute_result"
    }
   ],
   "source": [
    "adaboost_confusion_matrix = confusion_matrix(y_test, adaboost_test_preds)\n",
    "adaboost_confusion_matrix"
   ]
  },
  {
   "cell_type": "code",
   "execution_count": 27,
   "metadata": {
    "ExecuteTime": {
     "end_time": "2020-08-24T00:25:43.683027Z",
     "start_time": "2020-08-24T00:25:43.670297Z"
    }
   },
   "outputs": [
    {
     "data": {
      "text/plain": [
       "array([[2197, 1586],\n",
       "       [1110, 4255]])"
      ]
     },
     "execution_count": 27,
     "metadata": {},
     "output_type": "execute_result"
    }
   ],
   "source": [
    "gbt_confusion_matrix = confusion_matrix(y_test, gbt_clf_test_preds)\n",
    "gbt_confusion_matrix"
   ]
  },
  {
   "cell_type": "code",
   "execution_count": 28,
   "metadata": {
    "ExecuteTime": {
     "end_time": "2020-08-24T00:25:45.167215Z",
     "start_time": "2020-08-24T00:25:45.149027Z"
    }
   },
   "outputs": [
    {
     "name": "stdout",
     "output_type": "stream",
     "text": [
      "              precision    recall  f1-score   support\n",
      "\n",
      "           0       0.64      0.58      0.61      3783\n",
      "           1       0.72      0.78      0.75      5365\n",
      "\n",
      "    accuracy                           0.69      9148\n",
      "   macro avg       0.68      0.68      0.68      9148\n",
      "weighted avg       0.69      0.69      0.69      9148\n",
      "\n"
     ]
    }
   ],
   "source": [
    "adaboost_classification_report = classification_report(y_test, adaboost_test_preds)\n",
    "print(adaboost_classification_report)"
   ]
  },
  {
   "cell_type": "code",
   "execution_count": 29,
   "metadata": {
    "ExecuteTime": {
     "end_time": "2020-08-24T00:25:45.672810Z",
     "start_time": "2020-08-24T00:25:45.657507Z"
    }
   },
   "outputs": [
    {
     "name": "stdout",
     "output_type": "stream",
     "text": [
      "              precision    recall  f1-score   support\n",
      "\n",
      "           0       0.66      0.58      0.62      3783\n",
      "           1       0.73      0.79      0.76      5365\n",
      "\n",
      "    accuracy                           0.71      9148\n",
      "   macro avg       0.70      0.69      0.69      9148\n",
      "weighted avg       0.70      0.71      0.70      9148\n",
      "\n"
     ]
    }
   ],
   "source": [
    "gbt_classification_report = classification_report(y_test, gbt_clf_test_preds)\n",
    "print(gbt_classification_report)"
   ]
  },
  {
   "cell_type": "markdown",
   "metadata": {},
   "source": [
    "As a final performance check, let's calculate the 5-fold cross-validated score for each model!"
   ]
  },
  {
   "cell_type": "code",
   "execution_count": 30,
   "metadata": {
    "ExecuteTime": {
     "end_time": "2020-08-24T00:25:50.052684Z",
     "start_time": "2020-08-24T00:25:47.920716Z"
    }
   },
   "outputs": [
    {
     "name": "stdout",
     "output_type": "stream",
     "text": [
      "Mean Adaboost Cross-Val Score (k=5):\n",
      "0.7070028700287002\n"
     ]
    }
   ],
   "source": [
    "print('Mean Adaboost Cross-Val Score (k=5):')\n",
    "print(cross_val_score(adaboost_clf, X, y, cv=5).mean())"
   ]
  },
  {
   "cell_type": "code",
   "execution_count": 31,
   "metadata": {
    "ExecuteTime": {
     "end_time": "2020-08-24T00:25:59.393268Z",
     "start_time": "2020-08-24T00:25:50.475980Z"
    }
   },
   "outputs": [
    {
     "name": "stdout",
     "output_type": "stream",
     "text": [
      "Mean GBT Cross-Val Score (k=5):\n",
      "0.7104454257657331\n"
     ]
    }
   ],
   "source": [
    "print('Mean GBT Cross-Val Score (k=5):')\n",
    "print(cross_val_score(gbt_clf, X, y, cv=5).mean())"
   ]
  },
  {
   "cell_type": "markdown",
   "metadata": {},
   "source": [
    "# XGBOOST"
   ]
  },
  {
   "cell_type": "code",
   "execution_count": 32,
   "metadata": {
    "ExecuteTime": {
     "end_time": "2020-08-24T00:25:59.802058Z",
     "start_time": "2020-08-24T00:25:59.790917Z"
    }
   },
   "outputs": [],
   "source": [
    "scaler = StandardScaler()\n",
    "scaled_df = scaler.fit_transform(X)\n",
    "\n",
    "X_train, X_test, y_train, y_test = train_test_split(scaled_df, y)"
   ]
  },
  {
   "cell_type": "code",
   "execution_count": 33,
   "metadata": {
    "ExecuteTime": {
     "end_time": "2020-08-24T00:26:00.924361Z",
     "start_time": "2020-08-24T00:26:00.080880Z"
    }
   },
   "outputs": [
    {
     "name": "stdout",
     "output_type": "stream",
     "text": [
      "Training Accuracy: 74.5%\n",
      "Validation accuracy: 71.21%\n"
     ]
    }
   ],
   "source": [
    "clf = xgb.XGBClassifier()\n",
    "clf.fit(X_train, y_train)\n",
    "training_preds = clf.predict(X_train)\n",
    "val_preds = clf.predict(X_test)\n",
    "training_accuracy = accuracy_score(y_train, training_preds)\n",
    "val_accuracy = accuracy_score(y_test, val_preds)\n",
    "\n",
    "print(\"Training Accuracy: {:.4}%\".format(training_accuracy * 100))\n",
    "print(\"Validation accuracy: {:.4}%\".format(val_accuracy * 100))"
   ]
  },
  {
   "cell_type": "markdown",
   "metadata": {
    "ExecuteTime": {
     "end_time": "2020-08-23T23:22:14.594862Z",
     "start_time": "2020-08-23T23:22:14.591171Z"
    }
   },
   "source": [
    "## Tuning XGBOOST"
   ]
  },
  {
   "cell_type": "code",
   "execution_count": 34,
   "metadata": {
    "ExecuteTime": {
     "end_time": "2020-08-24T00:26:01.219154Z",
     "start_time": "2020-08-24T00:26:01.216363Z"
    }
   },
   "outputs": [],
   "source": [
    "param_grid = {\n",
    "    \"learning_rate\": [0.1],\n",
    "    'max_depth': [6],\n",
    "    'min_child_weight': [10],\n",
    "    'subsample': [ 0.7],\n",
    "    'n_estimators': [5, 30, 100, 250],\n",
    "}"
   ]
  },
  {
   "cell_type": "code",
   "execution_count": 35,
   "metadata": {
    "ExecuteTime": {
     "end_time": "2020-08-24T00:26:34.948039Z",
     "start_time": "2020-08-24T00:26:04.596493Z"
    }
   },
   "outputs": [
    {
     "name": "stdout",
     "output_type": "stream",
     "text": [
      "Grid Search found the following optimal parameters: \n",
      "learning_rate: 0.1\n",
      "max_depth: 6\n",
      "min_child_weight: 10\n",
      "n_estimators: 30\n",
      "subsample: 0.7\n",
      "\n",
      "Training Accuracy: 75.03%\n",
      "Validation accuracy: 75.18%\n"
     ]
    }
   ],
   "source": [
    "grid_clf = GridSearchCV(clf, param_grid, scoring='accuracy', cv=None, n_jobs=1)\n",
    "grid_clf.fit(scaled_df, y)\n",
    "\n",
    "best_parameters = grid_clf.best_params_\n",
    "\n",
    "print(\"Grid Search found the following optimal parameters: \")\n",
    "for param_name in sorted(best_parameters.keys()):\n",
    "    print(\"%s: %r\" % (param_name, best_parameters[param_name]))\n",
    "\n",
    "training_preds = grid_clf.predict(X_train)\n",
    "val_preds = grid_clf.predict(X_test)\n",
    "training_accuracy = accuracy_score(y_train, training_preds)\n",
    "val_accuracy = accuracy_score(y_test, val_preds)\n",
    "\n",
    "print(\"\")\n",
    "print(\"Training Accuracy: {:.4}%\".format(training_accuracy * 100))\n",
    "print(\"Validation accuracy: {:.4}%\".format(val_accuracy * 100))"
   ]
  },
  {
   "cell_type": "code",
   "execution_count": null,
   "metadata": {},
   "outputs": [],
   "source": []
  }
 ],
 "metadata": {
  "kernelspec": {
   "display_name": "learn-env",
   "language": "python",
   "name": "learn-env"
  },
  "language_info": {
   "codemirror_mode": {
    "name": "ipython",
    "version": 3
   },
   "file_extension": ".py",
   "mimetype": "text/x-python",
   "name": "python",
   "nbconvert_exporter": "python",
   "pygments_lexer": "ipython3",
   "version": "3.6.9"
  },
  "toc": {
   "base_numbering": 1,
   "nav_menu": {},
   "number_sections": true,
   "sideBar": true,
   "skip_h1_title": false,
   "title_cell": "Table of Contents",
   "title_sidebar": "Contents",
   "toc_cell": false,
   "toc_position": {},
   "toc_section_display": true,
   "toc_window_display": true
  },
  "varInspector": {
   "cols": {
    "lenName": 16,
    "lenType": 16,
    "lenVar": 40
   },
   "kernels_config": {
    "python": {
     "delete_cmd_postfix": "",
     "delete_cmd_prefix": "del ",
     "library": "var_list.py",
     "varRefreshCmd": "print(var_dic_list())"
    },
    "r": {
     "delete_cmd_postfix": ") ",
     "delete_cmd_prefix": "rm(",
     "library": "var_list.r",
     "varRefreshCmd": "cat(var_dic_list()) "
    }
   },
   "types_to_exclude": [
    "module",
    "function",
    "builtin_function_or_method",
    "instance",
    "_Feature"
   ],
   "window_display": false
  }
 },
 "nbformat": 4,
 "nbformat_minor": 4
}
