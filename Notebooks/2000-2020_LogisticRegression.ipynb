{
 "cells": [
  {
   "cell_type": "markdown",
   "metadata": {},
   "source": [
    "# LOGISTIC REGRESSION"
   ]
  },
  {
   "cell_type": "markdown",
   "metadata": {},
   "source": [
    "This notebook will be exclusively for running Logistic Regressions for classifications using the datasets prepared on the 2000-2020_Data_Cleaning_Conditioning Jupyter Notebook. \n",
    "\n",
    "In principle there are two datasets, a first from 2010 to 2020 (including the most recent results), and a second from 2000 to 2010. \n",
    "\n",
    "The idea is to run a first model for all the Home Teams using the 2010-2020 dataset, then go into detail using this same data and looking to a couple of random teams, which I will select based on their known performance, so one top tier team and a tier two team. Then if the model's predictions work and seem reasonable, I will add the other 10 years of data (2000 to 2010), and run a new model for all the teams to see how it compares, then I will run the model for the same two teams that I previously chose. Finally this will give me an idea of which range of games in terms of years I should be using for my predictions. Remember that before I embarked on the process of cleaning the Dataset for the 20 years (2000 to 2020), I ran a series of models with very good results with data from only one season (2018-2019). Therefore, I have a dataset from only one season (2018-2019), and a couple of datasets for each of the last two decades.  "
   ]
  },
  {
   "cell_type": "markdown",
   "metadata": {},
   "source": [
    "## Importing Libraries and Data Loading"
   ]
  },
  {
   "cell_type": "code",
   "execution_count": 70,
   "metadata": {
    "ExecuteTime": {
     "end_time": "2020-08-22T22:04:27.235828Z",
     "start_time": "2020-08-22T22:04:27.227080Z"
    }
   },
   "outputs": [],
   "source": [
    "import pandas as pd\n",
    "import numpy as np\n",
    "import matplotlib.pyplot as plt\n",
    "%matplotlib inline\n",
    "\n",
    "import seaborn as sns\n",
    "import itertools\n",
    "from sklearn import metrics\n",
    "from sklearn.model_selection import train_test_split, GridSearchCV\n",
    "from sklearn.preprocessing import StandardScaler\n",
    "from sklearn.linear_model import LogisticRegression\n",
    "from IPython.display import Image\n",
    "from sklearn.metrics import roc_curve, auc\n",
    "from sklearn.metrics import classification_report\n",
    "from sklearn.metrics import precision_score, recall_score, accuracy_score, f1_score\n",
    "\n",
    "import warnings\n",
    "warnings.filterwarnings('ignore')\n",
    "sns.set_style('darkgrid')"
   ]
  },
  {
   "cell_type": "markdown",
   "metadata": {},
   "source": [
    "As mentioned in the short introduction above, the dataset that I am going to be working on this notebook has been split into two separating them by decade. The main reason to split it into decades is the game changes that the NBA has gone through. Hopefully some of our models will show this, and if so, I will comment on them and try to add some references to justify those changes. \n",
    "\n",
    "The first dataset which I will call df1 for the time being will contain data from 2010 until 2020, including the most recent NBA matches. Thee second dataset will be from 2000 until 2010. The stat columns are exactly the same. \n",
    "\n",
    "Because the goal of this project is to try to predict the winner of Regular Season matches, I will concentrate a lot more on the 2010 to 2020 dataset and probably will have to filter that data into 5 years or even less. \n",
    "\n",
    "So far I did a few models with 1 year data (2018-2019) with very good results, so I'm wondering at this moment, how will a model with 10 year data will perform? and even more, how about with 20 years of data? does it make sense to do it that way when most probably players won't be the same? hopefully with the models I will be able to answer these questions.\n",
    "\n",
    "The idea of using first a one season dataset was to run a test and see how well it worked. Predictions have been quite good, but we will compare and discuss these further along with models to come.\n",
    "\n",
    "Lets get the data loaded and start this notebook with a Logistic Regression and take it from there."
   ]
  },
  {
   "cell_type": "markdown",
   "metadata": {},
   "source": [
    "## Logistic Regression Classification"
   ]
  },
  {
   "cell_type": "markdown",
   "metadata": {},
   "source": [
    "### 2018 - 2019 Dataset"
   ]
  },
  {
   "cell_type": "code",
   "execution_count": 75,
   "metadata": {
    "ExecuteTime": {
     "end_time": "2020-08-23T10:10:54.485542Z",
     "start_time": "2020-08-23T10:10:54.458083Z"
    }
   },
   "outputs": [
    {
     "data": {
      "text/html": [
       "<div>\n",
       "<style scoped>\n",
       "    .dataframe tbody tr th:only-of-type {\n",
       "        vertical-align: middle;\n",
       "    }\n",
       "\n",
       "    .dataframe tbody tr th {\n",
       "        vertical-align: top;\n",
       "    }\n",
       "\n",
       "    .dataframe thead th {\n",
       "        text-align: right;\n",
       "    }\n",
       "</style>\n",
       "<table border=\"1\" class=\"dataframe\">\n",
       "  <thead>\n",
       "    <tr style=\"text-align: right;\">\n",
       "      <th></th>\n",
       "      <th>Game_Result</th>\n",
       "      <th>Team1_OFFRTG</th>\n",
       "      <th>Team1_DEFRTG</th>\n",
       "      <th>Team1_AST/TO</th>\n",
       "      <th>Team1_REB_P</th>\n",
       "      <th>Team1_FG_P</th>\n",
       "      <th>Team1_FGA</th>\n",
       "      <th>Team1_PACE</th>\n",
       "      <th>Team1_3PA</th>\n",
       "      <th>Team1_3P_P</th>\n",
       "      <th>Team2_OFFRTG</th>\n",
       "      <th>Team2_DEFRTG</th>\n",
       "      <th>Team2_AST/TO</th>\n",
       "      <th>Team2_REB_P</th>\n",
       "      <th>Team2_FG_P</th>\n",
       "      <th>Team2_FGA</th>\n",
       "      <th>Team2_PACE</th>\n",
       "      <th>Team2_3PA</th>\n",
       "      <th>Team2_3P_P</th>\n",
       "    </tr>\n",
       "  </thead>\n",
       "  <tbody>\n",
       "    <tr>\n",
       "      <td>0</td>\n",
       "      <td>1</td>\n",
       "      <td>106.3</td>\n",
       "      <td>107.5</td>\n",
       "      <td>1.83</td>\n",
       "      <td>51.1</td>\n",
       "      <td>43.5</td>\n",
       "      <td>93.1</td>\n",
       "      <td>104.39</td>\n",
       "      <td>35.9</td>\n",
       "      <td>33.8</td>\n",
       "      <td>100.8</td>\n",
       "      <td>96.2</td>\n",
       "      <td>1.66</td>\n",
       "      <td>50.6</td>\n",
       "      <td>41.8</td>\n",
       "      <td>89.3</td>\n",
       "      <td>101.50</td>\n",
       "      <td>33.6</td>\n",
       "      <td>32.8</td>\n",
       "    </tr>\n",
       "    <tr>\n",
       "      <td>1</td>\n",
       "      <td>1</td>\n",
       "      <td>102.4</td>\n",
       "      <td>105.0</td>\n",
       "      <td>1.30</td>\n",
       "      <td>50.8</td>\n",
       "      <td>42.8</td>\n",
       "      <td>93.8</td>\n",
       "      <td>106.08</td>\n",
       "      <td>29.7</td>\n",
       "      <td>27.5</td>\n",
       "      <td>120.3</td>\n",
       "      <td>107.5</td>\n",
       "      <td>2.00</td>\n",
       "      <td>51.1</td>\n",
       "      <td>52.4</td>\n",
       "      <td>89.1</td>\n",
       "      <td>104.00</td>\n",
       "      <td>31.9</td>\n",
       "      <td>41.8</td>\n",
       "    </tr>\n",
       "    <tr>\n",
       "      <td>2</td>\n",
       "      <td>0</td>\n",
       "      <td>113.2</td>\n",
       "      <td>98.2</td>\n",
       "      <td>1.57</td>\n",
       "      <td>53.4</td>\n",
       "      <td>48.0</td>\n",
       "      <td>91.4</td>\n",
       "      <td>106.00</td>\n",
       "      <td>40.6</td>\n",
       "      <td>38.4</td>\n",
       "      <td>114.9</td>\n",
       "      <td>109.1</td>\n",
       "      <td>2.09</td>\n",
       "      <td>49.2</td>\n",
       "      <td>46.3</td>\n",
       "      <td>91.0</td>\n",
       "      <td>100.44</td>\n",
       "      <td>34.5</td>\n",
       "      <td>37.7</td>\n",
       "    </tr>\n",
       "    <tr>\n",
       "      <td>3</td>\n",
       "      <td>1</td>\n",
       "      <td>108.0</td>\n",
       "      <td>111.4</td>\n",
       "      <td>1.46</td>\n",
       "      <td>48.7</td>\n",
       "      <td>45.4</td>\n",
       "      <td>87.5</td>\n",
       "      <td>99.15</td>\n",
       "      <td>35.8</td>\n",
       "      <td>38.1</td>\n",
       "      <td>107.6</td>\n",
       "      <td>108.7</td>\n",
       "      <td>1.34</td>\n",
       "      <td>52.3</td>\n",
       "      <td>43.3</td>\n",
       "      <td>92.7</td>\n",
       "      <td>100.37</td>\n",
       "      <td>32.3</td>\n",
       "      <td>32.3</td>\n",
       "    </tr>\n",
       "    <tr>\n",
       "      <td>4</td>\n",
       "      <td>1</td>\n",
       "      <td>104.9</td>\n",
       "      <td>101.5</td>\n",
       "      <td>1.73</td>\n",
       "      <td>47.9</td>\n",
       "      <td>43.5</td>\n",
       "      <td>82.7</td>\n",
       "      <td>98.67</td>\n",
       "      <td>29.0</td>\n",
       "      <td>36.8</td>\n",
       "      <td>112.1</td>\n",
       "      <td>105.5</td>\n",
       "      <td>1.67</td>\n",
       "      <td>49.2</td>\n",
       "      <td>50.6</td>\n",
       "      <td>86.0</td>\n",
       "      <td>97.13</td>\n",
       "      <td>22.3</td>\n",
       "      <td>41.6</td>\n",
       "    </tr>\n",
       "  </tbody>\n",
       "</table>\n",
       "</div>"
      ],
      "text/plain": [
       "   Game_Result  Team1_OFFRTG  Team1_DEFRTG  Team1_AST/TO  Team1_REB_P  \\\n",
       "0            1         106.3         107.5          1.83         51.1   \n",
       "1            1         102.4         105.0          1.30         50.8   \n",
       "2            0         113.2          98.2          1.57         53.4   \n",
       "3            1         108.0         111.4          1.46         48.7   \n",
       "4            1         104.9         101.5          1.73         47.9   \n",
       "\n",
       "   Team1_FG_P  Team1_FGA  Team1_PACE  Team1_3PA  Team1_3P_P  Team2_OFFRTG  \\\n",
       "0        43.5       93.1      104.39       35.9        33.8         100.8   \n",
       "1        42.8       93.8      106.08       29.7        27.5         120.3   \n",
       "2        48.0       91.4      106.00       40.6        38.4         114.9   \n",
       "3        45.4       87.5       99.15       35.8        38.1         107.6   \n",
       "4        43.5       82.7       98.67       29.0        36.8         112.1   \n",
       "\n",
       "   Team2_DEFRTG  Team2_AST/TO  Team2_REB_P  Team2_FG_P  Team2_FGA  Team2_PACE  \\\n",
       "0          96.2          1.66         50.6        41.8       89.3      101.50   \n",
       "1         107.5          2.00         51.1        52.4       89.1      104.00   \n",
       "2         109.1          2.09         49.2        46.3       91.0      100.44   \n",
       "3         108.7          1.34         52.3        43.3       92.7      100.37   \n",
       "4         105.5          1.67         49.2        50.6       86.0       97.13   \n",
       "\n",
       "   Team2_3PA  Team2_3P_P  \n",
       "0       33.6        32.8  \n",
       "1       31.9        41.8  \n",
       "2       34.5        37.7  \n",
       "3       32.3        32.3  \n",
       "4       22.3        41.6  "
      ]
     },
     "execution_count": 75,
     "metadata": {},
     "output_type": "execute_result"
    }
   ],
   "source": [
    "df1S = pd.read_csv('2018-2019_Model_Ready.csv', index_col=0)\n",
    "df1S.head()"
   ]
  },
  {
   "cell_type": "code",
   "execution_count": 76,
   "metadata": {
    "ExecuteTime": {
     "end_time": "2020-08-23T10:11:20.272489Z",
     "start_time": "2020-08-23T10:11:20.263179Z"
    }
   },
   "outputs": [
    {
     "data": {
      "text/plain": [
       "Game_Result     0\n",
       "Team1_OFFRTG    0\n",
       "Team1_DEFRTG    0\n",
       "Team1_AST/TO    0\n",
       "Team1_REB_P     0\n",
       "Team1_FG_P      0\n",
       "Team1_FGA       0\n",
       "Team1_PACE      0\n",
       "Team1_3PA       0\n",
       "Team1_3P_P      0\n",
       "Team2_OFFRTG    0\n",
       "Team2_DEFRTG    0\n",
       "Team2_AST/TO    0\n",
       "Team2_REB_P     0\n",
       "Team2_FG_P      0\n",
       "Team2_FGA       0\n",
       "Team2_PACE      0\n",
       "Team2_3PA       0\n",
       "Team2_3P_P      0\n",
       "dtype: int64"
      ]
     },
     "execution_count": 76,
     "metadata": {},
     "output_type": "execute_result"
    }
   ],
   "source": [
    "df1S.isna().sum()"
   ]
  },
  {
   "cell_type": "code",
   "execution_count": 77,
   "metadata": {
    "ExecuteTime": {
     "end_time": "2020-08-23T10:11:31.116629Z",
     "start_time": "2020-08-23T10:11:31.112993Z"
    }
   },
   "outputs": [
    {
     "data": {
      "text/plain": [
       "(1190, 19)"
      ]
     },
     "execution_count": 77,
     "metadata": {},
     "output_type": "execute_result"
    }
   ],
   "source": [
    "df1S.shape"
   ]
  },
  {
   "cell_type": "code",
   "execution_count": 78,
   "metadata": {
    "ExecuteTime": {
     "end_time": "2020-08-23T10:12:14.654523Z",
     "start_time": "2020-08-23T10:12:14.645146Z"
    }
   },
   "outputs": [
    {
     "name": "stdout",
     "output_type": "stream",
     "text": [
      "<class 'pandas.core.frame.DataFrame'>\n",
      "Int64Index: 1190 entries, 0 to 1277\n",
      "Data columns (total 19 columns):\n",
      "Game_Result     1190 non-null int64\n",
      "Team1_OFFRTG    1190 non-null float64\n",
      "Team1_DEFRTG    1190 non-null float64\n",
      "Team1_AST/TO    1190 non-null float64\n",
      "Team1_REB_P     1190 non-null float64\n",
      "Team1_FG_P      1190 non-null float64\n",
      "Team1_FGA       1190 non-null float64\n",
      "Team1_PACE      1190 non-null float64\n",
      "Team1_3PA       1190 non-null float64\n",
      "Team1_3P_P      1190 non-null float64\n",
      "Team2_OFFRTG    1190 non-null float64\n",
      "Team2_DEFRTG    1190 non-null float64\n",
      "Team2_AST/TO    1190 non-null float64\n",
      "Team2_REB_P     1190 non-null float64\n",
      "Team2_FG_P      1190 non-null float64\n",
      "Team2_FGA       1190 non-null float64\n",
      "Team2_PACE      1190 non-null float64\n",
      "Team2_3PA       1190 non-null float64\n",
      "Team2_3P_P      1190 non-null float64\n",
      "dtypes: float64(18), int64(1)\n",
      "memory usage: 185.9 KB\n"
     ]
    }
   ],
   "source": [
    "df1S.info()"
   ]
  },
  {
   "cell_type": "markdown",
   "metadata": {},
   "source": [
    "#### Splitting the Data"
   ]
  },
  {
   "cell_type": "code",
   "execution_count": 79,
   "metadata": {
    "ExecuteTime": {
     "end_time": "2020-08-23T10:12:23.388835Z",
     "start_time": "2020-08-23T10:12:23.374893Z"
    }
   },
   "outputs": [
    {
     "name": "stdout",
     "output_type": "stream",
     "text": [
      "1    530\n",
      "0    362\n",
      "Name: Game_Result, dtype: int64 \n",
      "\n",
      " 1    180\n",
      "0    118\n",
      "Name: Game_Result, dtype: int64\n"
     ]
    }
   ],
   "source": [
    "# Define X and y\n",
    "y = df1S['Game_Result']\n",
    "X = df1S.drop(columns=['Game_Result'], axis=1)\n",
    "\n",
    "# Splitting the data into training and test datasets\n",
    "X_train, X_test, y_train, y_test = train_test_split(X, y, test_size=0.25, random_state=42)\n",
    "\n",
    "# Print the value_counts() for y_train and y_test to verify the split\n",
    "print(y_train.value_counts(), '\\n\\n', y_test.value_counts())"
   ]
  },
  {
   "cell_type": "markdown",
   "metadata": {},
   "source": [
    "#### Fitting the Model"
   ]
  },
  {
   "cell_type": "code",
   "execution_count": 80,
   "metadata": {
    "ExecuteTime": {
     "end_time": "2020-08-23T10:12:39.876337Z",
     "start_time": "2020-08-23T10:12:39.873884Z"
    }
   },
   "outputs": [],
   "source": [
    "# Instantiating the model\n",
    "logreg = LogisticRegression()"
   ]
  },
  {
   "cell_type": "code",
   "execution_count": 81,
   "metadata": {
    "ExecuteTime": {
     "end_time": "2020-08-23T10:12:56.601113Z",
     "start_time": "2020-08-23T10:12:56.580689Z"
    }
   },
   "outputs": [
    {
     "data": {
      "text/plain": [
       "LogisticRegression(C=1e+16, fit_intercept=False, random_state=2,\n",
       "                   solver='liblinear')"
      ]
     },
     "execution_count": 81,
     "metadata": {},
     "output_type": "execute_result"
    }
   ],
   "source": [
    "# Fitting the model with the train data\n",
    "logreg = LogisticRegression(fit_intercept=False, C=1e16, random_state=2, solver='liblinear')\n",
    "logreg.fit(X_train, y_train)"
   ]
  },
  {
   "cell_type": "markdown",
   "metadata": {},
   "source": [
    "#### Evaluating the Classifier/Model"
   ]
  },
  {
   "cell_type": "code",
   "execution_count": 82,
   "metadata": {
    "ExecuteTime": {
     "end_time": "2020-08-23T10:13:14.341001Z",
     "start_time": "2020-08-23T10:13:14.326532Z"
    },
    "scrolled": true
   },
   "outputs": [
    {
     "name": "stdout",
     "output_type": "stream",
     "text": [
      "Model Score for the Test data:\n"
     ]
    },
    {
     "data": {
      "text/plain": [
       "0.7684563758389261"
      ]
     },
     "metadata": {},
     "output_type": "display_data"
    },
    {
     "name": "stdout",
     "output_type": "stream",
     "text": [
      "Model Score for the Train data:\n"
     ]
    },
    {
     "data": {
      "text/plain": [
       "0.718609865470852"
      ]
     },
     "metadata": {},
     "output_type": "display_data"
    }
   ],
   "source": [
    "print(\"Model Score for the Test data:\")\n",
    "display(logreg.score(X_test, y_test)) # shows the accuracy of the model\n",
    "print(\"Model Score for the Train data:\")\n",
    "display(logreg.score(X_train, y_train)) # shows the Logistic Regression Score"
   ]
  },
  {
   "cell_type": "code",
   "execution_count": 83,
   "metadata": {
    "ExecuteTime": {
     "end_time": "2020-08-23T10:13:40.924417Z",
     "start_time": "2020-08-23T10:13:40.919765Z"
    }
   },
   "outputs": [],
   "source": [
    "y_pred = logreg.predict(X_test)"
   ]
  },
  {
   "cell_type": "code",
   "execution_count": 84,
   "metadata": {
    "ExecuteTime": {
     "end_time": "2020-08-23T10:14:01.158585Z",
     "start_time": "2020-08-23T10:14:01.154743Z"
    }
   },
   "outputs": [
    {
     "name": "stdout",
     "output_type": "stream",
     "text": [
      "0.7684563758389261\n"
     ]
    }
   ],
   "source": [
    "print(metrics.accuracy_score(y_test, y_pred)) # Percentage of correct predictions"
   ]
  },
  {
   "cell_type": "markdown",
   "metadata": {},
   "source": [
    "The one season (1 year) Logistic Regression model is predicting that in 76.85% of the home games, the home team will win. This is a general value calculated for all the 30 teams. It is actually higher by 1.85% than the NBA Analysts predictions which has been published as 75%. This means that most probably my model is over-fitted or there is something not entirely correct with my data as I was expecting to be below this number (75%) and not above. Let's continue looking at some tests to see if I can understand what happened better."
   ]
  },
  {
   "cell_type": "markdown",
   "metadata": {},
   "source": [
    "We could start by looking at the predictions of our model compared to the True values:"
   ]
  },
  {
   "cell_type": "code",
   "execution_count": 85,
   "metadata": {
    "ExecuteTime": {
     "end_time": "2020-08-23T10:18:05.423467Z",
     "start_time": "2020-08-23T10:18:05.419807Z"
    }
   },
   "outputs": [
    {
     "name": "stdout",
     "output_type": "stream",
     "text": [
      "True:      [1 0 1 1 0 0 1 1 1 0 0 1 1 0 0 0 0 1 1 1 1 1 0 0 1 0 0 0 0 1]\n",
      "Predicted: [0 1 0 1 1 0 1 1 1 0 0 1 1 1 0 1 0 1 1 0 1 1 0 0 1 0 0 1 0 1]\n"
     ]
    }
   ],
   "source": [
    "print(\"True:     \", y_test.values[0:30]) # These are the real values\n",
    "print(\"Predicted:\", y_pred[0:30]) # These correspond to the predicted values"
   ]
  },
  {
   "cell_type": "markdown",
   "metadata": {},
   "source": [
    "Looking closely it is obvious that the models seems to be ok matching when the Home Team True value is a 1, which is equal to a win, and the flows are mainly when the team losses, in which case the model sometimes predicts a win. Lets look at the Classification Report to see if I am right on this comment:"
   ]
  },
  {
   "cell_type": "code",
   "execution_count": 86,
   "metadata": {
    "ExecuteTime": {
     "end_time": "2020-08-23T10:20:13.953404Z",
     "start_time": "2020-08-23T10:20:13.942930Z"
    }
   },
   "outputs": [
    {
     "name": "stdout",
     "output_type": "stream",
     "text": [
      "              precision    recall  f1-score   support\n",
      "\n",
      "           0       0.74      0.64      0.69       118\n",
      "           1       0.78      0.85      0.82       180\n",
      "\n",
      "    accuracy                           0.77       298\n",
      "   macro avg       0.76      0.75      0.75       298\n",
      "weighted avg       0.77      0.77      0.77       298\n",
      "\n"
     ]
    }
   ],
   "source": [
    "y_pred = logreg.predict(X_test)\n",
    "\n",
    "print(classification_report(y_test, y_pred))"
   ]
  },
  {
   "cell_type": "markdown",
   "metadata": {},
   "source": [
    "Actually yes, this suggests that we are over-predicting the wins (1). The Accuracy is not bad though. Here it is rounded at 77 but so almost 2% above the NBA Analyst's one. Now let's have a look at the ROC:"
   ]
  },
  {
   "cell_type": "markdown",
   "metadata": {},
   "source": [
    "#### ROC curve for the predictions"
   ]
  },
  {
   "cell_type": "code",
   "execution_count": 87,
   "metadata": {
    "ExecuteTime": {
     "end_time": "2020-08-23T10:22:31.835320Z",
     "start_time": "2020-08-23T10:22:31.499506Z"
    }
   },
   "outputs": [
    {
     "name": "stdout",
     "output_type": "stream",
     "text": [
      "Train AUC: 0.7596059626811217\n",
      "Test AUC: 0.8206214689265536\n"
     ]
    },
    {
     "data": {
      "image/png": "[encoded data removed]",
      "text/plain": [
       "<Figure size 720x576 with 1 Axes>"
      ]
     },
     "metadata": {},
     "output_type": "display_data"
    }
   ],
   "source": [
    "y_train_score = logreg.decision_function(X_train)\n",
    "y_test_score = logreg.decision_function(X_test)\n",
    "\n",
    "train_fpr, train_tpr, train_thresholds = roc_curve(y_train, y_train_score)\n",
    "test_fpr, test_tpr, test_thresholds = roc_curve(y_test, y_test_score)\n",
    "\n",
    "print('Train AUC: {}'.format(auc(train_fpr, train_tpr)))\n",
    "print('Test AUC: {}'.format(auc(test_fpr, test_tpr)))\n",
    "\n",
    "plt.figure(figsize=(10, 8))\n",
    "lw = 2\n",
    "\n",
    "plt.plot(train_fpr, train_tpr, color='blue',\n",
    "         lw=lw, label='Train ROC curve')\n",
    "plt.plot(test_fpr, test_tpr, color='darkorange',\n",
    "         lw=lw, label='Test ROC curve')\n",
    "\n",
    "plt.plot([0, 1], [0, 1], color='navy', lw=lw, linestyle='--')\n",
    "plt.xlim([0.0, 1.0])\n",
    "plt.ylim([0.0, 1.05])\n",
    "plt.yticks([i/20.0 for i in range(21)])\n",
    "plt.xticks([i/20.0 for i in range(21)])\n",
    "plt.xlabel('False Positive Rate')\n",
    "plt.ylabel('True Positive Rate')\n",
    "plt.title('Receiver operating characteristic (ROC) Curve')\n",
    "plt.legend(loc='lower right')\n",
    "plt.show()"
   ]
  },
  {
   "cell_type": "markdown",
   "metadata": {},
   "source": [
    "Obviously considerably better than flipping a coin. Not ideal as I mentioned, but I'm happy with the predictions. "
   ]
  },
  {
   "cell_type": "markdown",
   "metadata": {},
   "source": [
    "Now this value (accuracy) and tests that I have done give me an average for all teams, but if I want to make a bet, I would want to know per team, so lets jump into calculating these average values for a couple of teams (San Antonio Spurs and the Miami Heat)"
   ]
  },
  {
   "cell_type": "markdown",
   "metadata": {},
   "source": [
    "#### Model Test I"
   ]
  },
  {
   "cell_type": "code",
   "execution_count": 103,
   "metadata": {
    "ExecuteTime": {
     "end_time": "2020-08-23T10:38:55.122256Z",
     "start_time": "2020-08-23T10:38:55.100039Z"
    }
   },
   "outputs": [
    {
     "data": {
      "text/html": [
       "<div>\n",
       "<style scoped>\n",
       "    .dataframe tbody tr th:only-of-type {\n",
       "        vertical-align: middle;\n",
       "    }\n",
       "\n",
       "    .dataframe tbody tr th {\n",
       "        vertical-align: top;\n",
       "    }\n",
       "\n",
       "    .dataframe thead th {\n",
       "        text-align: right;\n",
       "    }\n",
       "</style>\n",
       "<table border=\"1\" class=\"dataframe\">\n",
       "  <thead>\n",
       "    <tr style=\"text-align: right;\">\n",
       "      <th></th>\n",
       "      <th>Game_Result</th>\n",
       "      <th>Team1_OFFRTG</th>\n",
       "      <th>Team1_DEFRTG</th>\n",
       "      <th>Team1_AST/TO</th>\n",
       "      <th>Team1_REB_P</th>\n",
       "      <th>Team1_FG_P</th>\n",
       "      <th>Team1_FGA</th>\n",
       "      <th>Team1_PACE</th>\n",
       "      <th>Team1_3PA</th>\n",
       "      <th>Team1_3P_P</th>\n",
       "      <th>Team2_OFFRTG</th>\n",
       "      <th>Team2_DEFRTG</th>\n",
       "      <th>Team2_AST/TO</th>\n",
       "      <th>Team2_REB_P</th>\n",
       "      <th>Team2_FG_P</th>\n",
       "      <th>Team2_FGA</th>\n",
       "      <th>Team2_PACE</th>\n",
       "      <th>Team2_3PA</th>\n",
       "      <th>Team2_3P_P</th>\n",
       "    </tr>\n",
       "  </thead>\n",
       "  <tbody>\n",
       "    <tr>\n",
       "      <td>9</td>\n",
       "      <td>1</td>\n",
       "      <td>111.4</td>\n",
       "      <td>114.2</td>\n",
       "      <td>1.64</td>\n",
       "      <td>48.7</td>\n",
       "      <td>44.8</td>\n",
       "      <td>92.4</td>\n",
       "      <td>103.94</td>\n",
       "      <td>28.9</td>\n",
       "      <td>38.1</td>\n",
       "      <td>111.9</td>\n",
       "      <td>110.6</td>\n",
       "      <td>2.02</td>\n",
       "      <td>50.8</td>\n",
       "      <td>46.6</td>\n",
       "      <td>91.7</td>\n",
       "      <td>99.33</td>\n",
       "      <td>22.3</td>\n",
       "      <td>39.1</td>\n",
       "    </tr>\n",
       "    <tr>\n",
       "      <td>57</td>\n",
       "      <td>0</td>\n",
       "      <td>112.1</td>\n",
       "      <td>105.5</td>\n",
       "      <td>1.67</td>\n",
       "      <td>49.2</td>\n",
       "      <td>50.6</td>\n",
       "      <td>86.0</td>\n",
       "      <td>97.13</td>\n",
       "      <td>22.3</td>\n",
       "      <td>41.6</td>\n",
       "      <td>111.9</td>\n",
       "      <td>110.6</td>\n",
       "      <td>2.02</td>\n",
       "      <td>50.8</td>\n",
       "      <td>46.6</td>\n",
       "      <td>91.7</td>\n",
       "      <td>99.33</td>\n",
       "      <td>22.3</td>\n",
       "      <td>39.1</td>\n",
       "    </tr>\n",
       "  </tbody>\n",
       "</table>\n",
       "</div>"
      ],
      "text/plain": [
       "    Game_Result  Team1_OFFRTG  Team1_DEFRTG  Team1_AST/TO  Team1_REB_P  \\\n",
       "9             1         111.4         114.2          1.64         48.7   \n",
       "57            0         112.1         105.5          1.67         49.2   \n",
       "\n",
       "    Team1_FG_P  Team1_FGA  Team1_PACE  Team1_3PA  Team1_3P_P  Team2_OFFRTG  \\\n",
       "9         44.8       92.4      103.94       28.9        38.1         111.9   \n",
       "57        50.6       86.0       97.13       22.3        41.6         111.9   \n",
       "\n",
       "    Team2_DEFRTG  Team2_AST/TO  Team2_REB_P  Team2_FG_P  Team2_FGA  \\\n",
       "9          110.6          2.02         50.8        46.6       91.7   \n",
       "57         110.6          2.02         50.8        46.6       91.7   \n",
       "\n",
       "    Team2_PACE  Team2_3PA  Team2_3P_P  \n",
       "9        99.33       22.3        39.1  \n",
       "57       99.33       22.3        39.1  "
      ]
     },
     "execution_count": 103,
     "metadata": {},
     "output_type": "execute_result"
    }
   ],
   "source": [
    "df_SAS = pd.read_csv('df_SAS_1S.csv', index_col=0)\n",
    "df_SAS.head(2)"
   ]
  },
  {
   "cell_type": "markdown",
   "metadata": {},
   "source": [
    "The San Antonio Spur recorded a home record of 78.57% by winning 33 out of 42 of their home games"
   ]
  },
  {
   "cell_type": "code",
   "execution_count": 105,
   "metadata": {
    "ExecuteTime": {
     "end_time": "2020-08-23T10:39:03.177953Z",
     "start_time": "2020-08-23T10:39:03.172492Z"
    }
   },
   "outputs": [
    {
     "data": {
      "text/plain": [
       "1    33\n",
       "0     9\n",
       "Name: Game_Result, dtype: int64"
      ]
     },
     "execution_count": 105,
     "metadata": {},
     "output_type": "execute_result"
    }
   ],
   "source": [
    "df_SAS.Game_Result.value_counts()"
   ]
  },
  {
   "cell_type": "code",
   "execution_count": 93,
   "metadata": {
    "ExecuteTime": {
     "end_time": "2020-08-23T10:34:07.884320Z",
     "start_time": "2020-08-23T10:34:07.876506Z"
    }
   },
   "outputs": [
    {
     "name": "stdout",
     "output_type": "stream",
     "text": [
      "1    23\n",
      "0     8\n",
      "Name: Game_Result, dtype: int64 \n",
      "\n",
      " 1    10\n",
      "0     1\n",
      "Name: Game_Result, dtype: int64\n"
     ]
    }
   ],
   "source": [
    "# Define X and y\n",
    "y = df_SAS['Game_Result']\n",
    "X = df_SAS.drop(columns=['Game_Result'], axis=1)\n",
    "\n",
    "# Splitting the data into training and test datasets\n",
    "X_train, X_test, y_train, y_test = train_test_split(X, y, test_size=0.25, random_state=42)\n",
    "\n",
    "# Print the value_counts() for y_train and y_test to verify the split\n",
    "print(y_train.value_counts(), '\\n\\n', y_test.value_counts())"
   ]
  },
  {
   "cell_type": "code",
   "execution_count": 94,
   "metadata": {
    "ExecuteTime": {
     "end_time": "2020-08-23T10:34:40.170352Z",
     "start_time": "2020-08-23T10:34:40.168017Z"
    }
   },
   "outputs": [],
   "source": [
    "# Instantiating the model\n",
    "logreg = LogisticRegression()"
   ]
  },
  {
   "cell_type": "code",
   "execution_count": 95,
   "metadata": {
    "ExecuteTime": {
     "end_time": "2020-08-23T10:34:42.012491Z",
     "start_time": "2020-08-23T10:34:42.005016Z"
    }
   },
   "outputs": [
    {
     "data": {
      "text/plain": [
       "LogisticRegression(C=1e+16, fit_intercept=False, random_state=2,\n",
       "                   solver='liblinear')"
      ]
     },
     "execution_count": 95,
     "metadata": {},
     "output_type": "execute_result"
    }
   ],
   "source": [
    "# Fitting the model with the train data\n",
    "logreg = LogisticRegression(fit_intercept=False, C=1e16, random_state=2, solver='liblinear')\n",
    "logreg.fit(X_train, y_train)"
   ]
  },
  {
   "cell_type": "code",
   "execution_count": 96,
   "metadata": {
    "ExecuteTime": {
     "end_time": "2020-08-23T10:35:23.542256Z",
     "start_time": "2020-08-23T10:35:23.530922Z"
    },
    "scrolled": true
   },
   "outputs": [
    {
     "name": "stdout",
     "output_type": "stream",
     "text": [
      "Model Score for the Test data:\n"
     ]
    },
    {
     "data": {
      "text/plain": [
       "0.7272727272727273"
      ]
     },
     "metadata": {},
     "output_type": "display_data"
    },
    {
     "name": "stdout",
     "output_type": "stream",
     "text": [
      "Model Score for the Train data:\n"
     ]
    },
    {
     "data": {
      "text/plain": [
       "0.9032258064516129"
      ]
     },
     "metadata": {},
     "output_type": "display_data"
    }
   ],
   "source": [
    "print(\"Model Score for the Test data:\")\n",
    "display(logreg.score(X_test, y_test)) # shows the accuracy of the model\n",
    "print(\"Model Score for the Train data:\")\n",
    "display(logreg.score(X_train, y_train)) # shows the Logistic Regression Score"
   ]
  },
  {
   "cell_type": "code",
   "execution_count": 97,
   "metadata": {
    "ExecuteTime": {
     "end_time": "2020-08-23T10:35:29.365382Z",
     "start_time": "2020-08-23T10:35:29.360712Z"
    }
   },
   "outputs": [],
   "source": [
    "y_pred = logreg.predict(X_test)"
   ]
  },
  {
   "cell_type": "code",
   "execution_count": 98,
   "metadata": {
    "ExecuteTime": {
     "end_time": "2020-08-23T10:35:31.177532Z",
     "start_time": "2020-08-23T10:35:31.173776Z"
    }
   },
   "outputs": [
    {
     "name": "stdout",
     "output_type": "stream",
     "text": [
      "0.7272727272727273\n"
     ]
    }
   ],
   "source": [
    "print(metrics.accuracy_score(y_test, y_pred)) # Percentage of correct predictions"
   ]
  },
  {
   "cell_type": "code",
   "execution_count": 100,
   "metadata": {
    "ExecuteTime": {
     "end_time": "2020-08-23T10:37:09.515425Z",
     "start_time": "2020-08-23T10:37:09.505973Z"
    }
   },
   "outputs": [
    {
     "name": "stdout",
     "output_type": "stream",
     "text": [
      "              precision    recall  f1-score   support\n",
      "\n",
      "           0       0.25      1.00      0.40         1\n",
      "           1       1.00      0.70      0.82        10\n",
      "\n",
      "    accuracy                           0.73        11\n",
      "   macro avg       0.62      0.85      0.61        11\n",
      "weighted avg       0.93      0.73      0.79        11\n",
      "\n"
     ]
    }
   ],
   "source": [
    "y_pred = logreg.predict(X_test)\n",
    "\n",
    "print(classification_report(y_test, y_pred))"
   ]
  },
  {
   "cell_type": "markdown",
   "metadata": {},
   "source": [
    "The accuracy is not far from the reality by predicting 72.72% whereas the True value is 78.56%. I'm happy by being just over 6% below the True values. Let's look now at the second team (Miami Heat)"
   ]
  },
  {
   "cell_type": "markdown",
   "metadata": {},
   "source": [
    "#### Model test II"
   ]
  },
  {
   "cell_type": "code",
   "execution_count": 106,
   "metadata": {
    "ExecuteTime": {
     "end_time": "2020-08-23T10:53:39.462535Z",
     "start_time": "2020-08-23T10:53:39.440175Z"
    }
   },
   "outputs": [
    {
     "data": {
      "text/html": [
       "<div>\n",
       "<style scoped>\n",
       "    .dataframe tbody tr th:only-of-type {\n",
       "        vertical-align: middle;\n",
       "    }\n",
       "\n",
       "    .dataframe tbody tr th {\n",
       "        vertical-align: top;\n",
       "    }\n",
       "\n",
       "    .dataframe thead th {\n",
       "        text-align: right;\n",
       "    }\n",
       "</style>\n",
       "<table border=\"1\" class=\"dataframe\">\n",
       "  <thead>\n",
       "    <tr style=\"text-align: right;\">\n",
       "      <th></th>\n",
       "      <th>Game_Result</th>\n",
       "      <th>Team1_OFFRTG</th>\n",
       "      <th>Team1_DEFRTG</th>\n",
       "      <th>Team1_AST/TO</th>\n",
       "      <th>Team1_REB_P</th>\n",
       "      <th>Team1_FG_P</th>\n",
       "      <th>Team1_FGA</th>\n",
       "      <th>Team1_PACE</th>\n",
       "      <th>Team1_3PA</th>\n",
       "      <th>Team1_3P_P</th>\n",
       "      <th>Team2_OFFRTG</th>\n",
       "      <th>Team2_DEFRTG</th>\n",
       "      <th>Team2_AST/TO</th>\n",
       "      <th>Team2_REB_P</th>\n",
       "      <th>Team2_FG_P</th>\n",
       "      <th>Team2_FGA</th>\n",
       "      <th>Team2_PACE</th>\n",
       "      <th>Team2_3PA</th>\n",
       "      <th>Team2_3P_P</th>\n",
       "    </tr>\n",
       "  </thead>\n",
       "  <tbody>\n",
       "    <tr>\n",
       "      <td>30</td>\n",
       "      <td>0</td>\n",
       "      <td>114.9</td>\n",
       "      <td>109.1</td>\n",
       "      <td>2.09</td>\n",
       "      <td>49.2</td>\n",
       "      <td>46.3</td>\n",
       "      <td>91.0</td>\n",
       "      <td>100.44</td>\n",
       "      <td>34.5</td>\n",
       "      <td>37.7</td>\n",
       "      <td>108.9</td>\n",
       "      <td>107.6</td>\n",
       "      <td>1.37</td>\n",
       "      <td>53.6</td>\n",
       "      <td>43.6</td>\n",
       "      <td>91.4</td>\n",
       "      <td>102.71</td>\n",
       "      <td>33.9</td>\n",
       "      <td>35.4</td>\n",
       "    </tr>\n",
       "    <tr>\n",
       "      <td>53</td>\n",
       "      <td>1</td>\n",
       "      <td>105.2</td>\n",
       "      <td>109.8</td>\n",
       "      <td>1.39</td>\n",
       "      <td>51.0</td>\n",
       "      <td>43.1</td>\n",
       "      <td>91.8</td>\n",
       "      <td>100.56</td>\n",
       "      <td>30.8</td>\n",
       "      <td>36.2</td>\n",
       "      <td>108.9</td>\n",
       "      <td>107.6</td>\n",
       "      <td>1.37</td>\n",
       "      <td>53.6</td>\n",
       "      <td>43.6</td>\n",
       "      <td>91.4</td>\n",
       "      <td>102.71</td>\n",
       "      <td>33.9</td>\n",
       "      <td>35.4</td>\n",
       "    </tr>\n",
       "  </tbody>\n",
       "</table>\n",
       "</div>"
      ],
      "text/plain": [
       "    Game_Result  Team1_OFFRTG  Team1_DEFRTG  Team1_AST/TO  Team1_REB_P  \\\n",
       "30            0         114.9         109.1          2.09         49.2   \n",
       "53            1         105.2         109.8          1.39         51.0   \n",
       "\n",
       "    Team1_FG_P  Team1_FGA  Team1_PACE  Team1_3PA  Team1_3P_P  Team2_OFFRTG  \\\n",
       "30        46.3       91.0      100.44       34.5        37.7         108.9   \n",
       "53        43.1       91.8      100.56       30.8        36.2         108.9   \n",
       "\n",
       "    Team2_DEFRTG  Team2_AST/TO  Team2_REB_P  Team2_FG_P  Team2_FGA  \\\n",
       "30         107.6          1.37         53.6        43.6       91.4   \n",
       "53         107.6          1.37         53.6        43.6       91.4   \n",
       "\n",
       "    Team2_PACE  Team2_3PA  Team2_3P_P  \n",
       "30      102.71       33.9        35.4  \n",
       "53      102.71       33.9        35.4  "
      ]
     },
     "execution_count": 106,
     "metadata": {},
     "output_type": "execute_result"
    }
   ],
   "source": [
    "df_MIA = pd.read_csv('df_MIA_1S.csv', index_col=0)\n",
    "df_MIA.head(2)"
   ]
  },
  {
   "cell_type": "code",
   "execution_count": 107,
   "metadata": {
    "ExecuteTime": {
     "end_time": "2020-08-23T10:53:56.864979Z",
     "start_time": "2020-08-23T10:53:56.859682Z"
    }
   },
   "outputs": [
    {
     "data": {
      "text/plain": [
       "0    21\n",
       "1    19\n",
       "Name: Game_Result, dtype: int64"
      ]
     },
     "execution_count": 107,
     "metadata": {},
     "output_type": "execute_result"
    }
   ],
   "source": [
    "df_MIA.Game_Result.value_counts()"
   ]
  },
  {
   "cell_type": "markdown",
   "metadata": {},
   "source": [
    "The Miami Heat recorded a home record of 52.5%"
   ]
  },
  {
   "cell_type": "code",
   "execution_count": 124,
   "metadata": {
    "ExecuteTime": {
     "end_time": "2020-08-23T10:56:12.727210Z",
     "start_time": "2020-08-23T10:56:12.718229Z"
    }
   },
   "outputs": [
    {
     "name": "stdout",
     "output_type": "stream",
     "text": [
      "0    16\n",
      "1    14\n",
      "Name: Game_Result, dtype: int64 \n",
      "\n",
      " 1    5\n",
      "0    5\n",
      "Name: Game_Result, dtype: int64\n"
     ]
    }
   ],
   "source": [
    "# Define X and y\n",
    "y = df_MIA['Game_Result']\n",
    "X = df_MIA.drop(columns=['Game_Result'], axis=1)\n",
    "\n",
    "# Splitting the data into training and test datasets\n",
    "X_train, X_test, y_train, y_test = train_test_split(X, y, test_size=0.25, random_state=20)\n",
    "\n",
    "# Print the value_counts() for y_train and y_test to verify the split\n",
    "print(y_train.value_counts(), '\\n\\n', y_test.value_counts())"
   ]
  },
  {
   "cell_type": "code",
   "execution_count": 125,
   "metadata": {
    "ExecuteTime": {
     "end_time": "2020-08-23T10:56:14.632847Z",
     "start_time": "2020-08-23T10:56:14.630553Z"
    }
   },
   "outputs": [],
   "source": [
    "# Instantiating the model\n",
    "logreg = LogisticRegression()"
   ]
  },
  {
   "cell_type": "code",
   "execution_count": 128,
   "metadata": {
    "ExecuteTime": {
     "end_time": "2020-08-23T10:56:28.891855Z",
     "start_time": "2020-08-23T10:56:28.884159Z"
    }
   },
   "outputs": [
    {
     "data": {
      "text/plain": [
       "LogisticRegression(C=1e+16, fit_intercept=False, random_state=20,\n",
       "                   solver='liblinear')"
      ]
     },
     "execution_count": 128,
     "metadata": {},
     "output_type": "execute_result"
    }
   ],
   "source": [
    "# Fitting the model with the train data\n",
    "logreg = LogisticRegression(fit_intercept=False, C=1e16, random_state=20, solver='liblinear')\n",
    "logreg.fit(X_train, y_train)"
   ]
  },
  {
   "cell_type": "code",
   "execution_count": 129,
   "metadata": {
    "ExecuteTime": {
     "end_time": "2020-08-23T10:56:30.756331Z",
     "start_time": "2020-08-23T10:56:30.746514Z"
    },
    "scrolled": true
   },
   "outputs": [
    {
     "name": "stdout",
     "output_type": "stream",
     "text": [
      "Model Score for the Test data:\n"
     ]
    },
    {
     "data": {
      "text/plain": [
       "0.4"
      ]
     },
     "metadata": {},
     "output_type": "display_data"
    },
    {
     "name": "stdout",
     "output_type": "stream",
     "text": [
      "Model Score for the Train data:\n"
     ]
    },
    {
     "data": {
      "text/plain": [
       "0.8333333333333334"
      ]
     },
     "metadata": {},
     "output_type": "display_data"
    }
   ],
   "source": [
    "print(\"Model Score for the Test data:\")\n",
    "display(logreg.score(X_test, y_test)) # shows the accuracy of the model\n",
    "print(\"Model Score for the Train data:\")\n",
    "display(logreg.score(X_train, y_train)) # shows the Logistic Regression Score"
   ]
  },
  {
   "cell_type": "code",
   "execution_count": 130,
   "metadata": {
    "ExecuteTime": {
     "end_time": "2020-08-23T10:56:41.824268Z",
     "start_time": "2020-08-23T10:56:41.819657Z"
    }
   },
   "outputs": [],
   "source": [
    "y_pred = logreg.predict(X_test)"
   ]
  },
  {
   "cell_type": "code",
   "execution_count": 131,
   "metadata": {
    "ExecuteTime": {
     "end_time": "2020-08-23T10:56:43.631234Z",
     "start_time": "2020-08-23T10:56:43.627721Z"
    }
   },
   "outputs": [
    {
     "name": "stdout",
     "output_type": "stream",
     "text": [
      "0.4\n"
     ]
    }
   ],
   "source": [
    "print(metrics.accuracy_score(y_test, y_pred)) # Percentage of correct predictions"
   ]
  },
  {
   "cell_type": "code",
   "execution_count": 132,
   "metadata": {
    "ExecuteTime": {
     "end_time": "2020-08-23T10:56:45.913450Z",
     "start_time": "2020-08-23T10:56:45.904047Z"
    }
   },
   "outputs": [
    {
     "name": "stdout",
     "output_type": "stream",
     "text": [
      "              precision    recall  f1-score   support\n",
      "\n",
      "           0       0.43      0.60      0.50         5\n",
      "           1       0.33      0.20      0.25         5\n",
      "\n",
      "    accuracy                           0.40        10\n",
      "   macro avg       0.38      0.40      0.38        10\n",
      "weighted avg       0.38      0.40      0.38        10\n",
      "\n"
     ]
    }
   ],
   "source": [
    "y_pred = logreg.predict(X_test)\n",
    "\n",
    "print(classification_report(y_test, y_pred))"
   ]
  },
  {
   "cell_type": "markdown",
   "metadata": {},
   "source": [
    "For this team the model really under-performed with an accuracy of 40%. This is worse than flipping a coin, but then the reality if that with this team that is what you get. At 52.5% of the Home Games won, it is the same as flipping a coin which is 50%. The sample of 1 year it is not enough for this type of teams, or simply it is not a good team to bet on as anything can happen\n"
   ]
  },
  {
   "cell_type": "markdown",
   "metadata": {},
   "source": [
    "### 2010 - 2020 Dataset"
   ]
  },
  {
   "cell_type": "markdown",
   "metadata": {},
   "source": [
    "Lets load and look right away and both data sets (2010-2020 and 2000-2010):"
   ]
  },
  {
   "cell_type": "code",
   "execution_count": 133,
   "metadata": {
    "ExecuteTime": {
     "end_time": "2020-08-23T11:00:48.833987Z",
     "start_time": "2020-08-23T11:00:48.740625Z"
    }
   },
   "outputs": [
    {
     "name": "stdout",
     "output_type": "stream",
     "text": [
      "df1:\n"
     ]
    },
    {
     "data": {
      "text/html": [
       "<div>\n",
       "<style scoped>\n",
       "    .dataframe tbody tr th:only-of-type {\n",
       "        vertical-align: middle;\n",
       "    }\n",
       "\n",
       "    .dataframe tbody tr th {\n",
       "        vertical-align: top;\n",
       "    }\n",
       "\n",
       "    .dataframe thead th {\n",
       "        text-align: right;\n",
       "    }\n",
       "</style>\n",
       "<table border=\"1\" class=\"dataframe\">\n",
       "  <thead>\n",
       "    <tr style=\"text-align: right;\">\n",
       "      <th></th>\n",
       "      <th>Game_Result</th>\n",
       "      <th>Team1_FGA</th>\n",
       "      <th>Team1_FG_P</th>\n",
       "      <th>Team1_3PA</th>\n",
       "      <th>Team1_3P_P</th>\n",
       "      <th>Team1_OFFRTG</th>\n",
       "      <th>Team1_DEFRTG</th>\n",
       "      <th>Team1_REB_P</th>\n",
       "      <th>Team1_AST/TO</th>\n",
       "      <th>Team1_PACE</th>\n",
       "      <th>Team2_FGA</th>\n",
       "      <th>Team2_FG_P</th>\n",
       "      <th>Team2_3PA</th>\n",
       "      <th>Team2_3P_P</th>\n",
       "      <th>Team2_OFFRTG</th>\n",
       "      <th>Team2_DEFRTG</th>\n",
       "      <th>Team2_REB_P</th>\n",
       "      <th>Team2_AST/TO</th>\n",
       "      <th>Team2_PACE</th>\n",
       "    </tr>\n",
       "  </thead>\n",
       "  <tbody>\n",
       "    <tr>\n",
       "      <td>0</td>\n",
       "      <td>1</td>\n",
       "      <td>96.0</td>\n",
       "      <td>46.5</td>\n",
       "      <td>43.2</td>\n",
       "      <td>38.0</td>\n",
       "      <td>112.2</td>\n",
       "      <td>114.2</td>\n",
       "      <td>46.9</td>\n",
       "      <td>1.89</td>\n",
       "      <td>106.09</td>\n",
       "      <td>86.8</td>\n",
       "      <td>46.3</td>\n",
       "      <td>36.8</td>\n",
       "      <td>38.0</td>\n",
       "      <td>107.5</td>\n",
       "      <td>99.1</td>\n",
       "      <td>51.1</td>\n",
       "      <td>1.26</td>\n",
       "      <td>104.23</td>\n",
       "    </tr>\n",
       "    <tr>\n",
       "      <td>1</td>\n",
       "      <td>1</td>\n",
       "      <td>87.5</td>\n",
       "      <td>45.7</td>\n",
       "      <td>29.0</td>\n",
       "      <td>33.6</td>\n",
       "      <td>107.9</td>\n",
       "      <td>96.8</td>\n",
       "      <td>51.4</td>\n",
       "      <td>1.54</td>\n",
       "      <td>101.00</td>\n",
       "      <td>84.0</td>\n",
       "      <td>49.6</td>\n",
       "      <td>29.5</td>\n",
       "      <td>36.7</td>\n",
       "      <td>112.9</td>\n",
       "      <td>107.5</td>\n",
       "      <td>49.6</td>\n",
       "      <td>1.35</td>\n",
       "      <td>101.50</td>\n",
       "    </tr>\n",
       "    <tr>\n",
       "      <td>2</td>\n",
       "      <td>1</td>\n",
       "      <td>94.0</td>\n",
       "      <td>41.1</td>\n",
       "      <td>36.2</td>\n",
       "      <td>29.3</td>\n",
       "      <td>103.7</td>\n",
       "      <td>109.6</td>\n",
       "      <td>45.2</td>\n",
       "      <td>1.81</td>\n",
       "      <td>101.80</td>\n",
       "      <td>86.0</td>\n",
       "      <td>46.3</td>\n",
       "      <td>35.8</td>\n",
       "      <td>41.9</td>\n",
       "      <td>104.9</td>\n",
       "      <td>114.2</td>\n",
       "      <td>47.3</td>\n",
       "      <td>1.30</td>\n",
       "      <td>103.00</td>\n",
       "    </tr>\n",
       "  </tbody>\n",
       "</table>\n",
       "</div>"
      ],
      "text/plain": [
       "   Game_Result  Team1_FGA  Team1_FG_P  Team1_3PA  Team1_3P_P  Team1_OFFRTG  \\\n",
       "0            1       96.0        46.5       43.2        38.0         112.2   \n",
       "1            1       87.5        45.7       29.0        33.6         107.9   \n",
       "2            1       94.0        41.1       36.2        29.3         103.7   \n",
       "\n",
       "   Team1_DEFRTG  Team1_REB_P  Team1_AST/TO  Team1_PACE  Team2_FGA  Team2_FG_P  \\\n",
       "0         114.2         46.9          1.89      106.09       86.8        46.3   \n",
       "1          96.8         51.4          1.54      101.00       84.0        49.6   \n",
       "2         109.6         45.2          1.81      101.80       86.0        46.3   \n",
       "\n",
       "   Team2_3PA  Team2_3P_P  Team2_OFFRTG  Team2_DEFRTG  Team2_REB_P  \\\n",
       "0       36.8        38.0         107.5          99.1         51.1   \n",
       "1       29.5        36.7         112.9         107.5         49.6   \n",
       "2       35.8        41.9         104.9         114.2         47.3   \n",
       "\n",
       "   Team2_AST/TO  Team2_PACE  \n",
       "0          1.26      104.23  \n",
       "1          1.35      101.50  \n",
       "2          1.30      103.00  "
      ]
     },
     "metadata": {},
     "output_type": "display_data"
    },
    {
     "name": "stdout",
     "output_type": "stream",
     "text": [
      "=============================================================================\n",
      "df2:\n"
     ]
    },
    {
     "data": {
      "text/html": [
       "<div>\n",
       "<style scoped>\n",
       "    .dataframe tbody tr th:only-of-type {\n",
       "        vertical-align: middle;\n",
       "    }\n",
       "\n",
       "    .dataframe tbody tr th {\n",
       "        vertical-align: top;\n",
       "    }\n",
       "\n",
       "    .dataframe thead th {\n",
       "        text-align: right;\n",
       "    }\n",
       "</style>\n",
       "<table border=\"1\" class=\"dataframe\">\n",
       "  <thead>\n",
       "    <tr style=\"text-align: right;\">\n",
       "      <th></th>\n",
       "      <th>Game_Result</th>\n",
       "      <th>Team1_FGA</th>\n",
       "      <th>Team1_FG_P</th>\n",
       "      <th>Team1_3PA</th>\n",
       "      <th>Team1_3P_P</th>\n",
       "      <th>Team1_OFFRTG</th>\n",
       "      <th>Team1_DEFRTG</th>\n",
       "      <th>Team1_REB_P</th>\n",
       "      <th>Team1_AST/TO</th>\n",
       "      <th>Team1_PACE</th>\n",
       "      <th>Team2_FGA</th>\n",
       "      <th>Team2_FG_P</th>\n",
       "      <th>Team2_3PA</th>\n",
       "      <th>Team2_3P_P</th>\n",
       "      <th>Team2_OFFRTG</th>\n",
       "      <th>Team2_DEFRTG</th>\n",
       "      <th>Team2_REB_P</th>\n",
       "      <th>Team2_AST/TO</th>\n",
       "      <th>Team2_PACE</th>\n",
       "    </tr>\n",
       "  </thead>\n",
       "  <tbody>\n",
       "    <tr>\n",
       "      <td>0</td>\n",
       "      <td>0</td>\n",
       "      <td>62.0</td>\n",
       "      <td>56.5</td>\n",
       "      <td>9.0</td>\n",
       "      <td>55.6</td>\n",
       "      <td>114.0</td>\n",
       "      <td>89.1</td>\n",
       "      <td>56.6</td>\n",
       "      <td>0.94</td>\n",
       "      <td>92.5</td>\n",
       "      <td>81.0</td>\n",
       "      <td>37.0</td>\n",
       "      <td>15.0</td>\n",
       "      <td>40.0</td>\n",
       "      <td>89.1</td>\n",
       "      <td>114.0</td>\n",
       "      <td>43.4</td>\n",
       "      <td>1.08</td>\n",
       "      <td>92.5</td>\n",
       "    </tr>\n",
       "    <tr>\n",
       "      <td>1</td>\n",
       "      <td>0</td>\n",
       "      <td>78.0</td>\n",
       "      <td>41.0</td>\n",
       "      <td>7.0</td>\n",
       "      <td>28.6</td>\n",
       "      <td>87.8</td>\n",
       "      <td>83.7</td>\n",
       "      <td>52.3</td>\n",
       "      <td>0.84</td>\n",
       "      <td>98.0</td>\n",
       "      <td>85.0</td>\n",
       "      <td>36.5</td>\n",
       "      <td>10.0</td>\n",
       "      <td>30.0</td>\n",
       "      <td>83.7</td>\n",
       "      <td>87.8</td>\n",
       "      <td>47.7</td>\n",
       "      <td>1.60</td>\n",
       "      <td>98.0</td>\n",
       "    </tr>\n",
       "    <tr>\n",
       "      <td>2</td>\n",
       "      <td>1</td>\n",
       "      <td>72.0</td>\n",
       "      <td>45.8</td>\n",
       "      <td>7.0</td>\n",
       "      <td>57.1</td>\n",
       "      <td>87.8</td>\n",
       "      <td>99.0</td>\n",
       "      <td>53.3</td>\n",
       "      <td>0.74</td>\n",
       "      <td>98.0</td>\n",
       "      <td>79.0</td>\n",
       "      <td>43.0</td>\n",
       "      <td>16.0</td>\n",
       "      <td>37.5</td>\n",
       "      <td>99.0</td>\n",
       "      <td>87.8</td>\n",
       "      <td>46.7</td>\n",
       "      <td>1.33</td>\n",
       "      <td>98.0</td>\n",
       "    </tr>\n",
       "  </tbody>\n",
       "</table>\n",
       "</div>"
      ],
      "text/plain": [
       "   Game_Result  Team1_FGA  Team1_FG_P  Team1_3PA  Team1_3P_P  Team1_OFFRTG  \\\n",
       "0            0       62.0        56.5        9.0        55.6         114.0   \n",
       "1            0       78.0        41.0        7.0        28.6          87.8   \n",
       "2            1       72.0        45.8        7.0        57.1          87.8   \n",
       "\n",
       "   Team1_DEFRTG  Team1_REB_P  Team1_AST/TO  Team1_PACE  Team2_FGA  Team2_FG_P  \\\n",
       "0          89.1         56.6          0.94        92.5       81.0        37.0   \n",
       "1          83.7         52.3          0.84        98.0       85.0        36.5   \n",
       "2          99.0         53.3          0.74        98.0       79.0        43.0   \n",
       "\n",
       "   Team2_3PA  Team2_3P_P  Team2_OFFRTG  Team2_DEFRTG  Team2_REB_P  \\\n",
       "0       15.0        40.0          89.1         114.0         43.4   \n",
       "1       10.0        30.0          83.7          87.8         47.7   \n",
       "2       16.0        37.5          99.0          87.8         46.7   \n",
       "\n",
       "   Team2_AST/TO  Team2_PACE  \n",
       "0          1.08        92.5  \n",
       "1          1.60        98.0  \n",
       "2          1.33        98.0  "
      ]
     },
     "metadata": {},
     "output_type": "display_data"
    }
   ],
   "source": [
    "df1 = pd.read_csv('2010-2020_Model_Ready.csv', index_col=0)\n",
    "print(\"df1:\")\n",
    "display(df1.head(3))\n",
    "df2 = pd.read_csv('2000-2010_Model_Ready.csv', index_col=0)\n",
    "print(\"=============================================================================\")\n",
    "print(\"df2:\")\n",
    "display(df2.head(3))"
   ]
  },
  {
   "cell_type": "code",
   "execution_count": 134,
   "metadata": {
    "ExecuteTime": {
     "end_time": "2020-08-23T11:01:07.107133Z",
     "start_time": "2020-08-23T11:01:07.101404Z"
    }
   },
   "outputs": [
    {
     "data": {
      "text/plain": [
       "1    7160\n",
       "0    5038\n",
       "Name: Game_Result, dtype: int64"
      ]
     },
     "execution_count": 134,
     "metadata": {},
     "output_type": "execute_result"
    }
   ],
   "source": [
    "df1.Game_Result.value_counts()"
   ]
  },
  {
   "cell_type": "code",
   "execution_count": 135,
   "metadata": {
    "ExecuteTime": {
     "end_time": "2020-08-23T11:01:27.386728Z",
     "start_time": "2020-08-23T11:01:27.381024Z"
    }
   },
   "outputs": [
    {
     "data": {
      "text/plain": [
       "1    9513\n",
       "0    6269\n",
       "Name: Game_Result, dtype: int64"
      ]
     },
     "execution_count": 135,
     "metadata": {},
     "output_type": "execute_result"
    }
   ],
   "source": [
    "df2.Game_Result.value_counts()"
   ]
  },
  {
   "cell_type": "markdown",
   "metadata": {},
   "source": [
    "#### Splitting the Data"
   ]
  },
  {
   "cell_type": "code",
   "execution_count": 136,
   "metadata": {
    "ExecuteTime": {
     "end_time": "2020-08-23T11:04:23.796598Z",
     "start_time": "2020-08-23T11:04:23.780162Z"
    }
   },
   "outputs": [
    {
     "name": "stdout",
     "output_type": "stream",
     "text": [
      "1    5365\n",
      "0    3783\n",
      "Name: Game_Result, dtype: int64 \n",
      "\n",
      " 1    1795\n",
      "0    1255\n",
      "Name: Game_Result, dtype: int64\n"
     ]
    }
   ],
   "source": [
    "# Define X and y\n",
    "y = df1['Game_Result']\n",
    "X = df1.drop(columns=['Game_Result'], axis=1)\n",
    "\n",
    "# Splitting the data into training and test datasets\n",
    "X_train, X_test, y_train, y_test = train_test_split(X, y, test_size=0.25, random_state=42)\n",
    "\n",
    "# Print the value_counts() for y_train and y_test to verify the split\n",
    "print(y_train.value_counts(), '\\n\\n', y_test.value_counts())"
   ]
  },
  {
   "cell_type": "markdown",
   "metadata": {},
   "source": [
    "It worked well and respected the 25 and 75%"
   ]
  },
  {
   "cell_type": "markdown",
   "metadata": {},
   "source": [
    "#### Fitting the Model"
   ]
  },
  {
   "cell_type": "code",
   "execution_count": 4,
   "metadata": {
    "ExecuteTime": {
     "end_time": "2020-08-22T20:33:18.077001Z",
     "start_time": "2020-08-22T20:33:18.074720Z"
    }
   },
   "outputs": [],
   "source": [
    "# Instantiating the model\n",
    "logreg = LogisticRegression()"
   ]
  },
  {
   "cell_type": "code",
   "execution_count": 5,
   "metadata": {
    "ExecuteTime": {
     "end_time": "2020-08-22T20:33:18.765411Z",
     "start_time": "2020-08-22T20:33:18.725646Z"
    },
    "scrolled": true
   },
   "outputs": [
    {
     "data": {
      "text/plain": [
       "LogisticRegression(C=1e+16, fit_intercept=False, random_state=2,\n",
       "                   solver='liblinear')"
      ]
     },
     "execution_count": 5,
     "metadata": {},
     "output_type": "execute_result"
    }
   ],
   "source": [
    "# Fitting the model with the train data\n",
    "logreg = LogisticRegression(fit_intercept=False, C=1e16, random_state=2, solver='liblinear')\n",
    "logreg.fit(X_train, y_train)"
   ]
  },
  {
   "cell_type": "code",
   "execution_count": 6,
   "metadata": {
    "ExecuteTime": {
     "end_time": "2020-08-22T20:33:19.340895Z",
     "start_time": "2020-08-22T20:33:19.333079Z"
    }
   },
   "outputs": [
    {
     "data": {
      "text/plain": [
       "array([0, 1, 1, ..., 0, 0, 1])"
      ]
     },
     "execution_count": 6,
     "metadata": {},
     "output_type": "execute_result"
    }
   ],
   "source": [
    "logreg.predict(X_test) # Shows the predicted outputs...will be compare below..."
   ]
  },
  {
   "cell_type": "markdown",
   "metadata": {},
   "source": [
    "#### Evaluating the Classifier/Model"
   ]
  },
  {
   "cell_type": "markdown",
   "metadata": {},
   "source": [
    "Let's see what the model score is for the Test and the Train datasets:"
   ]
  },
  {
   "cell_type": "code",
   "execution_count": 7,
   "metadata": {
    "ExecuteTime": {
     "end_time": "2020-08-22T20:33:20.305459Z",
     "start_time": "2020-08-22T20:33:20.289771Z"
    },
    "scrolled": true
   },
   "outputs": [
    {
     "name": "stdout",
     "output_type": "stream",
     "text": [
      "Model Score for the Test data:\n"
     ]
    },
    {
     "data": {
      "text/plain": [
       "0.7157377049180328"
      ]
     },
     "metadata": {},
     "output_type": "display_data"
    },
    {
     "name": "stdout",
     "output_type": "stream",
     "text": [
      "Model Score for the Train data:\n"
     ]
    },
    {
     "data": {
      "text/plain": [
       "0.7210319195452558"
      ]
     },
     "metadata": {},
     "output_type": "display_data"
    }
   ],
   "source": [
    "print(\"Model Score for the Test data:\")\n",
    "display(logreg.score(X_test, y_test)) # shows the accuracy of the model\n",
    "print(\"Model Score for the Train data:\")\n",
    "display(logreg.score(X_train, y_train)) # shows the Logistic Regression Score"
   ]
  },
  {
   "cell_type": "markdown",
   "metadata": {
    "ExecuteTime": {
     "end_time": "2020-08-21T23:23:54.027641Z",
     "start_time": "2020-08-21T23:23:54.024253Z"
    }
   },
   "source": [
    "So, revisiting the accuracy of the metrics:"
   ]
  },
  {
   "cell_type": "code",
   "execution_count": 8,
   "metadata": {
    "ExecuteTime": {
     "end_time": "2020-08-22T20:33:20.934798Z",
     "start_time": "2020-08-22T20:33:20.930043Z"
    }
   },
   "outputs": [],
   "source": [
    "y_pred = logreg.predict(X_test)"
   ]
  },
  {
   "cell_type": "code",
   "execution_count": 9,
   "metadata": {
    "ExecuteTime": {
     "end_time": "2020-08-22T20:33:21.533178Z",
     "start_time": "2020-08-22T20:33:21.529327Z"
    },
    "scrolled": true
   },
   "outputs": [
    {
     "name": "stdout",
     "output_type": "stream",
     "text": [
      "0.7157377049180328\n"
     ]
    }
   ],
   "source": [
    "print(metrics.accuracy_score(y_test, y_pred)) # Percentage of correct predictions"
   ]
  },
  {
   "cell_type": "markdown",
   "metadata": {},
   "source": [
    "The accuracy score of 71.57% is not bad, in fact it is very close to the NBA predictions done by their own analysts which accounts for just over 76%, so I'm off by 5% with thi simple Logistic Regression Model. \n",
    "\n",
    "Lets see an example with the first 30 predictions to see how well the model does quantitatively:"
   ]
  },
  {
   "cell_type": "code",
   "execution_count": 10,
   "metadata": {
    "ExecuteTime": {
     "end_time": "2020-08-22T20:33:22.109056Z",
     "start_time": "2020-08-22T20:33:22.105934Z"
    }
   },
   "outputs": [
    {
     "name": "stdout",
     "output_type": "stream",
     "text": [
      "True:      [0 1 1 1 0 0 1 1 1 1 1 1 1 1 0 1 1 0 1 0 0 1 0 1 0 0 1 0 1 1]\n",
      "Predicted: [0 1 1 1 0 1 1 1 1 0 1 1 1 1 1 1 1 0 1 0 1 1 1 0 1 1 1 0 0 1]\n"
     ]
    }
   ],
   "source": [
    "print(\"True:     \", y_test.values[0:30]) # These are the real values\n",
    "print(\"Predicted:\", y_pred[0:30]) # These correspond to the predicted values"
   ]
  },
  {
   "cell_type": "markdown",
   "metadata": {},
   "source": [
    "Lets just remember that we are predicting the Home Team Winning. If we look carefully what this is telling us is that most of the times when the model is Predict wrongly, it happens when the Home Team Loses, the model ends up predicting a win. This is just an observation that can be illustrated by looking at the classification report below: "
   ]
  },
  {
   "cell_type": "code",
   "execution_count": 11,
   "metadata": {
    "ExecuteTime": {
     "end_time": "2020-08-22T20:33:22.693701Z",
     "start_time": "2020-08-22T20:33:22.682350Z"
    }
   },
   "outputs": [
    {
     "name": "stdout",
     "output_type": "stream",
     "text": [
      "              precision    recall  f1-score   support\n",
      "\n",
      "           0       0.68      0.58      0.63      1255\n",
      "           1       0.73      0.81      0.77      1795\n",
      "\n",
      "    accuracy                           0.72      3050\n",
      "   macro avg       0.71      0.70      0.70      3050\n",
      "weighted avg       0.71      0.72      0.71      3050\n",
      "\n"
     ]
    }
   ],
   "source": [
    "y_pred = logreg.predict(X_test)\n",
    "\n",
    "print(classification_report(y_test, y_pred))"
   ]
  },
  {
   "cell_type": "markdown",
   "metadata": {},
   "source": [
    "The classification report shows that for losing games the Precision is 68% and for Recall 58%, whereas for the games won by the Home Team, the Precision is 73% and Recall 81%. Exactly what we see above on the True and Predicted printed values.\n",
    "\n",
    "So far an Accuracy of 71.57% (rounded to 72% above) is very good for this purpose."
   ]
  },
  {
   "cell_type": "markdown",
   "metadata": {},
   "source": [
    "#### ROC curve for the predictions"
   ]
  },
  {
   "cell_type": "markdown",
   "metadata": {},
   "source": [
    "Now that the model has been evaluated using a few quick metrics with thee help of sklearn, lets try to generate an ROC and see the match with the accuracy and predictions discussed above"
   ]
  },
  {
   "cell_type": "code",
   "execution_count": 12,
   "metadata": {
    "ExecuteTime": {
     "end_time": "2020-08-22T20:33:24.062188Z",
     "start_time": "2020-08-22T20:33:23.762129Z"
    }
   },
   "outputs": [
    {
     "name": "stdout",
     "output_type": "stream",
     "text": [
      "Train AUC: 0.7870777666014068\n",
      "Test AUC: 0.7751698498485168\n"
     ]
    },
    {
     "data": {
      "image/png": "[encoded data removed]",
      "text/plain": [
       "<Figure size 720x576 with 1 Axes>"
      ]
     },
     "metadata": {
      "needs_background": "light"
     },
     "output_type": "display_data"
    }
   ],
   "source": [
    "y_train_score = logreg.decision_function(X_train)\n",
    "y_test_score = logreg.decision_function(X_test)\n",
    "\n",
    "train_fpr, train_tpr, train_thresholds = roc_curve(y_train, y_train_score)\n",
    "test_fpr, test_tpr, test_thresholds = roc_curve(y_test, y_test_score)\n",
    "\n",
    "print('Train AUC: {}'.format(auc(train_fpr, train_tpr)))\n",
    "print('Test AUC: {}'.format(auc(test_fpr, test_tpr)))\n",
    "\n",
    "plt.figure(figsize=(10, 8))\n",
    "lw = 2\n",
    "\n",
    "plt.plot(train_fpr, train_tpr, color='blue',\n",
    "         lw=lw, label='Train ROC curve')\n",
    "plt.plot(test_fpr, test_tpr, color='darkorange',\n",
    "         lw=lw, label='Test ROC curve')\n",
    "\n",
    "plt.plot([0, 1], [0, 1], color='navy', lw=lw, linestyle='--')\n",
    "plt.xlim([0.0, 1.0])\n",
    "plt.ylim([0.0, 1.05])\n",
    "plt.yticks([i/20.0 for i in range(21)])\n",
    "plt.xticks([i/20.0 for i in range(21)])\n",
    "plt.xlabel('False Positive Rate')\n",
    "plt.ylabel('True Positive Rate')\n",
    "plt.title('Receiver operating characteristic (ROC) Curve')\n",
    "plt.legend(loc='lower right')\n",
    "plt.show()"
   ]
  },
  {
   "cell_type": "markdown",
   "metadata": {},
   "source": [
    "The relationship between the False and True Positive Rate is not the best, but it is considerably better to the changes we would get by flipping a coin. So we are not just guessing with a 50/50 chance. As the accuracy suggested, we have a +70% change of success in terms of guessing if the Home Team will win the games or not. "
   ]
  },
  {
   "cell_type": "markdown",
   "metadata": {},
   "source": [
    "As mentioned in the first evaluations done on the 2018-2019 season using the KNN Classifier, this Classification Model is being done for all the teams, and that, even when it is useful, it is not the best option. We would be better by knowing doing a model for an specific team, and ultimately for all the 30 teams. So lets see how this results when we chose three teams from the 2010-2020 decade with different records"
   ]
  },
  {
   "cell_type": "markdown",
   "metadata": {},
   "source": [
    "#### Model Test I"
   ]
  },
  {
   "cell_type": "markdown",
   "metadata": {},
   "source": [
    "The Model Test I refers to the first selected team to run the predictive model with. For thee first team I chose the San Antonio Spurs, which is one of the most successful franchises on the last decade, in fact it goes far back to the previous decade as well, therefore I am expecting a very high performance at home.\n",
    "\n",
    "From one of the initial DataFrames created on the 2000-2020_Cleaning_Conditioning notebook (df_merge_a) I will create a separate dataframe with only the games were the San Antonio Spurs were the Home Team."
   ]
  },
  {
   "cell_type": "code",
   "execution_count": 137,
   "metadata": {
    "ExecuteTime": {
     "end_time": "2020-08-23T11:06:56.948780Z",
     "start_time": "2020-08-23T11:06:56.888409Z"
    }
   },
   "outputs": [
    {
     "data": {
      "text/html": [
       "<div>\n",
       "<style scoped>\n",
       "    .dataframe tbody tr th:only-of-type {\n",
       "        vertical-align: middle;\n",
       "    }\n",
       "\n",
       "    .dataframe tbody tr th {\n",
       "        vertical-align: top;\n",
       "    }\n",
       "\n",
       "    .dataframe thead th {\n",
       "        text-align: right;\n",
       "    }\n",
       "</style>\n",
       "<table border=\"1\" class=\"dataframe\">\n",
       "  <thead>\n",
       "    <tr style=\"text-align: right;\">\n",
       "      <th></th>\n",
       "      <th>Team1</th>\n",
       "      <th>Team1Score</th>\n",
       "      <th>Team2</th>\n",
       "      <th>Team2Score</th>\n",
       "      <th>year</th>\n",
       "      <th>month</th>\n",
       "      <th>Game_Result</th>\n",
       "      <th>Team1_year</th>\n",
       "      <th>Team1_month</th>\n",
       "      <th>Team1_FGA</th>\n",
       "      <th>...</th>\n",
       "      <th>Team2_month</th>\n",
       "      <th>Team2_FGA</th>\n",
       "      <th>Team2_FG_P</th>\n",
       "      <th>Team2_3PA</th>\n",
       "      <th>Team2_3P_P</th>\n",
       "      <th>Team2_OFFRTG</th>\n",
       "      <th>Team2_DEFRTG</th>\n",
       "      <th>Team2_REB_P</th>\n",
       "      <th>Team2_AST/TO</th>\n",
       "      <th>Team2_PACE</th>\n",
       "    </tr>\n",
       "  </thead>\n",
       "  <tbody>\n",
       "    <tr>\n",
       "      <td>0</td>\n",
       "      <td>New Orleans Pelicans</td>\n",
       "      <td>122</td>\n",
       "      <td>Toronto Raptors</td>\n",
       "      <td>130</td>\n",
       "      <td>2019</td>\n",
       "      <td>10</td>\n",
       "      <td>1</td>\n",
       "      <td>2019.0</td>\n",
       "      <td>10.0</td>\n",
       "      <td>96.0</td>\n",
       "      <td>...</td>\n",
       "      <td>10.0</td>\n",
       "      <td>86.8</td>\n",
       "      <td>46.3</td>\n",
       "      <td>36.8</td>\n",
       "      <td>38.0</td>\n",
       "      <td>107.5</td>\n",
       "      <td>99.1</td>\n",
       "      <td>51.1</td>\n",
       "      <td>1.26</td>\n",
       "      <td>104.23</td>\n",
       "    </tr>\n",
       "    <tr>\n",
       "      <td>1</td>\n",
       "      <td>Los Angeles Lakers</td>\n",
       "      <td>102</td>\n",
       "      <td>Los Angeles Clippers</td>\n",
       "      <td>112</td>\n",
       "      <td>2019</td>\n",
       "      <td>10</td>\n",
       "      <td>1</td>\n",
       "      <td>2019.0</td>\n",
       "      <td>10.0</td>\n",
       "      <td>87.5</td>\n",
       "      <td>...</td>\n",
       "      <td>10.0</td>\n",
       "      <td>84.0</td>\n",
       "      <td>49.6</td>\n",
       "      <td>29.5</td>\n",
       "      <td>36.7</td>\n",
       "      <td>112.9</td>\n",
       "      <td>107.5</td>\n",
       "      <td>49.6</td>\n",
       "      <td>1.35</td>\n",
       "      <td>101.50</td>\n",
       "    </tr>\n",
       "  </tbody>\n",
       "</table>\n",
       "<p>2 rows × 29 columns</p>\n",
       "</div>"
      ],
      "text/plain": [
       "                  Team1  Team1Score                 Team2  Team2Score  year  \\\n",
       "0  New Orleans Pelicans         122       Toronto Raptors         130  2019   \n",
       "1    Los Angeles Lakers         102  Los Angeles Clippers         112  2019   \n",
       "\n",
       "   month  Game_Result  Team1_year  Team1_month  Team1_FGA  ...  Team2_month  \\\n",
       "0     10            1      2019.0         10.0       96.0  ...         10.0   \n",
       "1     10            1      2019.0         10.0       87.5  ...         10.0   \n",
       "\n",
       "   Team2_FGA  Team2_FG_P  Team2_3PA  Team2_3P_P  Team2_OFFRTG  Team2_DEFRTG  \\\n",
       "0       86.8        46.3       36.8        38.0         107.5          99.1   \n",
       "1       84.0        49.6       29.5        36.7         112.9         107.5   \n",
       "\n",
       "   Team2_REB_P  Team2_AST/TO  Team2_PACE  \n",
       "0         51.1          1.26      104.23  \n",
       "1         49.6          1.35      101.50  \n",
       "\n",
       "[2 rows x 29 columns]"
      ]
     },
     "execution_count": 137,
     "metadata": {},
     "output_type": "execute_result"
    }
   ],
   "source": [
    "df_SAS = pd.read_csv('df_merge_a.csv', index_col=0)\n",
    "df_SAS.head(2)"
   ]
  },
  {
   "cell_type": "code",
   "execution_count": 138,
   "metadata": {
    "ExecuteTime": {
     "end_time": "2020-08-23T11:06:59.392681Z",
     "start_time": "2020-08-23T11:06:59.388924Z"
    }
   },
   "outputs": [],
   "source": [
    "df_SAS = df_SAS[df_SAS['Team2'] == 'San Antonio Spurs']"
   ]
  },
  {
   "cell_type": "markdown",
   "metadata": {
    "ExecuteTime": {
     "end_time": "2020-08-22T08:36:08.979150Z",
     "start_time": "2020-08-22T08:36:08.973091Z"
    }
   },
   "source": [
    "We have preserved only the games where the San Antonio Spurs are the home team. This way we can come up with a prediction only for this particular team. Lets check that it has worked properly though:"
   ]
  },
  {
   "cell_type": "code",
   "execution_count": 140,
   "metadata": {
    "ExecuteTime": {
     "end_time": "2020-08-23T11:07:14.274728Z",
     "start_time": "2020-08-23T11:07:14.269219Z"
    },
    "scrolled": true
   },
   "outputs": [
    {
     "data": {
      "text/plain": [
       "1    334\n",
       "0     81\n",
       "Name: Game_Result, dtype: int64"
      ]
     },
     "execution_count": 140,
     "metadata": {},
     "output_type": "execute_result"
    }
   ],
   "source": [
    "df_SAS.Game_Result.value_counts() "
   ]
  },
  {
   "cell_type": "markdown",
   "metadata": {},
   "source": [
    "The San Antonio Spurs have won 80.48% of their home games during the past decade"
   ]
  },
  {
   "cell_type": "code",
   "execution_count": 159,
   "metadata": {
    "ExecuteTime": {
     "end_time": "2020-08-23T17:26:17.931711Z",
     "start_time": "2020-08-23T17:26:17.927855Z"
    }
   },
   "outputs": [],
   "source": [
    "df_SAS = df_SAS.drop(['Team1', 'Team1Score', 'Team2Score', 'Team2', 'year', 'month', 'Team1_month', 'Team2_month', 'Team1_year', 'Team2_year'], axis=1)"
   ]
  },
  {
   "cell_type": "code",
   "execution_count": 160,
   "metadata": {
    "ExecuteTime": {
     "end_time": "2020-08-23T17:26:20.027770Z",
     "start_time": "2020-08-23T17:26:20.009616Z"
    }
   },
   "outputs": [
    {
     "data": {
      "text/html": [
       "<div>\n",
       "<style scoped>\n",
       "    .dataframe tbody tr th:only-of-type {\n",
       "        vertical-align: middle;\n",
       "    }\n",
       "\n",
       "    .dataframe tbody tr th {\n",
       "        vertical-align: top;\n",
       "    }\n",
       "\n",
       "    .dataframe thead th {\n",
       "        text-align: right;\n",
       "    }\n",
       "</style>\n",
       "<table border=\"1\" class=\"dataframe\">\n",
       "  <thead>\n",
       "    <tr style=\"text-align: right;\">\n",
       "      <th></th>\n",
       "      <th>Game_Result</th>\n",
       "      <th>Team1_FGA</th>\n",
       "      <th>Team1_FG_P</th>\n",
       "      <th>Team1_3PA</th>\n",
       "      <th>Team1_3P_P</th>\n",
       "      <th>Team1_OFFRTG</th>\n",
       "      <th>Team1_DEFRTG</th>\n",
       "      <th>Team1_REB_P</th>\n",
       "      <th>Team1_AST/TO</th>\n",
       "      <th>Team1_PACE</th>\n",
       "      <th>Team2_FGA</th>\n",
       "      <th>Team2_FG_P</th>\n",
       "      <th>Team2_3PA</th>\n",
       "      <th>Team2_3P_P</th>\n",
       "      <th>Team2_OFFRTG</th>\n",
       "      <th>Team2_DEFRTG</th>\n",
       "      <th>Team2_REB_P</th>\n",
       "      <th>Team2_AST/TO</th>\n",
       "      <th>Team2_PACE</th>\n",
       "    </tr>\n",
       "  </thead>\n",
       "  <tbody>\n",
       "    <tr>\n",
       "      <td>9</td>\n",
       "      <td>1</td>\n",
       "      <td>86.0</td>\n",
       "      <td>42.3</td>\n",
       "      <td>28.4</td>\n",
       "      <td>35.2</td>\n",
       "      <td>99.8</td>\n",
       "      <td>107.9</td>\n",
       "      <td>51.6</td>\n",
       "      <td>1.02</td>\n",
       "      <td>100.80</td>\n",
       "      <td>89.0</td>\n",
       "      <td>47.5</td>\n",
       "      <td>23.0</td>\n",
       "      <td>33.7</td>\n",
       "      <td>108.6</td>\n",
       "      <td>106.2</td>\n",
       "      <td>52.8</td>\n",
       "      <td>1.36</td>\n",
       "      <td>104.75</td>\n",
       "    </tr>\n",
       "    <tr>\n",
       "      <td>32</td>\n",
       "      <td>1</td>\n",
       "      <td>94.0</td>\n",
       "      <td>47.9</td>\n",
       "      <td>38.0</td>\n",
       "      <td>38.2</td>\n",
       "      <td>113.6</td>\n",
       "      <td>113.6</td>\n",
       "      <td>49.3</td>\n",
       "      <td>1.69</td>\n",
       "      <td>104.88</td>\n",
       "      <td>89.0</td>\n",
       "      <td>47.5</td>\n",
       "      <td>23.0</td>\n",
       "      <td>33.7</td>\n",
       "      <td>108.6</td>\n",
       "      <td>106.2</td>\n",
       "      <td>52.8</td>\n",
       "      <td>1.36</td>\n",
       "      <td>104.75</td>\n",
       "    </tr>\n",
       "  </tbody>\n",
       "</table>\n",
       "</div>"
      ],
      "text/plain": [
       "    Game_Result  Team1_FGA  Team1_FG_P  Team1_3PA  Team1_3P_P  Team1_OFFRTG  \\\n",
       "9             1       86.0        42.3       28.4        35.2          99.8   \n",
       "32            1       94.0        47.9       38.0        38.2         113.6   \n",
       "\n",
       "    Team1_DEFRTG  Team1_REB_P  Team1_AST/TO  Team1_PACE  Team2_FGA  \\\n",
       "9          107.9         51.6          1.02      100.80       89.0   \n",
       "32         113.6         49.3          1.69      104.88       89.0   \n",
       "\n",
       "    Team2_FG_P  Team2_3PA  Team2_3P_P  Team2_OFFRTG  Team2_DEFRTG  \\\n",
       "9         47.5       23.0        33.7         108.6         106.2   \n",
       "32        47.5       23.0        33.7         108.6         106.2   \n",
       "\n",
       "    Team2_REB_P  Team2_AST/TO  Team2_PACE  \n",
       "9          52.8          1.36      104.75  \n",
       "32         52.8          1.36      104.75  "
      ]
     },
     "execution_count": 160,
     "metadata": {},
     "output_type": "execute_result"
    }
   ],
   "source": [
    "df_SAS.head(2)"
   ]
  },
  {
   "cell_type": "markdown",
   "metadata": {},
   "source": [
    "Now that we have the DF ready for the model, lets save this ready_to_model df as a csv file and then look at their real life performance during this past decade:"
   ]
  },
  {
   "cell_type": "code",
   "execution_count": 161,
   "metadata": {
    "ExecuteTime": {
     "end_time": "2020-08-23T17:26:24.988379Z",
     "start_time": "2020-08-23T17:26:24.976817Z"
    }
   },
   "outputs": [],
   "source": [
    "df_SAS.to_csv('SAS_2010-2020.csv')"
   ]
  },
  {
   "cell_type": "code",
   "execution_count": 18,
   "metadata": {
    "ExecuteTime": {
     "end_time": "2020-08-22T20:33:29.151843Z",
     "start_time": "2020-08-22T20:33:29.147390Z"
    }
   },
   "outputs": [
    {
     "data": {
      "text/plain": [
       "1    334\n",
       "0     81\n",
       "Name: Game_Result, dtype: int64"
      ]
     },
     "execution_count": 18,
     "metadata": {},
     "output_type": "execute_result"
    }
   ],
   "source": [
    "df_SAS.Game_Result.value_counts()"
   ]
  },
  {
   "cell_type": "markdown",
   "metadata": {},
   "source": [
    "So the San Antonio Spurs have been for a while one of the most successful teams in the NBA, so this is no surprise. They have won 80.50% of their home games in the last decade.  "
   ]
  },
  {
   "cell_type": "code",
   "execution_count": 19,
   "metadata": {
    "ExecuteTime": {
     "end_time": "2020-08-22T20:33:29.852170Z",
     "start_time": "2020-08-22T20:33:29.844354Z"
    },
    "scrolled": false
   },
   "outputs": [
    {
     "name": "stdout",
     "output_type": "stream",
     "text": [
      "1    255\n",
      "0     56\n",
      "Name: Game_Result, dtype: int64 \n",
      "\n",
      " 1    79\n",
      "0    25\n",
      "Name: Game_Result, dtype: int64\n"
     ]
    }
   ],
   "source": [
    "# Define X and y\n",
    "y = df_SAS['Game_Result']\n",
    "X = df_SAS.drop(columns=['Game_Result'], axis=1)\n",
    "\n",
    "# Splitting the data into training and test datasets\n",
    "X_train, X_test, y_train, y_test = train_test_split(X, y, test_size=0.25, random_state=42)\n",
    "\n",
    "# Print the value_counts() for y_train and y_test to verify th split\n",
    "print(y_train.value_counts(), '\\n\\n', y_test.value_counts())"
   ]
  },
  {
   "cell_type": "code",
   "execution_count": 20,
   "metadata": {
    "ExecuteTime": {
     "end_time": "2020-08-22T20:33:30.546842Z",
     "start_time": "2020-08-22T20:33:30.545025Z"
    }
   },
   "outputs": [],
   "source": [
    "# Instantiating the model\n",
    "logreg = LogisticRegression()"
   ]
  },
  {
   "cell_type": "code",
   "execution_count": 21,
   "metadata": {
    "ExecuteTime": {
     "end_time": "2020-08-22T20:33:31.241948Z",
     "start_time": "2020-08-22T20:33:31.233668Z"
    }
   },
   "outputs": [
    {
     "data": {
      "text/plain": [
       "LogisticRegression(C=1e+16, fit_intercept=False, random_state=2,\n",
       "                   solver='liblinear')"
      ]
     },
     "execution_count": 21,
     "metadata": {},
     "output_type": "execute_result"
    }
   ],
   "source": [
    "# Fitting the model with the train data\n",
    "logreg = LogisticRegression(fit_intercept=False, C=1e16, random_state=2, solver='liblinear')\n",
    "logreg.fit(X_train, y_train)"
   ]
  },
  {
   "cell_type": "code",
   "execution_count": 22,
   "metadata": {
    "ExecuteTime": {
     "end_time": "2020-08-22T20:33:31.922684Z",
     "start_time": "2020-08-22T20:33:31.912960Z"
    }
   },
   "outputs": [
    {
     "name": "stdout",
     "output_type": "stream",
     "text": [
      "Model Score for the Test data:\n"
     ]
    },
    {
     "data": {
      "text/plain": [
       "0.7980769230769231"
      ]
     },
     "metadata": {},
     "output_type": "display_data"
    },
    {
     "name": "stdout",
     "output_type": "stream",
     "text": [
      "Model Score for the Train data:\n"
     ]
    },
    {
     "data": {
      "text/plain": [
       "0.8553054662379421"
      ]
     },
     "metadata": {},
     "output_type": "display_data"
    }
   ],
   "source": [
    "print(\"Model Score for the Test data:\")\n",
    "display(logreg.score(X_test, y_test)) # shows the accuracy of the model\n",
    "print(\"Model Score for the Train data:\")\n",
    "display(logreg.score(X_train, y_train))"
   ]
  },
  {
   "cell_type": "markdown",
   "metadata": {},
   "source": [
    "As predicted the San Antonio Spurs win most of their Games at home. "
   ]
  },
  {
   "cell_type": "code",
   "execution_count": 23,
   "metadata": {
    "ExecuteTime": {
     "end_time": "2020-08-22T20:33:32.592245Z",
     "start_time": "2020-08-22T20:33:32.588023Z"
    }
   },
   "outputs": [],
   "source": [
    "y_pred = logreg.predict(X_test)"
   ]
  },
  {
   "cell_type": "code",
   "execution_count": 24,
   "metadata": {
    "ExecuteTime": {
     "end_time": "2020-08-22T20:33:33.256480Z",
     "start_time": "2020-08-22T20:33:33.253403Z"
    }
   },
   "outputs": [
    {
     "name": "stdout",
     "output_type": "stream",
     "text": [
      "0.7980769230769231\n"
     ]
    }
   ],
   "source": [
    "print(metrics.accuracy_score(y_test, y_pred)) # Percentage of correct predictions"
   ]
  },
  {
   "cell_type": "code",
   "execution_count": 25,
   "metadata": {
    "ExecuteTime": {
     "end_time": "2020-08-22T20:33:33.912067Z",
     "start_time": "2020-08-22T20:33:33.908768Z"
    }
   },
   "outputs": [
    {
     "name": "stdout",
     "output_type": "stream",
     "text": [
      "True:      [1 1 1 1 1 1 1 1 1 1 1 1 1 1 1 1 1 1 1 1 1 0 0 0 1 1 1 1 1 0]\n",
      "Predicted: [1 1 1 1 1 1 1 1 1 1 1 1 1 1 1 1 1 1 1 1 1 1 1 1 1 0 1 1 1 1]\n"
     ]
    }
   ],
   "source": [
    "print(\"True:     \", y_test.values[0:30]) # These are the real values\n",
    "print(\"Predicted:\", y_pred[0:30]) # These correspond to the predicted values"
   ]
  },
  {
   "cell_type": "code",
   "execution_count": 26,
   "metadata": {
    "ExecuteTime": {
     "end_time": "2020-08-22T20:33:34.583160Z",
     "start_time": "2020-08-22T20:33:34.575199Z"
    }
   },
   "outputs": [
    {
     "name": "stdout",
     "output_type": "stream",
     "text": [
      "              precision    recall  f1-score   support\n",
      "\n",
      "           0       0.67      0.32      0.43        25\n",
      "           1       0.82      0.95      0.88        79\n",
      "\n",
      "    accuracy                           0.80       104\n",
      "   macro avg       0.74      0.63      0.65       104\n",
      "weighted avg       0.78      0.80      0.77       104\n",
      "\n"
     ]
    }
   ],
   "source": [
    "y_pred = logreg.predict(X_test)\n",
    "\n",
    "print(classification_report(y_test, y_pred))"
   ]
  },
  {
   "cell_type": "markdown",
   "metadata": {},
   "source": [
    "##### ROC Curve"
   ]
  },
  {
   "cell_type": "code",
   "execution_count": 27,
   "metadata": {
    "ExecuteTime": {
     "end_time": "2020-08-22T20:33:35.596051Z",
     "start_time": "2020-08-22T20:33:35.255526Z"
    }
   },
   "outputs": [
    {
     "name": "stdout",
     "output_type": "stream",
     "text": [
      "Train AUC: 0.79796918767507\n",
      "Test AUC: 0.7460759493670885\n"
     ]
    },
    {
     "data": {
      "image/png": "[encoded data removed]",
      "text/plain": [
       "<Figure size 720x576 with 1 Axes>"
      ]
     },
     "metadata": {
      "needs_background": "light"
     },
     "output_type": "display_data"
    }
   ],
   "source": [
    "y_train_score = logreg.decision_function(X_train)\n",
    "y_test_score = logreg.decision_function(X_test)\n",
    "\n",
    "train_fpr, train_tpr, train_thresholds = roc_curve(y_train, y_train_score)\n",
    "test_fpr, test_tpr, test_thresholds = roc_curve(y_test, y_test_score)\n",
    "\n",
    "print('Train AUC: {}'.format(auc(train_fpr, train_tpr)))\n",
    "print('Test AUC: {}'.format(auc(test_fpr, test_tpr)))\n",
    "\n",
    "plt.figure(figsize=(10, 8))\n",
    "lw = 2\n",
    "\n",
    "plt.plot(train_fpr, train_tpr, color='blue',\n",
    "         lw=lw, label='Train ROC curve')\n",
    "plt.plot(test_fpr, test_tpr, color='darkorange',\n",
    "         lw=lw, label='Test ROC curve')\n",
    "\n",
    "plt.plot([0, 1], [0, 1], color='navy', lw=lw, linestyle='--')\n",
    "plt.xlim([0.0, 1.0])\n",
    "plt.ylim([0.0, 1.05])\n",
    "plt.yticks([i/20.0 for i in range(21)])\n",
    "plt.xticks([i/20.0 for i in range(21)])\n",
    "plt.xlabel('False Positive Rate')\n",
    "plt.ylabel('True Positive Rate')\n",
    "plt.title('Receiver operating characteristic (ROC) Curve')\n",
    "plt.legend(loc='lower right')\n",
    "plt.show()"
   ]
  },
  {
   "cell_type": "markdown",
   "metadata": {},
   "source": [
    "The model has an accuracy of 79.80% suggesting that that is the percentage of games played at Home by the San Antonio Spurs that they will win, and in reality, during the past 10 years, they have won 81% of the games. So it seems as the model is extremely close to the reality. It is a bit concerning though that there might be some over-fitting, so maybe other tests will give better results. Lets go to the second team and see what happens..."
   ]
  },
  {
   "cell_type": "markdown",
   "metadata": {},
   "source": [
    "#### Model Test II"
   ]
  },
  {
   "cell_type": "markdown",
   "metadata": {},
   "source": [
    "Let's look at another team but this time a random one. Let's say the Miami Heat. I know they have won a couple of championships but the rest of the seasons they have been average, or at least that is what I remember. So lets check."
   ]
  },
  {
   "cell_type": "code",
   "execution_count": 142,
   "metadata": {
    "ExecuteTime": {
     "end_time": "2020-08-23T11:09:01.469557Z",
     "start_time": "2020-08-23T11:09:01.411289Z"
    }
   },
   "outputs": [
    {
     "data": {
      "text/html": [
       "<div>\n",
       "<style scoped>\n",
       "    .dataframe tbody tr th:only-of-type {\n",
       "        vertical-align: middle;\n",
       "    }\n",
       "\n",
       "    .dataframe tbody tr th {\n",
       "        vertical-align: top;\n",
       "    }\n",
       "\n",
       "    .dataframe thead th {\n",
       "        text-align: right;\n",
       "    }\n",
       "</style>\n",
       "<table border=\"1\" class=\"dataframe\">\n",
       "  <thead>\n",
       "    <tr style=\"text-align: right;\">\n",
       "      <th></th>\n",
       "      <th>Team1</th>\n",
       "      <th>Team1Score</th>\n",
       "      <th>Team2</th>\n",
       "      <th>Team2Score</th>\n",
       "      <th>year</th>\n",
       "      <th>month</th>\n",
       "      <th>Game_Result</th>\n",
       "      <th>Team1_year</th>\n",
       "      <th>Team1_month</th>\n",
       "      <th>Team1_FGA</th>\n",
       "      <th>...</th>\n",
       "      <th>Team2_month</th>\n",
       "      <th>Team2_FGA</th>\n",
       "      <th>Team2_FG_P</th>\n",
       "      <th>Team2_3PA</th>\n",
       "      <th>Team2_3P_P</th>\n",
       "      <th>Team2_OFFRTG</th>\n",
       "      <th>Team2_DEFRTG</th>\n",
       "      <th>Team2_REB_P</th>\n",
       "      <th>Team2_AST/TO</th>\n",
       "      <th>Team2_PACE</th>\n",
       "    </tr>\n",
       "  </thead>\n",
       "  <tbody>\n",
       "    <tr>\n",
       "      <td>0</td>\n",
       "      <td>New Orleans Pelicans</td>\n",
       "      <td>122</td>\n",
       "      <td>Toronto Raptors</td>\n",
       "      <td>130</td>\n",
       "      <td>2019</td>\n",
       "      <td>10</td>\n",
       "      <td>1</td>\n",
       "      <td>2019.0</td>\n",
       "      <td>10.0</td>\n",
       "      <td>96.0</td>\n",
       "      <td>...</td>\n",
       "      <td>10.0</td>\n",
       "      <td>86.8</td>\n",
       "      <td>46.3</td>\n",
       "      <td>36.8</td>\n",
       "      <td>38.0</td>\n",
       "      <td>107.5</td>\n",
       "      <td>99.1</td>\n",
       "      <td>51.1</td>\n",
       "      <td>1.26</td>\n",
       "      <td>104.23</td>\n",
       "    </tr>\n",
       "    <tr>\n",
       "      <td>1</td>\n",
       "      <td>Los Angeles Lakers</td>\n",
       "      <td>102</td>\n",
       "      <td>Los Angeles Clippers</td>\n",
       "      <td>112</td>\n",
       "      <td>2019</td>\n",
       "      <td>10</td>\n",
       "      <td>1</td>\n",
       "      <td>2019.0</td>\n",
       "      <td>10.0</td>\n",
       "      <td>87.5</td>\n",
       "      <td>...</td>\n",
       "      <td>10.0</td>\n",
       "      <td>84.0</td>\n",
       "      <td>49.6</td>\n",
       "      <td>29.5</td>\n",
       "      <td>36.7</td>\n",
       "      <td>112.9</td>\n",
       "      <td>107.5</td>\n",
       "      <td>49.6</td>\n",
       "      <td>1.35</td>\n",
       "      <td>101.50</td>\n",
       "    </tr>\n",
       "  </tbody>\n",
       "</table>\n",
       "<p>2 rows × 29 columns</p>\n",
       "</div>"
      ],
      "text/plain": [
       "                  Team1  Team1Score                 Team2  Team2Score  year  \\\n",
       "0  New Orleans Pelicans         122       Toronto Raptors         130  2019   \n",
       "1    Los Angeles Lakers         102  Los Angeles Clippers         112  2019   \n",
       "\n",
       "   month  Game_Result  Team1_year  Team1_month  Team1_FGA  ...  Team2_month  \\\n",
       "0     10            1      2019.0         10.0       96.0  ...         10.0   \n",
       "1     10            1      2019.0         10.0       87.5  ...         10.0   \n",
       "\n",
       "   Team2_FGA  Team2_FG_P  Team2_3PA  Team2_3P_P  Team2_OFFRTG  Team2_DEFRTG  \\\n",
       "0       86.8        46.3       36.8        38.0         107.5          99.1   \n",
       "1       84.0        49.6       29.5        36.7         112.9         107.5   \n",
       "\n",
       "   Team2_REB_P  Team2_AST/TO  Team2_PACE  \n",
       "0         51.1          1.26      104.23  \n",
       "1         49.6          1.35      101.50  \n",
       "\n",
       "[2 rows x 29 columns]"
      ]
     },
     "execution_count": 142,
     "metadata": {},
     "output_type": "execute_result"
    }
   ],
   "source": [
    "df_MIA = pd.read_csv('df_merge_a.csv', index_col=0)\n",
    "df_MIA.head(2)"
   ]
  },
  {
   "cell_type": "code",
   "execution_count": 143,
   "metadata": {
    "ExecuteTime": {
     "end_time": "2020-08-23T11:09:03.887594Z",
     "start_time": "2020-08-23T11:09:03.881820Z"
    }
   },
   "outputs": [
    {
     "data": {
      "text/plain": [
       "1    281\n",
       "0    128\n",
       "Name: Game_Result, dtype: int64"
      ]
     },
     "metadata": {},
     "output_type": "display_data"
    }
   ],
   "source": [
    "df_MIA = df_MIA[df_MIA['Team2'] == 'Miami Heat']\n",
    "display(df_MIA.Game_Result.value_counts())"
   ]
  },
  {
   "cell_type": "markdown",
   "metadata": {},
   "source": [
    "The Miami HEat have won 68.70 of their home games during the past decade"
   ]
  },
  {
   "cell_type": "code",
   "execution_count": 156,
   "metadata": {
    "ExecuteTime": {
     "end_time": "2020-08-23T17:25:56.592357Z",
     "start_time": "2020-08-23T17:25:56.568640Z"
    }
   },
   "outputs": [
    {
     "data": {
      "text/html": [
       "<div>\n",
       "<style scoped>\n",
       "    .dataframe tbody tr th:only-of-type {\n",
       "        vertical-align: middle;\n",
       "    }\n",
       "\n",
       "    .dataframe tbody tr th {\n",
       "        vertical-align: top;\n",
       "    }\n",
       "\n",
       "    .dataframe thead th {\n",
       "        text-align: right;\n",
       "    }\n",
       "</style>\n",
       "<table border=\"1\" class=\"dataframe\">\n",
       "  <thead>\n",
       "    <tr style=\"text-align: right;\">\n",
       "      <th></th>\n",
       "      <th>Game_Result</th>\n",
       "      <th>Team1_FGA</th>\n",
       "      <th>Team1_FG_P</th>\n",
       "      <th>Team1_3PA</th>\n",
       "      <th>Team1_3P_P</th>\n",
       "      <th>Team1_OFFRTG</th>\n",
       "      <th>Team1_DEFRTG</th>\n",
       "      <th>Team1_REB_P</th>\n",
       "      <th>Team1_AST/TO</th>\n",
       "      <th>Team1_PACE</th>\n",
       "      <th>Team2_FGA</th>\n",
       "      <th>Team2_FG_P</th>\n",
       "      <th>Team2_3PA</th>\n",
       "      <th>Team2_3P_P</th>\n",
       "      <th>Team2_OFFRTG</th>\n",
       "      <th>Team2_DEFRTG</th>\n",
       "      <th>Team2_REB_P</th>\n",
       "      <th>Team2_AST/TO</th>\n",
       "      <th>Team2_PACE</th>\n",
       "    </tr>\n",
       "  </thead>\n",
       "  <tbody>\n",
       "    <tr>\n",
       "      <td>6</td>\n",
       "      <td>1</td>\n",
       "      <td>95.3</td>\n",
       "      <td>41.5</td>\n",
       "      <td>32.0</td>\n",
       "      <td>28.1</td>\n",
       "      <td>95.7</td>\n",
       "      <td>108.1</td>\n",
       "      <td>48.4</td>\n",
       "      <td>1.32</td>\n",
       "      <td>108.91</td>\n",
       "      <td>85.6</td>\n",
       "      <td>47.0</td>\n",
       "      <td>33.2</td>\n",
       "      <td>39.2</td>\n",
       "      <td>106.6</td>\n",
       "      <td>99.3</td>\n",
       "      <td>52.5</td>\n",
       "      <td>1.19</td>\n",
       "      <td>106.09</td>\n",
       "    </tr>\n",
       "    <tr>\n",
       "      <td>51</td>\n",
       "      <td>1</td>\n",
       "      <td>85.0</td>\n",
       "      <td>45.6</td>\n",
       "      <td>32.2</td>\n",
       "      <td>29.2</td>\n",
       "      <td>102.0</td>\n",
       "      <td>103.4</td>\n",
       "      <td>49.6</td>\n",
       "      <td>1.36</td>\n",
       "      <td>101.20</td>\n",
       "      <td>85.6</td>\n",
       "      <td>47.0</td>\n",
       "      <td>33.2</td>\n",
       "      <td>39.2</td>\n",
       "      <td>106.6</td>\n",
       "      <td>99.3</td>\n",
       "      <td>52.5</td>\n",
       "      <td>1.19</td>\n",
       "      <td>106.09</td>\n",
       "    </tr>\n",
       "  </tbody>\n",
       "</table>\n",
       "</div>"
      ],
      "text/plain": [
       "    Game_Result  Team1_FGA  Team1_FG_P  Team1_3PA  Team1_3P_P  Team1_OFFRTG  \\\n",
       "6             1       95.3        41.5       32.0        28.1          95.7   \n",
       "51            1       85.0        45.6       32.2        29.2         102.0   \n",
       "\n",
       "    Team1_DEFRTG  Team1_REB_P  Team1_AST/TO  Team1_PACE  Team2_FGA  \\\n",
       "6          108.1         48.4          1.32      108.91       85.6   \n",
       "51         103.4         49.6          1.36      101.20       85.6   \n",
       "\n",
       "    Team2_FG_P  Team2_3PA  Team2_3P_P  Team2_OFFRTG  Team2_DEFRTG  \\\n",
       "6         47.0       33.2        39.2         106.6          99.3   \n",
       "51        47.0       33.2        39.2         106.6          99.3   \n",
       "\n",
       "    Team2_REB_P  Team2_AST/TO  Team2_PACE  \n",
       "6          52.5          1.19      106.09  \n",
       "51         52.5          1.19      106.09  "
      ]
     },
     "metadata": {},
     "output_type": "display_data"
    },
    {
     "data": {
      "text/plain": [
       "1    281\n",
       "0    128\n",
       "Name: Game_Result, dtype: int64"
      ]
     },
     "execution_count": 156,
     "metadata": {},
     "output_type": "execute_result"
    }
   ],
   "source": [
    "# Dropping unnecessary columns\n",
    "df_MIA = df_MIA.drop(['Team1', 'Team1Score', 'Team2Score', 'Team2', 'year', 'month', 'Team1_month', 'Team2_month', 'Team1_year', 'Team2_year'], axis=1)\n",
    "\n",
    "# Displaying the new DataFrame with only games played in Miami\n",
    "display(df_MIA.head(2))\n",
    "\n",
    "# Looking at the Miami Heat record for tha past decade\n",
    "df_MIA.Game_Result.value_counts()"
   ]
  },
  {
   "cell_type": "markdown",
   "metadata": {},
   "source": [
    "The Miami Heat have won their Home Court games in 69% of the time\n",
    "\n",
    "Let's save this Dataframe as a .csv file and then go into the Model:"
   ]
  },
  {
   "cell_type": "code",
   "execution_count": 158,
   "metadata": {
    "ExecuteTime": {
     "end_time": "2020-08-23T17:26:01.608870Z",
     "start_time": "2020-08-23T17:26:01.599315Z"
    }
   },
   "outputs": [],
   "source": [
    "df_MIA.to_csv('MIA_2010-2020.csv')"
   ]
  },
  {
   "cell_type": "code",
   "execution_count": 31,
   "metadata": {
    "ExecuteTime": {
     "end_time": "2020-08-22T20:33:38.917285Z",
     "start_time": "2020-08-22T20:33:38.909551Z"
    }
   },
   "outputs": [
    {
     "name": "stdout",
     "output_type": "stream",
     "text": [
      "1    208\n",
      "0     98\n",
      "Name: Game_Result, dtype: int64 \n",
      "\n",
      " 1    73\n",
      "0    30\n",
      "Name: Game_Result, dtype: int64\n"
     ]
    }
   ],
   "source": [
    "# Define X and y\n",
    "y = df_MIA['Game_Result']\n",
    "X = df_MIA.drop(columns=['Game_Result'], axis=1)\n",
    "\n",
    "# Splitting the data into training and test datasets\n",
    "X_train, X_test, y_train, y_test = train_test_split(X, y, test_size=0.25, random_state=42)\n",
    "\n",
    "# Print the value_counts() for y_train and y_test to verify th split\n",
    "print(y_train.value_counts(), '\\n\\n', y_test.value_counts())"
   ]
  },
  {
   "cell_type": "code",
   "execution_count": 32,
   "metadata": {
    "ExecuteTime": {
     "end_time": "2020-08-22T20:33:39.756465Z",
     "start_time": "2020-08-22T20:33:39.740444Z"
    }
   },
   "outputs": [
    {
     "name": "stdout",
     "output_type": "stream",
     "text": [
      "Model Score for the Test data:\n"
     ]
    },
    {
     "data": {
      "text/plain": [
       "0.6407766990291263"
      ]
     },
     "metadata": {},
     "output_type": "display_data"
    },
    {
     "name": "stdout",
     "output_type": "stream",
     "text": [
      "Model Score for the Train data:\n"
     ]
    },
    {
     "data": {
      "text/plain": [
       "0.7549019607843137"
      ]
     },
     "metadata": {},
     "output_type": "display_data"
    }
   ],
   "source": [
    "# Fitting the model with the train data\n",
    "logreg = LogisticRegression(fit_intercept=False, C=1e16, random_state=2, solver='liblinear')\n",
    "logreg.fit(X_train, y_train)\n",
    "\n",
    "print(\"Model Score for the Test data:\")\n",
    "display(logreg.score(X_test, y_test)) # shows the accuracy of the model\n",
    "print(\"Model Score for the Train data:\")\n",
    "display(logreg.score(X_train, y_train)) # shows the Logistic Regression Score"
   ]
  },
  {
   "cell_type": "code",
   "execution_count": 33,
   "metadata": {
    "ExecuteTime": {
     "end_time": "2020-08-22T20:33:39.762709Z",
     "start_time": "2020-08-22T20:33:39.758077Z"
    }
   },
   "outputs": [],
   "source": [
    "y_pred = logreg.predict(X_test)"
   ]
  },
  {
   "cell_type": "code",
   "execution_count": 34,
   "metadata": {
    "ExecuteTime": {
     "end_time": "2020-08-22T20:33:41.458042Z",
     "start_time": "2020-08-22T20:33:41.446517Z"
    }
   },
   "outputs": [
    {
     "name": "stdout",
     "output_type": "stream",
     "text": [
      "The Peercentage of correct predictions is: 0.6407766990291263\n",
      "===========================================================================\n",
      "A quick test of thee predictions compared to the true data:\n",
      "True:      [1 0 1 1 1 1 1 1 1 0 0 0 0 1 0 1 1 1 1 1 1 1 1 0 1 0 1 1 1 1]\n",
      "Predicted: [0 1 0 1 1 0 1 1 1 0 1 1 1 1 1 1 0 0 0 0 1 1 1 1 1 1 1 1 1 0]\n",
      "===========================================================================\n",
      "\n",
      "\n",
      "Classification Report:\n",
      "---------------------\n",
      "\n",
      "               precision    recall  f1-score   support\n",
      "\n",
      "           0       0.35      0.27      0.30        30\n",
      "           1       0.72      0.79      0.76        73\n",
      "\n",
      "    accuracy                           0.64       103\n",
      "   macro avg       0.54      0.53      0.53       103\n",
      "weighted avg       0.62      0.64      0.63       103\n",
      "\n"
     ]
    }
   ],
   "source": [
    "print('The Peercentage of correct predictions is:', metrics.accuracy_score(y_test, y_pred)) # Percentage of correct predictions\n",
    "print('===========================================================================')\n",
    "print('A quick test of thee predictions compared to the true data:')\n",
    "print(\"True:     \", y_test.values[0:30]) # These are the real values\n",
    "print(\"Predicted:\", y_pred[0:30]) # These correspond to the predicted values\n",
    "print('===========================================================================')\n",
    "\n",
    "y_pred = logreg.predict(X_test)\n",
    "\n",
    "\n",
    "print('\\n\\nClassification Report:')\n",
    "print('---------------------')\n",
    "print('\\n', classification_report(y_test, y_pred))"
   ]
  },
  {
   "cell_type": "markdown",
   "metadata": {},
   "source": [
    "As we already know, During the last Decade Miami has won 69% of their Home Games, and the model is predicting that they will win on 64% of the Home Games. A 5% error is actually not bad at all and makes me feel more comfortable than the results obtained for the San Antonio Spurs. \n",
    "\n",
    "So now lets try adding all the 20 years together and see what the predictions are. "
   ]
  },
  {
   "cell_type": "markdown",
   "metadata": {},
   "source": [
    "### 2000 - 2020 Dataset"
   ]
  },
  {
   "cell_type": "code",
   "execution_count": 35,
   "metadata": {
    "ExecuteTime": {
     "end_time": "2020-08-22T20:33:42.309642Z",
     "start_time": "2020-08-22T20:33:42.278118Z"
    }
   },
   "outputs": [
    {
     "name": "stdout",
     "output_type": "stream",
     "text": [
      "DataFrame df1 containing stats from 2010 to 2020:\n"
     ]
    },
    {
     "data": {
      "text/html": [
       "<div>\n",
       "<style scoped>\n",
       "    .dataframe tbody tr th:only-of-type {\n",
       "        vertical-align: middle;\n",
       "    }\n",
       "\n",
       "    .dataframe tbody tr th {\n",
       "        vertical-align: top;\n",
       "    }\n",
       "\n",
       "    .dataframe thead th {\n",
       "        text-align: right;\n",
       "    }\n",
       "</style>\n",
       "<table border=\"1\" class=\"dataframe\">\n",
       "  <thead>\n",
       "    <tr style=\"text-align: right;\">\n",
       "      <th></th>\n",
       "      <th>Game_Result</th>\n",
       "      <th>Team1_FGA</th>\n",
       "      <th>Team1_FG_P</th>\n",
       "      <th>Team1_3PA</th>\n",
       "      <th>Team1_3P_P</th>\n",
       "      <th>Team1_OFFRTG</th>\n",
       "      <th>Team1_DEFRTG</th>\n",
       "      <th>Team1_REB_P</th>\n",
       "      <th>Team1_AST/TO</th>\n",
       "      <th>Team1_PACE</th>\n",
       "      <th>Team2_FGA</th>\n",
       "      <th>Team2_FG_P</th>\n",
       "      <th>Team2_3PA</th>\n",
       "      <th>Team2_3P_P</th>\n",
       "      <th>Team2_OFFRTG</th>\n",
       "      <th>Team2_DEFRTG</th>\n",
       "      <th>Team2_REB_P</th>\n",
       "      <th>Team2_AST/TO</th>\n",
       "      <th>Team2_PACE</th>\n",
       "    </tr>\n",
       "  </thead>\n",
       "  <tbody>\n",
       "    <tr>\n",
       "      <td>0</td>\n",
       "      <td>1</td>\n",
       "      <td>96.0</td>\n",
       "      <td>46.5</td>\n",
       "      <td>43.2</td>\n",
       "      <td>38.0</td>\n",
       "      <td>112.2</td>\n",
       "      <td>114.2</td>\n",
       "      <td>46.9</td>\n",
       "      <td>1.89</td>\n",
       "      <td>106.09</td>\n",
       "      <td>86.8</td>\n",
       "      <td>46.3</td>\n",
       "      <td>36.8</td>\n",
       "      <td>38.0</td>\n",
       "      <td>107.5</td>\n",
       "      <td>99.1</td>\n",
       "      <td>51.1</td>\n",
       "      <td>1.26</td>\n",
       "      <td>104.23</td>\n",
       "    </tr>\n",
       "    <tr>\n",
       "      <td>1</td>\n",
       "      <td>1</td>\n",
       "      <td>87.5</td>\n",
       "      <td>45.7</td>\n",
       "      <td>29.0</td>\n",
       "      <td>33.6</td>\n",
       "      <td>107.9</td>\n",
       "      <td>96.8</td>\n",
       "      <td>51.4</td>\n",
       "      <td>1.54</td>\n",
       "      <td>101.00</td>\n",
       "      <td>84.0</td>\n",
       "      <td>49.6</td>\n",
       "      <td>29.5</td>\n",
       "      <td>36.7</td>\n",
       "      <td>112.9</td>\n",
       "      <td>107.5</td>\n",
       "      <td>49.6</td>\n",
       "      <td>1.35</td>\n",
       "      <td>101.50</td>\n",
       "    </tr>\n",
       "  </tbody>\n",
       "</table>\n",
       "</div>"
      ],
      "text/plain": [
       "   Game_Result  Team1_FGA  Team1_FG_P  Team1_3PA  Team1_3P_P  Team1_OFFRTG  \\\n",
       "0            1       96.0        46.5       43.2        38.0         112.2   \n",
       "1            1       87.5        45.7       29.0        33.6         107.9   \n",
       "\n",
       "   Team1_DEFRTG  Team1_REB_P  Team1_AST/TO  Team1_PACE  Team2_FGA  Team2_FG_P  \\\n",
       "0         114.2         46.9          1.89      106.09       86.8        46.3   \n",
       "1          96.8         51.4          1.54      101.00       84.0        49.6   \n",
       "\n",
       "   Team2_3PA  Team2_3P_P  Team2_OFFRTG  Team2_DEFRTG  Team2_REB_P  \\\n",
       "0       36.8        38.0         107.5          99.1         51.1   \n",
       "1       29.5        36.7         112.9         107.5         49.6   \n",
       "\n",
       "   Team2_AST/TO  Team2_PACE  \n",
       "0          1.26      104.23  \n",
       "1          1.35      101.50  "
      ]
     },
     "metadata": {},
     "output_type": "display_data"
    },
    {
     "name": "stdout",
     "output_type": "stream",
     "text": [
      "DataFrame df2 containing stats from 2000 to 2010:\n"
     ]
    },
    {
     "data": {
      "text/html": [
       "<div>\n",
       "<style scoped>\n",
       "    .dataframe tbody tr th:only-of-type {\n",
       "        vertical-align: middle;\n",
       "    }\n",
       "\n",
       "    .dataframe tbody tr th {\n",
       "        vertical-align: top;\n",
       "    }\n",
       "\n",
       "    .dataframe thead th {\n",
       "        text-align: right;\n",
       "    }\n",
       "</style>\n",
       "<table border=\"1\" class=\"dataframe\">\n",
       "  <thead>\n",
       "    <tr style=\"text-align: right;\">\n",
       "      <th></th>\n",
       "      <th>Game_Result</th>\n",
       "      <th>Team1_FGA</th>\n",
       "      <th>Team1_FG_P</th>\n",
       "      <th>Team1_3PA</th>\n",
       "      <th>Team1_3P_P</th>\n",
       "      <th>Team1_OFFRTG</th>\n",
       "      <th>Team1_DEFRTG</th>\n",
       "      <th>Team1_REB_P</th>\n",
       "      <th>Team1_AST/TO</th>\n",
       "      <th>Team1_PACE</th>\n",
       "      <th>Team2_FGA</th>\n",
       "      <th>Team2_FG_P</th>\n",
       "      <th>Team2_3PA</th>\n",
       "      <th>Team2_3P_P</th>\n",
       "      <th>Team2_OFFRTG</th>\n",
       "      <th>Team2_DEFRTG</th>\n",
       "      <th>Team2_REB_P</th>\n",
       "      <th>Team2_AST/TO</th>\n",
       "      <th>Team2_PACE</th>\n",
       "    </tr>\n",
       "  </thead>\n",
       "  <tbody>\n",
       "    <tr>\n",
       "      <td>0</td>\n",
       "      <td>0</td>\n",
       "      <td>62.0</td>\n",
       "      <td>56.5</td>\n",
       "      <td>9.0</td>\n",
       "      <td>55.6</td>\n",
       "      <td>114.0</td>\n",
       "      <td>89.1</td>\n",
       "      <td>56.6</td>\n",
       "      <td>0.94</td>\n",
       "      <td>92.5</td>\n",
       "      <td>81.0</td>\n",
       "      <td>37.0</td>\n",
       "      <td>15.0</td>\n",
       "      <td>40.0</td>\n",
       "      <td>89.1</td>\n",
       "      <td>114.0</td>\n",
       "      <td>43.4</td>\n",
       "      <td>1.08</td>\n",
       "      <td>92.5</td>\n",
       "    </tr>\n",
       "    <tr>\n",
       "      <td>1</td>\n",
       "      <td>0</td>\n",
       "      <td>78.0</td>\n",
       "      <td>41.0</td>\n",
       "      <td>7.0</td>\n",
       "      <td>28.6</td>\n",
       "      <td>87.8</td>\n",
       "      <td>83.7</td>\n",
       "      <td>52.3</td>\n",
       "      <td>0.84</td>\n",
       "      <td>98.0</td>\n",
       "      <td>85.0</td>\n",
       "      <td>36.5</td>\n",
       "      <td>10.0</td>\n",
       "      <td>30.0</td>\n",
       "      <td>83.7</td>\n",
       "      <td>87.8</td>\n",
       "      <td>47.7</td>\n",
       "      <td>1.60</td>\n",
       "      <td>98.0</td>\n",
       "    </tr>\n",
       "  </tbody>\n",
       "</table>\n",
       "</div>"
      ],
      "text/plain": [
       "   Game_Result  Team1_FGA  Team1_FG_P  Team1_3PA  Team1_3P_P  Team1_OFFRTG  \\\n",
       "0            0       62.0        56.5        9.0        55.6         114.0   \n",
       "1            0       78.0        41.0        7.0        28.6          87.8   \n",
       "\n",
       "   Team1_DEFRTG  Team1_REB_P  Team1_AST/TO  Team1_PACE  Team2_FGA  Team2_FG_P  \\\n",
       "0          89.1         56.6          0.94        92.5       81.0        37.0   \n",
       "1          83.7         52.3          0.84        98.0       85.0        36.5   \n",
       "\n",
       "   Team2_3PA  Team2_3P_P  Team2_OFFRTG  Team2_DEFRTG  Team2_REB_P  \\\n",
       "0       15.0        40.0          89.1         114.0         43.4   \n",
       "1       10.0        30.0          83.7          87.8         47.7   \n",
       "\n",
       "   Team2_AST/TO  Team2_PACE  \n",
       "0          1.08        92.5  \n",
       "1          1.60        98.0  "
      ]
     },
     "metadata": {},
     "output_type": "display_data"
    }
   ],
   "source": [
    "print('DataFrame df1 containing stats from 2010 to 2020:')\n",
    "display(df1.head(2))\n",
    "print('DataFrame df2 containing stats from 2000 to 2010:')\n",
    "display(df2.head(2))"
   ]
  },
  {
   "cell_type": "markdown",
   "metadata": {},
   "source": [
    "Let's check the shape of each before we concatenate them together"
   ]
  },
  {
   "cell_type": "code",
   "execution_count": 36,
   "metadata": {
    "ExecuteTime": {
     "end_time": "2020-08-22T20:33:43.171970Z",
     "start_time": "2020-08-22T20:33:43.168415Z"
    }
   },
   "outputs": [
    {
     "name": "stdout",
     "output_type": "stream",
     "text": [
      "Shape of df1: (12198, 19)\n",
      "Shape of df2: (15782, 19)\n"
     ]
    }
   ],
   "source": [
    "print('Shape of df1:', df1.shape)\n",
    "print('Shape of df2:', df2.shape)"
   ]
  },
  {
   "cell_type": "code",
   "execution_count": 37,
   "metadata": {
    "ExecuteTime": {
     "end_time": "2020-08-22T20:33:44.004199Z",
     "start_time": "2020-08-22T20:33:43.997800Z"
    }
   },
   "outputs": [
    {
     "name": "stdout",
     "output_type": "stream",
     "text": [
      "Shape of df3: (27980, 19)\n"
     ]
    }
   ],
   "source": [
    "df3 = df1.append(df2)\n",
    "print('Shape of df3:', df3.shape) # the shape of df3 should be the result of adding df1 + df2"
   ]
  },
  {
   "cell_type": "markdown",
   "metadata": {},
   "source": [
    "Perfect for the append of df2 to df1. So now to the modeling..."
   ]
  },
  {
   "cell_type": "markdown",
   "metadata": {},
   "source": [
    "#### Splitting the Data"
   ]
  },
  {
   "cell_type": "code",
   "execution_count": 38,
   "metadata": {
    "ExecuteTime": {
     "end_time": "2020-08-22T20:33:44.875233Z",
     "start_time": "2020-08-22T20:33:44.860554Z"
    }
   },
   "outputs": [
    {
     "name": "stdout",
     "output_type": "stream",
     "text": [
      "1    12489\n",
      "0     8496\n",
      "Name: Game_Result, dtype: int64 \n",
      "\n",
      " 1    4184\n",
      "0    2811\n",
      "Name: Game_Result, dtype: int64\n"
     ]
    }
   ],
   "source": [
    "# Define X and y\n",
    "y = df3['Game_Result']\n",
    "X = df3.drop(columns=['Game_Result'], axis=1)\n",
    "\n",
    "# Splitting the data into training and test datasets\n",
    "X_train, X_test, y_train, y_test = train_test_split(X, y, test_size=0.25, random_state=42)\n",
    "\n",
    "# Print the value_counts() for y_train and y_test to verify the split\n",
    "print(y_train.value_counts(), '\\n\\n', y_test.value_counts())"
   ]
  },
  {
   "cell_type": "markdown",
   "metadata": {},
   "source": [
    "#### Fitting the Model"
   ]
  },
  {
   "cell_type": "code",
   "execution_count": 39,
   "metadata": {
    "ExecuteTime": {
     "end_time": "2020-08-22T20:33:45.880435Z",
     "start_time": "2020-08-22T20:33:45.754145Z"
    }
   },
   "outputs": [
    {
     "data": {
      "text/plain": [
       "LogisticRegression(C=1e+16, fit_intercept=False, random_state=2,\n",
       "                   solver='liblinear')"
      ]
     },
     "execution_count": 39,
     "metadata": {},
     "output_type": "execute_result"
    }
   ],
   "source": [
    "# Fitting the model with the train data\n",
    "logreg = LogisticRegression(fit_intercept=False, C=1e16, random_state=2, solver='liblinear')\n",
    "logreg.fit(X_train, y_train)"
   ]
  },
  {
   "cell_type": "markdown",
   "metadata": {},
   "source": [
    "#### Evaluating the Classifier/Model"
   ]
  },
  {
   "cell_type": "code",
   "execution_count": 40,
   "metadata": {
    "ExecuteTime": {
     "end_time": "2020-08-22T20:33:46.778740Z",
     "start_time": "2020-08-22T20:33:46.764260Z"
    }
   },
   "outputs": [
    {
     "name": "stdout",
     "output_type": "stream",
     "text": [
      "Model Score for the Test data:\n"
     ]
    },
    {
     "data": {
      "text/plain": [
       "0.7175125089349536"
      ]
     },
     "metadata": {},
     "output_type": "display_data"
    },
    {
     "name": "stdout",
     "output_type": "stream",
     "text": [
      "Model Score for the Train data:\n"
     ]
    },
    {
     "data": {
      "text/plain": [
       "0.710650464617584"
      ]
     },
     "metadata": {},
     "output_type": "display_data"
    }
   ],
   "source": [
    "print(\"Model Score for the Test data:\")\n",
    "display(logreg.score(X_test, y_test)) # shows the accuracy of the model\n",
    "print(\"Model Score for the Train data:\")\n",
    "display(logreg.score(X_train, y_train)) # shows the Logistic Regression Score"
   ]
  },
  {
   "cell_type": "code",
   "execution_count": 41,
   "metadata": {
    "ExecuteTime": {
     "end_time": "2020-08-22T20:33:47.692609Z",
     "start_time": "2020-08-22T20:33:47.687630Z"
    }
   },
   "outputs": [],
   "source": [
    "y_pred = logreg.predict(X_test)"
   ]
  },
  {
   "cell_type": "code",
   "execution_count": 42,
   "metadata": {
    "ExecuteTime": {
     "end_time": "2020-08-22T20:33:48.585378Z",
     "start_time": "2020-08-22T20:33:48.581598Z"
    },
    "scrolled": true
   },
   "outputs": [
    {
     "name": "stdout",
     "output_type": "stream",
     "text": [
      "0.7175125089349536\n"
     ]
    }
   ],
   "source": [
    "print(metrics.accuracy_score(y_test, y_pred)) # Percentage of correct predictions"
   ]
  },
  {
   "cell_type": "markdown",
   "metadata": {},
   "source": [
    "The accuracy score of 71.75% is not bad, in fact, once again very close to the NBA predictions done by their own analysts which accounts for just over 76%, so I'm off by 4% with the simple Logistic Regression Model. \n",
    "\n",
    "Lets see an example with the first 30 predictions to see how well the model does quantitatively as we did for the first model:"
   ]
  },
  {
   "cell_type": "code",
   "execution_count": 43,
   "metadata": {
    "ExecuteTime": {
     "end_time": "2020-08-22T20:33:49.510037Z",
     "start_time": "2020-08-22T20:33:49.506744Z"
    }
   },
   "outputs": [
    {
     "name": "stdout",
     "output_type": "stream",
     "text": [
      "True:      [0 0 1 1 1 1 1 0 0 1 0 0 1 1 1 0 0 1 1 0 0 0 0 0 1 1 0 0 1 1]\n",
      "Predicted: [0 0 1 1 0 1 1 0 0 1 0 0 0 1 1 0 0 1 1 1 0 0 0 1 1 1 0 0 1 1]\n"
     ]
    }
   ],
   "source": [
    "print(\"True:     \", y_test.values[0:30]) # These are the real values\n",
    "print(\"Predicted:\", y_pred[0:30]) # These correspond to the predicted values"
   ]
  },
  {
   "cell_type": "markdown",
   "metadata": {},
   "source": [
    "Now a view to the classification report would be useful:"
   ]
  },
  {
   "cell_type": "code",
   "execution_count": 44,
   "metadata": {
    "ExecuteTime": {
     "end_time": "2020-08-22T20:33:50.437509Z",
     "start_time": "2020-08-22T20:33:50.421326Z"
    }
   },
   "outputs": [
    {
     "name": "stdout",
     "output_type": "stream",
     "text": [
      "              precision    recall  f1-score   support\n",
      "\n",
      "           0       0.68      0.56      0.61      2811\n",
      "           1       0.73      0.83      0.78      4184\n",
      "\n",
      "    accuracy                           0.72      6995\n",
      "   macro avg       0.71      0.69      0.70      6995\n",
      "weighted avg       0.71      0.72      0.71      6995\n",
      "\n"
     ]
    }
   ],
   "source": [
    "y_pred = logreg.predict(X_test)\n",
    "\n",
    "print(classification_report(y_test, y_pred))"
   ]
  },
  {
   "cell_type": "markdown",
   "metadata": {},
   "source": [
    "As mentioned before, and accuracy of 71.75% (~72%) is actually a very good one, so I'm quite happy with the model results so far. This is only +5% below the predictions done by NBA analysts, although compared to the 71.57% from the original model with data from the last decade, the improvement is insignificant and what can happened is that for some teams, it might end up affecting the predictions as too many variables have changed from the teams 20 years ago."
   ]
  },
  {
   "cell_type": "markdown",
   "metadata": {},
   "source": [
    "#### ROC curve for the predictions"
   ]
  },
  {
   "cell_type": "code",
   "execution_count": 45,
   "metadata": {
    "ExecuteTime": {
     "end_time": "2020-08-22T20:33:51.564755Z",
     "start_time": "2020-08-22T20:33:51.288219Z"
    }
   },
   "outputs": [
    {
     "name": "stdout",
     "output_type": "stream",
     "text": [
      "Train AUC: 0.7737900454094518\n",
      "Test AUC: 0.7716637741105857\n"
     ]
    },
    {
     "data": {
      "image/png": "[encoded data removed]",
      "text/plain": [
       "<Figure size 720x576 with 1 Axes>"
      ]
     },
     "metadata": {
      "needs_background": "light"
     },
     "output_type": "display_data"
    }
   ],
   "source": [
    "y_train_score = logreg.decision_function(X_train)\n",
    "y_test_score = logreg.decision_function(X_test)\n",
    "\n",
    "train_fpr, train_tpr, train_thresholds = roc_curve(y_train, y_train_score)\n",
    "test_fpr, test_tpr, test_thresholds = roc_curve(y_test, y_test_score)\n",
    "\n",
    "print('Train AUC: {}'.format(auc(train_fpr, train_tpr)))\n",
    "print('Test AUC: {}'.format(auc(test_fpr, test_tpr)))\n",
    "\n",
    "plt.figure(figsize=(10, 8))\n",
    "lw = 2\n",
    "\n",
    "plt.plot(train_fpr, train_tpr, color='blue',\n",
    "         lw=lw, label='Train ROC curve')\n",
    "plt.plot(test_fpr, test_tpr, color='darkorange',\n",
    "         lw=lw, label='Test ROC curve')\n",
    "\n",
    "plt.plot([0, 1], [0, 1], color='navy', lw=lw, linestyle='--')\n",
    "plt.xlim([0.0, 1.0])\n",
    "plt.ylim([0.0, 1.05])\n",
    "plt.yticks([i/20.0 for i in range(21)])\n",
    "plt.xticks([i/20.0 for i in range(21)])\n",
    "plt.xlabel('False Positive Rate')\n",
    "plt.ylabel('True Positive Rate')\n",
    "plt.title('Receiver operating characteristic (ROC) Curve')\n",
    "plt.legend(loc='lower right')\n",
    "plt.show()"
   ]
  },
  {
   "cell_type": "markdown",
   "metadata": {},
   "source": [
    "It is seriously not bad, I must say that a I was not expecting this due to the number of games. Still personally I prefer to use 10 years of data of even less so that I am closer to today's team members and performances."
   ]
  },
  {
   "cell_type": "markdown",
   "metadata": {},
   "source": [
    "#### Model Test I"
   ]
  },
  {
   "cell_type": "markdown",
   "metadata": {},
   "source": [
    "Lets now run the same tests for the first team which was the San Antonio Spurs:"
   ]
  },
  {
   "cell_type": "code",
   "execution_count": 144,
   "metadata": {
    "ExecuteTime": {
     "end_time": "2020-08-23T11:10:37.947240Z",
     "start_time": "2020-08-23T11:10:37.846205Z"
    }
   },
   "outputs": [],
   "source": [
    "df_SAS_a = pd.read_csv('df_merge_a.csv', index_col=0)\n",
    "df_SAS_b = pd.read_csv('df_merge_b.csv', index_col=0)"
   ]
  },
  {
   "cell_type": "code",
   "execution_count": 145,
   "metadata": {
    "ExecuteTime": {
     "end_time": "2020-08-23T11:10:39.707934Z",
     "start_time": "2020-08-23T11:10:39.696757Z"
    }
   },
   "outputs": [
    {
     "name": "stdout",
     "output_type": "stream",
     "text": [
      "Shape of df_SAS_a: (415, 29)\n",
      "Shape of df_SAS_b: (534, 29)\n",
      "Shape of new DataFrame: (949, 29)\n"
     ]
    }
   ],
   "source": [
    "df_SAS_a = df_SAS_a[df_SAS_a['Team2'] == 'San Antonio Spurs']\n",
    "df_SAS_b = df_SAS_b[df_SAS_b['Team2'] == 'San Antonio Spurs']\n",
    "df_SAS_2 = df_SAS_a.append(df_SAS_b) # This will append both DataFrames\n",
    "print('Shape of df_SAS_a:', df_SAS_a.shape)\n",
    "print('Shape of df_SAS_b:', df_SAS_b.shape)\n",
    "print('Shape of new DataFrame:', df_SAS_2.shape)"
   ]
  },
  {
   "cell_type": "code",
   "execution_count": 146,
   "metadata": {
    "ExecuteTime": {
     "end_time": "2020-08-23T11:10:41.522158Z",
     "start_time": "2020-08-23T11:10:41.505203Z"
    }
   },
   "outputs": [
    {
     "data": {
      "text/html": [
       "<div>\n",
       "<style scoped>\n",
       "    .dataframe tbody tr th:only-of-type {\n",
       "        vertical-align: middle;\n",
       "    }\n",
       "\n",
       "    .dataframe tbody tr th {\n",
       "        vertical-align: top;\n",
       "    }\n",
       "\n",
       "    .dataframe thead th {\n",
       "        text-align: right;\n",
       "    }\n",
       "</style>\n",
       "<table border=\"1\" class=\"dataframe\">\n",
       "  <thead>\n",
       "    <tr style=\"text-align: right;\">\n",
       "      <th></th>\n",
       "      <th>Team1</th>\n",
       "      <th>Team1Score</th>\n",
       "      <th>Team2</th>\n",
       "      <th>Team2Score</th>\n",
       "      <th>year</th>\n",
       "      <th>month</th>\n",
       "      <th>Game_Result</th>\n",
       "      <th>Team1_year</th>\n",
       "      <th>Team1_month</th>\n",
       "      <th>Team1_FGA</th>\n",
       "      <th>...</th>\n",
       "      <th>Team2_month</th>\n",
       "      <th>Team2_FGA</th>\n",
       "      <th>Team2_FG_P</th>\n",
       "      <th>Team2_3PA</th>\n",
       "      <th>Team2_3P_P</th>\n",
       "      <th>Team2_OFFRTG</th>\n",
       "      <th>Team2_DEFRTG</th>\n",
       "      <th>Team2_REB_P</th>\n",
       "      <th>Team2_AST/TO</th>\n",
       "      <th>Team2_PACE</th>\n",
       "    </tr>\n",
       "  </thead>\n",
       "  <tbody>\n",
       "    <tr>\n",
       "      <td>9</td>\n",
       "      <td>New York Knicks</td>\n",
       "      <td>111</td>\n",
       "      <td>San Antonio Spurs</td>\n",
       "      <td>120</td>\n",
       "      <td>2019</td>\n",
       "      <td>10</td>\n",
       "      <td>1</td>\n",
       "      <td>2019.0</td>\n",
       "      <td>10.0</td>\n",
       "      <td>86.0</td>\n",
       "      <td>...</td>\n",
       "      <td>10.0</td>\n",
       "      <td>89.0</td>\n",
       "      <td>47.5</td>\n",
       "      <td>23.0</td>\n",
       "      <td>33.7</td>\n",
       "      <td>108.6</td>\n",
       "      <td>106.2</td>\n",
       "      <td>52.8</td>\n",
       "      <td>1.36</td>\n",
       "      <td>104.75</td>\n",
       "    </tr>\n",
       "    <tr>\n",
       "      <td>32</td>\n",
       "      <td>Washington Wizards</td>\n",
       "      <td>122</td>\n",
       "      <td>San Antonio Spurs</td>\n",
       "      <td>124</td>\n",
       "      <td>2019</td>\n",
       "      <td>10</td>\n",
       "      <td>1</td>\n",
       "      <td>2019.0</td>\n",
       "      <td>10.0</td>\n",
       "      <td>94.0</td>\n",
       "      <td>...</td>\n",
       "      <td>10.0</td>\n",
       "      <td>89.0</td>\n",
       "      <td>47.5</td>\n",
       "      <td>23.0</td>\n",
       "      <td>33.7</td>\n",
       "      <td>108.6</td>\n",
       "      <td>106.2</td>\n",
       "      <td>52.8</td>\n",
       "      <td>1.36</td>\n",
       "      <td>104.75</td>\n",
       "    </tr>\n",
       "  </tbody>\n",
       "</table>\n",
       "<p>2 rows × 29 columns</p>\n",
       "</div>"
      ],
      "text/plain": [
       "                 Team1  Team1Score              Team2  Team2Score  year  \\\n",
       "9      New York Knicks         111  San Antonio Spurs         120  2019   \n",
       "32  Washington Wizards         122  San Antonio Spurs         124  2019   \n",
       "\n",
       "    month  Game_Result  Team1_year  Team1_month  Team1_FGA  ...  Team2_month  \\\n",
       "9      10            1      2019.0         10.0       86.0  ...         10.0   \n",
       "32     10            1      2019.0         10.0       94.0  ...         10.0   \n",
       "\n",
       "    Team2_FGA  Team2_FG_P  Team2_3PA  Team2_3P_P  Team2_OFFRTG  Team2_DEFRTG  \\\n",
       "9        89.0        47.5       23.0        33.7         108.6         106.2   \n",
       "32       89.0        47.5       23.0        33.7         108.6         106.2   \n",
       "\n",
       "    Team2_REB_P  Team2_AST/TO  Team2_PACE  \n",
       "9          52.8          1.36      104.75  \n",
       "32         52.8          1.36      104.75  \n",
       "\n",
       "[2 rows x 29 columns]"
      ]
     },
     "execution_count": 146,
     "metadata": {},
     "output_type": "execute_result"
    }
   ],
   "source": [
    "df_SAS_2.head(2)"
   ]
  },
  {
   "cell_type": "code",
   "execution_count": 147,
   "metadata": {
    "ExecuteTime": {
     "end_time": "2020-08-23T11:10:48.137929Z",
     "start_time": "2020-08-23T11:10:48.117502Z"
    }
   },
   "outputs": [
    {
     "data": {
      "text/html": [
       "<div>\n",
       "<style scoped>\n",
       "    .dataframe tbody tr th:only-of-type {\n",
       "        vertical-align: middle;\n",
       "    }\n",
       "\n",
       "    .dataframe tbody tr th {\n",
       "        vertical-align: top;\n",
       "    }\n",
       "\n",
       "    .dataframe thead th {\n",
       "        text-align: right;\n",
       "    }\n",
       "</style>\n",
       "<table border=\"1\" class=\"dataframe\">\n",
       "  <thead>\n",
       "    <tr style=\"text-align: right;\">\n",
       "      <th></th>\n",
       "      <th>Game_Result</th>\n",
       "      <th>Team1_FGA</th>\n",
       "      <th>Team1_FG_P</th>\n",
       "      <th>Team1_3PA</th>\n",
       "      <th>Team1_3P_P</th>\n",
       "      <th>Team1_OFFRTG</th>\n",
       "      <th>Team1_DEFRTG</th>\n",
       "      <th>Team1_REB_P</th>\n",
       "      <th>Team1_AST/TO</th>\n",
       "      <th>Team1_PACE</th>\n",
       "      <th>Team2_FGA</th>\n",
       "      <th>Team2_FG_P</th>\n",
       "      <th>Team2_3PA</th>\n",
       "      <th>Team2_3P_P</th>\n",
       "      <th>Team2_OFFRTG</th>\n",
       "      <th>Team2_DEFRTG</th>\n",
       "      <th>Team2_REB_P</th>\n",
       "      <th>Team2_AST/TO</th>\n",
       "      <th>Team2_PACE</th>\n",
       "    </tr>\n",
       "  </thead>\n",
       "  <tbody>\n",
       "    <tr>\n",
       "      <td>9</td>\n",
       "      <td>1</td>\n",
       "      <td>86.0</td>\n",
       "      <td>42.3</td>\n",
       "      <td>28.4</td>\n",
       "      <td>35.2</td>\n",
       "      <td>99.8</td>\n",
       "      <td>107.9</td>\n",
       "      <td>51.6</td>\n",
       "      <td>1.02</td>\n",
       "      <td>100.80</td>\n",
       "      <td>89.0</td>\n",
       "      <td>47.5</td>\n",
       "      <td>23.0</td>\n",
       "      <td>33.7</td>\n",
       "      <td>108.6</td>\n",
       "      <td>106.2</td>\n",
       "      <td>52.8</td>\n",
       "      <td>1.36</td>\n",
       "      <td>104.75</td>\n",
       "    </tr>\n",
       "    <tr>\n",
       "      <td>32</td>\n",
       "      <td>1</td>\n",
       "      <td>94.0</td>\n",
       "      <td>47.9</td>\n",
       "      <td>38.0</td>\n",
       "      <td>38.2</td>\n",
       "      <td>113.6</td>\n",
       "      <td>113.6</td>\n",
       "      <td>49.3</td>\n",
       "      <td>1.69</td>\n",
       "      <td>104.88</td>\n",
       "      <td>89.0</td>\n",
       "      <td>47.5</td>\n",
       "      <td>23.0</td>\n",
       "      <td>33.7</td>\n",
       "      <td>108.6</td>\n",
       "      <td>106.2</td>\n",
       "      <td>52.8</td>\n",
       "      <td>1.36</td>\n",
       "      <td>104.75</td>\n",
       "    </tr>\n",
       "  </tbody>\n",
       "</table>\n",
       "</div>"
      ],
      "text/plain": [
       "    Game_Result  Team1_FGA  Team1_FG_P  Team1_3PA  Team1_3P_P  Team1_OFFRTG  \\\n",
       "9             1       86.0        42.3       28.4        35.2          99.8   \n",
       "32            1       94.0        47.9       38.0        38.2         113.6   \n",
       "\n",
       "    Team1_DEFRTG  Team1_REB_P  Team1_AST/TO  Team1_PACE  Team2_FGA  \\\n",
       "9          107.9         51.6          1.02      100.80       89.0   \n",
       "32         113.6         49.3          1.69      104.88       89.0   \n",
       "\n",
       "    Team2_FG_P  Team2_3PA  Team2_3P_P  Team2_OFFRTG  Team2_DEFRTG  \\\n",
       "9         47.5       23.0        33.7         108.6         106.2   \n",
       "32        47.5       23.0        33.7         108.6         106.2   \n",
       "\n",
       "    Team2_REB_P  Team2_AST/TO  Team2_PACE  \n",
       "9          52.8          1.36      104.75  \n",
       "32         52.8          1.36      104.75  "
      ]
     },
     "execution_count": 147,
     "metadata": {},
     "output_type": "execute_result"
    }
   ],
   "source": [
    "df_SAS_2 = df_SAS_2.drop(['Team1', 'Team1Score', 'Team2Score', 'Team2', 'year', 'month', 'Team1_month', 'Team2_month', 'Team1_year', 'Team2_year'], axis=1)\n",
    "df_SAS_2.head(2)"
   ]
  },
  {
   "cell_type": "code",
   "execution_count": 149,
   "metadata": {
    "ExecuteTime": {
     "end_time": "2020-08-23T11:10:54.956779Z",
     "start_time": "2020-08-23T11:10:54.950835Z"
    },
    "scrolled": true
   },
   "outputs": [
    {
     "data": {
      "text/plain": [
       "1    749\n",
       "0    200\n",
       "Name: Game_Result, dtype: int64"
      ]
     },
     "execution_count": 149,
     "metadata": {},
     "output_type": "execute_result"
    }
   ],
   "source": [
    "df_SAS_2.Game_Result.value_counts()"
   ]
  },
  {
   "cell_type": "markdown",
   "metadata": {},
   "source": [
    "Before I continue I will save this DF as a .csv file so that it can be used directly"
   ]
  },
  {
   "cell_type": "code",
   "execution_count": 162,
   "metadata": {
    "ExecuteTime": {
     "end_time": "2020-08-23T19:13:40.698022Z",
     "start_time": "2020-08-23T19:13:40.673582Z"
    }
   },
   "outputs": [],
   "source": [
    "df_SAS_2.to_csv('df_SAS_2.csv')"
   ]
  },
  {
   "cell_type": "markdown",
   "metadata": {},
   "source": [
    "The San Antonio Spurs have won 78.93% of their home games during the past 20 years"
   ]
  },
  {
   "cell_type": "code",
   "execution_count": 50,
   "metadata": {
    "ExecuteTime": {
     "end_time": "2020-08-22T20:35:00.535017Z",
     "start_time": "2020-08-22T20:35:00.524614Z"
    }
   },
   "outputs": [
    {
     "name": "stdout",
     "output_type": "stream",
     "text": [
      "1    558\n",
      "0    153\n",
      "Name: Game_Result, dtype: int64 \n",
      "\n",
      " 1    191\n",
      "0     47\n",
      "Name: Game_Result, dtype: int64\n"
     ]
    }
   ],
   "source": [
    "# Define X and y\n",
    "y = df_SAS_2['Game_Result']\n",
    "X = df_SAS_2.drop(columns=['Game_Result'], axis=1)\n",
    "\n",
    "# Splitting the data into training and test datasets\n",
    "X_train, X_test, y_train, y_test = train_test_split(X, y, test_size=0.25, random_state=42)\n",
    "\n",
    "# Print the value_counts() for y_train and y_test to verify th split\n",
    "print(y_train.value_counts(), '\\n\\n', y_test.value_counts())"
   ]
  },
  {
   "cell_type": "code",
   "execution_count": 51,
   "metadata": {
    "ExecuteTime": {
     "end_time": "2020-08-22T20:35:16.961100Z",
     "start_time": "2020-08-22T20:35:16.948384Z"
    }
   },
   "outputs": [
    {
     "data": {
      "text/plain": [
       "LogisticRegression(C=1e+16, fit_intercept=False, random_state=2,\n",
       "                   solver='liblinear')"
      ]
     },
     "execution_count": 51,
     "metadata": {},
     "output_type": "execute_result"
    }
   ],
   "source": [
    "# Fitting the model with the train data\n",
    "logreg = LogisticRegression(fit_intercept=False, C=1e16, random_state=2, solver='liblinear')\n",
    "logreg.fit(X_train, y_train)"
   ]
  },
  {
   "cell_type": "code",
   "execution_count": 52,
   "metadata": {
    "ExecuteTime": {
     "end_time": "2020-08-22T20:35:39.550702Z",
     "start_time": "2020-08-22T20:35:39.538549Z"
    }
   },
   "outputs": [
    {
     "name": "stdout",
     "output_type": "stream",
     "text": [
      "Model Score for the Test data:\n"
     ]
    },
    {
     "data": {
      "text/plain": [
       "0.7773109243697479"
      ]
     },
     "metadata": {},
     "output_type": "display_data"
    },
    {
     "name": "stdout",
     "output_type": "stream",
     "text": [
      "Model Score for the Train data:\n"
     ]
    },
    {
     "data": {
      "text/plain": [
       "0.8073136427566807"
      ]
     },
     "metadata": {},
     "output_type": "display_data"
    }
   ],
   "source": [
    "print(\"Model Score for the Test data:\")\n",
    "display(logreg.score(X_test, y_test)) # shows the accuracy of the model\n",
    "print(\"Model Score for the Train data:\")\n",
    "display(logreg.score(X_train, y_train))"
   ]
  },
  {
   "cell_type": "code",
   "execution_count": 53,
   "metadata": {
    "ExecuteTime": {
     "end_time": "2020-08-22T20:36:09.876595Z",
     "start_time": "2020-08-22T20:36:09.871227Z"
    }
   },
   "outputs": [],
   "source": [
    "y_pred = logreg.predict(X_test)"
   ]
  },
  {
   "cell_type": "code",
   "execution_count": 54,
   "metadata": {
    "ExecuteTime": {
     "end_time": "2020-08-22T20:36:24.521634Z",
     "start_time": "2020-08-22T20:36:24.517912Z"
    }
   },
   "outputs": [
    {
     "name": "stdout",
     "output_type": "stream",
     "text": [
      "0.7773109243697479\n"
     ]
    }
   ],
   "source": [
    "print(metrics.accuracy_score(y_test, y_pred)) # Percentage of correct predictions"
   ]
  },
  {
   "cell_type": "markdown",
   "metadata": {},
   "source": [
    "A quick view at the 30 first predictions and compare them to the real data:"
   ]
  },
  {
   "cell_type": "code",
   "execution_count": 55,
   "metadata": {
    "ExecuteTime": {
     "end_time": "2020-08-22T20:37:01.326172Z",
     "start_time": "2020-08-22T20:37:01.322275Z"
    }
   },
   "outputs": [
    {
     "name": "stdout",
     "output_type": "stream",
     "text": [
      "True:      [1 1 1 1 1 1 0 1 1 1 1 1 1 1 1 0 0 1 0 1 0 0 1 1 0 1 1 1 1 1]\n",
      "Predicted: [1 0 1 1 1 1 1 1 1 1 0 1 0 1 1 1 0 1 1 1 0 1 0 1 0 1 1 1 1 1]\n"
     ]
    }
   ],
   "source": [
    "print(\"True:     \", y_test.values[0:30]) # These are the real values\n",
    "print(\"Predicted:\", y_pred[0:30]) # These correspond to the predicted values"
   ]
  },
  {
   "cell_type": "markdown",
   "metadata": {},
   "source": [
    "Predictions are quite good as expected once again and the accuracy of 78% has slightly regressed compared to the previous model, but still it is not far from the real 81%."
   ]
  },
  {
   "cell_type": "code",
   "execution_count": 56,
   "metadata": {
    "ExecuteTime": {
     "end_time": "2020-08-22T20:38:37.703631Z",
     "start_time": "2020-08-22T20:38:37.692949Z"
    }
   },
   "outputs": [
    {
     "name": "stdout",
     "output_type": "stream",
     "text": [
      "              precision    recall  f1-score   support\n",
      "\n",
      "           0       0.39      0.23      0.29        47\n",
      "           1       0.83      0.91      0.87       191\n",
      "\n",
      "    accuracy                           0.78       238\n",
      "   macro avg       0.61      0.57      0.58       238\n",
      "weighted avg       0.74      0.78      0.75       238\n",
      "\n"
     ]
    }
   ],
   "source": [
    "y_pred = logreg.predict(X_test)\n",
    "\n",
    "print(classification_report(y_test, y_pred))"
   ]
  },
  {
   "cell_type": "markdown",
   "metadata": {},
   "source": [
    "The classification report rounds up the accuracy to 78%. Lets see now the second team chosen:"
   ]
  },
  {
   "cell_type": "markdown",
   "metadata": {},
   "source": [
    "#### Model Test II"
   ]
  },
  {
   "cell_type": "markdown",
   "metadata": {},
   "source": [
    "To start, I will have to do the same exercise of putting together dataframes and only selected the home team equal to the Miami Heat, then once ready is when I can run the model workflow"
   ]
  },
  {
   "cell_type": "code",
   "execution_count": 150,
   "metadata": {
    "ExecuteTime": {
     "end_time": "2020-08-23T11:11:42.329131Z",
     "start_time": "2020-08-23T11:11:42.228055Z"
    }
   },
   "outputs": [],
   "source": [
    "df_MIA_a = pd.read_csv('df_merge_a.csv', index_col=0)\n",
    "df_MIA_b = pd.read_csv('df_merge_b.csv', index_col=0)"
   ]
  },
  {
   "cell_type": "code",
   "execution_count": 151,
   "metadata": {
    "ExecuteTime": {
     "end_time": "2020-08-23T11:11:44.048699Z",
     "start_time": "2020-08-23T11:11:44.040327Z"
    }
   },
   "outputs": [
    {
     "name": "stdout",
     "output_type": "stream",
     "text": [
      "Shape of df_SAS_a: (409, 29)\n",
      "Shape of df_SAS_b: (535, 29)\n",
      "Shape of new DataFrame: (944, 29)\n"
     ]
    }
   ],
   "source": [
    "df_MIA_a = df_MIA_a[df_MIA_a['Team2'] == 'Miami Heat']\n",
    "df_MIA_b = df_MIA_b[df_MIA_b['Team2'] == 'Miami Heat']\n",
    "df_MIA_2 = df_MIA_a.append(df_MIA_b) # This will append both DataFrames\n",
    "print('Shape of df_SAS_a:', df_MIA_a.shape)\n",
    "print('Shape of df_SAS_b:', df_MIA_b.shape)\n",
    "print('Shape of new DataFrame:', df_MIA_2.shape)"
   ]
  },
  {
   "cell_type": "code",
   "execution_count": 152,
   "metadata": {
    "ExecuteTime": {
     "end_time": "2020-08-23T11:11:47.112993Z",
     "start_time": "2020-08-23T11:11:47.091587Z"
    }
   },
   "outputs": [
    {
     "data": {
      "text/html": [
       "<div>\n",
       "<style scoped>\n",
       "    .dataframe tbody tr th:only-of-type {\n",
       "        vertical-align: middle;\n",
       "    }\n",
       "\n",
       "    .dataframe tbody tr th {\n",
       "        vertical-align: top;\n",
       "    }\n",
       "\n",
       "    .dataframe thead th {\n",
       "        text-align: right;\n",
       "    }\n",
       "</style>\n",
       "<table border=\"1\" class=\"dataframe\">\n",
       "  <thead>\n",
       "    <tr style=\"text-align: right;\">\n",
       "      <th></th>\n",
       "      <th>Team1</th>\n",
       "      <th>Team1Score</th>\n",
       "      <th>Team2</th>\n",
       "      <th>Team2Score</th>\n",
       "      <th>year</th>\n",
       "      <th>month</th>\n",
       "      <th>Game_Result</th>\n",
       "      <th>Team1_year</th>\n",
       "      <th>Team1_month</th>\n",
       "      <th>Team1_FGA</th>\n",
       "      <th>...</th>\n",
       "      <th>Team2_month</th>\n",
       "      <th>Team2_FGA</th>\n",
       "      <th>Team2_FG_P</th>\n",
       "      <th>Team2_3PA</th>\n",
       "      <th>Team2_3P_P</th>\n",
       "      <th>Team2_OFFRTG</th>\n",
       "      <th>Team2_DEFRTG</th>\n",
       "      <th>Team2_REB_P</th>\n",
       "      <th>Team2_AST/TO</th>\n",
       "      <th>Team2_PACE</th>\n",
       "    </tr>\n",
       "  </thead>\n",
       "  <tbody>\n",
       "    <tr>\n",
       "      <td>6</td>\n",
       "      <td>Memphis Grizzlies</td>\n",
       "      <td>101</td>\n",
       "      <td>Miami Heat</td>\n",
       "      <td>120</td>\n",
       "      <td>2019</td>\n",
       "      <td>10</td>\n",
       "      <td>1</td>\n",
       "      <td>2019.0</td>\n",
       "      <td>10.0</td>\n",
       "      <td>95.3</td>\n",
       "      <td>...</td>\n",
       "      <td>10.0</td>\n",
       "      <td>85.6</td>\n",
       "      <td>47.0</td>\n",
       "      <td>33.2</td>\n",
       "      <td>39.2</td>\n",
       "      <td>106.6</td>\n",
       "      <td>99.3</td>\n",
       "      <td>52.5</td>\n",
       "      <td>1.19</td>\n",
       "      <td>106.09</td>\n",
       "    </tr>\n",
       "    <tr>\n",
       "      <td>51</td>\n",
       "      <td>Atlanta Hawks</td>\n",
       "      <td>97</td>\n",
       "      <td>Miami Heat</td>\n",
       "      <td>112</td>\n",
       "      <td>2019</td>\n",
       "      <td>10</td>\n",
       "      <td>1</td>\n",
       "      <td>2019.0</td>\n",
       "      <td>10.0</td>\n",
       "      <td>85.0</td>\n",
       "      <td>...</td>\n",
       "      <td>10.0</td>\n",
       "      <td>85.6</td>\n",
       "      <td>47.0</td>\n",
       "      <td>33.2</td>\n",
       "      <td>39.2</td>\n",
       "      <td>106.6</td>\n",
       "      <td>99.3</td>\n",
       "      <td>52.5</td>\n",
       "      <td>1.19</td>\n",
       "      <td>106.09</td>\n",
       "    </tr>\n",
       "  </tbody>\n",
       "</table>\n",
       "<p>2 rows × 29 columns</p>\n",
       "</div>"
      ],
      "text/plain": [
       "                Team1  Team1Score       Team2  Team2Score  year  month  \\\n",
       "6   Memphis Grizzlies         101  Miami Heat         120  2019     10   \n",
       "51      Atlanta Hawks          97  Miami Heat         112  2019     10   \n",
       "\n",
       "    Game_Result  Team1_year  Team1_month  Team1_FGA  ...  Team2_month  \\\n",
       "6             1      2019.0         10.0       95.3  ...         10.0   \n",
       "51            1      2019.0         10.0       85.0  ...         10.0   \n",
       "\n",
       "    Team2_FGA  Team2_FG_P  Team2_3PA  Team2_3P_P  Team2_OFFRTG  Team2_DEFRTG  \\\n",
       "6        85.6        47.0       33.2        39.2         106.6          99.3   \n",
       "51       85.6        47.0       33.2        39.2         106.6          99.3   \n",
       "\n",
       "    Team2_REB_P  Team2_AST/TO  Team2_PACE  \n",
       "6          52.5          1.19      106.09  \n",
       "51         52.5          1.19      106.09  \n",
       "\n",
       "[2 rows x 29 columns]"
      ]
     },
     "execution_count": 152,
     "metadata": {},
     "output_type": "execute_result"
    }
   ],
   "source": [
    "df_MIA_2.head(2)"
   ]
  },
  {
   "cell_type": "code",
   "execution_count": 164,
   "metadata": {
    "ExecuteTime": {
     "end_time": "2020-08-23T20:50:26.091052Z",
     "start_time": "2020-08-23T20:50:26.070486Z"
    }
   },
   "outputs": [
    {
     "data": {
      "text/html": [
       "<div>\n",
       "<style scoped>\n",
       "    .dataframe tbody tr th:only-of-type {\n",
       "        vertical-align: middle;\n",
       "    }\n",
       "\n",
       "    .dataframe tbody tr th {\n",
       "        vertical-align: top;\n",
       "    }\n",
       "\n",
       "    .dataframe thead th {\n",
       "        text-align: right;\n",
       "    }\n",
       "</style>\n",
       "<table border=\"1\" class=\"dataframe\">\n",
       "  <thead>\n",
       "    <tr style=\"text-align: right;\">\n",
       "      <th></th>\n",
       "      <th>Game_Result</th>\n",
       "      <th>Team1_FGA</th>\n",
       "      <th>Team1_FG_P</th>\n",
       "      <th>Team1_3PA</th>\n",
       "      <th>Team1_3P_P</th>\n",
       "      <th>Team1_OFFRTG</th>\n",
       "      <th>Team1_DEFRTG</th>\n",
       "      <th>Team1_REB_P</th>\n",
       "      <th>Team1_AST/TO</th>\n",
       "      <th>Team1_PACE</th>\n",
       "      <th>Team2_FGA</th>\n",
       "      <th>Team2_FG_P</th>\n",
       "      <th>Team2_3PA</th>\n",
       "      <th>Team2_3P_P</th>\n",
       "      <th>Team2_OFFRTG</th>\n",
       "      <th>Team2_DEFRTG</th>\n",
       "      <th>Team2_REB_P</th>\n",
       "      <th>Team2_AST/TO</th>\n",
       "      <th>Team2_PACE</th>\n",
       "    </tr>\n",
       "  </thead>\n",
       "  <tbody>\n",
       "    <tr>\n",
       "      <td>6</td>\n",
       "      <td>1</td>\n",
       "      <td>95.3</td>\n",
       "      <td>41.5</td>\n",
       "      <td>32.0</td>\n",
       "      <td>28.1</td>\n",
       "      <td>95.7</td>\n",
       "      <td>108.1</td>\n",
       "      <td>48.4</td>\n",
       "      <td>1.32</td>\n",
       "      <td>108.91</td>\n",
       "      <td>85.6</td>\n",
       "      <td>47.0</td>\n",
       "      <td>33.2</td>\n",
       "      <td>39.2</td>\n",
       "      <td>106.6</td>\n",
       "      <td>99.3</td>\n",
       "      <td>52.5</td>\n",
       "      <td>1.19</td>\n",
       "      <td>106.09</td>\n",
       "    </tr>\n",
       "    <tr>\n",
       "      <td>51</td>\n",
       "      <td>1</td>\n",
       "      <td>85.0</td>\n",
       "      <td>45.6</td>\n",
       "      <td>32.2</td>\n",
       "      <td>29.2</td>\n",
       "      <td>102.0</td>\n",
       "      <td>103.4</td>\n",
       "      <td>49.6</td>\n",
       "      <td>1.36</td>\n",
       "      <td>101.20</td>\n",
       "      <td>85.6</td>\n",
       "      <td>47.0</td>\n",
       "      <td>33.2</td>\n",
       "      <td>39.2</td>\n",
       "      <td>106.6</td>\n",
       "      <td>99.3</td>\n",
       "      <td>52.5</td>\n",
       "      <td>1.19</td>\n",
       "      <td>106.09</td>\n",
       "    </tr>\n",
       "  </tbody>\n",
       "</table>\n",
       "</div>"
      ],
      "text/plain": [
       "    Game_Result  Team1_FGA  Team1_FG_P  Team1_3PA  Team1_3P_P  Team1_OFFRTG  \\\n",
       "6             1       95.3        41.5       32.0        28.1          95.7   \n",
       "51            1       85.0        45.6       32.2        29.2         102.0   \n",
       "\n",
       "    Team1_DEFRTG  Team1_REB_P  Team1_AST/TO  Team1_PACE  Team2_FGA  \\\n",
       "6          108.1         48.4          1.32      108.91       85.6   \n",
       "51         103.4         49.6          1.36      101.20       85.6   \n",
       "\n",
       "    Team2_FG_P  Team2_3PA  Team2_3P_P  Team2_OFFRTG  Team2_DEFRTG  \\\n",
       "6         47.0       33.2        39.2         106.6          99.3   \n",
       "51        47.0       33.2        39.2         106.6          99.3   \n",
       "\n",
       "    Team2_REB_P  Team2_AST/TO  Team2_PACE  \n",
       "6          52.5          1.19      106.09  \n",
       "51         52.5          1.19      106.09  "
      ]
     },
     "execution_count": 164,
     "metadata": {},
     "output_type": "execute_result"
    }
   ],
   "source": [
    "df_MIA_2 = df_MIA_2.drop(['Team1', 'Team1Score', 'Team2Score', 'Team2', 'year', 'month', 'Team1_month', 'Team2_month', 'Team1_year', 'Team2_year'], axis=1)\n",
    "df_MIA_2.head(2)"
   ]
  },
  {
   "cell_type": "code",
   "execution_count": 165,
   "metadata": {
    "ExecuteTime": {
     "end_time": "2020-08-23T20:50:28.533228Z",
     "start_time": "2020-08-23T20:50:28.527809Z"
    }
   },
   "outputs": [
    {
     "data": {
      "text/plain": [
       "1    575\n",
       "0    369\n",
       "Name: Game_Result, dtype: int64"
      ]
     },
     "execution_count": 165,
     "metadata": {},
     "output_type": "execute_result"
    }
   ],
   "source": [
    "df_MIA_2.Game_Result.value_counts()"
   ]
  },
  {
   "cell_type": "markdown",
   "metadata": {},
   "source": [
    "Saving dataframe as .csv file:"
   ]
  },
  {
   "cell_type": "code",
   "execution_count": 166,
   "metadata": {
    "ExecuteTime": {
     "end_time": "2020-08-23T20:50:30.164667Z",
     "start_time": "2020-08-23T20:50:30.147734Z"
    }
   },
   "outputs": [],
   "source": [
    "df_MIA_2.to_csv('df_MIA_2.csv')"
   ]
  },
  {
   "cell_type": "markdown",
   "metadata": {},
   "source": [
    "The Miami Heat have won 60.91% of their home games during the past 20 years"
   ]
  },
  {
   "cell_type": "markdown",
   "metadata": {},
   "source": [
    "This value counts of all the games played at home for the Miami Heat indicates that they won 60.20% of their games and lost almost 40% of them. \n",
    "\n",
    "For basketball analytics 20 years might be way too much, in fact 10 years might be too much as well. Maybe the best number of years would be somewhere between 3 to 5 maximum. The reason for this is mainly the changes that teams are going through every year. Team owners are less patient and some prefer to build a contender based on trades and signing expensive free agents instead of going from the draft and taking the time to integrate the team. \n",
    "\n",
    "With that said, lets keep this percentage in mind and see what the model will predict when we add this additional data"
   ]
  },
  {
   "cell_type": "code",
   "execution_count": 62,
   "metadata": {
    "ExecuteTime": {
     "end_time": "2020-08-22T21:22:34.065778Z",
     "start_time": "2020-08-22T21:22:34.054151Z"
    }
   },
   "outputs": [
    {
     "name": "stdout",
     "output_type": "stream",
     "text": [
      "1    426\n",
      "0    282\n",
      "Name: Game_Result, dtype: int64 \n",
      "\n",
      " 1    149\n",
      "0     87\n",
      "Name: Game_Result, dtype: int64\n"
     ]
    }
   ],
   "source": [
    "# Define X and y\n",
    "y = df_MIA_2['Game_Result']\n",
    "X = df_MIA_2.drop(columns=['Game_Result'], axis=1)\n",
    "\n",
    "# Splitting the data into training and test datasets\n",
    "X_train, X_test, y_train, y_test = train_test_split(X, y, test_size=0.25, random_state=42)\n",
    "\n",
    "# Print the value_counts() for y_train and y_test to verify th split\n",
    "print(y_train.value_counts(), '\\n\\n', y_test.value_counts())"
   ]
  },
  {
   "cell_type": "code",
   "execution_count": 63,
   "metadata": {
    "ExecuteTime": {
     "end_time": "2020-08-22T21:22:36.539640Z",
     "start_time": "2020-08-22T21:22:36.528528Z"
    }
   },
   "outputs": [
    {
     "data": {
      "text/plain": [
       "LogisticRegression(C=1e+16, fit_intercept=False, random_state=2,\n",
       "                   solver='liblinear')"
      ]
     },
     "execution_count": 63,
     "metadata": {},
     "output_type": "execute_result"
    }
   ],
   "source": [
    "# Fitting the model with the train data\n",
    "logreg = LogisticRegression(fit_intercept=False, C=1e16, random_state=2, solver='liblinear')\n",
    "logreg.fit(X_train, y_train)"
   ]
  },
  {
   "cell_type": "code",
   "execution_count": 64,
   "metadata": {
    "ExecuteTime": {
     "end_time": "2020-08-22T21:22:38.834647Z",
     "start_time": "2020-08-22T21:22:38.822923Z"
    }
   },
   "outputs": [
    {
     "name": "stdout",
     "output_type": "stream",
     "text": [
      "Model Score for the Test data:\n"
     ]
    },
    {
     "data": {
      "text/plain": [
       "0.75"
      ]
     },
     "metadata": {},
     "output_type": "display_data"
    },
    {
     "name": "stdout",
     "output_type": "stream",
     "text": [
      "Model Score for the Train data:\n"
     ]
    },
    {
     "data": {
      "text/plain": [
       "0.7584745762711864"
      ]
     },
     "metadata": {},
     "output_type": "display_data"
    }
   ],
   "source": [
    "print(\"Model Score for the Test data:\")\n",
    "display(logreg.score(X_test, y_test)) # shows the accuracy of the model\n",
    "print(\"Model Score for the Train data:\")\n",
    "display(logreg.score(X_train, y_train))"
   ]
  },
  {
   "cell_type": "code",
   "execution_count": 65,
   "metadata": {
    "ExecuteTime": {
     "end_time": "2020-08-22T21:22:42.037840Z",
     "start_time": "2020-08-22T21:22:42.033231Z"
    }
   },
   "outputs": [],
   "source": [
    "y_pred = logreg.predict(X_test)"
   ]
  },
  {
   "cell_type": "code",
   "execution_count": 66,
   "metadata": {
    "ExecuteTime": {
     "end_time": "2020-08-22T21:22:44.024796Z",
     "start_time": "2020-08-22T21:22:44.020685Z"
    }
   },
   "outputs": [
    {
     "name": "stdout",
     "output_type": "stream",
     "text": [
      "0.75\n"
     ]
    }
   ],
   "source": [
    "print(metrics.accuracy_score(y_test, y_pred)) # Percentage of correct predictions"
   ]
  },
  {
   "cell_type": "code",
   "execution_count": 67,
   "metadata": {
    "ExecuteTime": {
     "end_time": "2020-08-22T21:22:49.204728Z",
     "start_time": "2020-08-22T21:22:49.201285Z"
    }
   },
   "outputs": [
    {
     "name": "stdout",
     "output_type": "stream",
     "text": [
      "True:      [1 1 1 0 1 1 1 1 1 1 1 1 0 1 1 1 0 1 0 1 1 0 1 0 1 0 0 0 0 0]\n",
      "Predicted: [1 1 1 1 1 1 1 1 1 1 1 1 1 1 1 1 1 1 1 1 0 0 1 1 1 0 1 1 0 1]\n"
     ]
    }
   ],
   "source": [
    "print(\"True:     \", y_test.values[0:30]) # These are the real values\n",
    "print(\"Predicted:\", y_pred[0:30]) # These correspond to the predicted values"
   ]
  },
  {
   "cell_type": "markdown",
   "metadata": {},
   "source": [
    "An accuracy of 75% is quite high, maybe too high to be honest. This is clearly the effects of adding 10 additional years of data and ending up with 20 year to predict the results on just one game. "
   ]
  },
  {
   "cell_type": "code",
   "execution_count": 68,
   "metadata": {
    "ExecuteTime": {
     "end_time": "2020-08-22T21:23:01.072873Z",
     "start_time": "2020-08-22T21:23:01.063572Z"
    }
   },
   "outputs": [
    {
     "name": "stdout",
     "output_type": "stream",
     "text": [
      "              precision    recall  f1-score   support\n",
      "\n",
      "           0       0.69      0.59      0.63        87\n",
      "           1       0.78      0.85      0.81       149\n",
      "\n",
      "    accuracy                           0.75       236\n",
      "   macro avg       0.73      0.72      0.72       236\n",
      "weighted avg       0.75      0.75      0.75       236\n",
      "\n"
     ]
    }
   ],
   "source": [
    "y_pred = logreg.predict(X_test)\n",
    "\n",
    "print(classification_report(y_test, y_pred))"
   ]
  },
  {
   "cell_type": "markdown",
   "metadata": {},
   "source": [
    "Just as a reminder, the Miami Heat has won 60.20% of their Home Games in the last 20 years. So clearly saying that in 75% of their games at home they will win, is an over estimation that can cause significant money loses. Therefore this is one indication that 20 years might be too many and wee might need to consider lowering the years of the input data. "
   ]
  },
  {
   "cell_type": "markdown",
   "metadata": {},
   "source": [
    "## Summary/Observations"
   ]
  },
  {
   "cell_type": "markdown",
   "metadata": {},
   "source": [
    "* The Logistic Regression models accuracy seems to be quite good for predicting the winner for home teams when we look at data from 1 and 10 years.\n",
    "\n",
    "* If the model is constrained to 10 years, the prediction for teams individually are quite accurate with a small percentage below thee NBA Analysts predictions. \n",
    "\n",
    "* 20 years of basketball stats for predicting todays game home winner, might introduce a lot of noise as the Logistic Regression has shown. \n",
    "\n",
    "\n",
    "\n"
   ]
  },
  {
   "cell_type": "code",
   "execution_count": null,
   "metadata": {},
   "outputs": [],
   "source": []
  }
 ],
 "metadata": {
  "kernelspec": {
   "display_name": "learn-env",
   "language": "python",
   "name": "learn-env"
  },
  "language_info": {
   "codemirror_mode": {
    "name": "ipython",
    "version": 3
   },
   "file_extension": ".py",
   "mimetype": "text/x-python",
   "name": "python",
   "nbconvert_exporter": "python",
   "pygments_lexer": "ipython3",
   "version": "3.6.9"
  },
  "toc": {
   "base_numbering": 1,
   "nav_menu": {},
   "number_sections": true,
   "sideBar": true,
   "skip_h1_title": false,
   "title_cell": "Table of Contents",
   "title_sidebar": "Contents",
   "toc_cell": false,
   "toc_position": {
    "height": "calc(100% - 180px)",
    "left": "10px",
    "top": "150px",
    "width": "311.1875px"
   },
   "toc_section_display": true,
   "toc_window_display": true
  },
  "varInspector": {
   "cols": {
    "lenName": 16,
    "lenType": 16,
    "lenVar": 40
   },
   "kernels_config": {
    "python": {
     "delete_cmd_postfix": "",
     "delete_cmd_prefix": "del ",
     "library": "var_list.py",
     "varRefreshCmd": "print(var_dic_list())"
    },
    "r": {
     "delete_cmd_postfix": ") ",
     "delete_cmd_prefix": "rm(",
     "library": "var_list.r",
     "varRefreshCmd": "cat(var_dic_list()) "
    }
   },
   "types_to_exclude": [
    "module",
    "function",
    "builtin_function_or_method",
    "instance",
    "_Feature"
   ],
   "window_display": false
  }
 },
 "nbformat": 4,
 "nbformat_minor": 4
}
