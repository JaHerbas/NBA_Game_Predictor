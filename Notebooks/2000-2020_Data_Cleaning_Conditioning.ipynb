{
 "cells": [
  {
   "cell_type": "markdown",
   "metadata": {},
   "source": [
    "# DATA CLEANING AND CONDITIONING"
   ]
  },
  {
   "cell_type": "markdown",
   "metadata": {},
   "source": [
    "## Introduction"
   ]
  },
  {
   "cell_type": "markdown",
   "metadata": {},
   "source": [
    "This notebook is dedicated only to the conditioning and cleaning of 6 large spread sheets with basketball stats gathered together from different sources. The files are the following:\n",
    "\n",
    "* NBA_2000-2010_Game_Results.xlsx\n",
    "\n",
    "* NBA_2010-2020_Game_Results.xlsx\n",
    "\n",
    "* 2000-2010_NBA_GEN_STATS.xlsx\n",
    "\n",
    "* 2010-2020_NBA_GEN_STATS.xlsx\n",
    "\n",
    "* NBA_2000-2010_AdvStats.xlsx\n",
    "\n",
    "* NBA_2010_2020_AdvStats.xls\n",
    "\n",
    "The set of files represent three different databases, each broken down into two files with the intention of separating the last 2 decades and have the possibility to analyze the game evolution during the past 20 years. \n",
    "\n",
    "The 'Game_Results' files only contain match-up basic information with game results. From this file I will be generating a column called 'Game_Result' that will have binary values: \"1\" for Home Team (Team2) winning the game, and \"0\" for Home Team losing the game. This will be the target ('y') for the models that will be tested. The features will be explained later on this document once the final data-frames are ready. \n",
    "\n",
    "The second set of files contains 'Gerenal Statistics'. This are straight forward stats such as FG_P (Field Goal Percentage), 3P_P (three point shooting percentages), among others directly calculated from the game. \n",
    "\n",
    "The third data sset corresponds to 'Advanced Statistics'. This are slightly more complicated stats with some calculated from different combinations of the 'General Statistics'.\n",
    "\n",
    "The objective is to end up with two dataframes with all the information combined and classified to start the modeling. At the end I will be looking only at 9 different combined statistical values for my \"Home Team Winning Prediction\". These 9 categories will be:\n",
    "\n",
    "* Offensive Rating: Estimated number of points a team scores per 100 possessions (the higher the better)\n",
    "\n",
    "* Defensive Rating: Estimated number of points a team gives up per 100 possessions (the lower the better)\n",
    "\n",
    "* Field Goal Percentage\n",
    "\n",
    "* Field Goal Attempts\n",
    "\n",
    "* 3-Point Percentages\n",
    "\n",
    "* 3-Point Attempts\n",
    "\n",
    "* Assist/Turnover RAtio\n",
    "\n",
    "* Rebound Differential\n",
    "\n",
    "* Pace: Estimated number of possession per 48 minutes (game length)"
   ]
  },
  {
   "cell_type": "markdown",
   "metadata": {},
   "source": [
    "# Data Loading and QC"
   ]
  },
  {
   "cell_type": "markdown",
   "metadata": {},
   "source": [
    "To start I will proceed to load the 6 files and look briefly at the first 2 rows to check that everything is in place to then proceed to start creating the binary columns, changing the Date format, and engineering some columns to be able to merge these into a final dataframe per decade"
   ]
  },
  {
   "cell_type": "code",
   "execution_count": 1,
   "metadata": {
    "ExecuteTime": {
     "end_time": "2020-08-21T23:57:45.032912Z",
     "start_time": "2020-08-21T23:57:43.795380Z"
    }
   },
   "outputs": [],
   "source": [
    "import pandas as pd\n",
    "import numpy as np\n",
    "import matplotlib.pyplot as plt\n",
    "%matplotlib inline\n",
    "import seaborn as sns\n",
    "\n",
    "import warnings\n",
    "warnings.filterwarnings('ignore')\n",
    "\n",
    "pd.set_option('display.max_columns', None)"
   ]
  },
  {
   "cell_type": "code",
   "execution_count": 2,
   "metadata": {
    "ExecuteTime": {
     "end_time": "2020-08-21T23:57:45.898367Z",
     "start_time": "2020-08-21T23:57:45.247564Z"
    }
   },
   "outputs": [
    {
     "data": {
      "text/html": [
       "<div>\n",
       "<style scoped>\n",
       "    .dataframe tbody tr th:only-of-type {\n",
       "        vertical-align: middle;\n",
       "    }\n",
       "\n",
       "    .dataframe tbody tr th {\n",
       "        vertical-align: top;\n",
       "    }\n",
       "\n",
       "    .dataframe thead th {\n",
       "        text-align: right;\n",
       "    }\n",
       "</style>\n",
       "<table border=\"1\" class=\"dataframe\">\n",
       "  <thead>\n",
       "    <tr style=\"text-align: right;\">\n",
       "      <th></th>\n",
       "      <th>Date</th>\n",
       "      <th>Team1</th>\n",
       "      <th>Team1Score</th>\n",
       "      <th>Team2</th>\n",
       "      <th>Team2Score</th>\n",
       "    </tr>\n",
       "  </thead>\n",
       "  <tbody>\n",
       "    <tr>\n",
       "      <td>0</td>\n",
       "      <td>Tue, Oct 22, 2019</td>\n",
       "      <td>New Orleans Pelicans</td>\n",
       "      <td>122</td>\n",
       "      <td>Toronto Raptors</td>\n",
       "      <td>130</td>\n",
       "    </tr>\n",
       "    <tr>\n",
       "      <td>1</td>\n",
       "      <td>Tue, Oct 22, 2019</td>\n",
       "      <td>Los Angeles Lakers</td>\n",
       "      <td>102</td>\n",
       "      <td>Los Angeles Clippers</td>\n",
       "      <td>112</td>\n",
       "    </tr>\n",
       "  </tbody>\n",
       "</table>\n",
       "</div>"
      ],
      "text/plain": [
       "                Date                 Team1  Team1Score                 Team2  \\\n",
       "0  Tue, Oct 22, 2019  New Orleans Pelicans         122       Toronto Raptors   \n",
       "1  Tue, Oct 22, 2019    Los Angeles Lakers         102  Los Angeles Clippers   \n",
       "\n",
       "   Team2Score  \n",
       "0         130  \n",
       "1         112  "
      ]
     },
     "metadata": {},
     "output_type": "display_data"
    },
    {
     "data": {
      "text/plain": [
       "'The shape of df1a is:'"
      ]
     },
     "metadata": {},
     "output_type": "display_data"
    },
    {
     "data": {
      "text/plain": [
       "(12232, 5)"
      ]
     },
     "metadata": {},
     "output_type": "display_data"
    }
   ],
   "source": [
    "df1a = pd.read_excel('NBA_2010-2020_Game_Results.xlsx')\n",
    "display(df1a.head(2))\n",
    "display('The shape of df1a is:', df1a.shape)"
   ]
  },
  {
   "cell_type": "code",
   "execution_count": 3,
   "metadata": {
    "ExecuteTime": {
     "end_time": "2020-08-21T23:57:47.005306Z",
     "start_time": "2020-08-21T23:57:46.373377Z"
    }
   },
   "outputs": [
    {
     "data": {
      "text/html": [
       "<div>\n",
       "<style scoped>\n",
       "    .dataframe tbody tr th:only-of-type {\n",
       "        vertical-align: middle;\n",
       "    }\n",
       "\n",
       "    .dataframe tbody tr th {\n",
       "        vertical-align: top;\n",
       "    }\n",
       "\n",
       "    .dataframe thead th {\n",
       "        text-align: right;\n",
       "    }\n",
       "</style>\n",
       "<table border=\"1\" class=\"dataframe\">\n",
       "  <thead>\n",
       "    <tr style=\"text-align: right;\">\n",
       "      <th></th>\n",
       "      <th>Date</th>\n",
       "      <th>Team1</th>\n",
       "      <th>Team1Score</th>\n",
       "      <th>Team2</th>\n",
       "      <th>Team2Score</th>\n",
       "    </tr>\n",
       "  </thead>\n",
       "  <tbody>\n",
       "    <tr>\n",
       "      <td>0</td>\n",
       "      <td>Tue, Oct 31, 2000</td>\n",
       "      <td>Charlotte Hornets</td>\n",
       "      <td>106</td>\n",
       "      <td>Atlanta Hawks</td>\n",
       "      <td>82</td>\n",
       "    </tr>\n",
       "    <tr>\n",
       "      <td>1</td>\n",
       "      <td>Tue, Oct 31, 2000</td>\n",
       "      <td>Cleveland Cavaliers</td>\n",
       "      <td>86</td>\n",
       "      <td>New Jersey Nets</td>\n",
       "      <td>82</td>\n",
       "    </tr>\n",
       "  </tbody>\n",
       "</table>\n",
       "</div>"
      ],
      "text/plain": [
       "                Date                Team1  Team1Score            Team2  \\\n",
       "0  Tue, Oct 31, 2000    Charlotte Hornets         106    Atlanta Hawks   \n",
       "1  Tue, Oct 31, 2000  Cleveland Cavaliers          86  New Jersey Nets   \n",
       "\n",
       "   Team2Score  \n",
       "0          82  \n",
       "1          82  "
      ]
     },
     "metadata": {},
     "output_type": "display_data"
    },
    {
     "data": {
      "text/plain": [
       "'The shape of df1b is:'"
      ]
     },
     "metadata": {},
     "output_type": "display_data"
    },
    {
     "data": {
      "text/plain": [
       "(12142, 5)"
      ]
     },
     "metadata": {},
     "output_type": "display_data"
    }
   ],
   "source": [
    "df1b = pd.read_excel('NBA_2000-2010_Game_Results.xlsx')\n",
    "display(df1b.head(2))\n",
    "display('The shape of df1b is:', df1b.shape)"
   ]
  },
  {
   "cell_type": "code",
   "execution_count": 4,
   "metadata": {
    "ExecuteTime": {
     "end_time": "2020-08-21T23:57:48.170147Z",
     "start_time": "2020-08-21T23:57:47.733245Z"
    },
    "scrolled": true
   },
   "outputs": [
    {
     "data": {
      "text/html": [
       "<div>\n",
       "<style scoped>\n",
       "    .dataframe tbody tr th:only-of-type {\n",
       "        vertical-align: middle;\n",
       "    }\n",
       "\n",
       "    .dataframe tbody tr th {\n",
       "        vertical-align: top;\n",
       "    }\n",
       "\n",
       "    .dataframe thead th {\n",
       "        text-align: right;\n",
       "    }\n",
       "</style>\n",
       "<table border=\"1\" class=\"dataframe\">\n",
       "  <thead>\n",
       "    <tr style=\"text-align: right;\">\n",
       "      <th></th>\n",
       "      <th>TEAM</th>\n",
       "      <th>year</th>\n",
       "      <th>month</th>\n",
       "      <th>PTS</th>\n",
       "      <th>FGM</th>\n",
       "      <th>FGA</th>\n",
       "      <th>FG_P</th>\n",
       "      <th>3PM</th>\n",
       "      <th>3PA</th>\n",
       "      <th>3P_P</th>\n",
       "    </tr>\n",
       "  </thead>\n",
       "  <tbody>\n",
       "    <tr>\n",
       "      <td>0</td>\n",
       "      <td>Atlanta Hawks</td>\n",
       "      <td>2010</td>\n",
       "      <td>10</td>\n",
       "      <td>107.3</td>\n",
       "      <td>37.3</td>\n",
       "      <td>77.0</td>\n",
       "      <td>48.5</td>\n",
       "      <td>6.3</td>\n",
       "      <td>17.3</td>\n",
       "      <td>36.5</td>\n",
       "    </tr>\n",
       "    <tr>\n",
       "      <td>1</td>\n",
       "      <td>Los Angeles Lakers</td>\n",
       "      <td>2010</td>\n",
       "      <td>10</td>\n",
       "      <td>111.0</td>\n",
       "      <td>41.7</td>\n",
       "      <td>93.0</td>\n",
       "      <td>44.8</td>\n",
       "      <td>9.0</td>\n",
       "      <td>22.3</td>\n",
       "      <td>40.3</td>\n",
       "    </tr>\n",
       "  </tbody>\n",
       "</table>\n",
       "</div>"
      ],
      "text/plain": [
       "                 TEAM  year  month    PTS   FGM   FGA  FG_P  3PM   3PA  3P_P\n",
       "0       Atlanta Hawks  2010     10  107.3  37.3  77.0  48.5  6.3  17.3  36.5\n",
       "1  Los Angeles Lakers  2010     10  111.0  41.7  93.0  44.8  9.0  22.3  40.3"
      ]
     },
     "metadata": {},
     "output_type": "display_data"
    },
    {
     "data": {
      "text/plain": [
       "'The shape of df2a is:'"
      ]
     },
     "metadata": {},
     "output_type": "display_data"
    },
    {
     "data": {
      "text/plain": [
       "(2048, 10)"
      ]
     },
     "metadata": {},
     "output_type": "display_data"
    }
   ],
   "source": [
    "df2a = pd.read_excel('2010-2020_NBA_GEN_STATS.xlsx')\n",
    "display(df2a.head(2))\n",
    "display('The shape of df2a is:', df2a.shape)"
   ]
  },
  {
   "cell_type": "code",
   "execution_count": 5,
   "metadata": {
    "ExecuteTime": {
     "end_time": "2020-08-21T23:57:49.607950Z",
     "start_time": "2020-08-21T23:57:49.210130Z"
    }
   },
   "outputs": [
    {
     "data": {
      "text/html": [
       "<div>\n",
       "<style scoped>\n",
       "    .dataframe tbody tr th:only-of-type {\n",
       "        vertical-align: middle;\n",
       "    }\n",
       "\n",
       "    .dataframe tbody tr th {\n",
       "        vertical-align: top;\n",
       "    }\n",
       "\n",
       "    .dataframe thead th {\n",
       "        text-align: right;\n",
       "    }\n",
       "</style>\n",
       "<table border=\"1\" class=\"dataframe\">\n",
       "  <thead>\n",
       "    <tr style=\"text-align: right;\">\n",
       "      <th></th>\n",
       "      <th>TEAM</th>\n",
       "      <th>year</th>\n",
       "      <th>month</th>\n",
       "      <th>PTS</th>\n",
       "      <th>FGM</th>\n",
       "      <th>FGA</th>\n",
       "      <th>FG_P</th>\n",
       "      <th>3PM</th>\n",
       "      <th>3PA</th>\n",
       "      <th>3P_P</th>\n",
       "    </tr>\n",
       "  </thead>\n",
       "  <tbody>\n",
       "    <tr>\n",
       "      <td>0</td>\n",
       "      <td>Charlotte Hornets</td>\n",
       "      <td>2000</td>\n",
       "      <td>10</td>\n",
       "      <td>106.0</td>\n",
       "      <td>35.0</td>\n",
       "      <td>62.0</td>\n",
       "      <td>56.5</td>\n",
       "      <td>5.0</td>\n",
       "      <td>9.0</td>\n",
       "      <td>55.6</td>\n",
       "    </tr>\n",
       "    <tr>\n",
       "      <td>1</td>\n",
       "      <td>Cleveland Cavaliers</td>\n",
       "      <td>2000</td>\n",
       "      <td>10</td>\n",
       "      <td>86.0</td>\n",
       "      <td>32.0</td>\n",
       "      <td>78.0</td>\n",
       "      <td>41.0</td>\n",
       "      <td>2.0</td>\n",
       "      <td>7.0</td>\n",
       "      <td>28.6</td>\n",
       "    </tr>\n",
       "  </tbody>\n",
       "</table>\n",
       "</div>"
      ],
      "text/plain": [
       "                  TEAM  year  month    PTS   FGM   FGA  FG_P  3PM  3PA  3P_P\n",
       "0    Charlotte Hornets  2000     10  106.0  35.0  62.0  56.5  5.0  9.0  55.6\n",
       "1  Cleveland Cavaliers  2000     10   86.0  32.0  78.0  41.0  2.0  7.0  28.6"
      ]
     },
     "metadata": {},
     "output_type": "display_data"
    },
    {
     "data": {
      "text/plain": [
       "'The shape of df2b is:'"
      ]
     },
     "metadata": {},
     "output_type": "display_data"
    },
    {
     "data": {
      "text/plain": [
       "(1973, 10)"
      ]
     },
     "metadata": {},
     "output_type": "display_data"
    }
   ],
   "source": [
    "df2b = pd.read_excel('2000-2010_NBA_GEN_STATS.xlsx')\n",
    "display(df2b.head(2))\n",
    "display('The shape of df2b is:', df2b.shape)"
   ]
  },
  {
   "cell_type": "code",
   "execution_count": 6,
   "metadata": {
    "ExecuteTime": {
     "end_time": "2020-08-21T23:57:51.377046Z",
     "start_time": "2020-08-21T23:57:50.969188Z"
    }
   },
   "outputs": [
    {
     "data": {
      "text/html": [
       "<div>\n",
       "<style scoped>\n",
       "    .dataframe tbody tr th:only-of-type {\n",
       "        vertical-align: middle;\n",
       "    }\n",
       "\n",
       "    .dataframe tbody tr th {\n",
       "        vertical-align: top;\n",
       "    }\n",
       "\n",
       "    .dataframe thead th {\n",
       "        text-align: right;\n",
       "    }\n",
       "</style>\n",
       "<table border=\"1\" class=\"dataframe\">\n",
       "  <thead>\n",
       "    <tr style=\"text-align: right;\">\n",
       "      <th></th>\n",
       "      <th>TEAM</th>\n",
       "      <th>year</th>\n",
       "      <th>month</th>\n",
       "      <th>GP</th>\n",
       "      <th>W</th>\n",
       "      <th>L</th>\n",
       "      <th>MIN</th>\n",
       "      <th>OFFRTG</th>\n",
       "      <th>DEFRTG</th>\n",
       "      <th>NETRTG</th>\n",
       "      <th>AST_P</th>\n",
       "      <th>AST/TO</th>\n",
       "      <th>ASTRATIO</th>\n",
       "      <th>OREB_P</th>\n",
       "      <th>DREB_P</th>\n",
       "      <th>REB_P</th>\n",
       "      <th>TOV_P</th>\n",
       "      <th>EFG_P</th>\n",
       "      <th>TS_P</th>\n",
       "      <th>PACE</th>\n",
       "      <th>PIE</th>\n",
       "    </tr>\n",
       "  </thead>\n",
       "  <tbody>\n",
       "    <tr>\n",
       "      <td>0</td>\n",
       "      <td>Miami Heat</td>\n",
       "      <td>2010</td>\n",
       "      <td>10</td>\n",
       "      <td>4</td>\n",
       "      <td>3</td>\n",
       "      <td>1</td>\n",
       "      <td>192</td>\n",
       "      <td>103.6</td>\n",
       "      <td>90.0</td>\n",
       "      <td>13.6</td>\n",
       "      <td>58.9</td>\n",
       "      <td>1.43</td>\n",
       "      <td>15.9</td>\n",
       "      <td>26.0</td>\n",
       "      <td>69.0</td>\n",
       "      <td>49.1</td>\n",
       "      <td>14.7</td>\n",
       "      <td>49.5</td>\n",
       "      <td>54.6</td>\n",
       "      <td>90.00</td>\n",
       "      <td>61.2</td>\n",
       "    </tr>\n",
       "    <tr>\n",
       "      <td>1</td>\n",
       "      <td>Dallas Mavericks</td>\n",
       "      <td>2010</td>\n",
       "      <td>10</td>\n",
       "      <td>3</td>\n",
       "      <td>2</td>\n",
       "      <td>1</td>\n",
       "      <td>144</td>\n",
       "      <td>102.5</td>\n",
       "      <td>91.2</td>\n",
       "      <td>11.2</td>\n",
       "      <td>68.5</td>\n",
       "      <td>1.49</td>\n",
       "      <td>19.7</td>\n",
       "      <td>22.8</td>\n",
       "      <td>69.4</td>\n",
       "      <td>48.9</td>\n",
       "      <td>18.0</td>\n",
       "      <td>53.3</td>\n",
       "      <td>56.8</td>\n",
       "      <td>94.67</td>\n",
       "      <td>60.3</td>\n",
       "    </tr>\n",
       "  </tbody>\n",
       "</table>\n",
       "</div>"
      ],
      "text/plain": [
       "               TEAM  year  month  GP  W  L  MIN  OFFRTG  DEFRTG  NETRTG  \\\n",
       "0        Miami Heat  2010     10   4  3  1  192   103.6    90.0    13.6   \n",
       "1  Dallas Mavericks  2010     10   3  2  1  144   102.5    91.2    11.2   \n",
       "\n",
       "   AST_P  AST/TO  ASTRATIO  OREB_P  DREB_P  REB_P  TOV_P  EFG_P  TS_P   PACE  \\\n",
       "0   58.9    1.43      15.9    26.0    69.0   49.1   14.7   49.5  54.6  90.00   \n",
       "1   68.5    1.49      19.7    22.8    69.4   48.9   18.0   53.3  56.8  94.67   \n",
       "\n",
       "    PIE  \n",
       "0  61.2  \n",
       "1  60.3  "
      ]
     },
     "metadata": {},
     "output_type": "display_data"
    },
    {
     "data": {
      "text/plain": [
       "'The shape of df3a is:'"
      ]
     },
     "metadata": {},
     "output_type": "display_data"
    },
    {
     "data": {
      "text/plain": [
       "(2040, 21)"
      ]
     },
     "metadata": {},
     "output_type": "display_data"
    }
   ],
   "source": [
    "df3a = pd.read_excel('NBA_2010-2020_AdvStats.xlsx')\n",
    "display(df3a.head(2))\n",
    "display('The shape of df3a is:', df3a.shape)"
   ]
  },
  {
   "cell_type": "code",
   "execution_count": 7,
   "metadata": {
    "ExecuteTime": {
     "end_time": "2020-08-21T23:57:53.403988Z",
     "start_time": "2020-08-21T23:57:53.044467Z"
    }
   },
   "outputs": [
    {
     "data": {
      "text/html": [
       "<div>\n",
       "<style scoped>\n",
       "    .dataframe tbody tr th:only-of-type {\n",
       "        vertical-align: middle;\n",
       "    }\n",
       "\n",
       "    .dataframe tbody tr th {\n",
       "        vertical-align: top;\n",
       "    }\n",
       "\n",
       "    .dataframe thead th {\n",
       "        text-align: right;\n",
       "    }\n",
       "</style>\n",
       "<table border=\"1\" class=\"dataframe\">\n",
       "  <thead>\n",
       "    <tr style=\"text-align: right;\">\n",
       "      <th></th>\n",
       "      <th>TEAM</th>\n",
       "      <th>year</th>\n",
       "      <th>month</th>\n",
       "      <th>GP</th>\n",
       "      <th>W</th>\n",
       "      <th>L</th>\n",
       "      <th>MIN</th>\n",
       "      <th>OFFRTG</th>\n",
       "      <th>DEFRTG</th>\n",
       "      <th>NETRTG</th>\n",
       "      <th>AST_P</th>\n",
       "      <th>AST/TO</th>\n",
       "      <th>ASTRATIO</th>\n",
       "      <th>OREB_P</th>\n",
       "      <th>DREB_P</th>\n",
       "      <th>REB_P</th>\n",
       "      <th>TOV_P</th>\n",
       "      <th>EFG_P</th>\n",
       "      <th>TS_P</th>\n",
       "      <th>PACE</th>\n",
       "      <th>PIE</th>\n",
       "    </tr>\n",
       "  </thead>\n",
       "  <tbody>\n",
       "    <tr>\n",
       "      <td>0</td>\n",
       "      <td>Charlotte Hornets</td>\n",
       "      <td>2000</td>\n",
       "      <td>10</td>\n",
       "      <td>1</td>\n",
       "      <td>1</td>\n",
       "      <td>0</td>\n",
       "      <td>48</td>\n",
       "      <td>114.0</td>\n",
       "      <td>89.1</td>\n",
       "      <td>24.8</td>\n",
       "      <td>45.7</td>\n",
       "      <td>0.94</td>\n",
       "      <td>13.9</td>\n",
       "      <td>23.3</td>\n",
       "      <td>75.5</td>\n",
       "      <td>56.6</td>\n",
       "      <td>18.3</td>\n",
       "      <td>60.5</td>\n",
       "      <td>66.6</td>\n",
       "      <td>92.5</td>\n",
       "      <td>76.6</td>\n",
       "    </tr>\n",
       "    <tr>\n",
       "      <td>1</td>\n",
       "      <td>Cleveland Cavaliers</td>\n",
       "      <td>2000</td>\n",
       "      <td>10</td>\n",
       "      <td>1</td>\n",
       "      <td>1</td>\n",
       "      <td>0</td>\n",
       "      <td>48</td>\n",
       "      <td>87.8</td>\n",
       "      <td>83.7</td>\n",
       "      <td>4.1</td>\n",
       "      <td>50.0</td>\n",
       "      <td>0.84</td>\n",
       "      <td>12.4</td>\n",
       "      <td>30.2</td>\n",
       "      <td>72.4</td>\n",
       "      <td>52.3</td>\n",
       "      <td>19.4</td>\n",
       "      <td>42.3</td>\n",
       "      <td>46.7</td>\n",
       "      <td>98.0</td>\n",
       "      <td>51.2</td>\n",
       "    </tr>\n",
       "  </tbody>\n",
       "</table>\n",
       "</div>"
      ],
      "text/plain": [
       "                  TEAM  year  month  GP  W  L  MIN  OFFRTG  DEFRTG  NETRTG  \\\n",
       "0    Charlotte Hornets  2000     10   1  1  0   48   114.0    89.1    24.8   \n",
       "1  Cleveland Cavaliers  2000     10   1  1  0   48    87.8    83.7     4.1   \n",
       "\n",
       "   AST_P  AST/TO  ASTRATIO  OREB_P  DREB_P  REB_P  TOV_P  EFG_P  TS_P  PACE  \\\n",
       "0   45.7    0.94      13.9    23.3    75.5   56.6   18.3   60.5  66.6  92.5   \n",
       "1   50.0    0.84      12.4    30.2    72.4   52.3   19.4   42.3  46.7  98.0   \n",
       "\n",
       "    PIE  \n",
       "0  76.6  \n",
       "1  51.2  "
      ]
     },
     "metadata": {},
     "output_type": "display_data"
    },
    {
     "data": {
      "text/plain": [
       "'The shape of df3b is:'"
      ]
     },
     "metadata": {},
     "output_type": "display_data"
    },
    {
     "data": {
      "text/plain": [
       "(2183, 21)"
      ]
     },
     "metadata": {},
     "output_type": "display_data"
    }
   ],
   "source": [
    "df3b = pd.read_excel('NBA_2000-2010_AdvStats.xlsx')\n",
    "display(df3b.head(2))\n",
    "display('The shape of df3b is:', df3b.shape)"
   ]
  },
  {
   "cell_type": "markdown",
   "metadata": {},
   "source": [
    "# Dataframe Pre-processing"
   ]
  },
  {
   "cell_type": "markdown",
   "metadata": {},
   "source": [
    "## Game Results DataFrames "
   ]
  },
  {
   "cell_type": "markdown",
   "metadata": {},
   "source": [
    "### 2010 - 2020 seasons"
   ]
  },
  {
   "cell_type": "code",
   "execution_count": 8,
   "metadata": {
    "ExecuteTime": {
     "end_time": "2020-08-21T23:57:57.895735Z",
     "start_time": "2020-08-21T23:57:55.546236Z"
    }
   },
   "outputs": [
    {
     "name": "stdout",
     "output_type": "stream",
     "text": [
      "The shape of the dataframe is: (12232, 7)\n",
      " \n"
     ]
    },
    {
     "data": {
      "text/html": [
       "<div>\n",
       "<style scoped>\n",
       "    .dataframe tbody tr th:only-of-type {\n",
       "        vertical-align: middle;\n",
       "    }\n",
       "\n",
       "    .dataframe tbody tr th {\n",
       "        vertical-align: top;\n",
       "    }\n",
       "\n",
       "    .dataframe thead th {\n",
       "        text-align: right;\n",
       "    }\n",
       "</style>\n",
       "<table border=\"1\" class=\"dataframe\">\n",
       "  <thead>\n",
       "    <tr style=\"text-align: right;\">\n",
       "      <th></th>\n",
       "      <th>Team1</th>\n",
       "      <th>Team1Score</th>\n",
       "      <th>Team2</th>\n",
       "      <th>Team2Score</th>\n",
       "      <th>year</th>\n",
       "      <th>month</th>\n",
       "      <th>Game_Result</th>\n",
       "    </tr>\n",
       "  </thead>\n",
       "  <tbody>\n",
       "    <tr>\n",
       "      <td>0</td>\n",
       "      <td>New Orleans Pelicans</td>\n",
       "      <td>122</td>\n",
       "      <td>Toronto Raptors</td>\n",
       "      <td>130</td>\n",
       "      <td>2019</td>\n",
       "      <td>10</td>\n",
       "      <td>1</td>\n",
       "    </tr>\n",
       "    <tr>\n",
       "      <td>1</td>\n",
       "      <td>Los Angeles Lakers</td>\n",
       "      <td>102</td>\n",
       "      <td>Los Angeles Clippers</td>\n",
       "      <td>112</td>\n",
       "      <td>2019</td>\n",
       "      <td>10</td>\n",
       "      <td>1</td>\n",
       "    </tr>\n",
       "  </tbody>\n",
       "</table>\n",
       "</div>"
      ],
      "text/plain": [
       "                  Team1  Team1Score                 Team2  Team2Score  year  \\\n",
       "0  New Orleans Pelicans         122       Toronto Raptors         130  2019   \n",
       "1    Los Angeles Lakers         102  Los Angeles Clippers         112  2019   \n",
       "\n",
       "   month  Game_Result  \n",
       "0     10            1  \n",
       "1     10            1  "
      ]
     },
     "metadata": {},
     "output_type": "display_data"
    },
    {
     "name": "stdout",
     "output_type": "stream",
     "text": [
      "=====================================================================================\n",
      "Results of the Game_Result binnary column are:\n",
      "1    7181\n",
      "0    5051\n",
      "Name: Game_Result, dtype: int64\n"
     ]
    }
   ],
   "source": [
    "# Converting the 'Date' column using the Pandas DatetimeIndex to extract the year and month as new columns\n",
    "df1a['year'] = pd.DatetimeIndex(df1a['Date']).year\n",
    "df1a['month'] = pd.DatetimeIndex(df1a['Date']).month\n",
    "\n",
    "# Dropping the 'Date' column as it won't be necessary anymore \n",
    "df1a.drop(['Date'], axis=1, inplace=True)\n",
    "\n",
    "# Creating a binary column from the game results\n",
    "df1a['Game_Result'] = np.where(df1a['Team2Score'] > df1a['Team1Score'], 1, 0)\n",
    "\n",
    "print('The shape of the dataframe is:', df1a.shape)\n",
    "print(' ')\n",
    "display(df1a.head(2))\n",
    "print('=====================================================================================')\n",
    "print(\"Results of the Game_Result binnary column are:\")\n",
    "print(df1a.Game_Result.value_counts())"
   ]
  },
  {
   "cell_type": "markdown",
   "metadata": {},
   "source": [
    "In average, 52.63% of the games are won by the home team (Team2). This is not that surprising as not all the teams are strong enough to protect home court advantage and historically there has been a tier of NBA teams that have been weaker compared to tier 2 and tier 1 teams. The reasons for this have been mainly two, first the team's location is not attractive for players, and second, the team doesn't have enough cash to afford good players. \n",
    "\n",
    "Lets see the previous decade..."
   ]
  },
  {
   "cell_type": "markdown",
   "metadata": {},
   "source": [
    "### 2000 - 2010 seasons"
   ]
  },
  {
   "cell_type": "code",
   "execution_count": 9,
   "metadata": {
    "ExecuteTime": {
     "end_time": "2020-08-21T23:58:03.092932Z",
     "start_time": "2020-08-21T23:58:00.769849Z"
    }
   },
   "outputs": [
    {
     "name": "stdout",
     "output_type": "stream",
     "text": [
      "The shape of the dataframe is: (12142, 7)\n",
      "=====================================================================================\n"
     ]
    },
    {
     "data": {
      "text/html": [
       "<div>\n",
       "<style scoped>\n",
       "    .dataframe tbody tr th:only-of-type {\n",
       "        vertical-align: middle;\n",
       "    }\n",
       "\n",
       "    .dataframe tbody tr th {\n",
       "        vertical-align: top;\n",
       "    }\n",
       "\n",
       "    .dataframe thead th {\n",
       "        text-align: right;\n",
       "    }\n",
       "</style>\n",
       "<table border=\"1\" class=\"dataframe\">\n",
       "  <thead>\n",
       "    <tr style=\"text-align: right;\">\n",
       "      <th></th>\n",
       "      <th>Team1</th>\n",
       "      <th>Team1Score</th>\n",
       "      <th>Team2</th>\n",
       "      <th>Team2Score</th>\n",
       "      <th>year</th>\n",
       "      <th>month</th>\n",
       "      <th>Game_Result</th>\n",
       "    </tr>\n",
       "  </thead>\n",
       "  <tbody>\n",
       "    <tr>\n",
       "      <td>0</td>\n",
       "      <td>Charlotte Hornets</td>\n",
       "      <td>106</td>\n",
       "      <td>Atlanta Hawks</td>\n",
       "      <td>82</td>\n",
       "      <td>2000</td>\n",
       "      <td>10</td>\n",
       "      <td>0</td>\n",
       "    </tr>\n",
       "    <tr>\n",
       "      <td>1</td>\n",
       "      <td>Cleveland Cavaliers</td>\n",
       "      <td>86</td>\n",
       "      <td>New Jersey Nets</td>\n",
       "      <td>82</td>\n",
       "      <td>2000</td>\n",
       "      <td>10</td>\n",
       "      <td>0</td>\n",
       "    </tr>\n",
       "  </tbody>\n",
       "</table>\n",
       "</div>"
      ],
      "text/plain": [
       "                 Team1  Team1Score            Team2  Team2Score  year  month  \\\n",
       "0    Charlotte Hornets         106    Atlanta Hawks          82  2000     10   \n",
       "1  Cleveland Cavaliers          86  New Jersey Nets          82  2000     10   \n",
       "\n",
       "   Game_Result  \n",
       "0            0  \n",
       "1            0  "
      ]
     },
     "metadata": {},
     "output_type": "display_data"
    },
    {
     "name": "stdout",
     "output_type": "stream",
     "text": [
      "=====================================================================================\n",
      "Results of the Game_Result binnary column are:\n",
      "1    7323\n",
      "0    4819\n",
      "Name: Game_Result, dtype: int64\n"
     ]
    }
   ],
   "source": [
    "# Converting the 'Date' column using the Pandas DatetimeIndex to extract the year and month as new columns\n",
    "df1b['year'] = pd.DatetimeIndex(df1b['Date']).year\n",
    "df1b['month'] = pd.DatetimeIndex(df1b['Date']).month\n",
    "\n",
    "# Dropping the 'Date' column as it won't be necessary anymore \n",
    "df1b.drop(['Date'], axis=1, inplace=True)\n",
    "\n",
    "# Creating a binary column from the game results\n",
    "df1b['Game_Result'] = np.where(df1b['Team2Score'] > df1b['Team1Score'], 1, 0)\n",
    "\n",
    "print('The shape of the dataframe is:', df1b.shape)\n",
    "print('=====================================================================================')\n",
    "display(df1b.head(2))\n",
    "print('=====================================================================================')\n",
    "print(\"Results of the Game_Result binnary column are:\")\n",
    "print(df1b.Game_Result.value_counts())"
   ]
  },
  {
   "cell_type": "code",
   "execution_count": 10,
   "metadata": {
    "ExecuteTime": {
     "end_time": "2020-08-21T23:58:05.347271Z",
     "start_time": "2020-08-21T23:58:05.338224Z"
    }
   },
   "outputs": [
    {
     "name": "stdout",
     "output_type": "stream",
     "text": [
      "<class 'pandas.core.frame.DataFrame'>\n",
      "RangeIndex: 12142 entries, 0 to 12141\n",
      "Data columns (total 7 columns):\n",
      "Team1          12142 non-null object\n",
      "Team1Score     12142 non-null int64\n",
      "Team2          12142 non-null object\n",
      "Team2Score     12142 non-null int64\n",
      "year           12142 non-null int64\n",
      "month          12142 non-null int64\n",
      "Game_Result    12142 non-null int64\n",
      "dtypes: int64(5), object(2)\n",
      "memory usage: 664.1+ KB\n"
     ]
    }
   ],
   "source": [
    "df1b.info()"
   ]
  },
  {
   "cell_type": "markdown",
   "metadata": {},
   "source": [
    "During the previous decade an average of 60.31% of the games were won by the home team. It is known that on that decade there was a bit more parity between teams. Still there was a tier 3 group of teams which were relatively weak compared to the Tier 2 and in particular the Tier 1 teams. "
   ]
  },
  {
   "cell_type": "markdown",
   "metadata": {},
   "source": [
    "There are a couple of columns with dtypes equal to 'object' but it's alright as those will be dropped later on after the final merge and from these two df I will only keep the 'target' which is the Game_Result"
   ]
  },
  {
   "cell_type": "markdown",
   "metadata": {},
   "source": [
    "## General & Advance Statistics DataFrames"
   ]
  },
  {
   "cell_type": "markdown",
   "metadata": {},
   "source": [
    "Before I go into creating my final DataFrame per decade I need to merge df2a with df3a and df2b with df3b. For this to be done properly I will engineer a temporary column with I will call Team_id in each of the 4 DataFrames. Team_id will correspond to the Team's Name, the month and the year. The idea here is that I can then assign the average values of each of these stats to the df1a and df1b."
   ]
  },
  {
   "cell_type": "code",
   "execution_count": 11,
   "metadata": {
    "ExecuteTime": {
     "end_time": "2020-08-21T23:58:08.140042Z",
     "start_time": "2020-08-21T23:58:08.110091Z"
    }
   },
   "outputs": [
    {
     "data": {
      "text/html": [
       "<div>\n",
       "<style scoped>\n",
       "    .dataframe tbody tr th:only-of-type {\n",
       "        vertical-align: middle;\n",
       "    }\n",
       "\n",
       "    .dataframe tbody tr th {\n",
       "        vertical-align: top;\n",
       "    }\n",
       "\n",
       "    .dataframe thead th {\n",
       "        text-align: right;\n",
       "    }\n",
       "</style>\n",
       "<table border=\"1\" class=\"dataframe\">\n",
       "  <thead>\n",
       "    <tr style=\"text-align: right;\">\n",
       "      <th></th>\n",
       "      <th>TEAM</th>\n",
       "      <th>year</th>\n",
       "      <th>month</th>\n",
       "      <th>PTS</th>\n",
       "      <th>FGM</th>\n",
       "      <th>FGA</th>\n",
       "      <th>FG_P</th>\n",
       "      <th>3PM</th>\n",
       "      <th>3PA</th>\n",
       "      <th>3P_P</th>\n",
       "    </tr>\n",
       "  </thead>\n",
       "  <tbody>\n",
       "    <tr>\n",
       "      <td>0</td>\n",
       "      <td>Atlanta Hawks</td>\n",
       "      <td>2010</td>\n",
       "      <td>10</td>\n",
       "      <td>107.3</td>\n",
       "      <td>37.3</td>\n",
       "      <td>77.0</td>\n",
       "      <td>48.5</td>\n",
       "      <td>6.3</td>\n",
       "      <td>17.3</td>\n",
       "      <td>36.5</td>\n",
       "    </tr>\n",
       "    <tr>\n",
       "      <td>1</td>\n",
       "      <td>Los Angeles Lakers</td>\n",
       "      <td>2010</td>\n",
       "      <td>10</td>\n",
       "      <td>111.0</td>\n",
       "      <td>41.7</td>\n",
       "      <td>93.0</td>\n",
       "      <td>44.8</td>\n",
       "      <td>9.0</td>\n",
       "      <td>22.3</td>\n",
       "      <td>40.3</td>\n",
       "    </tr>\n",
       "  </tbody>\n",
       "</table>\n",
       "</div>"
      ],
      "text/plain": [
       "                 TEAM  year  month    PTS   FGM   FGA  FG_P  3PM   3PA  3P_P\n",
       "0       Atlanta Hawks  2010     10  107.3  37.3  77.0  48.5  6.3  17.3  36.5\n",
       "1  Los Angeles Lakers  2010     10  111.0  41.7  93.0  44.8  9.0  22.3  40.3"
      ]
     },
     "metadata": {},
     "output_type": "display_data"
    },
    {
     "data": {
      "text/plain": [
       "'The size of df2a is:'"
      ]
     },
     "metadata": {},
     "output_type": "display_data"
    },
    {
     "data": {
      "text/plain": [
       "(2048, 10)"
      ]
     },
     "metadata": {},
     "output_type": "display_data"
    },
    {
     "data": {
      "text/html": [
       "<div>\n",
       "<style scoped>\n",
       "    .dataframe tbody tr th:only-of-type {\n",
       "        vertical-align: middle;\n",
       "    }\n",
       "\n",
       "    .dataframe tbody tr th {\n",
       "        vertical-align: top;\n",
       "    }\n",
       "\n",
       "    .dataframe thead th {\n",
       "        text-align: right;\n",
       "    }\n",
       "</style>\n",
       "<table border=\"1\" class=\"dataframe\">\n",
       "  <thead>\n",
       "    <tr style=\"text-align: right;\">\n",
       "      <th></th>\n",
       "      <th>TEAM</th>\n",
       "      <th>year</th>\n",
       "      <th>month</th>\n",
       "      <th>GP</th>\n",
       "      <th>W</th>\n",
       "      <th>L</th>\n",
       "      <th>MIN</th>\n",
       "      <th>OFFRTG</th>\n",
       "      <th>DEFRTG</th>\n",
       "      <th>NETRTG</th>\n",
       "      <th>AST_P</th>\n",
       "      <th>AST/TO</th>\n",
       "      <th>ASTRATIO</th>\n",
       "      <th>OREB_P</th>\n",
       "      <th>DREB_P</th>\n",
       "      <th>REB_P</th>\n",
       "      <th>TOV_P</th>\n",
       "      <th>EFG_P</th>\n",
       "      <th>TS_P</th>\n",
       "      <th>PACE</th>\n",
       "      <th>PIE</th>\n",
       "    </tr>\n",
       "  </thead>\n",
       "  <tbody>\n",
       "    <tr>\n",
       "      <td>0</td>\n",
       "      <td>Miami Heat</td>\n",
       "      <td>2010</td>\n",
       "      <td>10</td>\n",
       "      <td>4</td>\n",
       "      <td>3</td>\n",
       "      <td>1</td>\n",
       "      <td>192</td>\n",
       "      <td>103.6</td>\n",
       "      <td>90.0</td>\n",
       "      <td>13.6</td>\n",
       "      <td>58.9</td>\n",
       "      <td>1.43</td>\n",
       "      <td>15.9</td>\n",
       "      <td>26.0</td>\n",
       "      <td>69.0</td>\n",
       "      <td>49.1</td>\n",
       "      <td>14.7</td>\n",
       "      <td>49.5</td>\n",
       "      <td>54.6</td>\n",
       "      <td>90.00</td>\n",
       "      <td>61.2</td>\n",
       "    </tr>\n",
       "    <tr>\n",
       "      <td>1</td>\n",
       "      <td>Dallas Mavericks</td>\n",
       "      <td>2010</td>\n",
       "      <td>10</td>\n",
       "      <td>3</td>\n",
       "      <td>2</td>\n",
       "      <td>1</td>\n",
       "      <td>144</td>\n",
       "      <td>102.5</td>\n",
       "      <td>91.2</td>\n",
       "      <td>11.2</td>\n",
       "      <td>68.5</td>\n",
       "      <td>1.49</td>\n",
       "      <td>19.7</td>\n",
       "      <td>22.8</td>\n",
       "      <td>69.4</td>\n",
       "      <td>48.9</td>\n",
       "      <td>18.0</td>\n",
       "      <td>53.3</td>\n",
       "      <td>56.8</td>\n",
       "      <td>94.67</td>\n",
       "      <td>60.3</td>\n",
       "    </tr>\n",
       "  </tbody>\n",
       "</table>\n",
       "</div>"
      ],
      "text/plain": [
       "               TEAM  year  month  GP  W  L  MIN  OFFRTG  DEFRTG  NETRTG  \\\n",
       "0        Miami Heat  2010     10   4  3  1  192   103.6    90.0    13.6   \n",
       "1  Dallas Mavericks  2010     10   3  2  1  144   102.5    91.2    11.2   \n",
       "\n",
       "   AST_P  AST/TO  ASTRATIO  OREB_P  DREB_P  REB_P  TOV_P  EFG_P  TS_P   PACE  \\\n",
       "0   58.9    1.43      15.9    26.0    69.0   49.1   14.7   49.5  54.6  90.00   \n",
       "1   68.5    1.49      19.7    22.8    69.4   48.9   18.0   53.3  56.8  94.67   \n",
       "\n",
       "    PIE  \n",
       "0  61.2  \n",
       "1  60.3  "
      ]
     },
     "metadata": {},
     "output_type": "display_data"
    },
    {
     "data": {
      "text/plain": [
       "'The size of this df3a is:'"
      ]
     },
     "metadata": {},
     "output_type": "display_data"
    },
    {
     "data": {
      "text/plain": [
       "(2040, 21)"
      ]
     },
     "metadata": {},
     "output_type": "display_data"
    }
   ],
   "source": [
    "display(df2a.head(2))\n",
    "display(\"The size of df2a is:\", df2a.shape)\n",
    "display(df3a.head(2))\n",
    "display(\"The size of this df3a is:\", df3a.shape)"
   ]
  },
  {
   "cell_type": "code",
   "execution_count": 12,
   "metadata": {
    "ExecuteTime": {
     "end_time": "2020-08-21T23:58:10.641797Z",
     "start_time": "2020-08-21T23:58:10.612513Z"
    }
   },
   "outputs": [],
   "source": [
    "# For the 4 different Dataframes:\n",
    "df2a['Team_id'] = df2a['TEAM'].astype(str)+'_'+df2a['month'].astype(str)+'_'+df2a['year'].astype(str)\n",
    "df2b['Team_id'] = df2b['TEAM'].astype(str)+'_'+df2b['month'].astype(str)+'_'+df2b['year'].astype(str)\n",
    "df3a['Team_id'] = df3a['TEAM'].astype(str)+'_'+df3a['month'].astype(str)+'_'+df3a['year'].astype(str)\n",
    "df3b['Team_id'] = df3b['TEAM'].astype(str)+'_'+df3b['month'].astype(str)+'_'+df3b['year'].astype(str)"
   ]
  },
  {
   "cell_type": "markdown",
   "metadata": {},
   "source": [
    "Now, look at the new columns called 'Team_id' on the two display dataframes below. They should have the name of the team with the month and year for the average values from each of the previous two DataFrames"
   ]
  },
  {
   "cell_type": "code",
   "execution_count": 13,
   "metadata": {
    "ExecuteTime": {
     "end_time": "2020-08-21T23:58:13.224933Z",
     "start_time": "2020-08-21T23:58:13.198503Z"
    },
    "scrolled": true
   },
   "outputs": [
    {
     "data": {
      "text/html": [
       "<div>\n",
       "<style scoped>\n",
       "    .dataframe tbody tr th:only-of-type {\n",
       "        vertical-align: middle;\n",
       "    }\n",
       "\n",
       "    .dataframe tbody tr th {\n",
       "        vertical-align: top;\n",
       "    }\n",
       "\n",
       "    .dataframe thead th {\n",
       "        text-align: right;\n",
       "    }\n",
       "</style>\n",
       "<table border=\"1\" class=\"dataframe\">\n",
       "  <thead>\n",
       "    <tr style=\"text-align: right;\">\n",
       "      <th></th>\n",
       "      <th>TEAM</th>\n",
       "      <th>year</th>\n",
       "      <th>month</th>\n",
       "      <th>PTS</th>\n",
       "      <th>FGM</th>\n",
       "      <th>FGA</th>\n",
       "      <th>FG_P</th>\n",
       "      <th>3PM</th>\n",
       "      <th>3PA</th>\n",
       "      <th>3P_P</th>\n",
       "      <th>Team_id</th>\n",
       "    </tr>\n",
       "  </thead>\n",
       "  <tbody>\n",
       "    <tr>\n",
       "      <td>0</td>\n",
       "      <td>Atlanta Hawks</td>\n",
       "      <td>2010</td>\n",
       "      <td>10</td>\n",
       "      <td>107.3</td>\n",
       "      <td>37.3</td>\n",
       "      <td>77.0</td>\n",
       "      <td>48.5</td>\n",
       "      <td>6.3</td>\n",
       "      <td>17.3</td>\n",
       "      <td>36.5</td>\n",
       "      <td>Atlanta Hawks_10_2010</td>\n",
       "    </tr>\n",
       "  </tbody>\n",
       "</table>\n",
       "</div>"
      ],
      "text/plain": [
       "            TEAM  year  month    PTS   FGM   FGA  FG_P  3PM   3PA  3P_P  \\\n",
       "0  Atlanta Hawks  2010     10  107.3  37.3  77.0  48.5  6.3  17.3  36.5   \n",
       "\n",
       "                 Team_id  \n",
       "0  Atlanta Hawks_10_2010  "
      ]
     },
     "metadata": {},
     "output_type": "display_data"
    },
    {
     "data": {
      "text/html": [
       "<div>\n",
       "<style scoped>\n",
       "    .dataframe tbody tr th:only-of-type {\n",
       "        vertical-align: middle;\n",
       "    }\n",
       "\n",
       "    .dataframe tbody tr th {\n",
       "        vertical-align: top;\n",
       "    }\n",
       "\n",
       "    .dataframe thead th {\n",
       "        text-align: right;\n",
       "    }\n",
       "</style>\n",
       "<table border=\"1\" class=\"dataframe\">\n",
       "  <thead>\n",
       "    <tr style=\"text-align: right;\">\n",
       "      <th></th>\n",
       "      <th>TEAM</th>\n",
       "      <th>year</th>\n",
       "      <th>month</th>\n",
       "      <th>GP</th>\n",
       "      <th>W</th>\n",
       "      <th>L</th>\n",
       "      <th>MIN</th>\n",
       "      <th>OFFRTG</th>\n",
       "      <th>DEFRTG</th>\n",
       "      <th>NETRTG</th>\n",
       "      <th>AST_P</th>\n",
       "      <th>AST/TO</th>\n",
       "      <th>ASTRATIO</th>\n",
       "      <th>OREB_P</th>\n",
       "      <th>DREB_P</th>\n",
       "      <th>REB_P</th>\n",
       "      <th>TOV_P</th>\n",
       "      <th>EFG_P</th>\n",
       "      <th>TS_P</th>\n",
       "      <th>PACE</th>\n",
       "      <th>PIE</th>\n",
       "      <th>Team_id</th>\n",
       "    </tr>\n",
       "  </thead>\n",
       "  <tbody>\n",
       "    <tr>\n",
       "      <td>0</td>\n",
       "      <td>Miami Heat</td>\n",
       "      <td>2010</td>\n",
       "      <td>10</td>\n",
       "      <td>4</td>\n",
       "      <td>3</td>\n",
       "      <td>1</td>\n",
       "      <td>192</td>\n",
       "      <td>103.6</td>\n",
       "      <td>90.0</td>\n",
       "      <td>13.6</td>\n",
       "      <td>58.9</td>\n",
       "      <td>1.43</td>\n",
       "      <td>15.9</td>\n",
       "      <td>26.0</td>\n",
       "      <td>69.0</td>\n",
       "      <td>49.1</td>\n",
       "      <td>14.7</td>\n",
       "      <td>49.5</td>\n",
       "      <td>54.6</td>\n",
       "      <td>90.0</td>\n",
       "      <td>61.2</td>\n",
       "      <td>Miami Heat_10_2010</td>\n",
       "    </tr>\n",
       "  </tbody>\n",
       "</table>\n",
       "</div>"
      ],
      "text/plain": [
       "         TEAM  year  month  GP  W  L  MIN  OFFRTG  DEFRTG  NETRTG  AST_P  \\\n",
       "0  Miami Heat  2010     10   4  3  1  192   103.6    90.0    13.6   58.9   \n",
       "\n",
       "   AST/TO  ASTRATIO  OREB_P  DREB_P  REB_P  TOV_P  EFG_P  TS_P  PACE   PIE  \\\n",
       "0    1.43      15.9    26.0    69.0   49.1   14.7   49.5  54.6  90.0  61.2   \n",
       "\n",
       "              Team_id  \n",
       "0  Miami Heat_10_2010  "
      ]
     },
     "metadata": {},
     "output_type": "display_data"
    }
   ],
   "source": [
    "display(df2a.head(1))\n",
    "display(df3a.head(1))"
   ]
  },
  {
   "cell_type": "code",
   "execution_count": 14,
   "metadata": {
    "ExecuteTime": {
     "end_time": "2020-08-21T23:58:15.774590Z",
     "start_time": "2020-08-21T23:58:15.712751Z"
    }
   },
   "outputs": [
    {
     "name": "stdout",
     "output_type": "stream",
     "text": [
      "DataFrame df2:\n"
     ]
    },
    {
     "data": {
      "text/html": [
       "<div>\n",
       "<style scoped>\n",
       "    .dataframe tbody tr th:only-of-type {\n",
       "        vertical-align: middle;\n",
       "    }\n",
       "\n",
       "    .dataframe tbody tr th {\n",
       "        vertical-align: top;\n",
       "    }\n",
       "\n",
       "    .dataframe thead th {\n",
       "        text-align: right;\n",
       "    }\n",
       "</style>\n",
       "<table border=\"1\" class=\"dataframe\">\n",
       "  <thead>\n",
       "    <tr style=\"text-align: right;\">\n",
       "      <th></th>\n",
       "      <th>TEAM</th>\n",
       "      <th>year</th>\n",
       "      <th>month</th>\n",
       "      <th>FGA</th>\n",
       "      <th>FG_P</th>\n",
       "      <th>3PA</th>\n",
       "      <th>3P_P</th>\n",
       "      <th>Team_id</th>\n",
       "      <th>GP</th>\n",
       "      <th>W</th>\n",
       "      <th>L</th>\n",
       "      <th>OFFRTG</th>\n",
       "      <th>DEFRTG</th>\n",
       "      <th>NETRTG</th>\n",
       "      <th>AST_P</th>\n",
       "      <th>AST/TO</th>\n",
       "      <th>ASTRATIO</th>\n",
       "      <th>OREB_P</th>\n",
       "      <th>DREB_P</th>\n",
       "      <th>REB_P</th>\n",
       "      <th>TOV_P</th>\n",
       "      <th>EFG_P</th>\n",
       "      <th>TS_P</th>\n",
       "      <th>PACE</th>\n",
       "      <th>PIE</th>\n",
       "    </tr>\n",
       "  </thead>\n",
       "  <tbody>\n",
       "    <tr>\n",
       "      <td>0</td>\n",
       "      <td>Atlanta Hawks</td>\n",
       "      <td>2010</td>\n",
       "      <td>10</td>\n",
       "      <td>77.0</td>\n",
       "      <td>48.5</td>\n",
       "      <td>17.3</td>\n",
       "      <td>36.5</td>\n",
       "      <td>Atlanta Hawks_10_2010</td>\n",
       "      <td>3</td>\n",
       "      <td>3</td>\n",
       "      <td>0</td>\n",
       "      <td>112.2</td>\n",
       "      <td>104.5</td>\n",
       "      <td>7.7</td>\n",
       "      <td>56.3</td>\n",
       "      <td>1.21</td>\n",
       "      <td>16.2</td>\n",
       "      <td>32.0</td>\n",
       "      <td>72.2</td>\n",
       "      <td>53.5</td>\n",
       "      <td>18.1</td>\n",
       "      <td>52.6</td>\n",
       "      <td>59.3</td>\n",
       "      <td>95.67</td>\n",
       "      <td>55.7</td>\n",
       "    </tr>\n",
       "    <tr>\n",
       "      <td>2040</td>\n",
       "      <td>Washington Wizards</td>\n",
       "      <td>2020</td>\n",
       "      <td>8</td>\n",
       "      <td>90.3</td>\n",
       "      <td>42.1</td>\n",
       "      <td>29.4</td>\n",
       "      <td>33.0</td>\n",
       "      <td>Washington Wizards_8_2020</td>\n",
       "      <td>7</td>\n",
       "      <td>1</td>\n",
       "      <td>6</td>\n",
       "      <td>102.4</td>\n",
       "      <td>111.4</td>\n",
       "      <td>-9.0</td>\n",
       "      <td>60.9</td>\n",
       "      <td>1.59</td>\n",
       "      <td>16.5</td>\n",
       "      <td>28.1</td>\n",
       "      <td>74.0</td>\n",
       "      <td>49.9</td>\n",
       "      <td>14.4</td>\n",
       "      <td>47.5</td>\n",
       "      <td>51.7</td>\n",
       "      <td>101.43</td>\n",
       "      <td>44.4</td>\n",
       "    </tr>\n",
       "  </tbody>\n",
       "</table>\n",
       "</div>"
      ],
      "text/plain": [
       "                    TEAM  year  month   FGA  FG_P   3PA  3P_P  \\\n",
       "0          Atlanta Hawks  2010     10  77.0  48.5  17.3  36.5   \n",
       "2040  Washington Wizards  2020      8  90.3  42.1  29.4  33.0   \n",
       "\n",
       "                        Team_id  GP  W  L  OFFRTG  DEFRTG  NETRTG  AST_P  \\\n",
       "0         Atlanta Hawks_10_2010   3  3  0   112.2   104.5     7.7   56.3   \n",
       "2040  Washington Wizards_8_2020   7  1  6   102.4   111.4    -9.0   60.9   \n",
       "\n",
       "      AST/TO  ASTRATIO  OREB_P  DREB_P  REB_P  TOV_P  EFG_P  TS_P    PACE  \\\n",
       "0       1.21      16.2    32.0    72.2   53.5   18.1   52.6  59.3   95.67   \n",
       "2040    1.59      16.5    28.1    74.0   49.9   14.4   47.5  51.7  101.43   \n",
       "\n",
       "       PIE  \n",
       "0     55.7  \n",
       "2040  44.4  "
      ]
     },
     "metadata": {},
     "output_type": "display_data"
    },
    {
     "name": "stdout",
     "output_type": "stream",
     "text": [
      "DataFrame df3:\n"
     ]
    },
    {
     "data": {
      "text/html": [
       "<div>\n",
       "<style scoped>\n",
       "    .dataframe tbody tr th:only-of-type {\n",
       "        vertical-align: middle;\n",
       "    }\n",
       "\n",
       "    .dataframe tbody tr th {\n",
       "        vertical-align: top;\n",
       "    }\n",
       "\n",
       "    .dataframe thead th {\n",
       "        text-align: right;\n",
       "    }\n",
       "</style>\n",
       "<table border=\"1\" class=\"dataframe\">\n",
       "  <thead>\n",
       "    <tr style=\"text-align: right;\">\n",
       "      <th></th>\n",
       "      <th>TEAM</th>\n",
       "      <th>year</th>\n",
       "      <th>month</th>\n",
       "      <th>FGA</th>\n",
       "      <th>FG_P</th>\n",
       "      <th>3PA</th>\n",
       "      <th>3P_P</th>\n",
       "      <th>Team_id</th>\n",
       "      <th>GP</th>\n",
       "      <th>W</th>\n",
       "      <th>L</th>\n",
       "      <th>OFFRTG</th>\n",
       "      <th>DEFRTG</th>\n",
       "      <th>NETRTG</th>\n",
       "      <th>AST_P</th>\n",
       "      <th>AST/TO</th>\n",
       "      <th>ASTRATIO</th>\n",
       "      <th>OREB_P</th>\n",
       "      <th>DREB_P</th>\n",
       "      <th>REB_P</th>\n",
       "      <th>TOV_P</th>\n",
       "      <th>EFG_P</th>\n",
       "      <th>TS_P</th>\n",
       "      <th>PACE</th>\n",
       "      <th>PIE</th>\n",
       "    </tr>\n",
       "  </thead>\n",
       "  <tbody>\n",
       "    <tr>\n",
       "      <td>0</td>\n",
       "      <td>Charlotte Hornets</td>\n",
       "      <td>2000</td>\n",
       "      <td>10</td>\n",
       "      <td>62.0</td>\n",
       "      <td>56.5</td>\n",
       "      <td>9.0</td>\n",
       "      <td>55.6</td>\n",
       "      <td>Charlotte Hornets_10_2000</td>\n",
       "      <td>1</td>\n",
       "      <td>1</td>\n",
       "      <td>0</td>\n",
       "      <td>114.0</td>\n",
       "      <td>89.1</td>\n",
       "      <td>24.8</td>\n",
       "      <td>45.7</td>\n",
       "      <td>0.94</td>\n",
       "      <td>13.9</td>\n",
       "      <td>23.3</td>\n",
       "      <td>75.5</td>\n",
       "      <td>56.6</td>\n",
       "      <td>18.3</td>\n",
       "      <td>60.5</td>\n",
       "      <td>66.6</td>\n",
       "      <td>92.50</td>\n",
       "      <td>76.6</td>\n",
       "    </tr>\n",
       "    <tr>\n",
       "      <td>2178</td>\n",
       "      <td>Minnesota Timberwolves</td>\n",
       "      <td>2010</td>\n",
       "      <td>4</td>\n",
       "      <td>78.4</td>\n",
       "      <td>45.7</td>\n",
       "      <td>17.0</td>\n",
       "      <td>35.3</td>\n",
       "      <td>Minnesota Timberwolves_4_2010</td>\n",
       "      <td>7</td>\n",
       "      <td>0</td>\n",
       "      <td>7</td>\n",
       "      <td>100.7</td>\n",
       "      <td>114.5</td>\n",
       "      <td>-13.7</td>\n",
       "      <td>57.4</td>\n",
       "      <td>1.25</td>\n",
       "      <td>16.1</td>\n",
       "      <td>25.0</td>\n",
       "      <td>68.2</td>\n",
       "      <td>46.1</td>\n",
       "      <td>17.0</td>\n",
       "      <td>49.5</td>\n",
       "      <td>54.2</td>\n",
       "      <td>96.79</td>\n",
       "      <td>41.7</td>\n",
       "    </tr>\n",
       "  </tbody>\n",
       "</table>\n",
       "</div>"
      ],
      "text/plain": [
       "                        TEAM  year  month   FGA  FG_P   3PA  3P_P  \\\n",
       "0          Charlotte Hornets  2000     10  62.0  56.5   9.0  55.6   \n",
       "2178  Minnesota Timberwolves  2010      4  78.4  45.7  17.0  35.3   \n",
       "\n",
       "                            Team_id  GP  W  L  OFFRTG  DEFRTG  NETRTG  AST_P  \\\n",
       "0         Charlotte Hornets_10_2000   1  1  0   114.0    89.1    24.8   45.7   \n",
       "2178  Minnesota Timberwolves_4_2010   7  0  7   100.7   114.5   -13.7   57.4   \n",
       "\n",
       "      AST/TO  ASTRATIO  OREB_P  DREB_P  REB_P  TOV_P  EFG_P  TS_P   PACE   PIE  \n",
       "0       0.94      13.9    23.3    75.5   56.6   18.3   60.5  66.6  92.50  76.6  \n",
       "2178    1.25      16.1    25.0    68.2   46.1   17.0   49.5  54.2  96.79  41.7  "
      ]
     },
     "metadata": {},
     "output_type": "display_data"
    }
   ],
   "source": [
    "# First lets take care of df2a with df3a\n",
    "df2 = df2a.merge(df3a, on=\"Team_id\", how = 'inner')\n",
    "df2 = df2.drop(['PTS','FGM', '3PM', 'TEAM_y', 'year_y', 'month_y', 'MIN'], axis=1)\n",
    "df2.rename({'TEAM_x': 'TEAM', 'year_x': 'year', 'month_x': 'month'}, axis=1, inplace=True)\n",
    "print('DataFrame df2:')\n",
    "display(df2.head(1).append(df2.tail(1)))\n",
    "\n",
    "# Now lets take care of df2b with df3b\n",
    "df3 = df2b.merge(df3b, on=\"Team_id\", how = 'inner')\n",
    "df3 = df3.drop(['PTS','FGM', '3PM', 'TEAM_y', 'year_y', 'month_y', 'MIN'], axis=1)\n",
    "df3.rename({'TEAM_x': 'TEAM', 'year_x': 'year', 'month_x': 'month'}, axis=1, inplace=True)\n",
    "print('DataFrame df3:')\n",
    "display(df3.head(1).append(df3.tail(1)))"
   ]
  },
  {
   "cell_type": "code",
   "execution_count": 15,
   "metadata": {
    "ExecuteTime": {
     "end_time": "2020-08-21T23:58:19.416538Z",
     "start_time": "2020-08-21T23:58:19.384296Z"
    }
   },
   "outputs": [
    {
     "name": "stdout",
     "output_type": "stream",
     "text": [
      "DataFrame df2_ready:\n"
     ]
    },
    {
     "data": {
      "text/html": [
       "<div>\n",
       "<style scoped>\n",
       "    .dataframe tbody tr th:only-of-type {\n",
       "        vertical-align: middle;\n",
       "    }\n",
       "\n",
       "    .dataframe tbody tr th {\n",
       "        vertical-align: top;\n",
       "    }\n",
       "\n",
       "    .dataframe thead th {\n",
       "        text-align: right;\n",
       "    }\n",
       "</style>\n",
       "<table border=\"1\" class=\"dataframe\">\n",
       "  <thead>\n",
       "    <tr style=\"text-align: right;\">\n",
       "      <th></th>\n",
       "      <th>TEAM</th>\n",
       "      <th>Team_id</th>\n",
       "      <th>year</th>\n",
       "      <th>month</th>\n",
       "      <th>FGA</th>\n",
       "      <th>FG_P</th>\n",
       "      <th>3PA</th>\n",
       "      <th>3P_P</th>\n",
       "      <th>OFFRTG</th>\n",
       "      <th>DEFRTG</th>\n",
       "      <th>REB_P</th>\n",
       "      <th>AST/TO</th>\n",
       "      <th>PACE</th>\n",
       "    </tr>\n",
       "  </thead>\n",
       "  <tbody>\n",
       "    <tr>\n",
       "      <td>0</td>\n",
       "      <td>Atlanta Hawks</td>\n",
       "      <td>Atlanta Hawks_10_2010</td>\n",
       "      <td>2010</td>\n",
       "      <td>10</td>\n",
       "      <td>77.0</td>\n",
       "      <td>48.5</td>\n",
       "      <td>17.3</td>\n",
       "      <td>36.5</td>\n",
       "      <td>112.2</td>\n",
       "      <td>104.5</td>\n",
       "      <td>53.5</td>\n",
       "      <td>1.21</td>\n",
       "      <td>95.67</td>\n",
       "    </tr>\n",
       "    <tr>\n",
       "      <td>1</td>\n",
       "      <td>Los Angeles Lakers</td>\n",
       "      <td>Los Angeles Lakers_10_2010</td>\n",
       "      <td>2010</td>\n",
       "      <td>10</td>\n",
       "      <td>93.0</td>\n",
       "      <td>44.8</td>\n",
       "      <td>22.3</td>\n",
       "      <td>40.3</td>\n",
       "      <td>112.1</td>\n",
       "      <td>101.0</td>\n",
       "      <td>51.6</td>\n",
       "      <td>1.56</td>\n",
       "      <td>98.83</td>\n",
       "    </tr>\n",
       "    <tr>\n",
       "      <td>2</td>\n",
       "      <td>New Orleans Hornets</td>\n",
       "      <td>New Orleans Hornets_10_2010</td>\n",
       "      <td>2010</td>\n",
       "      <td>10</td>\n",
       "      <td>78.0</td>\n",
       "      <td>47.4</td>\n",
       "      <td>15.0</td>\n",
       "      <td>37.8</td>\n",
       "      <td>104.2</td>\n",
       "      <td>97.5</td>\n",
       "      <td>48.9</td>\n",
       "      <td>1.65</td>\n",
       "      <td>94.33</td>\n",
       "    </tr>\n",
       "    <tr>\n",
       "      <td>2038</td>\n",
       "      <td>Orlando Magic</td>\n",
       "      <td>Orlando Magic_8_2020</td>\n",
       "      <td>2020</td>\n",
       "      <td>8</td>\n",
       "      <td>86.9</td>\n",
       "      <td>45.2</td>\n",
       "      <td>34.7</td>\n",
       "      <td>35.4</td>\n",
       "      <td>110.0</td>\n",
       "      <td>113.0</td>\n",
       "      <td>50.5</td>\n",
       "      <td>1.52</td>\n",
       "      <td>100.93</td>\n",
       "    </tr>\n",
       "    <tr>\n",
       "      <td>2039</td>\n",
       "      <td>Utah Jazz</td>\n",
       "      <td>Utah Jazz_8_2020</td>\n",
       "      <td>2020</td>\n",
       "      <td>8</td>\n",
       "      <td>90.4</td>\n",
       "      <td>44.2</td>\n",
       "      <td>43.3</td>\n",
       "      <td>37.0</td>\n",
       "      <td>110.2</td>\n",
       "      <td>114.5</td>\n",
       "      <td>50.8</td>\n",
       "      <td>1.56</td>\n",
       "      <td>100.58</td>\n",
       "    </tr>\n",
       "    <tr>\n",
       "      <td>2040</td>\n",
       "      <td>Washington Wizards</td>\n",
       "      <td>Washington Wizards_8_2020</td>\n",
       "      <td>2020</td>\n",
       "      <td>8</td>\n",
       "      <td>90.3</td>\n",
       "      <td>42.1</td>\n",
       "      <td>29.4</td>\n",
       "      <td>33.0</td>\n",
       "      <td>102.4</td>\n",
       "      <td>111.4</td>\n",
       "      <td>49.9</td>\n",
       "      <td>1.59</td>\n",
       "      <td>101.43</td>\n",
       "    </tr>\n",
       "  </tbody>\n",
       "</table>\n",
       "</div>"
      ],
      "text/plain": [
       "                     TEAM                      Team_id  year  month   FGA  \\\n",
       "0           Atlanta Hawks        Atlanta Hawks_10_2010  2010     10  77.0   \n",
       "1      Los Angeles Lakers   Los Angeles Lakers_10_2010  2010     10  93.0   \n",
       "2     New Orleans Hornets  New Orleans Hornets_10_2010  2010     10  78.0   \n",
       "2038        Orlando Magic         Orlando Magic_8_2020  2020      8  86.9   \n",
       "2039            Utah Jazz             Utah Jazz_8_2020  2020      8  90.4   \n",
       "2040   Washington Wizards    Washington Wizards_8_2020  2020      8  90.3   \n",
       "\n",
       "      FG_P   3PA  3P_P  OFFRTG  DEFRTG  REB_P  AST/TO    PACE  \n",
       "0     48.5  17.3  36.5   112.2   104.5   53.5    1.21   95.67  \n",
       "1     44.8  22.3  40.3   112.1   101.0   51.6    1.56   98.83  \n",
       "2     47.4  15.0  37.8   104.2    97.5   48.9    1.65   94.33  \n",
       "2038  45.2  34.7  35.4   110.0   113.0   50.5    1.52  100.93  \n",
       "2039  44.2  43.3  37.0   110.2   114.5   50.8    1.56  100.58  \n",
       "2040  42.1  29.4  33.0   102.4   111.4   49.9    1.59  101.43  "
      ]
     },
     "metadata": {},
     "output_type": "display_data"
    },
    {
     "name": "stdout",
     "output_type": "stream",
     "text": [
      "DataFrame df3_ready:\n"
     ]
    },
    {
     "data": {
      "text/html": [
       "<div>\n",
       "<style scoped>\n",
       "    .dataframe tbody tr th:only-of-type {\n",
       "        vertical-align: middle;\n",
       "    }\n",
       "\n",
       "    .dataframe tbody tr th {\n",
       "        vertical-align: top;\n",
       "    }\n",
       "\n",
       "    .dataframe thead th {\n",
       "        text-align: right;\n",
       "    }\n",
       "</style>\n",
       "<table border=\"1\" class=\"dataframe\">\n",
       "  <thead>\n",
       "    <tr style=\"text-align: right;\">\n",
       "      <th></th>\n",
       "      <th>TEAM</th>\n",
       "      <th>Team_id</th>\n",
       "      <th>year</th>\n",
       "      <th>month</th>\n",
       "      <th>FGA</th>\n",
       "      <th>FG_P</th>\n",
       "      <th>3PA</th>\n",
       "      <th>3P_P</th>\n",
       "      <th>OFFRTG</th>\n",
       "      <th>DEFRTG</th>\n",
       "      <th>REB_P</th>\n",
       "      <th>AST/TO</th>\n",
       "      <th>PACE</th>\n",
       "    </tr>\n",
       "  </thead>\n",
       "  <tbody>\n",
       "    <tr>\n",
       "      <td>0</td>\n",
       "      <td>Charlotte Hornets</td>\n",
       "      <td>Charlotte Hornets_10_2000</td>\n",
       "      <td>2000</td>\n",
       "      <td>10</td>\n",
       "      <td>62.0</td>\n",
       "      <td>56.5</td>\n",
       "      <td>9.0</td>\n",
       "      <td>55.6</td>\n",
       "      <td>114.0</td>\n",
       "      <td>89.1</td>\n",
       "      <td>56.6</td>\n",
       "      <td>0.94</td>\n",
       "      <td>92.50</td>\n",
       "    </tr>\n",
       "    <tr>\n",
       "      <td>1</td>\n",
       "      <td>Cleveland Cavaliers</td>\n",
       "      <td>Cleveland Cavaliers_10_2000</td>\n",
       "      <td>2000</td>\n",
       "      <td>10</td>\n",
       "      <td>78.0</td>\n",
       "      <td>41.0</td>\n",
       "      <td>7.0</td>\n",
       "      <td>28.6</td>\n",
       "      <td>87.8</td>\n",
       "      <td>83.7</td>\n",
       "      <td>52.3</td>\n",
       "      <td>0.84</td>\n",
       "      <td>98.00</td>\n",
       "    </tr>\n",
       "    <tr>\n",
       "      <td>2</td>\n",
       "      <td>Dallas Mavericks</td>\n",
       "      <td>Dallas Mavericks_10_2000</td>\n",
       "      <td>2000</td>\n",
       "      <td>10</td>\n",
       "      <td>88.0</td>\n",
       "      <td>39.8</td>\n",
       "      <td>25.0</td>\n",
       "      <td>36.0</td>\n",
       "      <td>99.0</td>\n",
       "      <td>93.9</td>\n",
       "      <td>51.4</td>\n",
       "      <td>1.22</td>\n",
       "      <td>98.50</td>\n",
       "    </tr>\n",
       "    <tr>\n",
       "      <td>2176</td>\n",
       "      <td>Sacramento Kings</td>\n",
       "      <td>Sacramento Kings_4_2010</td>\n",
       "      <td>2010</td>\n",
       "      <td>4</td>\n",
       "      <td>85.0</td>\n",
       "      <td>48.0</td>\n",
       "      <td>12.8</td>\n",
       "      <td>35.1</td>\n",
       "      <td>108.8</td>\n",
       "      <td>115.2</td>\n",
       "      <td>51.3</td>\n",
       "      <td>1.60</td>\n",
       "      <td>92.25</td>\n",
       "    </tr>\n",
       "    <tr>\n",
       "      <td>2177</td>\n",
       "      <td>Philadelphia 76ers</td>\n",
       "      <td>Philadelphia 76ers_4_2010</td>\n",
       "      <td>2010</td>\n",
       "      <td>4</td>\n",
       "      <td>79.3</td>\n",
       "      <td>52.4</td>\n",
       "      <td>21.6</td>\n",
       "      <td>41.1</td>\n",
       "      <td>114.4</td>\n",
       "      <td>118.9</td>\n",
       "      <td>47.5</td>\n",
       "      <td>1.95</td>\n",
       "      <td>92.06</td>\n",
       "    </tr>\n",
       "    <tr>\n",
       "      <td>2178</td>\n",
       "      <td>Minnesota Timberwolves</td>\n",
       "      <td>Minnesota Timberwolves_4_2010</td>\n",
       "      <td>2010</td>\n",
       "      <td>4</td>\n",
       "      <td>78.4</td>\n",
       "      <td>45.7</td>\n",
       "      <td>17.0</td>\n",
       "      <td>35.3</td>\n",
       "      <td>100.7</td>\n",
       "      <td>114.5</td>\n",
       "      <td>46.1</td>\n",
       "      <td>1.25</td>\n",
       "      <td>96.79</td>\n",
       "    </tr>\n",
       "  </tbody>\n",
       "</table>\n",
       "</div>"
      ],
      "text/plain": [
       "                        TEAM                        Team_id  year  month  \\\n",
       "0          Charlotte Hornets      Charlotte Hornets_10_2000  2000     10   \n",
       "1        Cleveland Cavaliers    Cleveland Cavaliers_10_2000  2000     10   \n",
       "2           Dallas Mavericks       Dallas Mavericks_10_2000  2000     10   \n",
       "2176        Sacramento Kings        Sacramento Kings_4_2010  2010      4   \n",
       "2177      Philadelphia 76ers      Philadelphia 76ers_4_2010  2010      4   \n",
       "2178  Minnesota Timberwolves  Minnesota Timberwolves_4_2010  2010      4   \n",
       "\n",
       "       FGA  FG_P   3PA  3P_P  OFFRTG  DEFRTG  REB_P  AST/TO   PACE  \n",
       "0     62.0  56.5   9.0  55.6   114.0    89.1   56.6    0.94  92.50  \n",
       "1     78.0  41.0   7.0  28.6    87.8    83.7   52.3    0.84  98.00  \n",
       "2     88.0  39.8  25.0  36.0    99.0    93.9   51.4    1.22  98.50  \n",
       "2176  85.0  48.0  12.8  35.1   108.8   115.2   51.3    1.60  92.25  \n",
       "2177  79.3  52.4  21.6  41.1   114.4   118.9   47.5    1.95  92.06  \n",
       "2178  78.4  45.7  17.0  35.3   100.7   114.5   46.1    1.25  96.79  "
      ]
     },
     "metadata": {},
     "output_type": "display_data"
    }
   ],
   "source": [
    "# Once again I'll deal first with df2 creating a new and reduced DataFramee called df2_ready\n",
    "df2_ready = df2[['TEAM', 'Team_id', 'year', 'month', 'FGA', 'FG_P', '3PA', '3P_P', 'OFFRTG', 'DEFRTG', 'REB_P', 'AST/TO', 'PACE']]\n",
    "print('DataFrame df2_ready:')\n",
    "display(df2_ready.head(3).append(df2_ready.tail(3)))\n",
    "\n",
    "# And now I'll deal with df3 creating as well a new summarized df3_ready:\n",
    "df3_ready = df3[['TEAM', 'Team_id', 'year', 'month', 'FGA', 'FG_P', '3PA', '3P_P', 'OFFRTG', 'DEFRTG', 'REB_P', 'AST/TO', 'PACE']]\n",
    "print('DataFrame df3_ready:')\n",
    "display(df3_ready.head(3).append(df3_ready.tail(3)))"
   ]
  },
  {
   "cell_type": "markdown",
   "metadata": {},
   "source": [
    "Just to summarize what I have done, so far we have cleaned and conditioned the three dataframes that were initially broken down into two each: df1a, df1b, df2a, df2b, df3a, and df3b. These Dataframes were separated by decades: from the year 2000 to 2010, and from the year 2010 to 2020. The idea is at the end to have just two DataFrames, one per decade with the selected categories (columns) to be used in the modeling for our predictions. Still I will have available the a considerably larger couple of Dataframes with the rest of the data just in case that any other column/category/stat wants to be added to the models. \n",
    "\n",
    "Remember that these stats columns were chosen following what the NBA Analysts used today to predict game results. However, as explained before, there are a lot of other factors that can contribute to an upset and those unfortunately are not accounted for on my models, therefore there will be a percentage of error on my predictions which I am expecting to be circa 30% which is more less what the NBA has.\n",
    "\n",
    "The next step is now to add these values to the initial DataFrame with the Game_Results (df1a and df1b) and then the data is model ready! So I will save at this point each DataFrame as separate .csv files and then proceed for the final Dataframes to be Model Ready..."
   ]
  },
  {
   "cell_type": "code",
   "execution_count": 16,
   "metadata": {
    "ExecuteTime": {
     "end_time": "2020-08-21T23:58:24.024311Z",
     "start_time": "2020-08-21T23:58:23.970536Z"
    }
   },
   "outputs": [],
   "source": [
    "df2_ready.to_csv('2010-2020_Monthly_Team_9MStats.csv')\n",
    "df3_ready.to_csv('2000-2010_Monthly_Team_9MStats.csv')"
   ]
  },
  {
   "cell_type": "markdown",
   "metadata": {},
   "source": [
    "# Building Model Ready DataFrames"
   ]
  },
  {
   "cell_type": "code",
   "execution_count": 17,
   "metadata": {
    "ExecuteTime": {
     "end_time": "2020-08-21T23:58:28.078069Z",
     "start_time": "2020-08-21T23:58:28.064058Z"
    }
   },
   "outputs": [
    {
     "data": {
      "text/html": [
       "<div>\n",
       "<style scoped>\n",
       "    .dataframe tbody tr th:only-of-type {\n",
       "        vertical-align: middle;\n",
       "    }\n",
       "\n",
       "    .dataframe tbody tr th {\n",
       "        vertical-align: top;\n",
       "    }\n",
       "\n",
       "    .dataframe thead th {\n",
       "        text-align: right;\n",
       "    }\n",
       "</style>\n",
       "<table border=\"1\" class=\"dataframe\">\n",
       "  <thead>\n",
       "    <tr style=\"text-align: right;\">\n",
       "      <th></th>\n",
       "      <th>Team1</th>\n",
       "      <th>Team1Score</th>\n",
       "      <th>Team2</th>\n",
       "      <th>Team2Score</th>\n",
       "      <th>year</th>\n",
       "      <th>month</th>\n",
       "      <th>Game_Result</th>\n",
       "    </tr>\n",
       "  </thead>\n",
       "  <tbody>\n",
       "    <tr>\n",
       "      <td>0</td>\n",
       "      <td>New Orleans Pelicans</td>\n",
       "      <td>122</td>\n",
       "      <td>Toronto Raptors</td>\n",
       "      <td>130</td>\n",
       "      <td>2019</td>\n",
       "      <td>10</td>\n",
       "      <td>1</td>\n",
       "    </tr>\n",
       "    <tr>\n",
       "      <td>1</td>\n",
       "      <td>Los Angeles Lakers</td>\n",
       "      <td>102</td>\n",
       "      <td>Los Angeles Clippers</td>\n",
       "      <td>112</td>\n",
       "      <td>2019</td>\n",
       "      <td>10</td>\n",
       "      <td>1</td>\n",
       "    </tr>\n",
       "  </tbody>\n",
       "</table>\n",
       "</div>"
      ],
      "text/plain": [
       "                  Team1  Team1Score                 Team2  Team2Score  year  \\\n",
       "0  New Orleans Pelicans         122       Toronto Raptors         130  2019   \n",
       "1    Los Angeles Lakers         102  Los Angeles Clippers         112  2019   \n",
       "\n",
       "   month  Game_Result  \n",
       "0     10            1  \n",
       "1     10            1  "
      ]
     },
     "metadata": {},
     "output_type": "display_data"
    },
    {
     "data": {
      "text/html": [
       "<div>\n",
       "<style scoped>\n",
       "    .dataframe tbody tr th:only-of-type {\n",
       "        vertical-align: middle;\n",
       "    }\n",
       "\n",
       "    .dataframe tbody tr th {\n",
       "        vertical-align: top;\n",
       "    }\n",
       "\n",
       "    .dataframe thead th {\n",
       "        text-align: right;\n",
       "    }\n",
       "</style>\n",
       "<table border=\"1\" class=\"dataframe\">\n",
       "  <thead>\n",
       "    <tr style=\"text-align: right;\">\n",
       "      <th></th>\n",
       "      <th>Team1</th>\n",
       "      <th>Team1Score</th>\n",
       "      <th>Team2</th>\n",
       "      <th>Team2Score</th>\n",
       "      <th>year</th>\n",
       "      <th>month</th>\n",
       "      <th>Game_Result</th>\n",
       "    </tr>\n",
       "  </thead>\n",
       "  <tbody>\n",
       "    <tr>\n",
       "      <td>0</td>\n",
       "      <td>Charlotte Hornets</td>\n",
       "      <td>106</td>\n",
       "      <td>Atlanta Hawks</td>\n",
       "      <td>82</td>\n",
       "      <td>2000</td>\n",
       "      <td>10</td>\n",
       "      <td>0</td>\n",
       "    </tr>\n",
       "    <tr>\n",
       "      <td>1</td>\n",
       "      <td>Cleveland Cavaliers</td>\n",
       "      <td>86</td>\n",
       "      <td>New Jersey Nets</td>\n",
       "      <td>82</td>\n",
       "      <td>2000</td>\n",
       "      <td>10</td>\n",
       "      <td>0</td>\n",
       "    </tr>\n",
       "  </tbody>\n",
       "</table>\n",
       "</div>"
      ],
      "text/plain": [
       "                 Team1  Team1Score            Team2  Team2Score  year  month  \\\n",
       "0    Charlotte Hornets         106    Atlanta Hawks          82  2000     10   \n",
       "1  Cleveland Cavaliers          86  New Jersey Nets          82  2000     10   \n",
       "\n",
       "   Game_Result  \n",
       "0            0  \n",
       "1            0  "
      ]
     },
     "metadata": {},
     "output_type": "display_data"
    }
   ],
   "source": [
    "results_a = df1a\n",
    "display(results_a.head(2))\n",
    "results_b = df1b\n",
    "display(results_b.head(2))"
   ]
  },
  {
   "cell_type": "code",
   "execution_count": 18,
   "metadata": {
    "ExecuteTime": {
     "end_time": "2020-08-21T23:58:32.727302Z",
     "start_time": "2020-08-21T23:58:32.706522Z"
    }
   },
   "outputs": [
    {
     "data": {
      "text/html": [
       "<div>\n",
       "<style scoped>\n",
       "    .dataframe tbody tr th:only-of-type {\n",
       "        vertical-align: middle;\n",
       "    }\n",
       "\n",
       "    .dataframe tbody tr th {\n",
       "        vertical-align: top;\n",
       "    }\n",
       "\n",
       "    .dataframe thead th {\n",
       "        text-align: right;\n",
       "    }\n",
       "</style>\n",
       "<table border=\"1\" class=\"dataframe\">\n",
       "  <thead>\n",
       "    <tr style=\"text-align: right;\">\n",
       "      <th></th>\n",
       "      <th>TEAM</th>\n",
       "      <th>Team_id</th>\n",
       "      <th>year</th>\n",
       "      <th>month</th>\n",
       "      <th>FGA</th>\n",
       "      <th>FG_P</th>\n",
       "      <th>3PA</th>\n",
       "      <th>3P_P</th>\n",
       "      <th>OFFRTG</th>\n",
       "      <th>DEFRTG</th>\n",
       "      <th>REB_P</th>\n",
       "      <th>AST/TO</th>\n",
       "      <th>PACE</th>\n",
       "    </tr>\n",
       "  </thead>\n",
       "  <tbody>\n",
       "    <tr>\n",
       "      <td>0</td>\n",
       "      <td>Atlanta Hawks</td>\n",
       "      <td>Atlanta Hawks_10_2010</td>\n",
       "      <td>2010</td>\n",
       "      <td>10</td>\n",
       "      <td>77.0</td>\n",
       "      <td>48.5</td>\n",
       "      <td>17.3</td>\n",
       "      <td>36.5</td>\n",
       "      <td>112.2</td>\n",
       "      <td>104.5</td>\n",
       "      <td>53.5</td>\n",
       "      <td>1.21</td>\n",
       "      <td>95.67</td>\n",
       "    </tr>\n",
       "  </tbody>\n",
       "</table>\n",
       "</div>"
      ],
      "text/plain": [
       "            TEAM                Team_id  year  month   FGA  FG_P   3PA  3P_P  \\\n",
       "0  Atlanta Hawks  Atlanta Hawks_10_2010  2010     10  77.0  48.5  17.3  36.5   \n",
       "\n",
       "   OFFRTG  DEFRTG  REB_P  AST/TO   PACE  \n",
       "0   112.2   104.5   53.5    1.21  95.67  "
      ]
     },
     "metadata": {},
     "output_type": "display_data"
    },
    {
     "data": {
      "text/html": [
       "<div>\n",
       "<style scoped>\n",
       "    .dataframe tbody tr th:only-of-type {\n",
       "        vertical-align: middle;\n",
       "    }\n",
       "\n",
       "    .dataframe tbody tr th {\n",
       "        vertical-align: top;\n",
       "    }\n",
       "\n",
       "    .dataframe thead th {\n",
       "        text-align: right;\n",
       "    }\n",
       "</style>\n",
       "<table border=\"1\" class=\"dataframe\">\n",
       "  <thead>\n",
       "    <tr style=\"text-align: right;\">\n",
       "      <th></th>\n",
       "      <th>TEAM</th>\n",
       "      <th>Team_id</th>\n",
       "      <th>year</th>\n",
       "      <th>month</th>\n",
       "      <th>FGA</th>\n",
       "      <th>FG_P</th>\n",
       "      <th>3PA</th>\n",
       "      <th>3P_P</th>\n",
       "      <th>OFFRTG</th>\n",
       "      <th>DEFRTG</th>\n",
       "      <th>REB_P</th>\n",
       "      <th>AST/TO</th>\n",
       "      <th>PACE</th>\n",
       "    </tr>\n",
       "  </thead>\n",
       "  <tbody>\n",
       "    <tr>\n",
       "      <td>0</td>\n",
       "      <td>Charlotte Hornets</td>\n",
       "      <td>Charlotte Hornets_10_2000</td>\n",
       "      <td>2000</td>\n",
       "      <td>10</td>\n",
       "      <td>62.0</td>\n",
       "      <td>56.5</td>\n",
       "      <td>9.0</td>\n",
       "      <td>55.6</td>\n",
       "      <td>114.0</td>\n",
       "      <td>89.1</td>\n",
       "      <td>56.6</td>\n",
       "      <td>0.94</td>\n",
       "      <td>92.5</td>\n",
       "    </tr>\n",
       "  </tbody>\n",
       "</table>\n",
       "</div>"
      ],
      "text/plain": [
       "                TEAM                    Team_id  year  month   FGA  FG_P  3PA  \\\n",
       "0  Charlotte Hornets  Charlotte Hornets_10_2000  2000     10  62.0  56.5  9.0   \n",
       "\n",
       "   3P_P  OFFRTG  DEFRTG  REB_P  AST/TO  PACE  \n",
       "0  55.6   114.0    89.1   56.6    0.94  92.5  "
      ]
     },
     "metadata": {},
     "output_type": "display_data"
    }
   ],
   "source": [
    "stats_a = df2_ready\n",
    "display(stats_a.head(1))\n",
    "stats_b = df3_ready\n",
    "display(stats_b.head(1))"
   ]
  },
  {
   "cell_type": "markdown",
   "metadata": {},
   "source": [
    "Now, in order to merge these tables I will need to create new columns as I previously did for the initial merge. In that initial merge that I have now called stats_a and stats_b respectively, I preserved that Team_id column, so I will only need to make new ones for the results_a and results_b DataFrame."
   ]
  },
  {
   "cell_type": "code",
   "execution_count": 19,
   "metadata": {
    "ExecuteTime": {
     "end_time": "2020-08-21T23:58:38.251002Z",
     "start_time": "2020-08-21T23:58:38.171191Z"
    }
   },
   "outputs": [],
   "source": [
    "# Engineering new columns for results_a DataFrame\n",
    "results_a['Team1_id'] = results_a['Team1'].astype(str)+'_'+results_a['month'].astype(str)+'_'+results_a['year'].astype(str)\n",
    "results_a['Team2_id'] = results_a['Team2'].astype(str)+'_'+results_a['month'].astype(str)+'_'+results_a['year'].astype(str)\n",
    "\n",
    "#Engineering new columns for results_b DataFrame\n",
    "results_b['Team1_id'] = results_b['Team1'].astype(str)+'_'+results_b['month'].astype(str)+'_'+results_b['year'].astype(str)\n",
    "results_b['Team2_id'] = results_b['Team2'].astype(str)+'_'+results_b['month'].astype(str)+'_'+results_b['year'].astype(str)"
   ]
  },
  {
   "cell_type": "markdown",
   "metadata": {},
   "source": [
    "We are all set for our final merge, but before a last fast QC by looking at the possible missing values, the first two rows of each DataFrames and their respectives shapes:"
   ]
  },
  {
   "cell_type": "code",
   "execution_count": 20,
   "metadata": {
    "ExecuteTime": {
     "end_time": "2020-08-21T23:58:43.319468Z",
     "start_time": "2020-08-21T23:58:43.300821Z"
    }
   },
   "outputs": [
    {
     "name": "stdout",
     "output_type": "stream",
     "text": [
      "Total number of missing values for each DataFrame:\n",
      "=================================================\n",
      "results_a: 0\n",
      "results_b: 0\n",
      "stats_a: 0\n",
      "stats_b: 0\n"
     ]
    }
   ],
   "source": [
    "print(\"Total number of missing values for each DataFrame:\")\n",
    "print(\"=================================================\")\n",
    "print(\"results_a:\", results_a.isna().sum().sum())\n",
    "print(\"results_b:\", results_b.isna().sum().sum())\n",
    "print(\"stats_a:\", stats_a.isna().sum().sum())\n",
    "print(\"stats_b:\", stats_b.isna().sum().sum())"
   ]
  },
  {
   "cell_type": "code",
   "execution_count": 21,
   "metadata": {
    "ExecuteTime": {
     "end_time": "2020-08-21T23:58:48.807970Z",
     "start_time": "2020-08-21T23:58:48.766013Z"
    }
   },
   "outputs": [
    {
     "data": {
      "text/plain": [
       "(12232, 9)"
      ]
     },
     "metadata": {},
     "output_type": "display_data"
    },
    {
     "data": {
      "text/html": [
       "<div>\n",
       "<style scoped>\n",
       "    .dataframe tbody tr th:only-of-type {\n",
       "        vertical-align: middle;\n",
       "    }\n",
       "\n",
       "    .dataframe tbody tr th {\n",
       "        vertical-align: top;\n",
       "    }\n",
       "\n",
       "    .dataframe thead th {\n",
       "        text-align: right;\n",
       "    }\n",
       "</style>\n",
       "<table border=\"1\" class=\"dataframe\">\n",
       "  <thead>\n",
       "    <tr style=\"text-align: right;\">\n",
       "      <th></th>\n",
       "      <th>Team1</th>\n",
       "      <th>Team1Score</th>\n",
       "      <th>Team2</th>\n",
       "      <th>Team2Score</th>\n",
       "      <th>year</th>\n",
       "      <th>month</th>\n",
       "      <th>Game_Result</th>\n",
       "      <th>Team1_id</th>\n",
       "      <th>Team2_id</th>\n",
       "    </tr>\n",
       "  </thead>\n",
       "  <tbody>\n",
       "    <tr>\n",
       "      <td>0</td>\n",
       "      <td>New Orleans Pelicans</td>\n",
       "      <td>122</td>\n",
       "      <td>Toronto Raptors</td>\n",
       "      <td>130</td>\n",
       "      <td>2019</td>\n",
       "      <td>10</td>\n",
       "      <td>1</td>\n",
       "      <td>New Orleans Pelicans_10_2019</td>\n",
       "      <td>Toronto Raptors_10_2019</td>\n",
       "    </tr>\n",
       "    <tr>\n",
       "      <td>1</td>\n",
       "      <td>Los Angeles Lakers</td>\n",
       "      <td>102</td>\n",
       "      <td>Los Angeles Clippers</td>\n",
       "      <td>112</td>\n",
       "      <td>2019</td>\n",
       "      <td>10</td>\n",
       "      <td>1</td>\n",
       "      <td>Los Angeles Lakers_10_2019</td>\n",
       "      <td>Los Angeles Clippers_10_2019</td>\n",
       "    </tr>\n",
       "  </tbody>\n",
       "</table>\n",
       "</div>"
      ],
      "text/plain": [
       "                  Team1  Team1Score                 Team2  Team2Score  year  \\\n",
       "0  New Orleans Pelicans         122       Toronto Raptors         130  2019   \n",
       "1    Los Angeles Lakers         102  Los Angeles Clippers         112  2019   \n",
       "\n",
       "   month  Game_Result                      Team1_id  \\\n",
       "0     10            1  New Orleans Pelicans_10_2019   \n",
       "1     10            1    Los Angeles Lakers_10_2019   \n",
       "\n",
       "                       Team2_id  \n",
       "0       Toronto Raptors_10_2019  \n",
       "1  Los Angeles Clippers_10_2019  "
      ]
     },
     "metadata": {},
     "output_type": "display_data"
    },
    {
     "data": {
      "text/plain": [
       "(2041, 13)"
      ]
     },
     "metadata": {},
     "output_type": "display_data"
    },
    {
     "data": {
      "text/html": [
       "<div>\n",
       "<style scoped>\n",
       "    .dataframe tbody tr th:only-of-type {\n",
       "        vertical-align: middle;\n",
       "    }\n",
       "\n",
       "    .dataframe tbody tr th {\n",
       "        vertical-align: top;\n",
       "    }\n",
       "\n",
       "    .dataframe thead th {\n",
       "        text-align: right;\n",
       "    }\n",
       "</style>\n",
       "<table border=\"1\" class=\"dataframe\">\n",
       "  <thead>\n",
       "    <tr style=\"text-align: right;\">\n",
       "      <th></th>\n",
       "      <th>TEAM</th>\n",
       "      <th>Team_id</th>\n",
       "      <th>year</th>\n",
       "      <th>month</th>\n",
       "      <th>FGA</th>\n",
       "      <th>FG_P</th>\n",
       "      <th>3PA</th>\n",
       "      <th>3P_P</th>\n",
       "      <th>OFFRTG</th>\n",
       "      <th>DEFRTG</th>\n",
       "      <th>REB_P</th>\n",
       "      <th>AST/TO</th>\n",
       "      <th>PACE</th>\n",
       "    </tr>\n",
       "  </thead>\n",
       "  <tbody>\n",
       "    <tr>\n",
       "      <td>0</td>\n",
       "      <td>Atlanta Hawks</td>\n",
       "      <td>Atlanta Hawks_10_2010</td>\n",
       "      <td>2010</td>\n",
       "      <td>10</td>\n",
       "      <td>77.0</td>\n",
       "      <td>48.5</td>\n",
       "      <td>17.3</td>\n",
       "      <td>36.5</td>\n",
       "      <td>112.2</td>\n",
       "      <td>104.5</td>\n",
       "      <td>53.5</td>\n",
       "      <td>1.21</td>\n",
       "      <td>95.67</td>\n",
       "    </tr>\n",
       "    <tr>\n",
       "      <td>1</td>\n",
       "      <td>Los Angeles Lakers</td>\n",
       "      <td>Los Angeles Lakers_10_2010</td>\n",
       "      <td>2010</td>\n",
       "      <td>10</td>\n",
       "      <td>93.0</td>\n",
       "      <td>44.8</td>\n",
       "      <td>22.3</td>\n",
       "      <td>40.3</td>\n",
       "      <td>112.1</td>\n",
       "      <td>101.0</td>\n",
       "      <td>51.6</td>\n",
       "      <td>1.56</td>\n",
       "      <td>98.83</td>\n",
       "    </tr>\n",
       "  </tbody>\n",
       "</table>\n",
       "</div>"
      ],
      "text/plain": [
       "                 TEAM                     Team_id  year  month   FGA  FG_P  \\\n",
       "0       Atlanta Hawks       Atlanta Hawks_10_2010  2010     10  77.0  48.5   \n",
       "1  Los Angeles Lakers  Los Angeles Lakers_10_2010  2010     10  93.0  44.8   \n",
       "\n",
       "    3PA  3P_P  OFFRTG  DEFRTG  REB_P  AST/TO   PACE  \n",
       "0  17.3  36.5   112.2   104.5   53.5    1.21  95.67  \n",
       "1  22.3  40.3   112.1   101.0   51.6    1.56  98.83  "
      ]
     },
     "metadata": {},
     "output_type": "display_data"
    },
    {
     "data": {
      "text/plain": [
       "(12142, 9)"
      ]
     },
     "metadata": {},
     "output_type": "display_data"
    },
    {
     "data": {
      "text/html": [
       "<div>\n",
       "<style scoped>\n",
       "    .dataframe tbody tr th:only-of-type {\n",
       "        vertical-align: middle;\n",
       "    }\n",
       "\n",
       "    .dataframe tbody tr th {\n",
       "        vertical-align: top;\n",
       "    }\n",
       "\n",
       "    .dataframe thead th {\n",
       "        text-align: right;\n",
       "    }\n",
       "</style>\n",
       "<table border=\"1\" class=\"dataframe\">\n",
       "  <thead>\n",
       "    <tr style=\"text-align: right;\">\n",
       "      <th></th>\n",
       "      <th>Team1</th>\n",
       "      <th>Team1Score</th>\n",
       "      <th>Team2</th>\n",
       "      <th>Team2Score</th>\n",
       "      <th>year</th>\n",
       "      <th>month</th>\n",
       "      <th>Game_Result</th>\n",
       "      <th>Team1_id</th>\n",
       "      <th>Team2_id</th>\n",
       "    </tr>\n",
       "  </thead>\n",
       "  <tbody>\n",
       "    <tr>\n",
       "      <td>0</td>\n",
       "      <td>Charlotte Hornets</td>\n",
       "      <td>106</td>\n",
       "      <td>Atlanta Hawks</td>\n",
       "      <td>82</td>\n",
       "      <td>2000</td>\n",
       "      <td>10</td>\n",
       "      <td>0</td>\n",
       "      <td>Charlotte Hornets_10_2000</td>\n",
       "      <td>Atlanta Hawks_10_2000</td>\n",
       "    </tr>\n",
       "    <tr>\n",
       "      <td>1</td>\n",
       "      <td>Cleveland Cavaliers</td>\n",
       "      <td>86</td>\n",
       "      <td>New Jersey Nets</td>\n",
       "      <td>82</td>\n",
       "      <td>2000</td>\n",
       "      <td>10</td>\n",
       "      <td>0</td>\n",
       "      <td>Cleveland Cavaliers_10_2000</td>\n",
       "      <td>New Jersey Nets_10_2000</td>\n",
       "    </tr>\n",
       "  </tbody>\n",
       "</table>\n",
       "</div>"
      ],
      "text/plain": [
       "                 Team1  Team1Score            Team2  Team2Score  year  month  \\\n",
       "0    Charlotte Hornets         106    Atlanta Hawks          82  2000     10   \n",
       "1  Cleveland Cavaliers          86  New Jersey Nets          82  2000     10   \n",
       "\n",
       "   Game_Result                     Team1_id                 Team2_id  \n",
       "0            0    Charlotte Hornets_10_2000    Atlanta Hawks_10_2000  \n",
       "1            0  Cleveland Cavaliers_10_2000  New Jersey Nets_10_2000  "
      ]
     },
     "metadata": {},
     "output_type": "display_data"
    },
    {
     "data": {
      "text/plain": [
       "(2179, 13)"
      ]
     },
     "metadata": {},
     "output_type": "display_data"
    },
    {
     "data": {
      "text/html": [
       "<div>\n",
       "<style scoped>\n",
       "    .dataframe tbody tr th:only-of-type {\n",
       "        vertical-align: middle;\n",
       "    }\n",
       "\n",
       "    .dataframe tbody tr th {\n",
       "        vertical-align: top;\n",
       "    }\n",
       "\n",
       "    .dataframe thead th {\n",
       "        text-align: right;\n",
       "    }\n",
       "</style>\n",
       "<table border=\"1\" class=\"dataframe\">\n",
       "  <thead>\n",
       "    <tr style=\"text-align: right;\">\n",
       "      <th></th>\n",
       "      <th>TEAM</th>\n",
       "      <th>Team_id</th>\n",
       "      <th>year</th>\n",
       "      <th>month</th>\n",
       "      <th>FGA</th>\n",
       "      <th>FG_P</th>\n",
       "      <th>3PA</th>\n",
       "      <th>3P_P</th>\n",
       "      <th>OFFRTG</th>\n",
       "      <th>DEFRTG</th>\n",
       "      <th>REB_P</th>\n",
       "      <th>AST/TO</th>\n",
       "      <th>PACE</th>\n",
       "    </tr>\n",
       "  </thead>\n",
       "  <tbody>\n",
       "    <tr>\n",
       "      <td>0</td>\n",
       "      <td>Charlotte Hornets</td>\n",
       "      <td>Charlotte Hornets_10_2000</td>\n",
       "      <td>2000</td>\n",
       "      <td>10</td>\n",
       "      <td>62.0</td>\n",
       "      <td>56.5</td>\n",
       "      <td>9.0</td>\n",
       "      <td>55.6</td>\n",
       "      <td>114.0</td>\n",
       "      <td>89.1</td>\n",
       "      <td>56.6</td>\n",
       "      <td>0.94</td>\n",
       "      <td>92.5</td>\n",
       "    </tr>\n",
       "    <tr>\n",
       "      <td>1</td>\n",
       "      <td>Cleveland Cavaliers</td>\n",
       "      <td>Cleveland Cavaliers_10_2000</td>\n",
       "      <td>2000</td>\n",
       "      <td>10</td>\n",
       "      <td>78.0</td>\n",
       "      <td>41.0</td>\n",
       "      <td>7.0</td>\n",
       "      <td>28.6</td>\n",
       "      <td>87.8</td>\n",
       "      <td>83.7</td>\n",
       "      <td>52.3</td>\n",
       "      <td>0.84</td>\n",
       "      <td>98.0</td>\n",
       "    </tr>\n",
       "  </tbody>\n",
       "</table>\n",
       "</div>"
      ],
      "text/plain": [
       "                  TEAM                      Team_id  year  month   FGA  FG_P  \\\n",
       "0    Charlotte Hornets    Charlotte Hornets_10_2000  2000     10  62.0  56.5   \n",
       "1  Cleveland Cavaliers  Cleveland Cavaliers_10_2000  2000     10  78.0  41.0   \n",
       "\n",
       "   3PA  3P_P  OFFRTG  DEFRTG  REB_P  AST/TO  PACE  \n",
       "0  9.0  55.6   114.0    89.1   56.6    0.94  92.5  \n",
       "1  7.0  28.6    87.8    83.7   52.3    0.84  98.0  "
      ]
     },
     "metadata": {},
     "output_type": "display_data"
    }
   ],
   "source": [
    "# Displays and shapes of the results_a and stats_a before being merged together:\n",
    "display(results_a.shape)\n",
    "display(results_a.head(2))\n",
    "display(stats_a.shape)\n",
    "display(stats_a.head(2))\n",
    "\n",
    "# Displays and shapes of the results_b and stats_b before being merged together\n",
    "display(results_b.shape)\n",
    "display(results_b.head(2))\n",
    "display(stats_b.shape)\n",
    "display(stats_b.head(2))"
   ]
  },
  {
   "cell_type": "markdown",
   "metadata": {},
   "source": [
    "Now by displaying the DataFramess yo can see the similarities between the TEAM_id, Team1_id, and Team2_id columns. In fact they have exactly the same content in terms of games and dates. I can imagine that now it is easier for the reader to understand the workflow, as you can picture how the merges will take place using those columns\n",
    "\n",
    "Now to the most important part of the process...merging the DataFrames to have one model ready output per decade:"
   ]
  },
  {
   "cell_type": "code",
   "execution_count": 22,
   "metadata": {
    "ExecuteTime": {
     "end_time": "2020-08-21T23:58:54.186499Z",
     "start_time": "2020-08-21T23:58:54.154616Z"
    }
   },
   "outputs": [],
   "source": [
    "# Merge for the results_a and stats_a pair:\n",
    "df_merge_a = results_a.merge(\n",
    "    stats_a.add_prefix('Team1_'), left_on='Team1_id', right_on='Team1_Team_id',how='left').merge(\n",
    "    stats_a.add_prefix('Team2_'), left_on='Team2_id', right_on='Team2_Team_id',how='left').drop(\n",
    "    columns= ['Team1_id','Team2_id','Team1_Team_id','Team2_Team_id','Team1_TEAM','Team2_TEAM'])"
   ]
  },
  {
   "cell_type": "code",
   "execution_count": 23,
   "metadata": {
    "ExecuteTime": {
     "end_time": "2020-08-21T23:59:00.015522Z",
     "start_time": "2020-08-21T23:58:59.985834Z"
    }
   },
   "outputs": [],
   "source": [
    "# Merge for the results_b and stats_b pair:\n",
    "df_merge_b = results_b.merge(\n",
    "    stats_b.add_prefix('Team1_'), left_on='Team1_id', right_on='Team1_Team_id',how='left').merge(\n",
    "    stats_b.add_prefix('Team2_'), left_on='Team2_id', right_on='Team2_Team_id',how='left').drop(\n",
    "    columns= ['Team1_id','Team2_id','Team1_Team_id','Team2_Team_id','Team1_TEAM','Team2_TEAM'])"
   ]
  },
  {
   "cell_type": "markdown",
   "metadata": {},
   "source": [
    "Both merged DataFrames are ready, so lets have a quick look at them:"
   ]
  },
  {
   "cell_type": "code",
   "execution_count": 24,
   "metadata": {
    "ExecuteTime": {
     "end_time": "2020-08-21T23:59:06.531389Z",
     "start_time": "2020-08-21T23:59:06.476212Z"
    }
   },
   "outputs": [
    {
     "name": "stdout",
     "output_type": "stream",
     "text": [
      "df_merge_a\n"
     ]
    },
    {
     "data": {
      "text/html": [
       "<div>\n",
       "<style scoped>\n",
       "    .dataframe tbody tr th:only-of-type {\n",
       "        vertical-align: middle;\n",
       "    }\n",
       "\n",
       "    .dataframe tbody tr th {\n",
       "        vertical-align: top;\n",
       "    }\n",
       "\n",
       "    .dataframe thead th {\n",
       "        text-align: right;\n",
       "    }\n",
       "</style>\n",
       "<table border=\"1\" class=\"dataframe\">\n",
       "  <thead>\n",
       "    <tr style=\"text-align: right;\">\n",
       "      <th></th>\n",
       "      <th>Team1</th>\n",
       "      <th>Team1Score</th>\n",
       "      <th>Team2</th>\n",
       "      <th>Team2Score</th>\n",
       "      <th>year</th>\n",
       "      <th>month</th>\n",
       "      <th>Game_Result</th>\n",
       "      <th>Team1_year</th>\n",
       "      <th>Team1_month</th>\n",
       "      <th>Team1_FGA</th>\n",
       "      <th>Team1_FG_P</th>\n",
       "      <th>Team1_3PA</th>\n",
       "      <th>Team1_3P_P</th>\n",
       "      <th>Team1_OFFRTG</th>\n",
       "      <th>Team1_DEFRTG</th>\n",
       "      <th>Team1_REB_P</th>\n",
       "      <th>Team1_AST/TO</th>\n",
       "      <th>Team1_PACE</th>\n",
       "      <th>Team2_year</th>\n",
       "      <th>Team2_month</th>\n",
       "      <th>Team2_FGA</th>\n",
       "      <th>Team2_FG_P</th>\n",
       "      <th>Team2_3PA</th>\n",
       "      <th>Team2_3P_P</th>\n",
       "      <th>Team2_OFFRTG</th>\n",
       "      <th>Team2_DEFRTG</th>\n",
       "      <th>Team2_REB_P</th>\n",
       "      <th>Team2_AST/TO</th>\n",
       "      <th>Team2_PACE</th>\n",
       "    </tr>\n",
       "  </thead>\n",
       "  <tbody>\n",
       "    <tr>\n",
       "      <td>0</td>\n",
       "      <td>New Orleans Pelicans</td>\n",
       "      <td>122</td>\n",
       "      <td>Toronto Raptors</td>\n",
       "      <td>130</td>\n",
       "      <td>2019</td>\n",
       "      <td>10</td>\n",
       "      <td>1</td>\n",
       "      <td>2019.0</td>\n",
       "      <td>10.0</td>\n",
       "      <td>96.0</td>\n",
       "      <td>46.5</td>\n",
       "      <td>43.2</td>\n",
       "      <td>38.0</td>\n",
       "      <td>112.2</td>\n",
       "      <td>114.2</td>\n",
       "      <td>46.9</td>\n",
       "      <td>1.89</td>\n",
       "      <td>106.09</td>\n",
       "      <td>2019.0</td>\n",
       "      <td>10.0</td>\n",
       "      <td>86.8</td>\n",
       "      <td>46.3</td>\n",
       "      <td>36.8</td>\n",
       "      <td>38.0</td>\n",
       "      <td>107.5</td>\n",
       "      <td>99.1</td>\n",
       "      <td>51.1</td>\n",
       "      <td>1.26</td>\n",
       "      <td>104.23</td>\n",
       "    </tr>\n",
       "    <tr>\n",
       "      <td>1</td>\n",
       "      <td>Los Angeles Lakers</td>\n",
       "      <td>102</td>\n",
       "      <td>Los Angeles Clippers</td>\n",
       "      <td>112</td>\n",
       "      <td>2019</td>\n",
       "      <td>10</td>\n",
       "      <td>1</td>\n",
       "      <td>2019.0</td>\n",
       "      <td>10.0</td>\n",
       "      <td>87.5</td>\n",
       "      <td>45.7</td>\n",
       "      <td>29.0</td>\n",
       "      <td>33.6</td>\n",
       "      <td>107.9</td>\n",
       "      <td>96.8</td>\n",
       "      <td>51.4</td>\n",
       "      <td>1.54</td>\n",
       "      <td>101.00</td>\n",
       "      <td>2019.0</td>\n",
       "      <td>10.0</td>\n",
       "      <td>84.0</td>\n",
       "      <td>49.6</td>\n",
       "      <td>29.5</td>\n",
       "      <td>36.7</td>\n",
       "      <td>112.9</td>\n",
       "      <td>107.5</td>\n",
       "      <td>49.6</td>\n",
       "      <td>1.35</td>\n",
       "      <td>101.50</td>\n",
       "    </tr>\n",
       "    <tr>\n",
       "      <td>2</td>\n",
       "      <td>Chicago Bulls</td>\n",
       "      <td>125</td>\n",
       "      <td>Charlotte Hornets</td>\n",
       "      <td>126</td>\n",
       "      <td>2019</td>\n",
       "      <td>10</td>\n",
       "      <td>1</td>\n",
       "      <td>2019.0</td>\n",
       "      <td>10.0</td>\n",
       "      <td>94.0</td>\n",
       "      <td>41.1</td>\n",
       "      <td>36.2</td>\n",
       "      <td>29.3</td>\n",
       "      <td>103.7</td>\n",
       "      <td>109.6</td>\n",
       "      <td>45.2</td>\n",
       "      <td>1.81</td>\n",
       "      <td>101.80</td>\n",
       "      <td>2019.0</td>\n",
       "      <td>10.0</td>\n",
       "      <td>86.0</td>\n",
       "      <td>46.3</td>\n",
       "      <td>35.8</td>\n",
       "      <td>41.9</td>\n",
       "      <td>104.9</td>\n",
       "      <td>114.2</td>\n",
       "      <td>47.3</td>\n",
       "      <td>1.30</td>\n",
       "      <td>103.00</td>\n",
       "    </tr>\n",
       "    <tr>\n",
       "      <td>3</td>\n",
       "      <td>Detroit Pistons</td>\n",
       "      <td>119</td>\n",
       "      <td>Indiana Pacers</td>\n",
       "      <td>110</td>\n",
       "      <td>2019</td>\n",
       "      <td>10</td>\n",
       "      <td>0</td>\n",
       "      <td>2019.0</td>\n",
       "      <td>10.0</td>\n",
       "      <td>81.6</td>\n",
       "      <td>47.8</td>\n",
       "      <td>26.8</td>\n",
       "      <td>41.8</td>\n",
       "      <td>106.3</td>\n",
       "      <td>110.4</td>\n",
       "      <td>50.9</td>\n",
       "      <td>1.23</td>\n",
       "      <td>101.70</td>\n",
       "      <td>2019.0</td>\n",
       "      <td>10.0</td>\n",
       "      <td>91.5</td>\n",
       "      <td>44.8</td>\n",
       "      <td>24.0</td>\n",
       "      <td>36.5</td>\n",
       "      <td>105.3</td>\n",
       "      <td>108.5</td>\n",
       "      <td>45.8</td>\n",
       "      <td>2.00</td>\n",
       "      <td>99.88</td>\n",
       "    </tr>\n",
       "    <tr>\n",
       "      <td>4</td>\n",
       "      <td>Cleveland Cavaliers</td>\n",
       "      <td>85</td>\n",
       "      <td>Orlando Magic</td>\n",
       "      <td>94</td>\n",
       "      <td>2019</td>\n",
       "      <td>10</td>\n",
       "      <td>1</td>\n",
       "      <td>2019.0</td>\n",
       "      <td>10.0</td>\n",
       "      <td>86.5</td>\n",
       "      <td>46.0</td>\n",
       "      <td>32.0</td>\n",
       "      <td>32.8</td>\n",
       "      <td>105.5</td>\n",
       "      <td>107.7</td>\n",
       "      <td>53.1</td>\n",
       "      <td>1.32</td>\n",
       "      <td>100.50</td>\n",
       "      <td>2019.0</td>\n",
       "      <td>10.0</td>\n",
       "      <td>90.5</td>\n",
       "      <td>39.5</td>\n",
       "      <td>33.0</td>\n",
       "      <td>28.8</td>\n",
       "      <td>97.2</td>\n",
       "      <td>94.7</td>\n",
       "      <td>49.2</td>\n",
       "      <td>1.77</td>\n",
       "      <td>98.75</td>\n",
       "    </tr>\n",
       "  </tbody>\n",
       "</table>\n",
       "</div>"
      ],
      "text/plain": [
       "                  Team1  Team1Score                 Team2  Team2Score  year  \\\n",
       "0  New Orleans Pelicans         122       Toronto Raptors         130  2019   \n",
       "1    Los Angeles Lakers         102  Los Angeles Clippers         112  2019   \n",
       "2         Chicago Bulls         125     Charlotte Hornets         126  2019   \n",
       "3       Detroit Pistons         119        Indiana Pacers         110  2019   \n",
       "4   Cleveland Cavaliers          85         Orlando Magic          94  2019   \n",
       "\n",
       "   month  Game_Result  Team1_year  Team1_month  Team1_FGA  Team1_FG_P  \\\n",
       "0     10            1      2019.0         10.0       96.0        46.5   \n",
       "1     10            1      2019.0         10.0       87.5        45.7   \n",
       "2     10            1      2019.0         10.0       94.0        41.1   \n",
       "3     10            0      2019.0         10.0       81.6        47.8   \n",
       "4     10            1      2019.0         10.0       86.5        46.0   \n",
       "\n",
       "   Team1_3PA  Team1_3P_P  Team1_OFFRTG  Team1_DEFRTG  Team1_REB_P  \\\n",
       "0       43.2        38.0         112.2         114.2         46.9   \n",
       "1       29.0        33.6         107.9          96.8         51.4   \n",
       "2       36.2        29.3         103.7         109.6         45.2   \n",
       "3       26.8        41.8         106.3         110.4         50.9   \n",
       "4       32.0        32.8         105.5         107.7         53.1   \n",
       "\n",
       "   Team1_AST/TO  Team1_PACE  Team2_year  Team2_month  Team2_FGA  Team2_FG_P  \\\n",
       "0          1.89      106.09      2019.0         10.0       86.8        46.3   \n",
       "1          1.54      101.00      2019.0         10.0       84.0        49.6   \n",
       "2          1.81      101.80      2019.0         10.0       86.0        46.3   \n",
       "3          1.23      101.70      2019.0         10.0       91.5        44.8   \n",
       "4          1.32      100.50      2019.0         10.0       90.5        39.5   \n",
       "\n",
       "   Team2_3PA  Team2_3P_P  Team2_OFFRTG  Team2_DEFRTG  Team2_REB_P  \\\n",
       "0       36.8        38.0         107.5          99.1         51.1   \n",
       "1       29.5        36.7         112.9         107.5         49.6   \n",
       "2       35.8        41.9         104.9         114.2         47.3   \n",
       "3       24.0        36.5         105.3         108.5         45.8   \n",
       "4       33.0        28.8          97.2          94.7         49.2   \n",
       "\n",
       "   Team2_AST/TO  Team2_PACE  \n",
       "0          1.26      104.23  \n",
       "1          1.35      101.50  \n",
       "2          1.30      103.00  \n",
       "3          2.00       99.88  \n",
       "4          1.77       98.75  "
      ]
     },
     "metadata": {},
     "output_type": "display_data"
    },
    {
     "name": "stdout",
     "output_type": "stream",
     "text": [
      "Shape of df_merge_a: (12233, 29)\n",
      " \n",
      "======================================================================================\n",
      " \n",
      "df_merge_b\n"
     ]
    },
    {
     "data": {
      "text/html": [
       "<div>\n",
       "<style scoped>\n",
       "    .dataframe tbody tr th:only-of-type {\n",
       "        vertical-align: middle;\n",
       "    }\n",
       "\n",
       "    .dataframe tbody tr th {\n",
       "        vertical-align: top;\n",
       "    }\n",
       "\n",
       "    .dataframe thead th {\n",
       "        text-align: right;\n",
       "    }\n",
       "</style>\n",
       "<table border=\"1\" class=\"dataframe\">\n",
       "  <thead>\n",
       "    <tr style=\"text-align: right;\">\n",
       "      <th></th>\n",
       "      <th>Team1</th>\n",
       "      <th>Team1Score</th>\n",
       "      <th>Team2</th>\n",
       "      <th>Team2Score</th>\n",
       "      <th>year</th>\n",
       "      <th>month</th>\n",
       "      <th>Game_Result</th>\n",
       "      <th>Team1_year</th>\n",
       "      <th>Team1_month</th>\n",
       "      <th>Team1_FGA</th>\n",
       "      <th>Team1_FG_P</th>\n",
       "      <th>Team1_3PA</th>\n",
       "      <th>Team1_3P_P</th>\n",
       "      <th>Team1_OFFRTG</th>\n",
       "      <th>Team1_DEFRTG</th>\n",
       "      <th>Team1_REB_P</th>\n",
       "      <th>Team1_AST/TO</th>\n",
       "      <th>Team1_PACE</th>\n",
       "      <th>Team2_year</th>\n",
       "      <th>Team2_month</th>\n",
       "      <th>Team2_FGA</th>\n",
       "      <th>Team2_FG_P</th>\n",
       "      <th>Team2_3PA</th>\n",
       "      <th>Team2_3P_P</th>\n",
       "      <th>Team2_OFFRTG</th>\n",
       "      <th>Team2_DEFRTG</th>\n",
       "      <th>Team2_REB_P</th>\n",
       "      <th>Team2_AST/TO</th>\n",
       "      <th>Team2_PACE</th>\n",
       "    </tr>\n",
       "  </thead>\n",
       "  <tbody>\n",
       "    <tr>\n",
       "      <td>0</td>\n",
       "      <td>Charlotte Hornets</td>\n",
       "      <td>106</td>\n",
       "      <td>Atlanta Hawks</td>\n",
       "      <td>82</td>\n",
       "      <td>2000</td>\n",
       "      <td>10</td>\n",
       "      <td>0</td>\n",
       "      <td>2000.0</td>\n",
       "      <td>10.0</td>\n",
       "      <td>62.0</td>\n",
       "      <td>56.5</td>\n",
       "      <td>9.0</td>\n",
       "      <td>55.6</td>\n",
       "      <td>114.0</td>\n",
       "      <td>89.1</td>\n",
       "      <td>56.6</td>\n",
       "      <td>0.94</td>\n",
       "      <td>92.5</td>\n",
       "      <td>2000.0</td>\n",
       "      <td>10.0</td>\n",
       "      <td>81.0</td>\n",
       "      <td>37.0</td>\n",
       "      <td>15.0</td>\n",
       "      <td>40.0</td>\n",
       "      <td>89.1</td>\n",
       "      <td>114.0</td>\n",
       "      <td>43.4</td>\n",
       "      <td>1.08</td>\n",
       "      <td>92.5</td>\n",
       "    </tr>\n",
       "    <tr>\n",
       "      <td>1</td>\n",
       "      <td>Cleveland Cavaliers</td>\n",
       "      <td>86</td>\n",
       "      <td>New Jersey Nets</td>\n",
       "      <td>82</td>\n",
       "      <td>2000</td>\n",
       "      <td>10</td>\n",
       "      <td>0</td>\n",
       "      <td>2000.0</td>\n",
       "      <td>10.0</td>\n",
       "      <td>78.0</td>\n",
       "      <td>41.0</td>\n",
       "      <td>7.0</td>\n",
       "      <td>28.6</td>\n",
       "      <td>87.8</td>\n",
       "      <td>83.7</td>\n",
       "      <td>52.3</td>\n",
       "      <td>0.84</td>\n",
       "      <td>98.0</td>\n",
       "      <td>2000.0</td>\n",
       "      <td>10.0</td>\n",
       "      <td>85.0</td>\n",
       "      <td>36.5</td>\n",
       "      <td>10.0</td>\n",
       "      <td>30.0</td>\n",
       "      <td>83.7</td>\n",
       "      <td>87.8</td>\n",
       "      <td>47.7</td>\n",
       "      <td>1.60</td>\n",
       "      <td>98.0</td>\n",
       "    </tr>\n",
       "    <tr>\n",
       "      <td>2</td>\n",
       "      <td>Washington Wizards</td>\n",
       "      <td>86</td>\n",
       "      <td>Orlando Magic</td>\n",
       "      <td>97</td>\n",
       "      <td>2000</td>\n",
       "      <td>10</td>\n",
       "      <td>1</td>\n",
       "      <td>2000.0</td>\n",
       "      <td>10.0</td>\n",
       "      <td>72.0</td>\n",
       "      <td>45.8</td>\n",
       "      <td>7.0</td>\n",
       "      <td>57.1</td>\n",
       "      <td>87.8</td>\n",
       "      <td>99.0</td>\n",
       "      <td>53.3</td>\n",
       "      <td>0.74</td>\n",
       "      <td>98.0</td>\n",
       "      <td>2000.0</td>\n",
       "      <td>10.0</td>\n",
       "      <td>79.0</td>\n",
       "      <td>43.0</td>\n",
       "      <td>16.0</td>\n",
       "      <td>37.5</td>\n",
       "      <td>99.0</td>\n",
       "      <td>87.8</td>\n",
       "      <td>46.7</td>\n",
       "      <td>1.33</td>\n",
       "      <td>98.0</td>\n",
       "    </tr>\n",
       "    <tr>\n",
       "      <td>3</td>\n",
       "      <td>Milwaukee Bucks</td>\n",
       "      <td>93</td>\n",
       "      <td>Dallas Mavericks</td>\n",
       "      <td>97</td>\n",
       "      <td>2000</td>\n",
       "      <td>10</td>\n",
       "      <td>1</td>\n",
       "      <td>2000.0</td>\n",
       "      <td>10.0</td>\n",
       "      <td>83.0</td>\n",
       "      <td>39.8</td>\n",
       "      <td>19.0</td>\n",
       "      <td>31.6</td>\n",
       "      <td>93.9</td>\n",
       "      <td>99.0</td>\n",
       "      <td>48.6</td>\n",
       "      <td>0.80</td>\n",
       "      <td>98.5</td>\n",
       "      <td>2000.0</td>\n",
       "      <td>10.0</td>\n",
       "      <td>88.0</td>\n",
       "      <td>39.8</td>\n",
       "      <td>25.0</td>\n",
       "      <td>36.0</td>\n",
       "      <td>99.0</td>\n",
       "      <td>93.9</td>\n",
       "      <td>51.4</td>\n",
       "      <td>1.22</td>\n",
       "      <td>98.5</td>\n",
       "    </tr>\n",
       "    <tr>\n",
       "      <td>4</td>\n",
       "      <td>Philadelphia 76ers</td>\n",
       "      <td>101</td>\n",
       "      <td>New York Knicks</td>\n",
       "      <td>72</td>\n",
       "      <td>2000</td>\n",
       "      <td>10</td>\n",
       "      <td>0</td>\n",
       "      <td>2000.0</td>\n",
       "      <td>10.0</td>\n",
       "      <td>66.0</td>\n",
       "      <td>57.6</td>\n",
       "      <td>8.0</td>\n",
       "      <td>37.5</td>\n",
       "      <td>114.8</td>\n",
       "      <td>81.8</td>\n",
       "      <td>49.4</td>\n",
       "      <td>1.93</td>\n",
       "      <td>88.0</td>\n",
       "      <td>2000.0</td>\n",
       "      <td>10.0</td>\n",
       "      <td>70.0</td>\n",
       "      <td>35.7</td>\n",
       "      <td>11.0</td>\n",
       "      <td>27.3</td>\n",
       "      <td>81.8</td>\n",
       "      <td>114.8</td>\n",
       "      <td>50.6</td>\n",
       "      <td>0.64</td>\n",
       "      <td>88.0</td>\n",
       "    </tr>\n",
       "  </tbody>\n",
       "</table>\n",
       "</div>"
      ],
      "text/plain": [
       "                 Team1  Team1Score             Team2  Team2Score  year  month  \\\n",
       "0    Charlotte Hornets         106     Atlanta Hawks          82  2000     10   \n",
       "1  Cleveland Cavaliers          86   New Jersey Nets          82  2000     10   \n",
       "2   Washington Wizards          86     Orlando Magic          97  2000     10   \n",
       "3      Milwaukee Bucks          93  Dallas Mavericks          97  2000     10   \n",
       "4   Philadelphia 76ers         101   New York Knicks          72  2000     10   \n",
       "\n",
       "   Game_Result  Team1_year  Team1_month  Team1_FGA  Team1_FG_P  Team1_3PA  \\\n",
       "0            0      2000.0         10.0       62.0        56.5        9.0   \n",
       "1            0      2000.0         10.0       78.0        41.0        7.0   \n",
       "2            1      2000.0         10.0       72.0        45.8        7.0   \n",
       "3            1      2000.0         10.0       83.0        39.8       19.0   \n",
       "4            0      2000.0         10.0       66.0        57.6        8.0   \n",
       "\n",
       "   Team1_3P_P  Team1_OFFRTG  Team1_DEFRTG  Team1_REB_P  Team1_AST/TO  \\\n",
       "0        55.6         114.0          89.1         56.6          0.94   \n",
       "1        28.6          87.8          83.7         52.3          0.84   \n",
       "2        57.1          87.8          99.0         53.3          0.74   \n",
       "3        31.6          93.9          99.0         48.6          0.80   \n",
       "4        37.5         114.8          81.8         49.4          1.93   \n",
       "\n",
       "   Team1_PACE  Team2_year  Team2_month  Team2_FGA  Team2_FG_P  Team2_3PA  \\\n",
       "0        92.5      2000.0         10.0       81.0        37.0       15.0   \n",
       "1        98.0      2000.0         10.0       85.0        36.5       10.0   \n",
       "2        98.0      2000.0         10.0       79.0        43.0       16.0   \n",
       "3        98.5      2000.0         10.0       88.0        39.8       25.0   \n",
       "4        88.0      2000.0         10.0       70.0        35.7       11.0   \n",
       "\n",
       "   Team2_3P_P  Team2_OFFRTG  Team2_DEFRTG  Team2_REB_P  Team2_AST/TO  \\\n",
       "0        40.0          89.1         114.0         43.4          1.08   \n",
       "1        30.0          83.7          87.8         47.7          1.60   \n",
       "2        37.5          99.0          87.8         46.7          1.33   \n",
       "3        36.0          99.0          93.9         51.4          1.22   \n",
       "4        27.3          81.8         114.8         50.6          0.64   \n",
       "\n",
       "   Team2_PACE  \n",
       "0        92.5  \n",
       "1        98.0  \n",
       "2        98.0  \n",
       "3        98.5  \n",
       "4        88.0  "
      ]
     },
     "metadata": {},
     "output_type": "display_data"
    },
    {
     "name": "stdout",
     "output_type": "stream",
     "text": [
      "Shape of df_merge_b: (15808, 29)\n"
     ]
    }
   ],
   "source": [
    "print(\"df_merge_a\")\n",
    "display(df_merge_a.head())\n",
    "print(\"Shape of df_merge_a:\", df_merge_a.shape)\n",
    "print(' ')\n",
    "print('======================================================================================')\n",
    "print(' ')\n",
    "print(\"df_merge_b\")\n",
    "display(df_merge_b.head())\n",
    "print(\"Shape of df_merge_b:\", df_merge_b.shape)"
   ]
  },
  {
   "cell_type": "markdown",
   "metadata": {},
   "source": [
    "We are almost ready to save these DataFrames as csv files, but before I do that, I need to check for missing values. The NBA has gone through a few transformations by changing the names of a few teams that have been moved from one city to another, or have changed owners. There is also the problem of team name abbreviation such as LA Clippers instead of Los Angeles Clippers, and the same case for LA Lakers. This particular case was already corrected but others are hard to find as the final DataFrames are rather large.\n",
    "\n",
    "Let's have a quick look for some of those missing values and see now what numbers we are dealing with:"
   ]
  },
  {
   "cell_type": "code",
   "execution_count": 25,
   "metadata": {
    "ExecuteTime": {
     "end_time": "2020-08-21T23:59:13.377969Z",
     "start_time": "2020-08-21T23:59:13.365599Z"
    }
   },
   "outputs": [
    {
     "data": {
      "text/plain": [
       "Team1            0\n",
       "Team1Score       0\n",
       "Team2            0\n",
       "Team2Score       0\n",
       "year             0\n",
       "month            0\n",
       "Game_Result      0\n",
       "Team1_year      35\n",
       "Team1_month     35\n",
       "Team1_FGA       35\n",
       "Team1_FG_P      35\n",
       "Team1_3PA       35\n",
       "Team1_3P_P      35\n",
       "Team1_OFFRTG    35\n",
       "Team1_DEFRTG    35\n",
       "Team1_REB_P     35\n",
       "Team1_AST/TO    35\n",
       "Team1_PACE      35\n",
       "Team2_year      35\n",
       "Team2_month     35\n",
       "Team2_FGA       35\n",
       "Team2_FG_P      35\n",
       "Team2_3PA       35\n",
       "Team2_3P_P      35\n",
       "Team2_OFFRTG    35\n",
       "Team2_DEFRTG    35\n",
       "Team2_REB_P     35\n",
       "Team2_AST/TO    35\n",
       "Team2_PACE      35\n",
       "dtype: int64"
      ]
     },
     "metadata": {},
     "output_type": "display_data"
    },
    {
     "data": {
      "text/plain": [
       "(12233, 29)"
      ]
     },
     "metadata": {},
     "output_type": "display_data"
    },
    {
     "data": {
      "text/plain": [
       "Team1            0\n",
       "Team1Score       0\n",
       "Team2            0\n",
       "Team2Score       0\n",
       "year             0\n",
       "month            0\n",
       "Game_Result      0\n",
       "Team1_year      14\n",
       "Team1_month     14\n",
       "Team1_FGA       14\n",
       "Team1_FG_P      14\n",
       "Team1_3PA       14\n",
       "Team1_3P_P      14\n",
       "Team1_OFFRTG    14\n",
       "Team1_DEFRTG    14\n",
       "Team1_REB_P     14\n",
       "Team1_AST/TO    14\n",
       "Team1_PACE      14\n",
       "Team2_year      12\n",
       "Team2_month     12\n",
       "Team2_FGA       12\n",
       "Team2_FG_P      12\n",
       "Team2_3PA       12\n",
       "Team2_3P_P      12\n",
       "Team2_OFFRTG    12\n",
       "Team2_DEFRTG    12\n",
       "Team2_REB_P     12\n",
       "Team2_AST/TO    12\n",
       "Team2_PACE      12\n",
       "dtype: int64"
      ]
     },
     "metadata": {},
     "output_type": "display_data"
    },
    {
     "data": {
      "text/plain": [
       "(15808, 29)"
      ]
     },
     "metadata": {},
     "output_type": "display_data"
    }
   ],
   "source": [
    "display(df_merge_a.isna().sum())\n",
    "display(df_merge_a.shape)\n",
    "display(df_merge_b.isna().sum())\n",
    "display(df_merge_b.shape)"
   ]
  },
  {
   "cell_type": "markdown",
   "metadata": {},
   "source": [
    "The first DataFrame (df_merge_a) has 35 rows of missing values out of 12233. This represents 0.28%, so considerably less than 1%. The decision here is very easy and that is that I will drop those rows. \n",
    "\n",
    "For the second DataFrame (df_merge_b) it's 24 different rows that have missing values. That accountss for 0.15%, so even a lower percentage than for the first DataFrame, so even an easier decision here. I will then proceed to drop all of those rows, drop the columns that I am not interested in and saveed .csv files for each one: "
   ]
  },
  {
   "cell_type": "code",
   "execution_count": 26,
   "metadata": {
    "ExecuteTime": {
     "end_time": "2020-08-22T00:00:26.445448Z",
     "start_time": "2020-08-22T00:00:25.852911Z"
    }
   },
   "outputs": [],
   "source": [
    "# Dropping the rows with missing values for df_merge_a and df_merge_b:\n",
    "df_merge_a = df_merge_a.dropna()\n",
    "df_merge_b = df_merge_b.dropna()\n",
    "\n",
    "df_merge_a.to_csv('df_merge_a.csv')\n",
    "df_merge_b.to_csv('df_merge_b.csv')\n",
    "\n",
    "# Dropping the rows which I am not interested in for the modeling and renaming those DataFrames:\n",
    "df_model_a = df_merge_a.drop(['Team1', 'Team1Score', 'Team2', 'Team2Score', 'year', 'month', 'Team1_month', 'Team2_month', 'Team1_year', 'Team2_year'], axis=1)\n",
    "df_model_b = df_merge_b.drop(['Team1', 'Team1Score', 'Team2', 'Team2Score', 'year', 'month', 'Team1_month', 'Team2_month', 'Team1_year', 'Team2_year'], axis=1)"
   ]
  },
  {
   "cell_type": "markdown",
   "metadata": {},
   "source": [
    "======================================================================================================="
   ]
  },
  {
   "cell_type": "code",
   "execution_count": 27,
   "metadata": {
    "ExecuteTime": {
     "end_time": "2020-08-22T00:00:33.953015Z",
     "start_time": "2020-08-22T00:00:33.556475Z"
    }
   },
   "outputs": [],
   "source": [
    "# Finally saving both DataFrames as .csv files for the EDA and modeling\n",
    "\n",
    "df_model_a.to_csv('2010-2020_Model_Ready.csv')\n",
    "df_model_b.to_csv('2000-2010_Model_Ready.csv')"
   ]
  },
  {
   "cell_type": "markdown",
   "metadata": {},
   "source": [
    "======================================================================================================="
   ]
  },
  {
   "cell_type": "code",
   "execution_count": null,
   "metadata": {},
   "outputs": [],
   "source": []
  }
 ],
 "metadata": {
  "kernelspec": {
   "display_name": "learn-env",
   "language": "python",
   "name": "learn-env"
  },
  "language_info": {
   "codemirror_mode": {
    "name": "ipython",
    "version": 3
   },
   "file_extension": ".py",
   "mimetype": "text/x-python",
   "name": "python",
   "nbconvert_exporter": "python",
   "pygments_lexer": "ipython3",
   "version": "3.6.9"
  },
  "toc": {
   "base_numbering": 1,
   "nav_menu": {},
   "number_sections": true,
   "sideBar": true,
   "skip_h1_title": false,
   "title_cell": "Table of Contents",
   "title_sidebar": "Contents",
   "toc_cell": false,
   "toc_position": {},
   "toc_section_display": true,
   "toc_window_display": true
  },
  "varInspector": {
   "cols": {
    "lenName": 16,
    "lenType": 16,
    "lenVar": 40
   },
   "kernels_config": {
    "python": {
     "delete_cmd_postfix": "",
     "delete_cmd_prefix": "del ",
     "library": "var_list.py",
     "varRefreshCmd": "print(var_dic_list())"
    },
    "r": {
     "delete_cmd_postfix": ") ",
     "delete_cmd_prefix": "rm(",
     "library": "var_list.r",
     "varRefreshCmd": "cat(var_dic_list()) "
    }
   },
   "types_to_exclude": [
    "module",
    "function",
    "builtin_function_or_method",
    "instance",
    "_Feature"
   ],
   "window_display": false
  }
 },
 "nbformat": 4,
 "nbformat_minor": 4
}
