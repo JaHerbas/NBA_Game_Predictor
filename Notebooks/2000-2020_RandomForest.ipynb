{
 "cells": [
  {
   "cell_type": "markdown",
   "metadata": {},
   "source": [
    "#  Tree Ensembles - Random forest"
   ]
  },
  {
   "cell_type": "code",
   "execution_count": 99,
   "metadata": {
    "ExecuteTime": {
     "end_time": "2020-08-18T23:10:43.925918Z",
     "start_time": "2020-08-18T23:10:43.920213Z"
    }
   },
   "outputs": [],
   "source": [
    "import pandas as pd\n",
    "import numpy as np\n",
    "np.random.seed(0)\n",
    "import matplotlib.pyplot as plt\n",
    "%matplotlib inline\n",
    "\n",
    "from sklearn.model_selection import train_test_split\n",
    "from sklearn.metrics import accuracy_score, confusion_matrix, classification_report\n",
    "from sklearn.tree import DecisionTreeClassifier\n",
    "from sklearn.ensemble import BaggingClassifier, RandomForestClassifier\n",
    "from sklearn.metrics import plot_confusion_matrix"
   ]
  },
  {
   "cell_type": "markdown",
   "metadata": {},
   "source": [
    "# 2018-2019 Test Dataset"
   ]
  },
  {
   "cell_type": "code",
   "execution_count": 7,
   "metadata": {
    "ExecuteTime": {
     "end_time": "2020-08-18T21:55:33.546084Z",
     "start_time": "2020-08-18T21:55:33.518838Z"
    }
   },
   "outputs": [
    {
     "data": {
      "text/html": [
       "<div>\n",
       "<style scoped>\n",
       "    .dataframe tbody tr th:only-of-type {\n",
       "        vertical-align: middle;\n",
       "    }\n",
       "\n",
       "    .dataframe tbody tr th {\n",
       "        vertical-align: top;\n",
       "    }\n",
       "\n",
       "    .dataframe thead th {\n",
       "        text-align: right;\n",
       "    }\n",
       "</style>\n",
       "<table border=\"1\" class=\"dataframe\">\n",
       "  <thead>\n",
       "    <tr style=\"text-align: right;\">\n",
       "      <th></th>\n",
       "      <th>Game_Result</th>\n",
       "      <th>Team1_OFFRTG</th>\n",
       "      <th>Team1_DEFRTG</th>\n",
       "      <th>Team1_AST/TO</th>\n",
       "      <th>Team1_REB_P</th>\n",
       "      <th>Team1_FG_P</th>\n",
       "      <th>Team1_FGA</th>\n",
       "      <th>Team1_PACE</th>\n",
       "      <th>Team1_3PA</th>\n",
       "      <th>Team1_3P_P</th>\n",
       "      <th>Team2_OFFRTG</th>\n",
       "      <th>Team2_DEFRTG</th>\n",
       "      <th>Team2_AST/TO</th>\n",
       "      <th>Team2_REB_P</th>\n",
       "      <th>Team2_FG_P</th>\n",
       "      <th>Team2_FGA</th>\n",
       "      <th>Team2_PACE</th>\n",
       "      <th>Team2_3PA</th>\n",
       "      <th>Team2_3P_P</th>\n",
       "    </tr>\n",
       "  </thead>\n",
       "  <tbody>\n",
       "    <tr>\n",
       "      <td>0</td>\n",
       "      <td>1</td>\n",
       "      <td>106.3</td>\n",
       "      <td>107.5</td>\n",
       "      <td>1.83</td>\n",
       "      <td>51.1</td>\n",
       "      <td>43.5</td>\n",
       "      <td>93.1</td>\n",
       "      <td>104.39</td>\n",
       "      <td>35.9</td>\n",
       "      <td>33.8</td>\n",
       "      <td>100.8</td>\n",
       "      <td>96.2</td>\n",
       "      <td>1.66</td>\n",
       "      <td>50.6</td>\n",
       "      <td>41.8</td>\n",
       "      <td>89.3</td>\n",
       "      <td>101.50</td>\n",
       "      <td>33.6</td>\n",
       "      <td>32.8</td>\n",
       "    </tr>\n",
       "    <tr>\n",
       "      <td>1</td>\n",
       "      <td>1</td>\n",
       "      <td>102.4</td>\n",
       "      <td>105.0</td>\n",
       "      <td>1.30</td>\n",
       "      <td>50.8</td>\n",
       "      <td>42.8</td>\n",
       "      <td>93.8</td>\n",
       "      <td>106.08</td>\n",
       "      <td>29.7</td>\n",
       "      <td>27.5</td>\n",
       "      <td>120.3</td>\n",
       "      <td>107.5</td>\n",
       "      <td>2.00</td>\n",
       "      <td>51.1</td>\n",
       "      <td>52.4</td>\n",
       "      <td>89.1</td>\n",
       "      <td>104.00</td>\n",
       "      <td>31.9</td>\n",
       "      <td>41.8</td>\n",
       "    </tr>\n",
       "    <tr>\n",
       "      <td>2</td>\n",
       "      <td>0</td>\n",
       "      <td>113.2</td>\n",
       "      <td>98.2</td>\n",
       "      <td>1.57</td>\n",
       "      <td>53.4</td>\n",
       "      <td>48.0</td>\n",
       "      <td>91.4</td>\n",
       "      <td>106.00</td>\n",
       "      <td>40.6</td>\n",
       "      <td>38.4</td>\n",
       "      <td>114.9</td>\n",
       "      <td>109.1</td>\n",
       "      <td>2.09</td>\n",
       "      <td>49.2</td>\n",
       "      <td>46.3</td>\n",
       "      <td>91.0</td>\n",
       "      <td>100.44</td>\n",
       "      <td>34.5</td>\n",
       "      <td>37.7</td>\n",
       "    </tr>\n",
       "    <tr>\n",
       "      <td>1275</td>\n",
       "      <td>1</td>\n",
       "      <td>120.4</td>\n",
       "      <td>113.0</td>\n",
       "      <td>1.65</td>\n",
       "      <td>53.9</td>\n",
       "      <td>50.1</td>\n",
       "      <td>90.2</td>\n",
       "      <td>98.75</td>\n",
       "      <td>29.8</td>\n",
       "      <td>38.5</td>\n",
       "      <td>110.0</td>\n",
       "      <td>108.1</td>\n",
       "      <td>2.25</td>\n",
       "      <td>48.2</td>\n",
       "      <td>46.2</td>\n",
       "      <td>89.5</td>\n",
       "      <td>98.42</td>\n",
       "      <td>30.2</td>\n",
       "      <td>33.7</td>\n",
       "    </tr>\n",
       "    <tr>\n",
       "      <td>1276</td>\n",
       "      <td>1</td>\n",
       "      <td>111.5</td>\n",
       "      <td>105.4</td>\n",
       "      <td>2.36</td>\n",
       "      <td>48.3</td>\n",
       "      <td>46.3</td>\n",
       "      <td>90.2</td>\n",
       "      <td>100.80</td>\n",
       "      <td>33.2</td>\n",
       "      <td>36.1</td>\n",
       "      <td>113.0</td>\n",
       "      <td>110.9</td>\n",
       "      <td>1.86</td>\n",
       "      <td>50.7</td>\n",
       "      <td>47.4</td>\n",
       "      <td>93.2</td>\n",
       "      <td>109.70</td>\n",
       "      <td>37.8</td>\n",
       "      <td>33.3</td>\n",
       "    </tr>\n",
       "    <tr>\n",
       "      <td>1277</td>\n",
       "      <td>1</td>\n",
       "      <td>126.0</td>\n",
       "      <td>103.9</td>\n",
       "      <td>2.65</td>\n",
       "      <td>49.0</td>\n",
       "      <td>48.2</td>\n",
       "      <td>94.2</td>\n",
       "      <td>102.10</td>\n",
       "      <td>53.6</td>\n",
       "      <td>41.4</td>\n",
       "      <td>113.7</td>\n",
       "      <td>103.7</td>\n",
       "      <td>2.02</td>\n",
       "      <td>49.4</td>\n",
       "      <td>50.6</td>\n",
       "      <td>92.5</td>\n",
       "      <td>103.42</td>\n",
       "      <td>35.7</td>\n",
       "      <td>41.1</td>\n",
       "    </tr>\n",
       "  </tbody>\n",
       "</table>\n",
       "</div>"
      ],
      "text/plain": [
       "      Game_Result  Team1_OFFRTG  Team1_DEFRTG  Team1_AST/TO  Team1_REB_P  \\\n",
       "0               1         106.3         107.5          1.83         51.1   \n",
       "1               1         102.4         105.0          1.30         50.8   \n",
       "2               0         113.2          98.2          1.57         53.4   \n",
       "1275            1         120.4         113.0          1.65         53.9   \n",
       "1276            1         111.5         105.4          2.36         48.3   \n",
       "1277            1         126.0         103.9          2.65         49.0   \n",
       "\n",
       "      Team1_FG_P  Team1_FGA  Team1_PACE  Team1_3PA  Team1_3P_P  Team2_OFFRTG  \\\n",
       "0           43.5       93.1      104.39       35.9        33.8         100.8   \n",
       "1           42.8       93.8      106.08       29.7        27.5         120.3   \n",
       "2           48.0       91.4      106.00       40.6        38.4         114.9   \n",
       "1275        50.1       90.2       98.75       29.8        38.5         110.0   \n",
       "1276        46.3       90.2      100.80       33.2        36.1         113.0   \n",
       "1277        48.2       94.2      102.10       53.6        41.4         113.7   \n",
       "\n",
       "      Team2_DEFRTG  Team2_AST/TO  Team2_REB_P  Team2_FG_P  Team2_FGA  \\\n",
       "0             96.2          1.66         50.6        41.8       89.3   \n",
       "1            107.5          2.00         51.1        52.4       89.1   \n",
       "2            109.1          2.09         49.2        46.3       91.0   \n",
       "1275         108.1          2.25         48.2        46.2       89.5   \n",
       "1276         110.9          1.86         50.7        47.4       93.2   \n",
       "1277         103.7          2.02         49.4        50.6       92.5   \n",
       "\n",
       "      Team2_PACE  Team2_3PA  Team2_3P_P  \n",
       "0         101.50       33.6        32.8  \n",
       "1         104.00       31.9        41.8  \n",
       "2         100.44       34.5        37.7  \n",
       "1275       98.42       30.2        33.7  \n",
       "1276      109.70       37.8        33.3  \n",
       "1277      103.42       35.7        41.1  "
      ]
     },
     "execution_count": 7,
     "metadata": {},
     "output_type": "execute_result"
    }
   ],
   "source": [
    "df = pd.read_csv('2018-2019_Model_Ready.csv', index_col=0)\n",
    "df.head(3).append(df.tail(3))"
   ]
  },
  {
   "cell_type": "code",
   "execution_count": 8,
   "metadata": {
    "ExecuteTime": {
     "end_time": "2020-08-18T21:55:39.192042Z",
     "start_time": "2020-08-18T21:55:39.188455Z"
    }
   },
   "outputs": [
    {
     "data": {
      "text/plain": [
       "(1190, 19)"
      ]
     },
     "execution_count": 8,
     "metadata": {},
     "output_type": "execute_result"
    }
   ],
   "source": [
    "df.shape"
   ]
  },
  {
   "cell_type": "code",
   "execution_count": 9,
   "metadata": {
    "ExecuteTime": {
     "end_time": "2020-08-18T21:55:51.348176Z",
     "start_time": "2020-08-18T21:55:51.270214Z"
    }
   },
   "outputs": [
    {
     "data": {
      "text/html": [
       "<div>\n",
       "<style scoped>\n",
       "    .dataframe tbody tr th:only-of-type {\n",
       "        vertical-align: middle;\n",
       "    }\n",
       "\n",
       "    .dataframe tbody tr th {\n",
       "        vertical-align: top;\n",
       "    }\n",
       "\n",
       "    .dataframe thead th {\n",
       "        text-align: right;\n",
       "    }\n",
       "</style>\n",
       "<table border=\"1\" class=\"dataframe\">\n",
       "  <thead>\n",
       "    <tr style=\"text-align: right;\">\n",
       "      <th></th>\n",
       "      <th>Game_Result</th>\n",
       "      <th>Team1_OFFRTG</th>\n",
       "      <th>Team1_DEFRTG</th>\n",
       "      <th>Team1_AST/TO</th>\n",
       "      <th>Team1_REB_P</th>\n",
       "      <th>Team1_FG_P</th>\n",
       "      <th>Team1_FGA</th>\n",
       "      <th>Team1_PACE</th>\n",
       "      <th>Team1_3PA</th>\n",
       "      <th>Team1_3P_P</th>\n",
       "      <th>Team2_OFFRTG</th>\n",
       "      <th>Team2_DEFRTG</th>\n",
       "      <th>Team2_AST/TO</th>\n",
       "      <th>Team2_REB_P</th>\n",
       "      <th>Team2_FG_P</th>\n",
       "      <th>Team2_FGA</th>\n",
       "      <th>Team2_PACE</th>\n",
       "      <th>Team2_3PA</th>\n",
       "      <th>Team2_3P_P</th>\n",
       "    </tr>\n",
       "  </thead>\n",
       "  <tbody>\n",
       "    <tr>\n",
       "      <td>count</td>\n",
       "      <td>1190.000000</td>\n",
       "      <td>1190.000000</td>\n",
       "      <td>1190.000000</td>\n",
       "      <td>1190.000000</td>\n",
       "      <td>1190.000000</td>\n",
       "      <td>1190.000000</td>\n",
       "      <td>1190.000000</td>\n",
       "      <td>1190.000000</td>\n",
       "      <td>1190.000000</td>\n",
       "      <td>1190.000000</td>\n",
       "      <td>1190.000000</td>\n",
       "      <td>1190.000000</td>\n",
       "      <td>1190.000000</td>\n",
       "      <td>1190.000000</td>\n",
       "      <td>1190.000000</td>\n",
       "      <td>1190.000000</td>\n",
       "      <td>1190.000000</td>\n",
       "      <td>1190.00000</td>\n",
       "      <td>1190.000000</td>\n",
       "    </tr>\n",
       "    <tr>\n",
       "      <td>mean</td>\n",
       "      <td>0.596639</td>\n",
       "      <td>109.815126</td>\n",
       "      <td>109.752605</td>\n",
       "      <td>1.782294</td>\n",
       "      <td>50.001345</td>\n",
       "      <td>46.092101</td>\n",
       "      <td>89.255294</td>\n",
       "      <td>100.591008</td>\n",
       "      <td>32.272941</td>\n",
       "      <td>35.466975</td>\n",
       "      <td>109.840000</td>\n",
       "      <td>109.534034</td>\n",
       "      <td>1.783227</td>\n",
       "      <td>50.066723</td>\n",
       "      <td>46.036218</td>\n",
       "      <td>89.393866</td>\n",
       "      <td>100.618723</td>\n",
       "      <td>32.38000</td>\n",
       "      <td>35.512941</td>\n",
       "    </tr>\n",
       "    <tr>\n",
       "      <td>std</td>\n",
       "      <td>0.490778</td>\n",
       "      <td>4.631327</td>\n",
       "      <td>4.230216</td>\n",
       "      <td>0.287058</td>\n",
       "      <td>2.089647</td>\n",
       "      <td>2.005859</td>\n",
       "      <td>3.119768</td>\n",
       "      <td>2.736351</td>\n",
       "      <td>4.900041</td>\n",
       "      <td>2.632720</td>\n",
       "      <td>4.546513</td>\n",
       "      <td>4.195836</td>\n",
       "      <td>0.279797</td>\n",
       "      <td>2.074435</td>\n",
       "      <td>2.034172</td>\n",
       "      <td>3.183965</td>\n",
       "      <td>2.675570</td>\n",
       "      <td>4.92936</td>\n",
       "      <td>2.682316</td>\n",
       "    </tr>\n",
       "    <tr>\n",
       "      <td>min</td>\n",
       "      <td>0.000000</td>\n",
       "      <td>97.500000</td>\n",
       "      <td>96.200000</td>\n",
       "      <td>1.210000</td>\n",
       "      <td>43.300000</td>\n",
       "      <td>41.000000</td>\n",
       "      <td>80.100000</td>\n",
       "      <td>94.720000</td>\n",
       "      <td>21.400000</td>\n",
       "      <td>27.500000</td>\n",
       "      <td>97.500000</td>\n",
       "      <td>96.200000</td>\n",
       "      <td>1.210000</td>\n",
       "      <td>43.300000</td>\n",
       "      <td>41.000000</td>\n",
       "      <td>80.100000</td>\n",
       "      <td>94.720000</td>\n",
       "      <td>21.40000</td>\n",
       "      <td>27.500000</td>\n",
       "    </tr>\n",
       "    <tr>\n",
       "      <td>25%</td>\n",
       "      <td>0.000000</td>\n",
       "      <td>106.700000</td>\n",
       "      <td>106.925000</td>\n",
       "      <td>1.570000</td>\n",
       "      <td>48.700000</td>\n",
       "      <td>44.700000</td>\n",
       "      <td>87.300000</td>\n",
       "      <td>98.732500</td>\n",
       "      <td>28.700000</td>\n",
       "      <td>33.800000</td>\n",
       "      <td>106.800000</td>\n",
       "      <td>106.900000</td>\n",
       "      <td>1.570000</td>\n",
       "      <td>48.900000</td>\n",
       "      <td>44.600000</td>\n",
       "      <td>87.300000</td>\n",
       "      <td>98.790000</td>\n",
       "      <td>28.92500</td>\n",
       "      <td>33.800000</td>\n",
       "    </tr>\n",
       "    <tr>\n",
       "      <td>50%</td>\n",
       "      <td>1.000000</td>\n",
       "      <td>110.000000</td>\n",
       "      <td>109.700000</td>\n",
       "      <td>1.780000</td>\n",
       "      <td>50.000000</td>\n",
       "      <td>46.000000</td>\n",
       "      <td>89.500000</td>\n",
       "      <td>100.570000</td>\n",
       "      <td>32.400000</td>\n",
       "      <td>35.400000</td>\n",
       "      <td>110.100000</td>\n",
       "      <td>109.600000</td>\n",
       "      <td>1.780000</td>\n",
       "      <td>50.100000</td>\n",
       "      <td>46.000000</td>\n",
       "      <td>89.500000</td>\n",
       "      <td>100.560000</td>\n",
       "      <td>32.40000</td>\n",
       "      <td>35.500000</td>\n",
       "    </tr>\n",
       "    <tr>\n",
       "      <td>75%</td>\n",
       "      <td>1.000000</td>\n",
       "      <td>112.900000</td>\n",
       "      <td>112.375000</td>\n",
       "      <td>1.960000</td>\n",
       "      <td>51.400000</td>\n",
       "      <td>47.200000</td>\n",
       "      <td>91.200000</td>\n",
       "      <td>102.430000</td>\n",
       "      <td>34.875000</td>\n",
       "      <td>36.800000</td>\n",
       "      <td>112.900000</td>\n",
       "      <td>112.100000</td>\n",
       "      <td>1.960000</td>\n",
       "      <td>51.400000</td>\n",
       "      <td>47.300000</td>\n",
       "      <td>91.300000</td>\n",
       "      <td>102.310000</td>\n",
       "      <td>34.90000</td>\n",
       "      <td>37.000000</td>\n",
       "    </tr>\n",
       "    <tr>\n",
       "      <td>max</td>\n",
       "      <td>1.000000</td>\n",
       "      <td>126.000000</td>\n",
       "      <td>122.700000</td>\n",
       "      <td>2.650000</td>\n",
       "      <td>56.500000</td>\n",
       "      <td>52.400000</td>\n",
       "      <td>98.500000</td>\n",
       "      <td>109.700000</td>\n",
       "      <td>53.600000</td>\n",
       "      <td>43.500000</td>\n",
       "      <td>126.000000</td>\n",
       "      <td>122.700000</td>\n",
       "      <td>2.650000</td>\n",
       "      <td>56.500000</td>\n",
       "      <td>52.400000</td>\n",
       "      <td>98.500000</td>\n",
       "      <td>109.700000</td>\n",
       "      <td>53.60000</td>\n",
       "      <td>43.500000</td>\n",
       "    </tr>\n",
       "  </tbody>\n",
       "</table>\n",
       "</div>"
      ],
      "text/plain": [
       "       Game_Result  Team1_OFFRTG  Team1_DEFRTG  Team1_AST/TO  Team1_REB_P  \\\n",
       "count  1190.000000   1190.000000   1190.000000   1190.000000  1190.000000   \n",
       "mean      0.596639    109.815126    109.752605      1.782294    50.001345   \n",
       "std       0.490778      4.631327      4.230216      0.287058     2.089647   \n",
       "min       0.000000     97.500000     96.200000      1.210000    43.300000   \n",
       "25%       0.000000    106.700000    106.925000      1.570000    48.700000   \n",
       "50%       1.000000    110.000000    109.700000      1.780000    50.000000   \n",
       "75%       1.000000    112.900000    112.375000      1.960000    51.400000   \n",
       "max       1.000000    126.000000    122.700000      2.650000    56.500000   \n",
       "\n",
       "        Team1_FG_P    Team1_FGA   Team1_PACE    Team1_3PA   Team1_3P_P  \\\n",
       "count  1190.000000  1190.000000  1190.000000  1190.000000  1190.000000   \n",
       "mean     46.092101    89.255294   100.591008    32.272941    35.466975   \n",
       "std       2.005859     3.119768     2.736351     4.900041     2.632720   \n",
       "min      41.000000    80.100000    94.720000    21.400000    27.500000   \n",
       "25%      44.700000    87.300000    98.732500    28.700000    33.800000   \n",
       "50%      46.000000    89.500000   100.570000    32.400000    35.400000   \n",
       "75%      47.200000    91.200000   102.430000    34.875000    36.800000   \n",
       "max      52.400000    98.500000   109.700000    53.600000    43.500000   \n",
       "\n",
       "       Team2_OFFRTG  Team2_DEFRTG  Team2_AST/TO  Team2_REB_P   Team2_FG_P  \\\n",
       "count   1190.000000   1190.000000   1190.000000  1190.000000  1190.000000   \n",
       "mean     109.840000    109.534034      1.783227    50.066723    46.036218   \n",
       "std        4.546513      4.195836      0.279797     2.074435     2.034172   \n",
       "min       97.500000     96.200000      1.210000    43.300000    41.000000   \n",
       "25%      106.800000    106.900000      1.570000    48.900000    44.600000   \n",
       "50%      110.100000    109.600000      1.780000    50.100000    46.000000   \n",
       "75%      112.900000    112.100000      1.960000    51.400000    47.300000   \n",
       "max      126.000000    122.700000      2.650000    56.500000    52.400000   \n",
       "\n",
       "         Team2_FGA   Team2_PACE   Team2_3PA   Team2_3P_P  \n",
       "count  1190.000000  1190.000000  1190.00000  1190.000000  \n",
       "mean     89.393866   100.618723    32.38000    35.512941  \n",
       "std       3.183965     2.675570     4.92936     2.682316  \n",
       "min      80.100000    94.720000    21.40000    27.500000  \n",
       "25%      87.300000    98.790000    28.92500    33.800000  \n",
       "50%      89.500000   100.560000    32.40000    35.500000  \n",
       "75%      91.300000   102.310000    34.90000    37.000000  \n",
       "max      98.500000   109.700000    53.60000    43.500000  "
      ]
     },
     "execution_count": 9,
     "metadata": {},
     "output_type": "execute_result"
    }
   ],
   "source": [
    "df.describe()"
   ]
  },
  {
   "cell_type": "markdown",
   "metadata": {},
   "source": [
    "## Features, Labels, Training, and Test Data Creation"
   ]
  },
  {
   "cell_type": "code",
   "execution_count": 11,
   "metadata": {
    "ExecuteTime": {
     "end_time": "2020-08-18T21:58:53.705566Z",
     "start_time": "2020-08-18T21:58:53.700157Z"
    }
   },
   "outputs": [
    {
     "data": {
      "text/plain": [
       "1    710\n",
       "0    480\n",
       "Name: Game_Result, dtype: int64"
      ]
     },
     "execution_count": 11,
     "metadata": {},
     "output_type": "execute_result"
    }
   ],
   "source": [
    "# Target Variable:\n",
    "df.Game_Result.value_counts()"
   ]
  },
  {
   "cell_type": "code",
   "execution_count": 12,
   "metadata": {
    "ExecuteTime": {
     "end_time": "2020-08-18T22:00:00.911548Z",
     "start_time": "2020-08-18T22:00:00.907876Z"
    }
   },
   "outputs": [],
   "source": [
    "# Create features (X) and labels (y)\n",
    "y = df['Game_Result']\n",
    "X = df.drop(['Game_Result'], axis=1)"
   ]
  },
  {
   "cell_type": "code",
   "execution_count": 13,
   "metadata": {
    "ExecuteTime": {
     "end_time": "2020-08-18T22:02:35.983509Z",
     "start_time": "2020-08-18T22:02:35.979024Z"
    }
   },
   "outputs": [],
   "source": [
    "# Perform the split\n",
    "X_test, X_train, y_test, y_train = train_test_split(X, y, test_size=0.25, random_state=42)"
   ]
  },
  {
   "cell_type": "markdown",
   "metadata": {},
   "source": [
    "## Build a regular tree as baseline"
   ]
  },
  {
   "cell_type": "code",
   "execution_count": 16,
   "metadata": {
    "ExecuteTime": {
     "end_time": "2020-08-18T22:05:37.659527Z",
     "start_time": "2020-08-18T22:05:37.649882Z"
    }
   },
   "outputs": [
    {
     "data": {
      "text/plain": [
       "DecisionTreeClassifier(max_depth=5)"
      ]
     },
     "execution_count": 16,
     "metadata": {},
     "output_type": "execute_result"
    }
   ],
   "source": [
    "tree_clf = DecisionTreeClassifier(criterion='gini', max_depth=5)\n",
    "tree_clf.fit(X_train, y_train)"
   ]
  },
  {
   "cell_type": "markdown",
   "metadata": {},
   "source": [
    "I'll run a quick examination to verify how important each feature ended up being in the decision tree model. For this purpose I will be using the \"feature_importances_\" attribute of the trained model:"
   ]
  },
  {
   "cell_type": "code",
   "execution_count": 17,
   "metadata": {
    "ExecuteTime": {
     "end_time": "2020-08-18T22:08:07.975313Z",
     "start_time": "2020-08-18T22:08:07.971288Z"
    }
   },
   "outputs": [
    {
     "data": {
      "text/plain": [
       "array([0.08751106, 0.06292478, 0.0639038 , 0.02480466, 0.01081449,\n",
       "       0.        , 0.01716586, 0.03557328, 0.06796085, 0.34881945,\n",
       "       0.11959319, 0.        , 0.0591897 , 0.0264955 , 0.02354733,\n",
       "       0.        , 0.        , 0.05169606])"
      ]
     },
     "execution_count": 17,
     "metadata": {},
     "output_type": "execute_result"
    }
   ],
   "source": [
    "tree_clf.feature_importances_"
   ]
  },
  {
   "cell_type": "markdown",
   "metadata": {},
   "source": [
    "As expected this matrix is quite hard to interpret so I will transfer this into a plot and see the feature importance results:"
   ]
  },
  {
   "cell_type": "code",
   "execution_count": 84,
   "metadata": {
    "ExecuteTime": {
     "end_time": "2020-08-18T23:02:33.895083Z",
     "start_time": "2020-08-18T23:02:33.672068Z"
    }
   },
   "outputs": [
    {
     "data": {
      "image/png": "[encoded data removed]",
      "text/plain": [
       "<Figure size 720x720 with 1 Axes>"
      ]
     },
     "metadata": {},
     "output_type": "display_data"
    }
   ],
   "source": [
    "def plot_feature_importances(model):\n",
    "    n_features = X_train.shape[1]\n",
    "    plt.figure(figsize=(10, 10))\n",
    "    plt.barh(range(n_features), model.feature_importances_, color='k', align='center')\n",
    "    plt.yticks(np.arange(n_features), X_train.columns.values)\n",
    "    plt.xlabel('Feature importance')\n",
    "    plt.ylabel('Features')\n",
    "    plt.rcParams[\"figure.facecolor\"] = \"lightblue\"\n",
    "    plt.grid(True)\n",
    "plot_feature_importances(tree_clf)"
   ]
  },
  {
   "cell_type": "markdown",
   "metadata": {},
   "source": [
    "<b>OBSERVATIONS:</b>\n",
    "\n",
    "First lets remember that our target is the Game_Result which is aimed at the Home Team winning or losing the game with 1 assigned to winning and a 0 to losing. \n",
    "\n",
    "Team1 refers to the visiting team and Team2 to the home team. We already saw during the Data cleaning and conditioning that the Home Team (Team2) wins in 59% of the games. \n",
    "\n",
    "Now to the observations:\n",
    "\n",
    "* The Most importance feature is the Home Team (Team2) Offensive Rating (Teeam2_OFFRTG). This is not a surprisse in today's game as with the the evolution of the NBA, teams are trying to outpase good defenses with tremendous offensive efforts such as the one done by Golden State in recent years and the Houston Rockets\n",
    "\n",
    "* The second most important feature is the defensive rating of the home team (Team2_DEFRT). Again, this is no surprise. The only surprise is that the difference between offense and defense. \n",
    "\n",
    "* The third most important feature if the visiting team offensive rating (Team1_OFFRTG), not a surprise again as this must be related to the Team2 defensive efforts and it will result in a win or loss.\n",
    "\n",
    "* 3 Point shooting plays a key role as well. This is related to the Offensive Rating. The more 3-pointers are made the highest your offensive rating should bee as it will also weaken your interior defense, and ultimately result in a better offense."
   ]
  },
  {
   "cell_type": "markdown",
   "metadata": {},
   "source": [
    "## Model Performance"
   ]
  },
  {
   "cell_type": "code",
   "execution_count": 85,
   "metadata": {
    "ExecuteTime": {
     "end_time": "2020-08-18T23:06:34.653128Z",
     "start_time": "2020-08-18T23:06:34.648241Z"
    }
   },
   "outputs": [],
   "source": [
    "# Test set predictions\n",
    "pred = tree_clf.predict(X_test)"
   ]
  },
  {
   "cell_type": "code",
   "execution_count": 107,
   "metadata": {
    "ExecuteTime": {
     "end_time": "2020-08-18T23:13:24.690746Z",
     "start_time": "2020-08-18T23:13:24.642244Z"
    }
   },
   "outputs": [
    {
     "name": "stdout",
     "output_type": "stream",
     "text": [
      "\n",
      "Confusion Matrix\n",
      "----------------\n"
     ]
    },
    {
     "data": {
      "text/html": [
       "<div>\n",
       "<style scoped>\n",
       "    .dataframe tbody tr th:only-of-type {\n",
       "        vertical-align: middle;\n",
       "    }\n",
       "\n",
       "    .dataframe tbody tr th {\n",
       "        vertical-align: top;\n",
       "    }\n",
       "\n",
       "    .dataframe thead th {\n",
       "        text-align: right;\n",
       "    }\n",
       "</style>\n",
       "<table border=\"1\" class=\"dataframe\">\n",
       "  <thead>\n",
       "    <tr style=\"text-align: right;\">\n",
       "      <th>Predicted</th>\n",
       "      <th>0</th>\n",
       "      <th>1</th>\n",
       "      <th>All</th>\n",
       "    </tr>\n",
       "    <tr>\n",
       "      <th>True</th>\n",
       "      <th></th>\n",
       "      <th></th>\n",
       "      <th></th>\n",
       "    </tr>\n",
       "  </thead>\n",
       "  <tbody>\n",
       "    <tr>\n",
       "      <td>0</td>\n",
       "      <td>178</td>\n",
       "      <td>184</td>\n",
       "      <td>362</td>\n",
       "    </tr>\n",
       "    <tr>\n",
       "      <td>1</td>\n",
       "      <td>125</td>\n",
       "      <td>405</td>\n",
       "      <td>530</td>\n",
       "    </tr>\n",
       "    <tr>\n",
       "      <td>All</td>\n",
       "      <td>303</td>\n",
       "      <td>589</td>\n",
       "      <td>892</td>\n",
       "    </tr>\n",
       "  </tbody>\n",
       "</table>\n",
       "</div>"
      ],
      "text/plain": [
       "Predicted    0    1  All\n",
       "True                    \n",
       "0          178  184  362\n",
       "1          125  405  530\n",
       "All        303  589  892"
      ]
     },
     "execution_count": 107,
     "metadata": {},
     "output_type": "execute_result"
    }
   ],
   "source": [
    "# confusion matrix and classfication report\n",
    "print('\\nConfusion Matrix')\n",
    "print('----------------')\n",
    "pd.crosstab(y_test, pred, rownames=['True'], colnames=['Predicted'], margins=True)"
   ]
  },
  {
   "cell_type": "code",
   "execution_count": 111,
   "metadata": {
    "ExecuteTime": {
     "end_time": "2020-08-18T23:13:55.549092Z",
     "start_time": "2020-08-18T23:13:55.540782Z"
    }
   },
   "outputs": [
    {
     "name": "stdout",
     "output_type": "stream",
     "text": [
      "Classficiation Report\n",
      "---------------------\n",
      "              precision    recall  f1-score   support\n",
      "\n",
      "           0       0.59      0.49      0.54       362\n",
      "           1       0.69      0.76      0.72       530\n",
      "\n",
      "    accuracy                           0.65       892\n",
      "   macro avg       0.64      0.63      0.63       892\n",
      "weighted avg       0.65      0.65      0.65       892\n",
      "\n"
     ]
    }
   ],
   "source": [
    "print('Classficiation Report')\n",
    "print('---------------------')\n",
    "print(classification_report(y_test, pred))"
   ]
  },
  {
   "cell_type": "code",
   "execution_count": 115,
   "metadata": {
    "ExecuteTime": {
     "end_time": "2020-08-18T23:16:37.757924Z",
     "start_time": "2020-08-18T23:16:37.633106Z"
    }
   },
   "outputs": [
    {
     "data": {
      "image/png": "[encoded data removed]",
      "text/plain": [
       "<Figure size 432x288 with 2 Axes>"
      ]
     },
     "metadata": {
      "needs_background": "light"
     },
     "output_type": "display_data"
    }
   ],
   "source": [
    "# Alternative confusion matrix\n",
    "plot_confusion_matrix(tree_clf, X, y, values_format='.3g')\n",
    "plt.show()"
   ]
  },
  {
   "cell_type": "markdown",
   "metadata": {},
   "source": [
    "<b>I DON'T UNDERSTAND THIS ALTERNATIVE CONFUSION MATRIX, DISCUSS WITH ABHINEET<b>"
   ]
  },
  {
   "cell_type": "code",
   "execution_count": 116,
   "metadata": {
    "ExecuteTime": {
     "end_time": "2020-08-18T23:17:20.014958Z",
     "start_time": "2020-08-18T23:17:20.011035Z"
    }
   },
   "outputs": [
    {
     "name": "stdout",
     "output_type": "stream",
     "text": [
      "Testing Accuracy for Decision Tree Classifier: 65.36%\n"
     ]
    }
   ],
   "source": [
    "print(\"Testing Accuracy for Decision Tree Classifier: {:.4}%\".format(accuracy_score(y_test, pred) * 100))"
   ]
  },
  {
   "cell_type": "markdown",
   "metadata": {},
   "source": [
    "This is not bad but it is certainly not great at 65.36%. Hopefully with the Random Forest this will improve...lets keep on going with the ensemble"
   ]
  },
  {
   "cell_type": "markdown",
   "metadata": {},
   "source": [
    "## Bagged trees"
   ]
  },
  {
   "cell_type": "markdown",
   "metadata": {},
   "source": [
    "What I will do here is try as the first ensemble is a bag of trees hoping that the model's accuracy will improve. "
   ]
  },
  {
   "cell_type": "code",
   "execution_count": 120,
   "metadata": {
    "ExecuteTime": {
     "end_time": "2020-08-18T23:22:51.102969Z",
     "start_time": "2020-08-18T23:22:51.100351Z"
    }
   },
   "outputs": [],
   "source": [
    "# We start by instantiating the BaggingClassifire\n",
    "bagged_tree =  BaggingClassifier(DecisionTreeClassifier(criterion='gini', max_depth=5), \n",
    "                                 n_estimators=20)"
   ]
  },
  {
   "cell_type": "code",
   "execution_count": 121,
   "metadata": {
    "ExecuteTime": {
     "end_time": "2020-08-18T23:23:21.718328Z",
     "start_time": "2020-08-18T23:23:21.671892Z"
    }
   },
   "outputs": [
    {
     "data": {
      "text/plain": [
       "BaggingClassifier(base_estimator=DecisionTreeClassifier(max_depth=5),\n",
       "                  n_estimators=20)"
      ]
     },
     "execution_count": 121,
     "metadata": {},
     "output_type": "execute_result"
    }
   ],
   "source": [
    "# Now to fitting the training data:\n",
    "bagged_tree.fit(X_train, y_train)"
   ]
  },
  {
   "cell_type": "code",
   "execution_count": 124,
   "metadata": {
    "ExecuteTime": {
     "end_time": "2020-08-18T23:26:00.981109Z",
     "start_time": "2020-08-18T23:26:00.971141Z"
    }
   },
   "outputs": [
    {
     "data": {
      "text/plain": [
       "0.9228187919463087"
      ]
     },
     "execution_count": 124,
     "metadata": {},
     "output_type": "execute_result"
    }
   ],
   "source": [
    "# I'm going to call the .score() to obtain the accuracy score on the training dataset and then on the test data:\n",
    "bagged_tree.score(X_train, y_train)"
   ]
  },
  {
   "cell_type": "code",
   "execution_count": 125,
   "metadata": {
    "ExecuteTime": {
     "end_time": "2020-08-18T23:26:20.749512Z",
     "start_time": "2020-08-18T23:26:20.738303Z"
    }
   },
   "outputs": [
    {
     "data": {
      "text/plain": [
       "0.6659192825112108"
      ]
     },
     "execution_count": 125,
     "metadata": {},
     "output_type": "execute_result"
    }
   ],
   "source": [
    "bagged_tree.score(X_test, y_test)"
   ]
  },
  {
   "cell_type": "markdown",
   "metadata": {},
   "source": [
    "Not a great improvement to be honest. 1% is merely nothing, so I'll keep on going testing other ensemble methods. The next one that I will test will be a Random Forest"
   ]
  },
  {
   "cell_type": "markdown",
   "metadata": {},
   "source": [
    "## Random Forest"
   ]
  },
  {
   "cell_type": "code",
   "execution_count": 127,
   "metadata": {
    "ExecuteTime": {
     "end_time": "2020-08-18T23:29:28.224496Z",
     "start_time": "2020-08-18T23:29:28.112550Z"
    }
   },
   "outputs": [
    {
     "data": {
      "text/plain": [
       "RandomForestClassifier(max_depth=5)"
      ]
     },
     "execution_count": 127,
     "metadata": {},
     "output_type": "execute_result"
    }
   ],
   "source": [
    "# I'll start by instantiating the RandomForestClassifier\n",
    "forest = RandomForestClassifier(n_estimators=100, max_depth=5)\n",
    "forest.fit(X_train, y_train)"
   ]
  },
  {
   "cell_type": "code",
   "execution_count": 128,
   "metadata": {
    "ExecuteTime": {
     "end_time": "2020-08-18T23:29:57.501545Z",
     "start_time": "2020-08-18T23:29:57.484601Z"
    }
   },
   "outputs": [
    {
     "data": {
      "text/plain": [
       "0.9228187919463087"
      ]
     },
     "execution_count": 128,
     "metadata": {},
     "output_type": "execute_result"
    }
   ],
   "source": [
    "# Now to check the accuracy score\n",
    "forest.score(X_train, y_train)"
   ]
  },
  {
   "cell_type": "code",
   "execution_count": 129,
   "metadata": {
    "ExecuteTime": {
     "end_time": "2020-08-18T23:30:29.879903Z",
     "start_time": "2020-08-18T23:30:29.858245Z"
    }
   },
   "outputs": [
    {
     "data": {
      "text/plain": [
       "0.6569506726457399"
      ]
     },
     "execution_count": 129,
     "metadata": {},
     "output_type": "execute_result"
    }
   ],
   "source": [
    "# And for the test set:\n",
    "forest.score(X_test, y_test)"
   ]
  },
  {
   "cell_type": "markdown",
   "metadata": {},
   "source": [
    "Once again not a great improvement..."
   ]
  },
  {
   "cell_type": "markdown",
   "metadata": {},
   "source": [
    "Lets look at the <b>FEATURE IMPORTANCE</b>"
   ]
  },
  {
   "cell_type": "code",
   "execution_count": 131,
   "metadata": {
    "ExecuteTime": {
     "end_time": "2020-08-18T23:31:56.457002Z",
     "start_time": "2020-08-18T23:31:56.234529Z"
    }
   },
   "outputs": [
    {
     "data": {
      "image/png": "[encoded data removed]",
      "text/plain": [
       "<Figure size 720x720 with 1 Axes>"
      ]
     },
     "metadata": {},
     "output_type": "display_data"
    }
   ],
   "source": [
    "plot_feature_importances(forest)\n",
    "plt.rcParams[\"figure.facecolor\"] = \"lightblue\""
   ]
  },
  {
   "cell_type": "markdown",
   "metadata": {},
   "source": [
    "OBSERVATIONS..."
   ]
  },
  {
   "cell_type": "markdown",
   "metadata": {},
   "source": [
    "## Looking at the trees inside the forest"
   ]
  },
  {
   "cell_type": "code",
   "execution_count": 132,
   "metadata": {
    "ExecuteTime": {
     "end_time": "2020-08-18T23:35:07.114491Z",
     "start_time": "2020-08-18T23:35:07.101554Z"
    }
   },
   "outputs": [
    {
     "data": {
      "text/plain": [
       "RandomForestClassifier(max_depth=2, max_features=10, n_estimators=5)"
      ]
     },
     "execution_count": 132,
     "metadata": {},
     "output_type": "execute_result"
    }
   ],
   "source": [
    "# Instantiate and fit a RandomForestClassifier\n",
    "forest_2 = RandomForestClassifier(n_estimators=5, max_features=10, max_depth= 2)\n",
    "forest_2.fit(X_train, y_train)"
   ]
  },
  {
   "cell_type": "code",
   "execution_count": 134,
   "metadata": {
    "ExecuteTime": {
     "end_time": "2020-08-18T23:35:34.671483Z",
     "start_time": "2020-08-18T23:35:34.669184Z"
    }
   },
   "outputs": [],
   "source": [
    "# First tree from forest_2\n",
    "rf_tree_1 = forest_2.estimators_[0]"
   ]
  },
  {
   "cell_type": "code",
   "execution_count": 135,
   "metadata": {
    "ExecuteTime": {
     "end_time": "2020-08-18T23:36:43.161559Z",
     "start_time": "2020-08-18T23:36:42.937876Z"
    }
   },
   "outputs": [
    {
     "data": {
      "image/png": "[encoded data removed]",
      "text/plain": [
       "<Figure size 720x720 with 1 Axes>"
      ]
     },
     "metadata": {},
     "output_type": "display_data"
    }
   ],
   "source": [
    "#I'll have a look at the tree's feature importance using the \"plot_feature_importances()\" function:\n",
    "plot_feature_importances(rf_tree_1)"
   ]
  },
  {
   "cell_type": "markdown",
   "metadata": {},
   "source": [
    "Lets look at tree number 3..."
   ]
  },
  {
   "cell_type": "code",
   "execution_count": 143,
   "metadata": {
    "ExecuteTime": {
     "end_time": "2020-08-19T07:58:27.579616Z",
     "start_time": "2020-08-19T07:58:27.577458Z"
    }
   },
   "outputs": [],
   "source": [
    "# Second tree from forest_2\n",
    "rf_tree_2 = forest_2.estimators_[1]"
   ]
  },
  {
   "cell_type": "code",
   "execution_count": 144,
   "metadata": {
    "ExecuteTime": {
     "end_time": "2020-08-19T07:58:28.110149Z",
     "start_time": "2020-08-19T07:58:27.905204Z"
    }
   },
   "outputs": [
    {
     "data": {
      "image/png": "[encoded data removed]",
      "text/plain": [
       "<Figure size 720x720 with 1 Axes>"
      ]
     },
     "metadata": {},
     "output_type": "display_data"
    }
   ],
   "source": [
    "# Feature importance plot\n",
    "plot_feature_importances(rf_tree_2)"
   ]
  },
  {
   "cell_type": "code",
   "execution_count": 145,
   "metadata": {
    "ExecuteTime": {
     "end_time": "2020-08-19T07:58:51.796404Z",
     "start_time": "2020-08-19T07:58:51.794200Z"
    }
   },
   "outputs": [],
   "source": [
    "# Third tree from forest_2\n",
    "rf_tree_3 = forest_2.estimators_[2]"
   ]
  },
  {
   "cell_type": "code",
   "execution_count": 146,
   "metadata": {
    "ExecuteTime": {
     "end_time": "2020-08-19T07:58:58.865686Z",
     "start_time": "2020-08-19T07:58:58.649150Z"
    }
   },
   "outputs": [
    {
     "data": {
      "image/png": "[encoded data removed]",
      "text/plain": [
       "<Figure size 720x720 with 1 Axes>"
      ]
     },
     "metadata": {},
     "output_type": "display_data"
    }
   ],
   "source": [
    "# Feature importance plot for tree number 3\n",
    "plot_feature_importances(rf_tree_3)"
   ]
  },
  {
   "cell_type": "markdown",
   "metadata": {},
   "source": [
    "## Model Test I"
   ]
  },
  {
   "cell_type": "markdown",
   "metadata": {},
   "source": [
    "The next DataFrame has been already been cleaned and conditioned for modeling, therefore all I need to do is use Pandas to read_csv and start applying algorithms. "
   ]
  },
  {
   "cell_type": "code",
   "execution_count": 294,
   "metadata": {
    "ExecuteTime": {
     "end_time": "2020-08-23T21:11:49.640426Z",
     "start_time": "2020-08-23T21:11:49.617653Z"
    }
   },
   "outputs": [
    {
     "data": {
      "text/html": [
       "<div>\n",
       "<style scoped>\n",
       "    .dataframe tbody tr th:only-of-type {\n",
       "        vertical-align: middle;\n",
       "    }\n",
       "\n",
       "    .dataframe tbody tr th {\n",
       "        vertical-align: top;\n",
       "    }\n",
       "\n",
       "    .dataframe thead th {\n",
       "        text-align: right;\n",
       "    }\n",
       "</style>\n",
       "<table border=\"1\" class=\"dataframe\">\n",
       "  <thead>\n",
       "    <tr style=\"text-align: right;\">\n",
       "      <th></th>\n",
       "      <th>Game_Result</th>\n",
       "      <th>Team1_OFFRTG</th>\n",
       "      <th>Team1_DEFRTG</th>\n",
       "      <th>Team1_AST/TO</th>\n",
       "      <th>Team1_REB_P</th>\n",
       "      <th>Team1_FG_P</th>\n",
       "      <th>Team1_FGA</th>\n",
       "      <th>Team1_PACE</th>\n",
       "      <th>Team1_3PA</th>\n",
       "      <th>Team1_3P_P</th>\n",
       "      <th>Team2_OFFRTG</th>\n",
       "      <th>Team2_DEFRTG</th>\n",
       "      <th>Team2_AST/TO</th>\n",
       "      <th>Team2_REB_P</th>\n",
       "      <th>Team2_FG_P</th>\n",
       "      <th>Team2_FGA</th>\n",
       "      <th>Team2_PACE</th>\n",
       "      <th>Team2_3PA</th>\n",
       "      <th>Team2_3P_P</th>\n",
       "    </tr>\n",
       "  </thead>\n",
       "  <tbody>\n",
       "    <tr>\n",
       "      <td>9</td>\n",
       "      <td>1</td>\n",
       "      <td>111.4</td>\n",
       "      <td>114.2</td>\n",
       "      <td>1.64</td>\n",
       "      <td>48.7</td>\n",
       "      <td>44.8</td>\n",
       "      <td>92.4</td>\n",
       "      <td>103.94</td>\n",
       "      <td>28.9</td>\n",
       "      <td>38.1</td>\n",
       "      <td>111.9</td>\n",
       "      <td>110.6</td>\n",
       "      <td>2.02</td>\n",
       "      <td>50.8</td>\n",
       "      <td>46.6</td>\n",
       "      <td>91.7</td>\n",
       "      <td>99.33</td>\n",
       "      <td>22.3</td>\n",
       "      <td>39.1</td>\n",
       "    </tr>\n",
       "    <tr>\n",
       "      <td>57</td>\n",
       "      <td>0</td>\n",
       "      <td>112.1</td>\n",
       "      <td>105.5</td>\n",
       "      <td>1.67</td>\n",
       "      <td>49.2</td>\n",
       "      <td>50.6</td>\n",
       "      <td>86.0</td>\n",
       "      <td>97.13</td>\n",
       "      <td>22.3</td>\n",
       "      <td>41.6</td>\n",
       "      <td>111.9</td>\n",
       "      <td>110.6</td>\n",
       "      <td>2.02</td>\n",
       "      <td>50.8</td>\n",
       "      <td>46.6</td>\n",
       "      <td>91.7</td>\n",
       "      <td>99.33</td>\n",
       "      <td>22.3</td>\n",
       "      <td>39.1</td>\n",
       "    </tr>\n",
       "  </tbody>\n",
       "</table>\n",
       "</div>"
      ],
      "text/plain": [
       "    Game_Result  Team1_OFFRTG  Team1_DEFRTG  Team1_AST/TO  Team1_REB_P  \\\n",
       "9             1         111.4         114.2          1.64         48.7   \n",
       "57            0         112.1         105.5          1.67         49.2   \n",
       "\n",
       "    Team1_FG_P  Team1_FGA  Team1_PACE  Team1_3PA  Team1_3P_P  Team2_OFFRTG  \\\n",
       "9         44.8       92.4      103.94       28.9        38.1         111.9   \n",
       "57        50.6       86.0       97.13       22.3        41.6         111.9   \n",
       "\n",
       "    Team2_DEFRTG  Team2_AST/TO  Team2_REB_P  Team2_FG_P  Team2_FGA  \\\n",
       "9          110.6          2.02         50.8        46.6       91.7   \n",
       "57         110.6          2.02         50.8        46.6       91.7   \n",
       "\n",
       "    Team2_PACE  Team2_3PA  Team2_3P_P  \n",
       "9        99.33       22.3        39.1  \n",
       "57       99.33       22.3        39.1  "
      ]
     },
     "execution_count": 294,
     "metadata": {},
     "output_type": "execute_result"
    }
   ],
   "source": [
    "df_SAS = pd.read_csv('df_SAS_1S.csv', index_col=0)\n",
    "df_SAS.head(2)"
   ]
  },
  {
   "cell_type": "markdown",
   "metadata": {},
   "source": [
    "The Target as per the rest of the models is the Game_Result, so I will have a quick look at it's values:"
   ]
  },
  {
   "cell_type": "code",
   "execution_count": 295,
   "metadata": {
    "ExecuteTime": {
     "end_time": "2020-08-23T21:13:47.435303Z",
     "start_time": "2020-08-23T21:13:47.430093Z"
    }
   },
   "outputs": [
    {
     "data": {
      "text/plain": [
       "1    33\n",
       "0     9\n",
       "Name: Game_Result, dtype: int64"
      ]
     },
     "execution_count": 295,
     "metadata": {},
     "output_type": "execute_result"
    }
   ],
   "source": [
    "# Target Variable:\n",
    "df_SAS.Game_Result.value_counts()"
   ]
  },
  {
   "cell_type": "markdown",
   "metadata": {},
   "source": [
    "42 games in Total, so half a season that normally corresponds to games played at Home. "
   ]
  },
  {
   "cell_type": "markdown",
   "metadata": {},
   "source": [
    "I will start with the workflow by first defining my target (y) and features(X), spliting the data with a test_size equal to 0.25 and a random_state of 42, and then a quick fit to the train data with a maximum depth of 5. This will correspond to the baseline model"
   ]
  },
  {
   "cell_type": "code",
   "execution_count": 297,
   "metadata": {
    "ExecuteTime": {
     "end_time": "2020-08-23T21:18:43.341281Z",
     "start_time": "2020-08-23T21:18:43.331046Z"
    }
   },
   "outputs": [
    {
     "data": {
      "text/plain": [
       "DecisionTreeClassifier(max_depth=5)"
      ]
     },
     "execution_count": 297,
     "metadata": {},
     "output_type": "execute_result"
    }
   ],
   "source": [
    "# Create features (X) and labels (y)\n",
    "y = df_SAS['Game_Result']\n",
    "X = df_SAS.drop(['Game_Result'], axis=1)\n",
    "\n",
    "# Perform the split\n",
    "X_test, X_train, y_test, y_train = train_test_split(X, y, test_size=0.25, random_state=42)\n",
    "\n",
    "# Fit the model with the Train data - Creating baseline\n",
    "tree1a_clf = DecisionTreeClassifier(criterion='gini', max_depth=5)\n",
    "tree1a_clf.fit(X_train, y_train)"
   ]
  },
  {
   "cell_type": "markdown",
   "metadata": {},
   "source": [
    "I will now have a quick look at the feature importances by value and then will visualize the plot as it might more illustrative than a bunch of numbers"
   ]
  },
  {
   "cell_type": "code",
   "execution_count": 299,
   "metadata": {
    "ExecuteTime": {
     "end_time": "2020-08-23T21:19:50.934157Z",
     "start_time": "2020-08-23T21:19:50.929079Z"
    }
   },
   "outputs": [
    {
     "data": {
      "text/plain": [
       "array([0., 0., 0., 1., 0., 0., 0., 0., 0., 0., 0., 0., 0., 0., 0., 0., 0.,\n",
       "       0.])"
      ]
     },
     "execution_count": 299,
     "metadata": {},
     "output_type": "execute_result"
    }
   ],
   "source": [
    "tree1a_clf.feature_importances_"
   ]
  },
  {
   "cell_type": "markdown",
   "metadata": {},
   "source": [
    "Not much to see due to the size of this sample as well, so I'm not expecting great results here"
   ]
  },
  {
   "cell_type": "code",
   "execution_count": 300,
   "metadata": {
    "ExecuteTime": {
     "end_time": "2020-08-23T21:20:56.076715Z",
     "start_time": "2020-08-23T21:20:55.831061Z"
    }
   },
   "outputs": [
    {
     "data": {
      "image/png": "[encoded data removed]",
      "text/plain": [
       "<Figure size 720x720 with 1 Axes>"
      ]
     },
     "metadata": {},
     "output_type": "display_data"
    }
   ],
   "source": [
    "plot_feature_importances(tree1a_clf)"
   ]
  },
  {
   "cell_type": "markdown",
   "metadata": {},
   "source": [
    "Probably due to the size of the sample we are getting this feature importance response where most if not all is given to the Rebounding percentage of the Home Team, which is not normal and not expected"
   ]
  },
  {
   "cell_type": "markdown",
   "metadata": {},
   "source": [
    "I'm going to run predictions, look into a confusion matrix and the classification report for the accuracy and other stats"
   ]
  },
  {
   "cell_type": "code",
   "execution_count": 303,
   "metadata": {
    "ExecuteTime": {
     "end_time": "2020-08-23T21:23:40.867591Z",
     "start_time": "2020-08-23T21:23:40.862910Z"
    }
   },
   "outputs": [],
   "source": [
    "# Test set predictions\n",
    "pred = tree1a_clf.predict(X_test)"
   ]
  },
  {
   "cell_type": "code",
   "execution_count": 304,
   "metadata": {
    "ExecuteTime": {
     "end_time": "2020-08-23T21:23:42.327664Z",
     "start_time": "2020-08-23T21:23:42.281318Z"
    }
   },
   "outputs": [
    {
     "name": "stdout",
     "output_type": "stream",
     "text": [
      "\n",
      "Confusion Matrix\n",
      "----------------\n"
     ]
    },
    {
     "data": {
      "text/html": [
       "<div>\n",
       "<style scoped>\n",
       "    .dataframe tbody tr th:only-of-type {\n",
       "        vertical-align: middle;\n",
       "    }\n",
       "\n",
       "    .dataframe tbody tr th {\n",
       "        vertical-align: top;\n",
       "    }\n",
       "\n",
       "    .dataframe thead th {\n",
       "        text-align: right;\n",
       "    }\n",
       "</style>\n",
       "<table border=\"1\" class=\"dataframe\">\n",
       "  <thead>\n",
       "    <tr style=\"text-align: right;\">\n",
       "      <th>Predicted</th>\n",
       "      <th>0</th>\n",
       "      <th>1</th>\n",
       "      <th>All</th>\n",
       "    </tr>\n",
       "    <tr>\n",
       "      <th>True</th>\n",
       "      <th></th>\n",
       "      <th></th>\n",
       "      <th></th>\n",
       "    </tr>\n",
       "  </thead>\n",
       "  <tbody>\n",
       "    <tr>\n",
       "      <td>0</td>\n",
       "      <td>1</td>\n",
       "      <td>7</td>\n",
       "      <td>8</td>\n",
       "    </tr>\n",
       "    <tr>\n",
       "      <td>1</td>\n",
       "      <td>3</td>\n",
       "      <td>20</td>\n",
       "      <td>23</td>\n",
       "    </tr>\n",
       "    <tr>\n",
       "      <td>All</td>\n",
       "      <td>4</td>\n",
       "      <td>27</td>\n",
       "      <td>31</td>\n",
       "    </tr>\n",
       "  </tbody>\n",
       "</table>\n",
       "</div>"
      ],
      "text/plain": [
       "Predicted  0   1  All\n",
       "True                 \n",
       "0          1   7    8\n",
       "1          3  20   23\n",
       "All        4  27   31"
      ]
     },
     "execution_count": 304,
     "metadata": {},
     "output_type": "execute_result"
    }
   ],
   "source": [
    "# confusion matrix and classfication report\n",
    "print('\\nConfusion Matrix')\n",
    "print('----------------')\n",
    "pd.crosstab(y_test, pred, rownames=['True'], colnames=['Predicted'], margins=True)"
   ]
  },
  {
   "cell_type": "code",
   "execution_count": 305,
   "metadata": {
    "ExecuteTime": {
     "end_time": "2020-08-23T21:24:27.169248Z",
     "start_time": "2020-08-23T21:24:27.161507Z"
    }
   },
   "outputs": [
    {
     "name": "stdout",
     "output_type": "stream",
     "text": [
      "Classficiation Report\n",
      "---------------------\n",
      "              precision    recall  f1-score   support\n",
      "\n",
      "           0       0.25      0.12      0.17         8\n",
      "           1       0.74      0.87      0.80        23\n",
      "\n",
      "    accuracy                           0.68        31\n",
      "   macro avg       0.50      0.50      0.48        31\n",
      "weighted avg       0.61      0.68      0.64        31\n",
      "\n"
     ]
    }
   ],
   "source": [
    "print('Classficiation Report')\n",
    "print('---------------------')\n",
    "print(classification_report(y_test, pred))"
   ]
  },
  {
   "cell_type": "code",
   "execution_count": 306,
   "metadata": {
    "ExecuteTime": {
     "end_time": "2020-08-23T21:25:08.757939Z",
     "start_time": "2020-08-23T21:25:08.754079Z"
    }
   },
   "outputs": [
    {
     "name": "stdout",
     "output_type": "stream",
     "text": [
      "Testing Accuracy for Decision Tree Classifier: 67.74%\n"
     ]
    }
   ],
   "source": [
    "print(\"Testing Accuracy for Decision Tree Classifier: {:.4}%\".format(accuracy_score(y_test, pred) * 100))"
   ]
  },
  {
   "cell_type": "markdown",
   "metadata": {},
   "source": [
    "This accuracy is more than 10% below the True/Ground Truth, therefore not a great result. LEt's hope that with some of thee Ensemble techniques it will improve"
   ]
  },
  {
   "cell_type": "markdown",
   "metadata": {},
   "source": [
    "### Bagged Trees"
   ]
  },
  {
   "cell_type": "code",
   "execution_count": 307,
   "metadata": {
    "ExecuteTime": {
     "end_time": "2020-08-23T21:28:14.023478Z",
     "start_time": "2020-08-23T21:28:14.020738Z"
    }
   },
   "outputs": [],
   "source": [
    "# We start by instantiating the BaggingClassifier\n",
    "bagged_tree1a =  BaggingClassifier(DecisionTreeClassifier(criterion='gini', max_depth=5), \n",
    "                                 n_estimators=20)"
   ]
  },
  {
   "cell_type": "code",
   "execution_count": 308,
   "metadata": {
    "ExecuteTime": {
     "end_time": "2020-08-23T21:28:44.130009Z",
     "start_time": "2020-08-23T21:28:44.104509Z"
    }
   },
   "outputs": [
    {
     "data": {
      "text/plain": [
       "BaggingClassifier(base_estimator=DecisionTreeClassifier(max_depth=5),\n",
       "                  n_estimators=20)"
      ]
     },
     "execution_count": 308,
     "metadata": {},
     "output_type": "execute_result"
    }
   ],
   "source": [
    "# Now to fitting the training data:\n",
    "bagged_tree1a.fit(X_train, y_train)"
   ]
  },
  {
   "cell_type": "code",
   "execution_count": 309,
   "metadata": {
    "ExecuteTime": {
     "end_time": "2020-08-23T21:31:03.849891Z",
     "start_time": "2020-08-23T21:31:03.833494Z"
    }
   },
   "outputs": [
    {
     "data": {
      "text/plain": [
       "1.0"
      ]
     },
     "metadata": {},
     "output_type": "display_data"
    },
    {
     "data": {
      "text/plain": [
       "0.7741935483870968"
      ]
     },
     "metadata": {},
     "output_type": "display_data"
    }
   ],
   "source": [
    "# I'm going to call the .score() to obtain the accuracy score on the training dataset and then on the test data:\n",
    "display(bagged_tree1a.score(X_train, y_train))\n",
    "\n",
    "# And for the test set:\n",
    "display(bagged_tree1a.score(X_test, y_test))"
   ]
  },
  {
   "cell_type": "markdown",
   "metadata": {},
   "source": [
    "With the Bagged Trees there was a significant improvement in the accuracy to 77.42%. This doesn't surprise me though as the Train data is 25% of the entire dataset which is 42 samples, so not veery hard to predict this results, specially when the Home Team wins at such a high rate"
   ]
  },
  {
   "cell_type": "markdown",
   "metadata": {},
   "source": [
    "### Random Forest"
   ]
  },
  {
   "cell_type": "code",
   "execution_count": 310,
   "metadata": {
    "ExecuteTime": {
     "end_time": "2020-08-23T21:33:48.993022Z",
     "start_time": "2020-08-23T21:33:48.902853Z"
    }
   },
   "outputs": [
    {
     "data": {
      "text/plain": [
       "RandomForestClassifier(max_depth=5)"
      ]
     },
     "execution_count": 310,
     "metadata": {},
     "output_type": "execute_result"
    }
   ],
   "source": [
    "# I'll start by instantiating the RandomForestClassifier\n",
    "forest1a = RandomForestClassifier(n_estimators=100, max_depth=5)\n",
    "forest1a.fit(X_train, y_train)"
   ]
  },
  {
   "cell_type": "code",
   "execution_count": 311,
   "metadata": {
    "ExecuteTime": {
     "end_time": "2020-08-23T21:34:09.517728Z",
     "start_time": "2020-08-23T21:34:09.470725Z"
    }
   },
   "outputs": [
    {
     "data": {
      "text/plain": [
       "1.0"
      ]
     },
     "metadata": {},
     "output_type": "display_data"
    },
    {
     "data": {
      "text/plain": [
       "0.7419354838709677"
      ]
     },
     "metadata": {},
     "output_type": "display_data"
    }
   ],
   "source": [
    "# Now to check the accuracy score\n",
    "display(forest1a.score(X_train, y_train))\n",
    "\n",
    "# And for the test set:\n",
    "display(forest1a.score(X_test, y_test))"
   ]
  },
  {
   "cell_type": "markdown",
   "metadata": {},
   "source": [
    "The model's accuracy decrease by 3%, still it is quite a good value very close to the ground truth. One last thing to see is the feature importance in a plot to understand the weight distribution and what is being considered as more/less important"
   ]
  },
  {
   "cell_type": "code",
   "execution_count": 313,
   "metadata": {
    "ExecuteTime": {
     "end_time": "2020-08-23T21:37:49.223120Z",
     "start_time": "2020-08-23T21:37:48.970532Z"
    }
   },
   "outputs": [
    {
     "data": {
      "image/png": "[encoded data removed]",
      "text/plain": [
       "<Figure size 720x720 with 1 Axes>"
      ]
     },
     "metadata": {},
     "output_type": "display_data"
    }
   ],
   "source": [
    "plot_feature_importances(forest1a)\n",
    "plt.rcParams[\"figure.facecolor\"] = \"lightblue\""
   ]
  },
  {
   "cell_type": "markdown",
   "metadata": {},
   "source": [
    "Three point attempts (3PA), Rebounding Percentage (REB_P) and thee Defensive Rating (DEFRTG) for Home Team (Team1) are the most important features. It's interest how shooting more three pointers and a stronger defense can translate into wins, but then that is what defines today's game. We can look at the Golden State Warrior as an example. They have won 3 championships in thee past 5 years and they had three of the best three pointer in basketball today as starters (Kevin Durant, Klay Thompson and Steve Curry), plus the other two players could also shoot the 3. Their defense was very tough with the only weak link being the Point Guard position held by Steve Curry, however with his long shooting range he managed to compensate."
   ]
  },
  {
   "cell_type": "markdown",
   "metadata": {},
   "source": [
    "## Model Test II"
   ]
  },
  {
   "cell_type": "markdown",
   "metadata": {},
   "source": [
    "Now that we have run these algorithms on a Tier 1 team, lets continue doing the same task of studying the Miami Heat as a Tier 2 Team. I won't go into much detail as for the previous test as all the steps have already been explained, so I will go faster right to the results"
   ]
  },
  {
   "cell_type": "code",
   "execution_count": 314,
   "metadata": {
    "ExecuteTime": {
     "end_time": "2020-08-23T21:44:51.862404Z",
     "start_time": "2020-08-23T21:44:51.839441Z"
    }
   },
   "outputs": [
    {
     "data": {
      "text/html": [
       "<div>\n",
       "<style scoped>\n",
       "    .dataframe tbody tr th:only-of-type {\n",
       "        vertical-align: middle;\n",
       "    }\n",
       "\n",
       "    .dataframe tbody tr th {\n",
       "        vertical-align: top;\n",
       "    }\n",
       "\n",
       "    .dataframe thead th {\n",
       "        text-align: right;\n",
       "    }\n",
       "</style>\n",
       "<table border=\"1\" class=\"dataframe\">\n",
       "  <thead>\n",
       "    <tr style=\"text-align: right;\">\n",
       "      <th></th>\n",
       "      <th>Game_Result</th>\n",
       "      <th>Team1_OFFRTG</th>\n",
       "      <th>Team1_DEFRTG</th>\n",
       "      <th>Team1_AST/TO</th>\n",
       "      <th>Team1_REB_P</th>\n",
       "      <th>Team1_FG_P</th>\n",
       "      <th>Team1_FGA</th>\n",
       "      <th>Team1_PACE</th>\n",
       "      <th>Team1_3PA</th>\n",
       "      <th>Team1_3P_P</th>\n",
       "      <th>Team2_OFFRTG</th>\n",
       "      <th>Team2_DEFRTG</th>\n",
       "      <th>Team2_AST/TO</th>\n",
       "      <th>Team2_REB_P</th>\n",
       "      <th>Team2_FG_P</th>\n",
       "      <th>Team2_FGA</th>\n",
       "      <th>Team2_PACE</th>\n",
       "      <th>Team2_3PA</th>\n",
       "      <th>Team2_3P_P</th>\n",
       "    </tr>\n",
       "  </thead>\n",
       "  <tbody>\n",
       "    <tr>\n",
       "      <td>30</td>\n",
       "      <td>0</td>\n",
       "      <td>114.9</td>\n",
       "      <td>109.1</td>\n",
       "      <td>2.09</td>\n",
       "      <td>49.2</td>\n",
       "      <td>46.3</td>\n",
       "      <td>91.0</td>\n",
       "      <td>100.44</td>\n",
       "      <td>34.5</td>\n",
       "      <td>37.7</td>\n",
       "      <td>108.9</td>\n",
       "      <td>107.6</td>\n",
       "      <td>1.37</td>\n",
       "      <td>53.6</td>\n",
       "      <td>43.6</td>\n",
       "      <td>91.4</td>\n",
       "      <td>102.71</td>\n",
       "      <td>33.9</td>\n",
       "      <td>35.4</td>\n",
       "    </tr>\n",
       "    <tr>\n",
       "      <td>53</td>\n",
       "      <td>1</td>\n",
       "      <td>105.2</td>\n",
       "      <td>109.8</td>\n",
       "      <td>1.39</td>\n",
       "      <td>51.0</td>\n",
       "      <td>43.1</td>\n",
       "      <td>91.8</td>\n",
       "      <td>100.56</td>\n",
       "      <td>30.8</td>\n",
       "      <td>36.2</td>\n",
       "      <td>108.9</td>\n",
       "      <td>107.6</td>\n",
       "      <td>1.37</td>\n",
       "      <td>53.6</td>\n",
       "      <td>43.6</td>\n",
       "      <td>91.4</td>\n",
       "      <td>102.71</td>\n",
       "      <td>33.9</td>\n",
       "      <td>35.4</td>\n",
       "    </tr>\n",
       "  </tbody>\n",
       "</table>\n",
       "</div>"
      ],
      "text/plain": [
       "    Game_Result  Team1_OFFRTG  Team1_DEFRTG  Team1_AST/TO  Team1_REB_P  \\\n",
       "30            0         114.9         109.1          2.09         49.2   \n",
       "53            1         105.2         109.8          1.39         51.0   \n",
       "\n",
       "    Team1_FG_P  Team1_FGA  Team1_PACE  Team1_3PA  Team1_3P_P  Team2_OFFRTG  \\\n",
       "30        46.3       91.0      100.44       34.5        37.7         108.9   \n",
       "53        43.1       91.8      100.56       30.8        36.2         108.9   \n",
       "\n",
       "    Team2_DEFRTG  Team2_AST/TO  Team2_REB_P  Team2_FG_P  Team2_FGA  \\\n",
       "30         107.6          1.37         53.6        43.6       91.4   \n",
       "53         107.6          1.37         53.6        43.6       91.4   \n",
       "\n",
       "    Team2_PACE  Team2_3PA  Team2_3P_P  \n",
       "30      102.71       33.9        35.4  \n",
       "53      102.71       33.9        35.4  "
      ]
     },
     "execution_count": 314,
     "metadata": {},
     "output_type": "execute_result"
    }
   ],
   "source": [
    "df_MIA = pd.read_csv('df_MIA_1S.csv', index_col=0)\n",
    "df_MIA.head(2)"
   ]
  },
  {
   "cell_type": "code",
   "execution_count": 316,
   "metadata": {
    "ExecuteTime": {
     "end_time": "2020-08-23T21:45:16.538314Z",
     "start_time": "2020-08-23T21:45:16.532995Z"
    }
   },
   "outputs": [
    {
     "data": {
      "text/plain": [
       "0    21\n",
       "1    19\n",
       "Name: Game_Result, dtype: int64"
      ]
     },
     "execution_count": 316,
     "metadata": {},
     "output_type": "execute_result"
    }
   ],
   "source": [
    "df_MIA.Game_Result.value_counts()"
   ]
  },
  {
   "cell_type": "code",
   "execution_count": 319,
   "metadata": {
    "ExecuteTime": {
     "end_time": "2020-08-23T21:51:12.612822Z",
     "start_time": "2020-08-23T21:51:12.556189Z"
    }
   },
   "outputs": [
    {
     "name": "stdout",
     "output_type": "stream",
     "text": [
      "\n",
      "Confusion Matrix\n",
      "----------------\n",
      "Classficiation Report\n",
      "---------------------\n",
      "              precision    recall  f1-score   support\n",
      "\n",
      "           0       0.50      0.35      0.41        17\n",
      "           1       0.39      0.54      0.45        13\n",
      "\n",
      "    accuracy                           0.43        30\n",
      "   macro avg       0.44      0.45      0.43        30\n",
      "weighted avg       0.45      0.43      0.43        30\n",
      "\n",
      "Testing Accuracy for Decision Tree Classifier: 43.33%\n"
     ]
    }
   ],
   "source": [
    "# Create features (X) and labels (y)\n",
    "y = df_MIA['Game_Result']\n",
    "X = df_MIA.drop(['Game_Result'], axis=1)\n",
    "\n",
    "# Perform the split\n",
    "X_test, X_train, y_test, y_train = train_test_split(X, y, test_size=0.25, random_state=42)\n",
    "\n",
    "# Fit the model with the Train data - Creating baseline\n",
    "tree1b_clf = DecisionTreeClassifier(criterion='gini', max_depth=5)\n",
    "tree1b_clf.fit(X_train, y_train)\n",
    "\n",
    "# Test set predictions\n",
    "pred = tree1b_clf.predict(X_test)\n",
    "\n",
    "# confusion matrix and classfication report\n",
    "print('\\nConfusion Matrix')\n",
    "print('----------------')\n",
    "pd.crosstab(y_test, pred, rownames=['True'], colnames=['Predicted'], margins=True)\n",
    "\n",
    "print('Classficiation Report')\n",
    "print('---------------------')\n",
    "print(classification_report(y_test, pred))\n",
    "\n",
    "print(\"Testing Accuracy for Decision Tree Classifier: {:.4}%\".format(accuracy_score(y_test, pred) * 100))"
   ]
  },
  {
   "cell_type": "markdown",
   "metadata": {},
   "source": [
    "This is a terrible accuracy, even worse than flipping a coin. The Miami Heat wins just above 50% of their Home Games, so I wasn't expecting a massive accuracy but 43.33 is quite low to bee honest. Lets see how the Ensembles can help"
   ]
  },
  {
   "cell_type": "code",
   "execution_count": null,
   "metadata": {},
   "outputs": [],
   "source": []
  },
  {
   "cell_type": "code",
   "execution_count": null,
   "metadata": {},
   "outputs": [],
   "source": []
  },
  {
   "cell_type": "code",
   "execution_count": null,
   "metadata": {},
   "outputs": [],
   "source": []
  },
  {
   "cell_type": "markdown",
   "metadata": {},
   "source": [
    "### Bagged Trees"
   ]
  },
  {
   "cell_type": "code",
   "execution_count": 323,
   "metadata": {
    "ExecuteTime": {
     "end_time": "2020-08-23T21:54:40.723403Z",
     "start_time": "2020-08-23T21:54:40.720641Z"
    }
   },
   "outputs": [],
   "source": [
    "# We start by instantiating the BaggingClassifier\n",
    "bagged_tree1b = BaggingClassifier(DecisionTreeClassifier(criterion='gini', max_depth=5), \n",
    "                                 n_estimators=20)"
   ]
  },
  {
   "cell_type": "code",
   "execution_count": 324,
   "metadata": {
    "ExecuteTime": {
     "end_time": "2020-08-23T21:54:42.128492Z",
     "start_time": "2020-08-23T21:54:42.102980Z"
    }
   },
   "outputs": [
    {
     "data": {
      "text/plain": [
       "BaggingClassifier(base_estimator=DecisionTreeClassifier(max_depth=5),\n",
       "                  n_estimators=20)"
      ]
     },
     "execution_count": 324,
     "metadata": {},
     "output_type": "execute_result"
    }
   ],
   "source": [
    "# Now to fitting the training data:\n",
    "bagged_tree1b.fit(X_train, y_train)"
   ]
  },
  {
   "cell_type": "code",
   "execution_count": 325,
   "metadata": {
    "ExecuteTime": {
     "end_time": "2020-08-23T21:54:43.230733Z",
     "start_time": "2020-08-23T21:54:43.214464Z"
    }
   },
   "outputs": [
    {
     "data": {
      "text/plain": [
       "1.0"
      ]
     },
     "metadata": {},
     "output_type": "display_data"
    },
    {
     "data": {
      "text/plain": [
       "0.43333333333333335"
      ]
     },
     "metadata": {},
     "output_type": "display_data"
    }
   ],
   "source": [
    "# I'm going to call the .score() to obtain the accuracy score on the training dataset and then on the test data:\n",
    "display(bagged_tree1b.score(X_train, y_train))\n",
    "\n",
    "# And for the test set:\n",
    "display(bagged_tree1a.score(X_test, y_test))"
   ]
  },
  {
   "cell_type": "markdown",
   "metadata": {},
   "source": [
    "No improvement whatsoever!"
   ]
  },
  {
   "cell_type": "markdown",
   "metadata": {},
   "source": [
    "### Random Forest"
   ]
  },
  {
   "cell_type": "code",
   "execution_count": 326,
   "metadata": {
    "ExecuteTime": {
     "end_time": "2020-08-23T21:55:03.802239Z",
     "start_time": "2020-08-23T21:55:03.712333Z"
    }
   },
   "outputs": [
    {
     "data": {
      "text/plain": [
       "RandomForestClassifier(max_depth=5)"
      ]
     },
     "execution_count": 326,
     "metadata": {},
     "output_type": "execute_result"
    }
   ],
   "source": [
    "# I'll start by instantiating the RandomForestClassifier\n",
    "forest1b = RandomForestClassifier(n_estimators=100, max_depth=5)\n",
    "forest1b.fit(X_train, y_train)"
   ]
  },
  {
   "cell_type": "code",
   "execution_count": 327,
   "metadata": {
    "ExecuteTime": {
     "end_time": "2020-08-23T21:55:19.802473Z",
     "start_time": "2020-08-23T21:55:19.773768Z"
    }
   },
   "outputs": [
    {
     "data": {
      "text/plain": [
       "1.0"
      ]
     },
     "metadata": {},
     "output_type": "display_data"
    },
    {
     "data": {
      "text/plain": [
       "0.5333333333333333"
      ]
     },
     "metadata": {},
     "output_type": "display_data"
    }
   ],
   "source": [
    "# Now to check the accuracy score\n",
    "display(forest1b.score(X_train, y_train))\n",
    "\n",
    "# And for the test set:\n",
    "display(forest1b.score(X_test, y_test))"
   ]
  },
  {
   "cell_type": "markdown",
   "metadata": {},
   "source": [
    "The Random Forest Ensemble game thee best result with an increase of 10% in the accuracy to end up with 53.33%. This is most probably over-fitted as it is over-estimating the Miami Heat winning Home games. Definitely not a great team to bet on."
   ]
  },
  {
   "cell_type": "markdown",
   "metadata": {},
   "source": [
    "# 2010 - 2020 Dataset"
   ]
  },
  {
   "cell_type": "markdown",
   "metadata": {},
   "source": [
    "As on the previous Notebooks I will proceed to load both, the 2010-2020 and the 2000-2010 datasets, and then I'll manipulate them when the time comes per section of the Notebook"
   ]
  },
  {
   "cell_type": "code",
   "execution_count": 147,
   "metadata": {
    "ExecuteTime": {
     "end_time": "2020-08-23T14:33:39.251455Z",
     "start_time": "2020-08-23T14:33:39.139680Z"
    }
   },
   "outputs": [
    {
     "name": "stdout",
     "output_type": "stream",
     "text": [
      "df1:\n"
     ]
    },
    {
     "data": {
      "text/html": [
       "<div>\n",
       "<style scoped>\n",
       "    .dataframe tbody tr th:only-of-type {\n",
       "        vertical-align: middle;\n",
       "    }\n",
       "\n",
       "    .dataframe tbody tr th {\n",
       "        vertical-align: top;\n",
       "    }\n",
       "\n",
       "    .dataframe thead th {\n",
       "        text-align: right;\n",
       "    }\n",
       "</style>\n",
       "<table border=\"1\" class=\"dataframe\">\n",
       "  <thead>\n",
       "    <tr style=\"text-align: right;\">\n",
       "      <th></th>\n",
       "      <th>Game_Result</th>\n",
       "      <th>Team1_FGA</th>\n",
       "      <th>Team1_FG_P</th>\n",
       "      <th>Team1_3PA</th>\n",
       "      <th>Team1_3P_P</th>\n",
       "      <th>Team1_OFFRTG</th>\n",
       "      <th>Team1_DEFRTG</th>\n",
       "      <th>Team1_REB_P</th>\n",
       "      <th>Team1_AST/TO</th>\n",
       "      <th>Team1_PACE</th>\n",
       "      <th>Team2_FGA</th>\n",
       "      <th>Team2_FG_P</th>\n",
       "      <th>Team2_3PA</th>\n",
       "      <th>Team2_3P_P</th>\n",
       "      <th>Team2_OFFRTG</th>\n",
       "      <th>Team2_DEFRTG</th>\n",
       "      <th>Team2_REB_P</th>\n",
       "      <th>Team2_AST/TO</th>\n",
       "      <th>Team2_PACE</th>\n",
       "    </tr>\n",
       "  </thead>\n",
       "  <tbody>\n",
       "    <tr>\n",
       "      <td>0</td>\n",
       "      <td>1</td>\n",
       "      <td>96.0</td>\n",
       "      <td>46.5</td>\n",
       "      <td>43.2</td>\n",
       "      <td>38.0</td>\n",
       "      <td>112.2</td>\n",
       "      <td>114.2</td>\n",
       "      <td>46.9</td>\n",
       "      <td>1.89</td>\n",
       "      <td>106.09</td>\n",
       "      <td>86.8</td>\n",
       "      <td>46.3</td>\n",
       "      <td>36.8</td>\n",
       "      <td>38.0</td>\n",
       "      <td>107.5</td>\n",
       "      <td>99.1</td>\n",
       "      <td>51.1</td>\n",
       "      <td>1.26</td>\n",
       "      <td>104.23</td>\n",
       "    </tr>\n",
       "    <tr>\n",
       "      <td>1</td>\n",
       "      <td>1</td>\n",
       "      <td>87.5</td>\n",
       "      <td>45.7</td>\n",
       "      <td>29.0</td>\n",
       "      <td>33.6</td>\n",
       "      <td>107.9</td>\n",
       "      <td>96.8</td>\n",
       "      <td>51.4</td>\n",
       "      <td>1.54</td>\n",
       "      <td>101.00</td>\n",
       "      <td>84.0</td>\n",
       "      <td>49.6</td>\n",
       "      <td>29.5</td>\n",
       "      <td>36.7</td>\n",
       "      <td>112.9</td>\n",
       "      <td>107.5</td>\n",
       "      <td>49.6</td>\n",
       "      <td>1.35</td>\n",
       "      <td>101.50</td>\n",
       "    </tr>\n",
       "    <tr>\n",
       "      <td>2</td>\n",
       "      <td>1</td>\n",
       "      <td>94.0</td>\n",
       "      <td>41.1</td>\n",
       "      <td>36.2</td>\n",
       "      <td>29.3</td>\n",
       "      <td>103.7</td>\n",
       "      <td>109.6</td>\n",
       "      <td>45.2</td>\n",
       "      <td>1.81</td>\n",
       "      <td>101.80</td>\n",
       "      <td>86.0</td>\n",
       "      <td>46.3</td>\n",
       "      <td>35.8</td>\n",
       "      <td>41.9</td>\n",
       "      <td>104.9</td>\n",
       "      <td>114.2</td>\n",
       "      <td>47.3</td>\n",
       "      <td>1.30</td>\n",
       "      <td>103.00</td>\n",
       "    </tr>\n",
       "  </tbody>\n",
       "</table>\n",
       "</div>"
      ],
      "text/plain": [
       "   Game_Result  Team1_FGA  Team1_FG_P  Team1_3PA  Team1_3P_P  Team1_OFFRTG  \\\n",
       "0            1       96.0        46.5       43.2        38.0         112.2   \n",
       "1            1       87.5        45.7       29.0        33.6         107.9   \n",
       "2            1       94.0        41.1       36.2        29.3         103.7   \n",
       "\n",
       "   Team1_DEFRTG  Team1_REB_P  Team1_AST/TO  Team1_PACE  Team2_FGA  Team2_FG_P  \\\n",
       "0         114.2         46.9          1.89      106.09       86.8        46.3   \n",
       "1          96.8         51.4          1.54      101.00       84.0        49.6   \n",
       "2         109.6         45.2          1.81      101.80       86.0        46.3   \n",
       "\n",
       "   Team2_3PA  Team2_3P_P  Team2_OFFRTG  Team2_DEFRTG  Team2_REB_P  \\\n",
       "0       36.8        38.0         107.5          99.1         51.1   \n",
       "1       29.5        36.7         112.9         107.5         49.6   \n",
       "2       35.8        41.9         104.9         114.2         47.3   \n",
       "\n",
       "   Team2_AST/TO  Team2_PACE  \n",
       "0          1.26      104.23  \n",
       "1          1.35      101.50  \n",
       "2          1.30      103.00  "
      ]
     },
     "metadata": {},
     "output_type": "display_data"
    },
    {
     "name": "stdout",
     "output_type": "stream",
     "text": [
      "=============================================================================\n",
      "df2:\n"
     ]
    },
    {
     "data": {
      "text/html": [
       "<div>\n",
       "<style scoped>\n",
       "    .dataframe tbody tr th:only-of-type {\n",
       "        vertical-align: middle;\n",
       "    }\n",
       "\n",
       "    .dataframe tbody tr th {\n",
       "        vertical-align: top;\n",
       "    }\n",
       "\n",
       "    .dataframe thead th {\n",
       "        text-align: right;\n",
       "    }\n",
       "</style>\n",
       "<table border=\"1\" class=\"dataframe\">\n",
       "  <thead>\n",
       "    <tr style=\"text-align: right;\">\n",
       "      <th></th>\n",
       "      <th>Game_Result</th>\n",
       "      <th>Team1_FGA</th>\n",
       "      <th>Team1_FG_P</th>\n",
       "      <th>Team1_3PA</th>\n",
       "      <th>Team1_3P_P</th>\n",
       "      <th>Team1_OFFRTG</th>\n",
       "      <th>Team1_DEFRTG</th>\n",
       "      <th>Team1_REB_P</th>\n",
       "      <th>Team1_AST/TO</th>\n",
       "      <th>Team1_PACE</th>\n",
       "      <th>Team2_FGA</th>\n",
       "      <th>Team2_FG_P</th>\n",
       "      <th>Team2_3PA</th>\n",
       "      <th>Team2_3P_P</th>\n",
       "      <th>Team2_OFFRTG</th>\n",
       "      <th>Team2_DEFRTG</th>\n",
       "      <th>Team2_REB_P</th>\n",
       "      <th>Team2_AST/TO</th>\n",
       "      <th>Team2_PACE</th>\n",
       "    </tr>\n",
       "  </thead>\n",
       "  <tbody>\n",
       "    <tr>\n",
       "      <td>0</td>\n",
       "      <td>0</td>\n",
       "      <td>62.0</td>\n",
       "      <td>56.5</td>\n",
       "      <td>9.0</td>\n",
       "      <td>55.6</td>\n",
       "      <td>114.0</td>\n",
       "      <td>89.1</td>\n",
       "      <td>56.6</td>\n",
       "      <td>0.94</td>\n",
       "      <td>92.5</td>\n",
       "      <td>81.0</td>\n",
       "      <td>37.0</td>\n",
       "      <td>15.0</td>\n",
       "      <td>40.0</td>\n",
       "      <td>89.1</td>\n",
       "      <td>114.0</td>\n",
       "      <td>43.4</td>\n",
       "      <td>1.08</td>\n",
       "      <td>92.5</td>\n",
       "    </tr>\n",
       "    <tr>\n",
       "      <td>1</td>\n",
       "      <td>0</td>\n",
       "      <td>78.0</td>\n",
       "      <td>41.0</td>\n",
       "      <td>7.0</td>\n",
       "      <td>28.6</td>\n",
       "      <td>87.8</td>\n",
       "      <td>83.7</td>\n",
       "      <td>52.3</td>\n",
       "      <td>0.84</td>\n",
       "      <td>98.0</td>\n",
       "      <td>85.0</td>\n",
       "      <td>36.5</td>\n",
       "      <td>10.0</td>\n",
       "      <td>30.0</td>\n",
       "      <td>83.7</td>\n",
       "      <td>87.8</td>\n",
       "      <td>47.7</td>\n",
       "      <td>1.60</td>\n",
       "      <td>98.0</td>\n",
       "    </tr>\n",
       "    <tr>\n",
       "      <td>2</td>\n",
       "      <td>1</td>\n",
       "      <td>72.0</td>\n",
       "      <td>45.8</td>\n",
       "      <td>7.0</td>\n",
       "      <td>57.1</td>\n",
       "      <td>87.8</td>\n",
       "      <td>99.0</td>\n",
       "      <td>53.3</td>\n",
       "      <td>0.74</td>\n",
       "      <td>98.0</td>\n",
       "      <td>79.0</td>\n",
       "      <td>43.0</td>\n",
       "      <td>16.0</td>\n",
       "      <td>37.5</td>\n",
       "      <td>99.0</td>\n",
       "      <td>87.8</td>\n",
       "      <td>46.7</td>\n",
       "      <td>1.33</td>\n",
       "      <td>98.0</td>\n",
       "    </tr>\n",
       "  </tbody>\n",
       "</table>\n",
       "</div>"
      ],
      "text/plain": [
       "   Game_Result  Team1_FGA  Team1_FG_P  Team1_3PA  Team1_3P_P  Team1_OFFRTG  \\\n",
       "0            0       62.0        56.5        9.0        55.6         114.0   \n",
       "1            0       78.0        41.0        7.0        28.6          87.8   \n",
       "2            1       72.0        45.8        7.0        57.1          87.8   \n",
       "\n",
       "   Team1_DEFRTG  Team1_REB_P  Team1_AST/TO  Team1_PACE  Team2_FGA  Team2_FG_P  \\\n",
       "0          89.1         56.6          0.94        92.5       81.0        37.0   \n",
       "1          83.7         52.3          0.84        98.0       85.0        36.5   \n",
       "2          99.0         53.3          0.74        98.0       79.0        43.0   \n",
       "\n",
       "   Team2_3PA  Team2_3P_P  Team2_OFFRTG  Team2_DEFRTG  Team2_REB_P  \\\n",
       "0       15.0        40.0          89.1         114.0         43.4   \n",
       "1       10.0        30.0          83.7          87.8         47.7   \n",
       "2       16.0        37.5          99.0          87.8         46.7   \n",
       "\n",
       "   Team2_AST/TO  Team2_PACE  \n",
       "0          1.08        92.5  \n",
       "1          1.60        98.0  \n",
       "2          1.33        98.0  "
      ]
     },
     "metadata": {},
     "output_type": "display_data"
    }
   ],
   "source": [
    "df1 = pd.read_csv('2010-2020_Model_Ready.csv', index_col=0)\n",
    "print(\"df1:\")\n",
    "display(df1.head(3))\n",
    "df2 = pd.read_csv('2000-2010_Model_Ready.csv', index_col=0)\n",
    "print(\"=============================================================================\")\n",
    "print(\"df2:\")\n",
    "display(df2.head(3))"
   ]
  },
  {
   "cell_type": "code",
   "execution_count": 149,
   "metadata": {
    "ExecuteTime": {
     "end_time": "2020-08-23T14:34:43.399229Z",
     "start_time": "2020-08-23T14:34:43.394296Z"
    }
   },
   "outputs": [
    {
     "data": {
      "text/plain": [
       "(12198, 19)"
      ]
     },
     "execution_count": 149,
     "metadata": {},
     "output_type": "execute_result"
    }
   ],
   "source": [
    "df1.shape"
   ]
  },
  {
   "cell_type": "code",
   "execution_count": 150,
   "metadata": {
    "ExecuteTime": {
     "end_time": "2020-08-23T14:34:57.932824Z",
     "start_time": "2020-08-23T14:34:57.926379Z"
    }
   },
   "outputs": [
    {
     "data": {
      "text/plain": [
       "Game_Result     0\n",
       "Team1_FGA       0\n",
       "Team1_FG_P      0\n",
       "Team1_3PA       0\n",
       "Team1_3P_P      0\n",
       "Team1_OFFRTG    0\n",
       "Team1_DEFRTG    0\n",
       "Team1_REB_P     0\n",
       "Team1_AST/TO    0\n",
       "Team1_PACE      0\n",
       "Team2_FGA       0\n",
       "Team2_FG_P      0\n",
       "Team2_3PA       0\n",
       "Team2_3P_P      0\n",
       "Team2_OFFRTG    0\n",
       "Team2_DEFRTG    0\n",
       "Team2_REB_P     0\n",
       "Team2_AST/TO    0\n",
       "Team2_PACE      0\n",
       "dtype: int64"
      ]
     },
     "execution_count": 150,
     "metadata": {},
     "output_type": "execute_result"
    }
   ],
   "source": [
    "df1.isna().sum()"
   ]
  },
  {
   "cell_type": "markdown",
   "metadata": {
    "ExecuteTime": {
     "end_time": "2020-08-23T14:34:18.219895Z",
     "start_time": "2020-08-23T14:34:18.213048Z"
    }
   },
   "source": [
    "I ran a couple of quick tests, to check the shape and the possible presence of missing values, both ended up negative, so thats positive, and that means that the data as expected is ready for Modeling, so nothing to do but start testing the algorithm"
   ]
  },
  {
   "cell_type": "markdown",
   "metadata": {},
   "source": [
    "## Feature, Labels, and Data Training"
   ]
  },
  {
   "cell_type": "code",
   "execution_count": 151,
   "metadata": {
    "ExecuteTime": {
     "end_time": "2020-08-23T14:37:19.780157Z",
     "start_time": "2020-08-23T14:37:19.774236Z"
    }
   },
   "outputs": [
    {
     "data": {
      "text/plain": [
       "1    7160\n",
       "0    5038\n",
       "Name: Game_Result, dtype: int64"
      ]
     },
     "execution_count": 151,
     "metadata": {},
     "output_type": "execute_result"
    }
   ],
   "source": [
    "# Target Variable\n",
    "df1.Game_Result.value_counts()"
   ]
  },
  {
   "cell_type": "markdown",
   "metadata": {},
   "source": [
    "A Total of 12198 Games played with an true winning percentage of 58.9%. Keep in mind once again, that these is for all teams, therefore we will be testing this algorithm, as we have done with the others on a couple of teams, and for consistencies, wee will keep those 2 teams as the same."
   ]
  },
  {
   "cell_type": "code",
   "execution_count": 152,
   "metadata": {
    "ExecuteTime": {
     "end_time": "2020-08-23T14:39:40.817988Z",
     "start_time": "2020-08-23T14:39:40.811018Z"
    }
   },
   "outputs": [],
   "source": [
    "# Create features (X) and labels (y)\n",
    "y = df1['Game_Result']\n",
    "X = df1.drop(['Game_Result'], axis=1)\n",
    "\n",
    "# Perform the split\n",
    "X_test, X_train, y_test, y_train = train_test_split(X, y, test_size=0.25, random_state=42)"
   ]
  },
  {
   "cell_type": "markdown",
   "metadata": {},
   "source": [
    "## Build a regular tree as baseline"
   ]
  },
  {
   "cell_type": "code",
   "execution_count": 154,
   "metadata": {
    "ExecuteTime": {
     "end_time": "2020-08-23T14:40:40.056799Z",
     "start_time": "2020-08-23T14:40:40.032076Z"
    }
   },
   "outputs": [
    {
     "data": {
      "text/plain": [
       "DecisionTreeClassifier(max_depth=5)"
      ]
     },
     "execution_count": 154,
     "metadata": {},
     "output_type": "execute_result"
    }
   ],
   "source": [
    "tree_clf = DecisionTreeClassifier(criterion='gini', max_depth=5)\n",
    "tree_clf.fit(X_train, y_train)"
   ]
  },
  {
   "cell_type": "code",
   "execution_count": 155,
   "metadata": {
    "ExecuteTime": {
     "end_time": "2020-08-23T14:40:50.927817Z",
     "start_time": "2020-08-23T14:40:50.921209Z"
    }
   },
   "outputs": [
    {
     "data": {
      "text/plain": [
       "array([0.        , 0.02603623, 0.        , 0.00230936, 0.20681214,\n",
       "       0.22382833, 0.        , 0.01833119, 0.        , 0.        ,\n",
       "       0.04761862, 0.01454178, 0.01552343, 0.18476647, 0.26023244,\n",
       "       0.        , 0.        , 0.        ])"
      ]
     },
     "execution_count": 155,
     "metadata": {},
     "output_type": "execute_result"
    }
   ],
   "source": [
    "tree_clf.feature_importances_"
   ]
  },
  {
   "cell_type": "code",
   "execution_count": 156,
   "metadata": {
    "ExecuteTime": {
     "end_time": "2020-08-23T14:41:11.558491Z",
     "start_time": "2020-08-23T14:41:11.322960Z"
    }
   },
   "outputs": [
    {
     "data": {
      "image/png": "[encoded data removed]",
      "text/plain": [
       "<Figure size 720x720 with 1 Axes>"
      ]
     },
     "metadata": {},
     "output_type": "display_data"
    }
   ],
   "source": [
    "plot_feature_importances(tree_clf)"
   ]
  },
  {
   "cell_type": "markdown",
   "metadata": {},
   "source": [
    "## Model Performance"
   ]
  },
  {
   "cell_type": "code",
   "execution_count": 157,
   "metadata": {
    "ExecuteTime": {
     "end_time": "2020-08-23T14:41:43.913578Z",
     "start_time": "2020-08-23T14:41:43.907737Z"
    }
   },
   "outputs": [],
   "source": [
    "# Test set predictions\n",
    "pred = tree_clf.predict(X_test)"
   ]
  },
  {
   "cell_type": "code",
   "execution_count": 158,
   "metadata": {
    "ExecuteTime": {
     "end_time": "2020-08-23T14:41:51.877119Z",
     "start_time": "2020-08-23T14:41:51.818016Z"
    }
   },
   "outputs": [
    {
     "name": "stdout",
     "output_type": "stream",
     "text": [
      "\n",
      "Confusion Matrix\n",
      "----------------\n"
     ]
    },
    {
     "data": {
      "text/html": [
       "<div>\n",
       "<style scoped>\n",
       "    .dataframe tbody tr th:only-of-type {\n",
       "        vertical-align: middle;\n",
       "    }\n",
       "\n",
       "    .dataframe tbody tr th {\n",
       "        vertical-align: top;\n",
       "    }\n",
       "\n",
       "    .dataframe thead th {\n",
       "        text-align: right;\n",
       "    }\n",
       "</style>\n",
       "<table border=\"1\" class=\"dataframe\">\n",
       "  <thead>\n",
       "    <tr style=\"text-align: right;\">\n",
       "      <th>Predicted</th>\n",
       "      <th>0</th>\n",
       "      <th>1</th>\n",
       "      <th>All</th>\n",
       "    </tr>\n",
       "    <tr>\n",
       "      <th>True</th>\n",
       "      <th></th>\n",
       "      <th></th>\n",
       "      <th></th>\n",
       "    </tr>\n",
       "  </thead>\n",
       "  <tbody>\n",
       "    <tr>\n",
       "      <td>0</td>\n",
       "      <td>1655</td>\n",
       "      <td>2128</td>\n",
       "      <td>3783</td>\n",
       "    </tr>\n",
       "    <tr>\n",
       "      <td>1</td>\n",
       "      <td>843</td>\n",
       "      <td>4522</td>\n",
       "      <td>5365</td>\n",
       "    </tr>\n",
       "    <tr>\n",
       "      <td>All</td>\n",
       "      <td>2498</td>\n",
       "      <td>6650</td>\n",
       "      <td>9148</td>\n",
       "    </tr>\n",
       "  </tbody>\n",
       "</table>\n",
       "</div>"
      ],
      "text/plain": [
       "Predicted     0     1   All\n",
       "True                       \n",
       "0          1655  2128  3783\n",
       "1           843  4522  5365\n",
       "All        2498  6650  9148"
      ]
     },
     "execution_count": 158,
     "metadata": {},
     "output_type": "execute_result"
    }
   ],
   "source": [
    "# confusion matrix and classfication report\n",
    "print('\\nConfusion Matrix')\n",
    "print('----------------')\n",
    "pd.crosstab(y_test, pred, rownames=['True'], colnames=['Predicted'], margins=True)"
   ]
  },
  {
   "cell_type": "code",
   "execution_count": 159,
   "metadata": {
    "ExecuteTime": {
     "end_time": "2020-08-23T14:42:04.026317Z",
     "start_time": "2020-08-23T14:42:04.006307Z"
    }
   },
   "outputs": [
    {
     "name": "stdout",
     "output_type": "stream",
     "text": [
      "Classficiation Report\n",
      "---------------------\n",
      "              precision    recall  f1-score   support\n",
      "\n",
      "           0       0.66      0.44      0.53      3783\n",
      "           1       0.68      0.84      0.75      5365\n",
      "\n",
      "    accuracy                           0.68      9148\n",
      "   macro avg       0.67      0.64      0.64      9148\n",
      "weighted avg       0.67      0.68      0.66      9148\n",
      "\n"
     ]
    }
   ],
   "source": [
    "print('Classficiation Report')\n",
    "print('---------------------')\n",
    "print(classification_report(y_test, pred))"
   ]
  },
  {
   "cell_type": "code",
   "execution_count": 160,
   "metadata": {
    "ExecuteTime": {
     "end_time": "2020-08-23T14:42:16.876063Z",
     "start_time": "2020-08-23T14:42:16.728379Z"
    }
   },
   "outputs": [
    {
     "data": {
      "image/png": "[encoded data removed]",
      "text/plain": [
       "<Figure size 432x288 with 2 Axes>"
      ]
     },
     "metadata": {},
     "output_type": "display_data"
    }
   ],
   "source": [
    "# Alternative confusion matrix\n",
    "plot_confusion_matrix(tree_clf, X, y, values_format='.3g')\n",
    "plt.show()"
   ]
  },
  {
   "cell_type": "code",
   "execution_count": 161,
   "metadata": {
    "ExecuteTime": {
     "end_time": "2020-08-23T16:32:48.783762Z",
     "start_time": "2020-08-23T16:32:48.779200Z"
    }
   },
   "outputs": [
    {
     "name": "stdout",
     "output_type": "stream",
     "text": [
      "Testing Accuracy for Decision Tree Classifier: 67.52%\n"
     ]
    }
   ],
   "source": [
    "print(\"Testing Accuracy for Decision Tree Classifier: {:.4}%\".format(accuracy_score(y_test, pred) * 100))"
   ]
  },
  {
   "cell_type": "markdown",
   "metadata": {},
   "source": [
    "Let's go now with the ensembles to see if this accuracy can be improved:"
   ]
  },
  {
   "cell_type": "markdown",
   "metadata": {},
   "source": [
    "## Bagged trees"
   ]
  },
  {
   "cell_type": "code",
   "execution_count": 162,
   "metadata": {
    "ExecuteTime": {
     "end_time": "2020-08-23T16:34:54.637479Z",
     "start_time": "2020-08-23T16:34:54.634609Z"
    }
   },
   "outputs": [],
   "source": [
    "# We start by instantiating the BaggingClassifire\n",
    "bagged_tree =  BaggingClassifier(DecisionTreeClassifier(criterion='gini', max_depth=5), \n",
    "                                 n_estimators=20)"
   ]
  },
  {
   "cell_type": "code",
   "execution_count": 163,
   "metadata": {
    "ExecuteTime": {
     "end_time": "2020-08-23T16:35:02.358488Z",
     "start_time": "2020-08-23T16:35:02.148951Z"
    }
   },
   "outputs": [
    {
     "data": {
      "text/plain": [
       "BaggingClassifier(base_estimator=DecisionTreeClassifier(max_depth=5),\n",
       "                  n_estimators=20)"
      ]
     },
     "execution_count": 163,
     "metadata": {},
     "output_type": "execute_result"
    }
   ],
   "source": [
    "# Now to fitting the training data:\n",
    "bagged_tree.fit(X_train, y_train)"
   ]
  },
  {
   "cell_type": "code",
   "execution_count": 234,
   "metadata": {
    "ExecuteTime": {
     "end_time": "2020-08-23T19:01:52.034130Z",
     "start_time": "2020-08-23T19:01:51.947872Z"
    }
   },
   "outputs": [
    {
     "data": {
      "text/plain": [
       "0.735096497498213"
      ]
     },
     "metadata": {},
     "output_type": "display_data"
    },
    {
     "data": {
      "text/plain": [
       "0.6924469859423398"
      ]
     },
     "metadata": {},
     "output_type": "display_data"
    }
   ],
   "source": [
    "# I'm going to call the .score() to obtain the accuracy score on the training dataset and then on the test data:\n",
    "display(bagged_tree.score(X_train, y_train))\n",
    "\n",
    "display(bagged_tree.score(X_test, y_test))"
   ]
  },
  {
   "cell_type": "markdown",
   "metadata": {},
   "source": [
    "The <b>Bagged Tree Ensemble</b> algorithm has improved the accuracy up to 70.92%, which is quite good compared to the reality. "
   ]
  },
  {
   "cell_type": "markdown",
   "metadata": {},
   "source": [
    "## Random Forest"
   ]
  },
  {
   "cell_type": "code",
   "execution_count": 168,
   "metadata": {
    "ExecuteTime": {
     "end_time": "2020-08-23T16:58:11.908075Z",
     "start_time": "2020-08-23T16:58:11.598419Z"
    }
   },
   "outputs": [
    {
     "data": {
      "text/plain": [
       "RandomForestClassifier(max_depth=5)"
      ]
     },
     "execution_count": 168,
     "metadata": {},
     "output_type": "execute_result"
    }
   ],
   "source": [
    "# I'll start by instantiating the RandomForestClassifier\n",
    "forest = RandomForestClassifier(n_estimators=100, max_depth=5)\n",
    "forest.fit(X_train, y_train)"
   ]
  },
  {
   "cell_type": "code",
   "execution_count": 238,
   "metadata": {
    "ExecuteTime": {
     "end_time": "2020-08-23T19:04:23.369924Z",
     "start_time": "2020-08-23T19:04:23.175164Z"
    }
   },
   "outputs": [
    {
     "data": {
      "text/plain": [
       "0.7070764832022873"
      ]
     },
     "metadata": {},
     "output_type": "display_data"
    },
    {
     "data": {
      "text/plain": [
       "0.6994996426018585"
      ]
     },
     "metadata": {},
     "output_type": "display_data"
    }
   ],
   "source": [
    "# Now to check the accuracy score\n",
    "display(forest.score(X_train, y_train))\n",
    "\n",
    "# And for the test set:\n",
    "display(forest.score(X_test, y_test))"
   ]
  },
  {
   "cell_type": "markdown",
   "metadata": {},
   "source": [
    "Not much difference between the Bagged Trees and the Random Forest. \n",
    "lets have a look at the Feature importance"
   ]
  },
  {
   "cell_type": "code",
   "execution_count": 171,
   "metadata": {
    "ExecuteTime": {
     "end_time": "2020-08-23T17:01:39.068750Z",
     "start_time": "2020-08-23T17:01:38.744484Z"
    }
   },
   "outputs": [
    {
     "data": {
      "image/png": "[encoded data removed]",
      "text/plain": [
       "<Figure size 720x720 with 1 Axes>"
      ]
     },
     "metadata": {},
     "output_type": "display_data"
    }
   ],
   "source": [
    "plot_feature_importances(forest)\n",
    "plt.rcParams[\"figure.facecolor\"] = \"lightblue\""
   ]
  },
  {
   "cell_type": "markdown",
   "metadata": {},
   "source": [
    "Wow! this is very interesting for those who really like basketball stats. Team2 is the visiting team, so this plot is telling us that during the past 10 years, the most important factors affecting the Home Team winning are the visiting team's defense (DEFRTG) and offense (OFFRTG). I guess it makes sense when you think about it. Following these two come the same for the Home Team.\n",
    "\n",
    "It will be interesting to compare these Feature Importance with the ones from the previous 10 years, and also with the last 20 years all together. \n",
    "\n",
    "During the 2018-2019 season it was clear that the Home Team's Offensive Rating (OFFRTG) was the most important feature."
   ]
  },
  {
   "cell_type": "markdown",
   "metadata": {},
   "source": [
    "Let's see how these algorithm performs when we look at the same two individual teams that we have been looking at for a while now: "
   ]
  },
  {
   "cell_type": "markdown",
   "metadata": {},
   "source": [
    "## Model Test I"
   ]
  },
  {
   "cell_type": "code",
   "execution_count": 176,
   "metadata": {
    "ExecuteTime": {
     "end_time": "2020-08-23T17:26:30.044772Z",
     "start_time": "2020-08-23T17:26:30.010602Z"
    }
   },
   "outputs": [
    {
     "data": {
      "text/html": [
       "<div>\n",
       "<style scoped>\n",
       "    .dataframe tbody tr th:only-of-type {\n",
       "        vertical-align: middle;\n",
       "    }\n",
       "\n",
       "    .dataframe tbody tr th {\n",
       "        vertical-align: top;\n",
       "    }\n",
       "\n",
       "    .dataframe thead th {\n",
       "        text-align: right;\n",
       "    }\n",
       "</style>\n",
       "<table border=\"1\" class=\"dataframe\">\n",
       "  <thead>\n",
       "    <tr style=\"text-align: right;\">\n",
       "      <th></th>\n",
       "      <th>Game_Result</th>\n",
       "      <th>Team1_FGA</th>\n",
       "      <th>Team1_FG_P</th>\n",
       "      <th>Team1_3PA</th>\n",
       "      <th>Team1_3P_P</th>\n",
       "      <th>Team1_OFFRTG</th>\n",
       "      <th>Team1_DEFRTG</th>\n",
       "      <th>Team1_REB_P</th>\n",
       "      <th>Team1_AST/TO</th>\n",
       "      <th>Team1_PACE</th>\n",
       "      <th>Team2_FGA</th>\n",
       "      <th>Team2_FG_P</th>\n",
       "      <th>Team2_3PA</th>\n",
       "      <th>Team2_3P_P</th>\n",
       "      <th>Team2_OFFRTG</th>\n",
       "      <th>Team2_DEFRTG</th>\n",
       "      <th>Team2_REB_P</th>\n",
       "      <th>Team2_AST/TO</th>\n",
       "      <th>Team2_PACE</th>\n",
       "    </tr>\n",
       "  </thead>\n",
       "  <tbody>\n",
       "    <tr>\n",
       "      <td>9</td>\n",
       "      <td>1</td>\n",
       "      <td>86.0</td>\n",
       "      <td>42.3</td>\n",
       "      <td>28.4</td>\n",
       "      <td>35.2</td>\n",
       "      <td>99.8</td>\n",
       "      <td>107.9</td>\n",
       "      <td>51.6</td>\n",
       "      <td>1.02</td>\n",
       "      <td>100.80</td>\n",
       "      <td>89.0</td>\n",
       "      <td>47.5</td>\n",
       "      <td>23.0</td>\n",
       "      <td>33.7</td>\n",
       "      <td>108.6</td>\n",
       "      <td>106.2</td>\n",
       "      <td>52.8</td>\n",
       "      <td>1.36</td>\n",
       "      <td>104.75</td>\n",
       "    </tr>\n",
       "    <tr>\n",
       "      <td>32</td>\n",
       "      <td>1</td>\n",
       "      <td>94.0</td>\n",
       "      <td>47.9</td>\n",
       "      <td>38.0</td>\n",
       "      <td>38.2</td>\n",
       "      <td>113.6</td>\n",
       "      <td>113.6</td>\n",
       "      <td>49.3</td>\n",
       "      <td>1.69</td>\n",
       "      <td>104.88</td>\n",
       "      <td>89.0</td>\n",
       "      <td>47.5</td>\n",
       "      <td>23.0</td>\n",
       "      <td>33.7</td>\n",
       "      <td>108.6</td>\n",
       "      <td>106.2</td>\n",
       "      <td>52.8</td>\n",
       "      <td>1.36</td>\n",
       "      <td>104.75</td>\n",
       "    </tr>\n",
       "  </tbody>\n",
       "</table>\n",
       "</div>"
      ],
      "text/plain": [
       "    Game_Result  Team1_FGA  Team1_FG_P  Team1_3PA  Team1_3P_P  Team1_OFFRTG  \\\n",
       "9             1       86.0        42.3       28.4        35.2          99.8   \n",
       "32            1       94.0        47.9       38.0        38.2         113.6   \n",
       "\n",
       "    Team1_DEFRTG  Team1_REB_P  Team1_AST/TO  Team1_PACE  Team2_FGA  \\\n",
       "9          107.9         51.6          1.02      100.80       89.0   \n",
       "32         113.6         49.3          1.69      104.88       89.0   \n",
       "\n",
       "    Team2_FG_P  Team2_3PA  Team2_3P_P  Team2_OFFRTG  Team2_DEFRTG  \\\n",
       "9         47.5       23.0        33.7         108.6         106.2   \n",
       "32        47.5       23.0        33.7         108.6         106.2   \n",
       "\n",
       "    Team2_REB_P  Team2_AST/TO  Team2_PACE  \n",
       "9          52.8          1.36      104.75  \n",
       "32         52.8          1.36      104.75  "
      ]
     },
     "execution_count": 176,
     "metadata": {},
     "output_type": "execute_result"
    }
   ],
   "source": [
    "df_SAS_2 = pd.read_csv('SAS_2010-2020.csv', index_col=0)\n",
    "df_SAS_2.head(2)"
   ]
  },
  {
   "cell_type": "code",
   "execution_count": 178,
   "metadata": {
    "ExecuteTime": {
     "end_time": "2020-08-23T17:27:10.178163Z",
     "start_time": "2020-08-23T17:27:10.172909Z"
    }
   },
   "outputs": [
    {
     "data": {
      "text/plain": [
       "1    334\n",
       "0     81\n",
       "Name: Game_Result, dtype: int64"
      ]
     },
     "execution_count": 178,
     "metadata": {},
     "output_type": "execute_result"
    }
   ],
   "source": [
    "# Target Variable:\n",
    "df_SAS_2.Game_Result.value_counts()"
   ]
  },
  {
   "cell_type": "markdown",
   "metadata": {},
   "source": [
    "As we know from thee previous algorithms, the San Antonio Spurs have won 80.48 of their home games, so this is our Ground True"
   ]
  },
  {
   "cell_type": "code",
   "execution_count": 179,
   "metadata": {
    "ExecuteTime": {
     "end_time": "2020-08-23T17:28:46.666796Z",
     "start_time": "2020-08-23T17:28:46.663279Z"
    }
   },
   "outputs": [],
   "source": [
    "# Create features (X) and labels (y)\n",
    "y = df_SAS_2['Game_Result']\n",
    "X = df_SAS_2.drop(['Game_Result'], axis=1)"
   ]
  },
  {
   "cell_type": "code",
   "execution_count": 180,
   "metadata": {
    "ExecuteTime": {
     "end_time": "2020-08-23T17:28:58.288352Z",
     "start_time": "2020-08-23T17:28:58.282663Z"
    }
   },
   "outputs": [],
   "source": [
    "# Perform the split\n",
    "X_test, X_train, y_test, y_train = train_test_split(X, y, test_size=0.25, random_state=42)"
   ]
  },
  {
   "cell_type": "code",
   "execution_count": 181,
   "metadata": {
    "ExecuteTime": {
     "end_time": "2020-08-23T17:29:20.476856Z",
     "start_time": "2020-08-23T17:29:20.467887Z"
    }
   },
   "outputs": [
    {
     "data": {
      "text/plain": [
       "DecisionTreeClassifier(max_depth=5)"
      ]
     },
     "execution_count": 181,
     "metadata": {},
     "output_type": "execute_result"
    }
   ],
   "source": [
    "tree2_clf = DecisionTreeClassifier(criterion='gini', max_depth=5)\n",
    "tree2_clf.fit(X_train, y_train)"
   ]
  },
  {
   "cell_type": "code",
   "execution_count": 182,
   "metadata": {
    "ExecuteTime": {
     "end_time": "2020-08-23T17:29:36.505381Z",
     "start_time": "2020-08-23T17:29:36.501213Z"
    }
   },
   "outputs": [
    {
     "data": {
      "text/plain": [
       "array([0.        , 0.08943525, 0.        , 0.        , 0.25632517,\n",
       "       0.07884904, 0.        , 0.        , 0.17107848, 0.08200641,\n",
       "       0.        , 0.2209107 , 0.        , 0.05758994, 0.        ,\n",
       "       0.        , 0.        , 0.04380502])"
      ]
     },
     "execution_count": 182,
     "metadata": {},
     "output_type": "execute_result"
    }
   ],
   "source": [
    "tree2_clf.feature_importances_"
   ]
  },
  {
   "cell_type": "code",
   "execution_count": 254,
   "metadata": {
    "ExecuteTime": {
     "end_time": "2020-08-23T19:21:20.376184Z",
     "start_time": "2020-08-23T19:21:20.130603Z"
    }
   },
   "outputs": [
    {
     "data": {
      "image/png": "[encoded data removed]",
      "text/plain": [
       "<Figure size 720x720 with 1 Axes>"
      ]
     },
     "metadata": {},
     "output_type": "display_data"
    }
   ],
   "source": [
    "plot_feature_importances(tree2_clf)"
   ]
  },
  {
   "cell_type": "code",
   "execution_count": 185,
   "metadata": {
    "ExecuteTime": {
     "end_time": "2020-08-23T17:30:20.013394Z",
     "start_time": "2020-08-23T17:30:20.008496Z"
    }
   },
   "outputs": [],
   "source": [
    "# Test set predictions\n",
    "pred = tree2_clf.predict(X_test)"
   ]
  },
  {
   "cell_type": "code",
   "execution_count": 186,
   "metadata": {
    "ExecuteTime": {
     "end_time": "2020-08-23T17:30:36.029621Z",
     "start_time": "2020-08-23T17:30:35.977349Z"
    }
   },
   "outputs": [
    {
     "name": "stdout",
     "output_type": "stream",
     "text": [
      "\n",
      "Confusion Matrix\n",
      "----------------\n"
     ]
    },
    {
     "data": {
      "text/html": [
       "<div>\n",
       "<style scoped>\n",
       "    .dataframe tbody tr th:only-of-type {\n",
       "        vertical-align: middle;\n",
       "    }\n",
       "\n",
       "    .dataframe tbody tr th {\n",
       "        vertical-align: top;\n",
       "    }\n",
       "\n",
       "    .dataframe thead th {\n",
       "        text-align: right;\n",
       "    }\n",
       "</style>\n",
       "<table border=\"1\" class=\"dataframe\">\n",
       "  <thead>\n",
       "    <tr style=\"text-align: right;\">\n",
       "      <th>Predicted</th>\n",
       "      <th>0</th>\n",
       "      <th>1</th>\n",
       "      <th>All</th>\n",
       "    </tr>\n",
       "    <tr>\n",
       "      <th>True</th>\n",
       "      <th></th>\n",
       "      <th></th>\n",
       "      <th></th>\n",
       "    </tr>\n",
       "  </thead>\n",
       "  <tbody>\n",
       "    <tr>\n",
       "      <td>0</td>\n",
       "      <td>13</td>\n",
       "      <td>43</td>\n",
       "      <td>56</td>\n",
       "    </tr>\n",
       "    <tr>\n",
       "      <td>1</td>\n",
       "      <td>43</td>\n",
       "      <td>212</td>\n",
       "      <td>255</td>\n",
       "    </tr>\n",
       "    <tr>\n",
       "      <td>All</td>\n",
       "      <td>56</td>\n",
       "      <td>255</td>\n",
       "      <td>311</td>\n",
       "    </tr>\n",
       "  </tbody>\n",
       "</table>\n",
       "</div>"
      ],
      "text/plain": [
       "Predicted   0    1  All\n",
       "True                   \n",
       "0          13   43   56\n",
       "1          43  212  255\n",
       "All        56  255  311"
      ]
     },
     "execution_count": 186,
     "metadata": {},
     "output_type": "execute_result"
    }
   ],
   "source": [
    "# confusion matrix and classfication report\n",
    "print('\\nConfusion Matrix')\n",
    "print('----------------')\n",
    "pd.crosstab(y_test, pred, rownames=['True'], colnames=['Predicted'], margins=True)"
   ]
  },
  {
   "cell_type": "code",
   "execution_count": 187,
   "metadata": {
    "ExecuteTime": {
     "end_time": "2020-08-23T17:30:46.545386Z",
     "start_time": "2020-08-23T17:30:46.536824Z"
    }
   },
   "outputs": [
    {
     "name": "stdout",
     "output_type": "stream",
     "text": [
      "Classficiation Report\n",
      "---------------------\n",
      "              precision    recall  f1-score   support\n",
      "\n",
      "           0       0.23      0.23      0.23        56\n",
      "           1       0.83      0.83      0.83       255\n",
      "\n",
      "    accuracy                           0.72       311\n",
      "   macro avg       0.53      0.53      0.53       311\n",
      "weighted avg       0.72      0.72      0.72       311\n",
      "\n"
     ]
    }
   ],
   "source": [
    "print('Classficiation Report')\n",
    "print('---------------------')\n",
    "print(classification_report(y_test, pred))"
   ]
  },
  {
   "cell_type": "code",
   "execution_count": 188,
   "metadata": {
    "ExecuteTime": {
     "end_time": "2020-08-23T17:31:02.075960Z",
     "start_time": "2020-08-23T17:31:01.916292Z"
    }
   },
   "outputs": [
    {
     "data": {
      "image/png": "[encoded data removed]",
      "text/plain": [
       "<Figure size 432x288 with 2 Axes>"
      ]
     },
     "metadata": {},
     "output_type": "display_data"
    }
   ],
   "source": [
    "# Alternative confusion matrix\n",
    "plot_confusion_matrix(tree_clf, X, y, values_format='.3g')\n",
    "plt.show()"
   ]
  },
  {
   "cell_type": "code",
   "execution_count": 189,
   "metadata": {
    "ExecuteTime": {
     "end_time": "2020-08-23T17:31:18.879079Z",
     "start_time": "2020-08-23T17:31:18.875317Z"
    }
   },
   "outputs": [
    {
     "name": "stdout",
     "output_type": "stream",
     "text": [
      "Testing Accuracy for Decision Tree Classifier: 72.35%\n"
     ]
    }
   ],
   "source": [
    "print(\"Testing Accuracy for Decision Tree Classifier: {:.4}%\".format(accuracy_score(y_test, pred) * 100))"
   ]
  },
  {
   "cell_type": "markdown",
   "metadata": {},
   "source": [
    "### Bagged Trees"
   ]
  },
  {
   "cell_type": "code",
   "execution_count": 191,
   "metadata": {
    "ExecuteTime": {
     "end_time": "2020-08-23T17:32:37.562092Z",
     "start_time": "2020-08-23T17:32:37.559448Z"
    }
   },
   "outputs": [],
   "source": [
    "# We start by instantiating the BaggingClassifire\n",
    "bagged_tree2 = BaggingClassifier(DecisionTreeClassifier(criterion='gini', max_depth=5), \n",
    "                                 n_estimators=20)"
   ]
  },
  {
   "cell_type": "code",
   "execution_count": 192,
   "metadata": {
    "ExecuteTime": {
     "end_time": "2020-08-23T17:32:41.626775Z",
     "start_time": "2020-08-23T17:32:41.594398Z"
    }
   },
   "outputs": [
    {
     "data": {
      "text/plain": [
       "BaggingClassifier(base_estimator=DecisionTreeClassifier(max_depth=5),\n",
       "                  n_estimators=20)"
      ]
     },
     "execution_count": 192,
     "metadata": {},
     "output_type": "execute_result"
    }
   ],
   "source": [
    "# Now to fitting the training data:\n",
    "bagged_tree2.fit(X_train, y_train)"
   ]
  },
  {
   "cell_type": "code",
   "execution_count": 265,
   "metadata": {
    "ExecuteTime": {
     "end_time": "2020-08-23T19:26:08.319976Z",
     "start_time": "2020-08-23T19:26:08.301977Z"
    }
   },
   "outputs": [
    {
     "data": {
      "text/plain": [
       "0.773109243697479"
      ]
     },
     "metadata": {},
     "output_type": "display_data"
    },
    {
     "data": {
      "text/plain": [
       "0.7440225035161744"
      ]
     },
     "metadata": {},
     "output_type": "display_data"
    }
   ],
   "source": [
    "# I'm going to call the .score() to obtain the accuracy score on the training dataset and then on the test data:\n",
    "display(bagged_tree2.score(X_train, y_train))\n",
    "\n",
    "# And for the test set:\n",
    "display(bagged_tree2.score(X_test, y_test))"
   ]
  },
  {
   "cell_type": "markdown",
   "metadata": {},
   "source": [
    "This is a great score considering that the Ground True is 81%. Being 4% under the reality is quite a good results. Still lets look at the Random Forest and maybe that will improve even more"
   ]
  },
  {
   "cell_type": "markdown",
   "metadata": {
    "ExecuteTime": {
     "end_time": "2020-08-23T17:34:38.960600Z",
     "start_time": "2020-08-23T17:34:38.957192Z"
    }
   },
   "source": [
    "### Random Forest"
   ]
  },
  {
   "cell_type": "code",
   "execution_count": 196,
   "metadata": {
    "ExecuteTime": {
     "end_time": "2020-08-23T17:34:55.303721Z",
     "start_time": "2020-08-23T17:34:55.205828Z"
    }
   },
   "outputs": [
    {
     "data": {
      "text/plain": [
       "RandomForestClassifier(max_depth=5)"
      ]
     },
     "execution_count": 196,
     "metadata": {},
     "output_type": "execute_result"
    }
   ],
   "source": [
    "# I'll start by instantiating the RandomForestClassifier\n",
    "forest2 = RandomForestClassifier(n_estimators=100, max_depth=5)\n",
    "forest2.fit(X_train, y_train)"
   ]
  },
  {
   "cell_type": "code",
   "execution_count": 270,
   "metadata": {
    "ExecuteTime": {
     "end_time": "2020-08-23T19:28:44.102010Z",
     "start_time": "2020-08-23T19:28:44.068522Z"
    }
   },
   "outputs": [
    {
     "data": {
      "text/plain": [
       "0.8151260504201681"
      ]
     },
     "metadata": {},
     "output_type": "display_data"
    },
    {
     "data": {
      "text/plain": [
       "0.7946554149085795"
      ]
     },
     "metadata": {},
     "output_type": "display_data"
    }
   ],
   "source": [
    "# Now to check the accuracy score\n",
    "display(forest2.score(X_train, y_train))\n",
    "\n",
    "# And for the test set:\n",
    "display(forest2.score(X_test, y_test))"
   ]
  },
  {
   "cell_type": "markdown",
   "metadata": {},
   "source": [
    "Great performance from this algorithm!!!\n",
    "\n",
    "At 78.46% accuracy, the results are very close to reality at 81%."
   ]
  },
  {
   "cell_type": "markdown",
   "metadata": {},
   "source": [
    "One last thing to do is to look at the FEATURE IMPORTANCE to compare it with the rest of the datasets:"
   ]
  },
  {
   "cell_type": "code",
   "execution_count": 199,
   "metadata": {
    "ExecuteTime": {
     "end_time": "2020-08-23T17:37:18.175683Z",
     "start_time": "2020-08-23T17:37:17.931297Z"
    }
   },
   "outputs": [
    {
     "data": {
      "image/png": "[encoded data removed]",
      "text/plain": [
       "<Figure size 720x720 with 1 Axes>"
      ]
     },
     "metadata": {},
     "output_type": "display_data"
    }
   ],
   "source": [
    "plot_feature_importances(forest2)\n",
    "plt.rcParams[\"figure.facecolor\"] = \"lightblue\""
   ]
  },
  {
   "cell_type": "markdown",
   "metadata": {},
   "source": [
    "Interesting again how thee Defensive Rating of the visiting (Team2) team has the most importance determining if the Home team (Team1) wins or losses. \n",
    "\n",
    "Clearly all of these 9 statistics for each team are the most important ones, and ask the NBA Analysts have mentioned, they reflect as wins \n",
    "\n",
    "Field Goal Attempts (FGA) by the visiting team is quite important. This is clear and obvious as well as in average. the more thye shoot the higher chances of scoring they will have and the higher chances of winning they will have. \n",
    "\n",
    "One more interesting feature is the AST/TO ratio. Again the more assist per turnover that teams have, the better chances of winning.\n",
    "\n",
    "Let's see now our second team, the Miami Heat"
   ]
  },
  {
   "cell_type": "markdown",
   "metadata": {},
   "source": [
    "## Model Test II"
   ]
  },
  {
   "cell_type": "code",
   "execution_count": 177,
   "metadata": {
    "ExecuteTime": {
     "end_time": "2020-08-23T17:26:34.786766Z",
     "start_time": "2020-08-23T17:26:34.764638Z"
    }
   },
   "outputs": [
    {
     "data": {
      "text/html": [
       "<div>\n",
       "<style scoped>\n",
       "    .dataframe tbody tr th:only-of-type {\n",
       "        vertical-align: middle;\n",
       "    }\n",
       "\n",
       "    .dataframe tbody tr th {\n",
       "        vertical-align: top;\n",
       "    }\n",
       "\n",
       "    .dataframe thead th {\n",
       "        text-align: right;\n",
       "    }\n",
       "</style>\n",
       "<table border=\"1\" class=\"dataframe\">\n",
       "  <thead>\n",
       "    <tr style=\"text-align: right;\">\n",
       "      <th></th>\n",
       "      <th>Game_Result</th>\n",
       "      <th>Team1_FGA</th>\n",
       "      <th>Team1_FG_P</th>\n",
       "      <th>Team1_3PA</th>\n",
       "      <th>Team1_3P_P</th>\n",
       "      <th>Team1_OFFRTG</th>\n",
       "      <th>Team1_DEFRTG</th>\n",
       "      <th>Team1_REB_P</th>\n",
       "      <th>Team1_AST/TO</th>\n",
       "      <th>Team1_PACE</th>\n",
       "      <th>Team2_FGA</th>\n",
       "      <th>Team2_FG_P</th>\n",
       "      <th>Team2_3PA</th>\n",
       "      <th>Team2_3P_P</th>\n",
       "      <th>Team2_OFFRTG</th>\n",
       "      <th>Team2_DEFRTG</th>\n",
       "      <th>Team2_REB_P</th>\n",
       "      <th>Team2_AST/TO</th>\n",
       "      <th>Team2_PACE</th>\n",
       "    </tr>\n",
       "  </thead>\n",
       "  <tbody>\n",
       "    <tr>\n",
       "      <td>6</td>\n",
       "      <td>1</td>\n",
       "      <td>95.3</td>\n",
       "      <td>41.5</td>\n",
       "      <td>32.0</td>\n",
       "      <td>28.1</td>\n",
       "      <td>95.7</td>\n",
       "      <td>108.1</td>\n",
       "      <td>48.4</td>\n",
       "      <td>1.32</td>\n",
       "      <td>108.91</td>\n",
       "      <td>85.6</td>\n",
       "      <td>47.0</td>\n",
       "      <td>33.2</td>\n",
       "      <td>39.2</td>\n",
       "      <td>106.6</td>\n",
       "      <td>99.3</td>\n",
       "      <td>52.5</td>\n",
       "      <td>1.19</td>\n",
       "      <td>106.09</td>\n",
       "    </tr>\n",
       "    <tr>\n",
       "      <td>51</td>\n",
       "      <td>1</td>\n",
       "      <td>85.0</td>\n",
       "      <td>45.6</td>\n",
       "      <td>32.2</td>\n",
       "      <td>29.2</td>\n",
       "      <td>102.0</td>\n",
       "      <td>103.4</td>\n",
       "      <td>49.6</td>\n",
       "      <td>1.36</td>\n",
       "      <td>101.20</td>\n",
       "      <td>85.6</td>\n",
       "      <td>47.0</td>\n",
       "      <td>33.2</td>\n",
       "      <td>39.2</td>\n",
       "      <td>106.6</td>\n",
       "      <td>99.3</td>\n",
       "      <td>52.5</td>\n",
       "      <td>1.19</td>\n",
       "      <td>106.09</td>\n",
       "    </tr>\n",
       "  </tbody>\n",
       "</table>\n",
       "</div>"
      ],
      "text/plain": [
       "    Game_Result  Team1_FGA  Team1_FG_P  Team1_3PA  Team1_3P_P  Team1_OFFRTG  \\\n",
       "6             1       95.3        41.5       32.0        28.1          95.7   \n",
       "51            1       85.0        45.6       32.2        29.2         102.0   \n",
       "\n",
       "    Team1_DEFRTG  Team1_REB_P  Team1_AST/TO  Team1_PACE  Team2_FGA  \\\n",
       "6          108.1         48.4          1.32      108.91       85.6   \n",
       "51         103.4         49.6          1.36      101.20       85.6   \n",
       "\n",
       "    Team2_FG_P  Team2_3PA  Team2_3P_P  Team2_OFFRTG  Team2_DEFRTG  \\\n",
       "6         47.0       33.2        39.2         106.6          99.3   \n",
       "51        47.0       33.2        39.2         106.6          99.3   \n",
       "\n",
       "    Team2_REB_P  Team2_AST/TO  Team2_PACE  \n",
       "6          52.5          1.19      106.09  \n",
       "51         52.5          1.19      106.09  "
      ]
     },
     "execution_count": 177,
     "metadata": {},
     "output_type": "execute_result"
    }
   ],
   "source": [
    "df_MIA_2 = pd.read_csv('MIA_2010-2020.csv', index_col=0)\n",
    "df_MIA_2.head(2)"
   ]
  },
  {
   "cell_type": "code",
   "execution_count": 201,
   "metadata": {
    "ExecuteTime": {
     "end_time": "2020-08-23T18:27:22.565592Z",
     "start_time": "2020-08-23T18:27:22.557021Z"
    }
   },
   "outputs": [
    {
     "data": {
      "text/plain": [
       "1    281\n",
       "0    128\n",
       "Name: Game_Result, dtype: int64"
      ]
     },
     "execution_count": 201,
     "metadata": {},
     "output_type": "execute_result"
    }
   ],
   "source": [
    "# Target Variable:\n",
    "df_MIA_2.Game_Result.value_counts()"
   ]
  },
  {
   "cell_type": "markdown",
   "metadata": {},
   "source": [
    "The Miami Heat team has won 68.70% of their home games during the past 10 years. This represent out Ground Truth"
   ]
  },
  {
   "cell_type": "code",
   "execution_count": 202,
   "metadata": {
    "ExecuteTime": {
     "end_time": "2020-08-23T18:29:51.172278Z",
     "start_time": "2020-08-23T18:29:51.166689Z"
    }
   },
   "outputs": [],
   "source": [
    "# Create features (X) and labels (y)\n",
    "y = df_MIA_2['Game_Result']\n",
    "X = df_MIA_2.drop(['Game_Result'], axis=1)\n",
    "\n",
    "# Perform the split\n",
    "X_test, X_train, y_test, y_train = train_test_split(X, y, test_size=0.25, random_state=42)"
   ]
  },
  {
   "cell_type": "markdown",
   "metadata": {},
   "source": [
    "<b>Building a Regular tree as baseline</b>"
   ]
  },
  {
   "cell_type": "code",
   "execution_count": 203,
   "metadata": {
    "ExecuteTime": {
     "end_time": "2020-08-23T18:30:29.857576Z",
     "start_time": "2020-08-23T18:30:29.850374Z"
    }
   },
   "outputs": [
    {
     "data": {
      "text/plain": [
       "DecisionTreeClassifier(max_depth=5)"
      ]
     },
     "execution_count": 203,
     "metadata": {},
     "output_type": "execute_result"
    }
   ],
   "source": [
    "tree3_clf = DecisionTreeClassifier(criterion='gini', max_depth=5)\n",
    "tree3_clf.fit(X_train, y_train)"
   ]
  },
  {
   "cell_type": "code",
   "execution_count": 204,
   "metadata": {
    "ExecuteTime": {
     "end_time": "2020-08-23T18:30:41.079239Z",
     "start_time": "2020-08-23T18:30:41.075071Z"
    }
   },
   "outputs": [
    {
     "data": {
      "text/plain": [
       "array([0.05077686, 0.        , 0.        , 0.25565733, 0.10286446,\n",
       "       0.        , 0.21636422, 0.        , 0.        , 0.08766239,\n",
       "       0.03200943, 0.        , 0.        , 0.15302101, 0.        ,\n",
       "       0.1016443 , 0.        , 0.        ])"
      ]
     },
     "execution_count": 204,
     "metadata": {},
     "output_type": "execute_result"
    }
   ],
   "source": [
    "tree3_clf.feature_importances_"
   ]
  },
  {
   "cell_type": "code",
   "execution_count": 205,
   "metadata": {
    "ExecuteTime": {
     "end_time": "2020-08-23T18:31:32.836226Z",
     "start_time": "2020-08-23T18:31:32.605062Z"
    }
   },
   "outputs": [
    {
     "data": {
      "image/png": "[encoded data removed]",
      "text/plain": [
       "<Figure size 720x720 with 1 Axes>"
      ]
     },
     "metadata": {},
     "output_type": "display_data"
    }
   ],
   "source": [
    "plot_feature_importances(tree3_clf)"
   ]
  },
  {
   "cell_type": "markdown",
   "metadata": {},
   "source": [
    "For the Baseline Model the 3-point shooting percentage of the Home team (Team1) is the most important feature, followed by the Rebounding Percentage (REBRTG)."
   ]
  },
  {
   "cell_type": "markdown",
   "metadata": {},
   "source": [
    "<b>Model Performance</b>"
   ]
  },
  {
   "cell_type": "code",
   "execution_count": 206,
   "metadata": {
    "ExecuteTime": {
     "end_time": "2020-08-23T18:33:42.497117Z",
     "start_time": "2020-08-23T18:33:42.492277Z"
    }
   },
   "outputs": [],
   "source": [
    "# Test set predictions\n",
    "pred = tree3_clf.predict(X_test)"
   ]
  },
  {
   "cell_type": "code",
   "execution_count": 207,
   "metadata": {
    "ExecuteTime": {
     "end_time": "2020-08-23T18:33:55.823265Z",
     "start_time": "2020-08-23T18:33:55.775992Z"
    }
   },
   "outputs": [
    {
     "name": "stdout",
     "output_type": "stream",
     "text": [
      "\n",
      "Confusion Matrix\n",
      "----------------\n"
     ]
    },
    {
     "data": {
      "text/html": [
       "<div>\n",
       "<style scoped>\n",
       "    .dataframe tbody tr th:only-of-type {\n",
       "        vertical-align: middle;\n",
       "    }\n",
       "\n",
       "    .dataframe tbody tr th {\n",
       "        vertical-align: top;\n",
       "    }\n",
       "\n",
       "    .dataframe thead th {\n",
       "        text-align: right;\n",
       "    }\n",
       "</style>\n",
       "<table border=\"1\" class=\"dataframe\">\n",
       "  <thead>\n",
       "    <tr style=\"text-align: right;\">\n",
       "      <th>Predicted</th>\n",
       "      <th>0</th>\n",
       "      <th>1</th>\n",
       "      <th>All</th>\n",
       "    </tr>\n",
       "    <tr>\n",
       "      <th>True</th>\n",
       "      <th></th>\n",
       "      <th></th>\n",
       "      <th></th>\n",
       "    </tr>\n",
       "  </thead>\n",
       "  <tbody>\n",
       "    <tr>\n",
       "      <td>0</td>\n",
       "      <td>35</td>\n",
       "      <td>63</td>\n",
       "      <td>98</td>\n",
       "    </tr>\n",
       "    <tr>\n",
       "      <td>1</td>\n",
       "      <td>58</td>\n",
       "      <td>150</td>\n",
       "      <td>208</td>\n",
       "    </tr>\n",
       "    <tr>\n",
       "      <td>All</td>\n",
       "      <td>93</td>\n",
       "      <td>213</td>\n",
       "      <td>306</td>\n",
       "    </tr>\n",
       "  </tbody>\n",
       "</table>\n",
       "</div>"
      ],
      "text/plain": [
       "Predicted   0    1  All\n",
       "True                   \n",
       "0          35   63   98\n",
       "1          58  150  208\n",
       "All        93  213  306"
      ]
     },
     "execution_count": 207,
     "metadata": {},
     "output_type": "execute_result"
    }
   ],
   "source": [
    "# confusion matrix and classfication report\n",
    "print('\\nConfusion Matrix')\n",
    "print('----------------')\n",
    "pd.crosstab(y_test, pred, rownames=['True'], colnames=['Predicted'], margins=True)"
   ]
  },
  {
   "cell_type": "code",
   "execution_count": 208,
   "metadata": {
    "ExecuteTime": {
     "end_time": "2020-08-23T18:34:14.648662Z",
     "start_time": "2020-08-23T18:34:14.640867Z"
    }
   },
   "outputs": [
    {
     "name": "stdout",
     "output_type": "stream",
     "text": [
      "Classficiation Report\n",
      "---------------------\n",
      "              precision    recall  f1-score   support\n",
      "\n",
      "           0       0.38      0.36      0.37        98\n",
      "           1       0.70      0.72      0.71       208\n",
      "\n",
      "    accuracy                           0.60       306\n",
      "   macro avg       0.54      0.54      0.54       306\n",
      "weighted avg       0.60      0.60      0.60       306\n",
      "\n"
     ]
    }
   ],
   "source": [
    "print('Classficiation Report')\n",
    "print('---------------------')\n",
    "print(classification_report(y_test, pred))"
   ]
  },
  {
   "cell_type": "code",
   "execution_count": 210,
   "metadata": {
    "ExecuteTime": {
     "end_time": "2020-08-23T18:35:10.186688Z",
     "start_time": "2020-08-23T18:35:10.183014Z"
    }
   },
   "outputs": [
    {
     "name": "stdout",
     "output_type": "stream",
     "text": [
      "Testing Accuracy for Decision Tree Classifier: 60.46%\n"
     ]
    }
   ],
   "source": [
    "print(\"Testing Accuracy for Decision Tree Classifier: {:.4}%\".format(accuracy_score(y_test, pred) * 100))"
   ]
  },
  {
   "cell_type": "markdown",
   "metadata": {},
   "source": [
    "<b>The baseline Tree has an accuracy of 60.46% compared to the 68.7% Ground truth</b>"
   ]
  },
  {
   "cell_type": "markdown",
   "metadata": {},
   "source": [
    "### Bagged Trees"
   ]
  },
  {
   "cell_type": "code",
   "execution_count": 211,
   "metadata": {
    "ExecuteTime": {
     "end_time": "2020-08-23T18:36:46.811134Z",
     "start_time": "2020-08-23T18:36:46.807421Z"
    }
   },
   "outputs": [],
   "source": [
    "# We start by instantiating the BaggingClassifire\n",
    "bagged_tree3 =  BaggingClassifier(DecisionTreeClassifier(criterion='gini', max_depth=5), \n",
    "                                 n_estimators=20)"
   ]
  },
  {
   "cell_type": "code",
   "execution_count": 212,
   "metadata": {
    "ExecuteTime": {
     "end_time": "2020-08-23T18:36:54.191778Z",
     "start_time": "2020-08-23T18:36:54.159182Z"
    }
   },
   "outputs": [
    {
     "data": {
      "text/plain": [
       "BaggingClassifier(base_estimator=DecisionTreeClassifier(max_depth=5),\n",
       "                  n_estimators=20)"
      ]
     },
     "execution_count": 212,
     "metadata": {},
     "output_type": "execute_result"
    }
   ],
   "source": [
    "# Now to fitting the training data:\n",
    "bagged_tree3.fit(X_train, y_train)"
   ]
  },
  {
   "cell_type": "code",
   "execution_count": 214,
   "metadata": {
    "ExecuteTime": {
     "end_time": "2020-08-23T18:37:07.335390Z",
     "start_time": "2020-08-23T18:37:07.325724Z"
    }
   },
   "outputs": [
    {
     "data": {
      "text/plain": [
       "0.9902912621359223"
      ]
     },
     "execution_count": 214,
     "metadata": {},
     "output_type": "execute_result"
    }
   ],
   "source": [
    "# I'm going to call the .score() to obtain the accuracy score on the training dataset and then on the test data:\n",
    "bagged_tree3.score(X_train, y_train)"
   ]
  },
  {
   "cell_type": "code",
   "execution_count": 216,
   "metadata": {
    "ExecuteTime": {
     "end_time": "2020-08-23T18:37:19.461234Z",
     "start_time": "2020-08-23T18:37:19.451039Z"
    }
   },
   "outputs": [
    {
     "data": {
      "text/plain": [
       "0.6633986928104575"
      ]
     },
     "execution_count": 216,
     "metadata": {},
     "output_type": "execute_result"
    }
   ],
   "source": [
    "bagged_tree3.score(X_test, y_test)"
   ]
  },
  {
   "cell_type": "markdown",
   "metadata": {},
   "source": [
    "Accuracy with the Bagged Trees has increased 6% to now be 66.34%. Quite a good improvement and just 2% under the ground truth!"
   ]
  },
  {
   "cell_type": "markdown",
   "metadata": {},
   "source": [
    "### Random Forest"
   ]
  },
  {
   "cell_type": "code",
   "execution_count": 217,
   "metadata": {
    "ExecuteTime": {
     "end_time": "2020-08-23T18:39:07.474212Z",
     "start_time": "2020-08-23T18:39:07.374947Z"
    }
   },
   "outputs": [
    {
     "data": {
      "text/plain": [
       "RandomForestClassifier(max_depth=5)"
      ]
     },
     "execution_count": 217,
     "metadata": {},
     "output_type": "execute_result"
    }
   ],
   "source": [
    "# I'll start by instantiating the RandomForestClassifier\n",
    "forest3 = RandomForestClassifier(n_estimators=100, max_depth=5)\n",
    "forest3.fit(X_train, y_train)"
   ]
  },
  {
   "cell_type": "code",
   "execution_count": 218,
   "metadata": {
    "ExecuteTime": {
     "end_time": "2020-08-23T18:39:17.073059Z",
     "start_time": "2020-08-23T18:39:17.057986Z"
    }
   },
   "outputs": [
    {
     "data": {
      "text/plain": [
       "0.9902912621359223"
      ]
     },
     "execution_count": 218,
     "metadata": {},
     "output_type": "execute_result"
    }
   ],
   "source": [
    "# Now to check the accuracy score\n",
    "forest3.score(X_train, y_train)"
   ]
  },
  {
   "cell_type": "code",
   "execution_count": 219,
   "metadata": {
    "ExecuteTime": {
     "end_time": "2020-08-23T18:40:02.626150Z",
     "start_time": "2020-08-23T18:40:02.608820Z"
    }
   },
   "outputs": [
    {
     "data": {
      "text/plain": [
       "0.6601307189542484"
      ]
     },
     "execution_count": 219,
     "metadata": {},
     "output_type": "execute_result"
    }
   ],
   "source": [
    "# And for the test set:\n",
    "forest3.score(X_test, y_test)"
   ]
  },
  {
   "cell_type": "markdown",
   "metadata": {},
   "source": [
    "A slight decrease from the Bagged trees but nothing significant really. "
   ]
  },
  {
   "cell_type": "code",
   "execution_count": 242,
   "metadata": {
    "ExecuteTime": {
     "end_time": "2020-08-23T19:07:07.398265Z",
     "start_time": "2020-08-23T19:07:07.164858Z"
    }
   },
   "outputs": [
    {
     "data": {
      "image/png": "[encoded data removed]",
      "text/plain": [
       "<Figure size 720x720 with 1 Axes>"
      ]
     },
     "metadata": {},
     "output_type": "display_data"
    }
   ],
   "source": [
    "plot_feature_importances(forest3)\n",
    "plt.rcParams[\"figure.facecolor\"] = \"lightblue\""
   ]
  },
  {
   "cell_type": "markdown",
   "metadata": {
    "ExecuteTime": {
     "end_time": "2020-08-23T18:41:20.843355Z",
     "start_time": "2020-08-23T18:41:20.839433Z"
    }
   },
   "source": [
    "As with the previous models, the Defensive rating keeps on playing quite a key role!"
   ]
  },
  {
   "cell_type": "markdown",
   "metadata": {},
   "source": [
    "# 2000 - 2020 Dataset"
   ]
  },
  {
   "cell_type": "code",
   "execution_count": 222,
   "metadata": {
    "ExecuteTime": {
     "end_time": "2020-08-23T18:53:09.829921Z",
     "start_time": "2020-08-23T18:53:09.748949Z"
    }
   },
   "outputs": [
    {
     "data": {
      "text/html": [
       "<div>\n",
       "<style scoped>\n",
       "    .dataframe tbody tr th:only-of-type {\n",
       "        vertical-align: middle;\n",
       "    }\n",
       "\n",
       "    .dataframe tbody tr th {\n",
       "        vertical-align: top;\n",
       "    }\n",
       "\n",
       "    .dataframe thead th {\n",
       "        text-align: right;\n",
       "    }\n",
       "</style>\n",
       "<table border=\"1\" class=\"dataframe\">\n",
       "  <thead>\n",
       "    <tr style=\"text-align: right;\">\n",
       "      <th></th>\n",
       "      <th>Game_Result</th>\n",
       "      <th>Team1_FGA</th>\n",
       "      <th>Team1_FG_P</th>\n",
       "      <th>Team1_3PA</th>\n",
       "      <th>Team1_3P_P</th>\n",
       "      <th>Team1_OFFRTG</th>\n",
       "      <th>Team1_DEFRTG</th>\n",
       "      <th>Team1_REB_P</th>\n",
       "      <th>Team1_AST/TO</th>\n",
       "      <th>Team1_PACE</th>\n",
       "      <th>Team2_FGA</th>\n",
       "      <th>Team2_FG_P</th>\n",
       "      <th>Team2_3PA</th>\n",
       "      <th>Team2_3P_P</th>\n",
       "      <th>Team2_OFFRTG</th>\n",
       "      <th>Team2_DEFRTG</th>\n",
       "      <th>Team2_REB_P</th>\n",
       "      <th>Team2_AST/TO</th>\n",
       "      <th>Team2_PACE</th>\n",
       "    </tr>\n",
       "  </thead>\n",
       "  <tbody>\n",
       "    <tr>\n",
       "      <td>0</td>\n",
       "      <td>1</td>\n",
       "      <td>96.0</td>\n",
       "      <td>46.5</td>\n",
       "      <td>43.2</td>\n",
       "      <td>38.0</td>\n",
       "      <td>112.2</td>\n",
       "      <td>114.2</td>\n",
       "      <td>46.9</td>\n",
       "      <td>1.89</td>\n",
       "      <td>106.09</td>\n",
       "      <td>86.8</td>\n",
       "      <td>46.3</td>\n",
       "      <td>36.8</td>\n",
       "      <td>38.0</td>\n",
       "      <td>107.5</td>\n",
       "      <td>99.1</td>\n",
       "      <td>51.1</td>\n",
       "      <td>1.26</td>\n",
       "      <td>104.23</td>\n",
       "    </tr>\n",
       "    <tr>\n",
       "      <td>1</td>\n",
       "      <td>1</td>\n",
       "      <td>87.5</td>\n",
       "      <td>45.7</td>\n",
       "      <td>29.0</td>\n",
       "      <td>33.6</td>\n",
       "      <td>107.9</td>\n",
       "      <td>96.8</td>\n",
       "      <td>51.4</td>\n",
       "      <td>1.54</td>\n",
       "      <td>101.00</td>\n",
       "      <td>84.0</td>\n",
       "      <td>49.6</td>\n",
       "      <td>29.5</td>\n",
       "      <td>36.7</td>\n",
       "      <td>112.9</td>\n",
       "      <td>107.5</td>\n",
       "      <td>49.6</td>\n",
       "      <td>1.35</td>\n",
       "      <td>101.50</td>\n",
       "    </tr>\n",
       "  </tbody>\n",
       "</table>\n",
       "</div>"
      ],
      "text/plain": [
       "   Game_Result  Team1_FGA  Team1_FG_P  Team1_3PA  Team1_3P_P  Team1_OFFRTG  \\\n",
       "0            1       96.0        46.5       43.2        38.0         112.2   \n",
       "1            1       87.5        45.7       29.0        33.6         107.9   \n",
       "\n",
       "   Team1_DEFRTG  Team1_REB_P  Team1_AST/TO  Team1_PACE  Team2_FGA  Team2_FG_P  \\\n",
       "0         114.2         46.9          1.89      106.09       86.8        46.3   \n",
       "1          96.8         51.4          1.54      101.00       84.0        49.6   \n",
       "\n",
       "   Team2_3PA  Team2_3P_P  Team2_OFFRTG  Team2_DEFRTG  Team2_REB_P  \\\n",
       "0       36.8        38.0         107.5          99.1         51.1   \n",
       "1       29.5        36.7         112.9         107.5         49.6   \n",
       "\n",
       "   Team2_AST/TO  Team2_PACE  \n",
       "0          1.26      104.23  \n",
       "1          1.35      101.50  "
      ]
     },
     "execution_count": 222,
     "metadata": {},
     "output_type": "execute_result"
    }
   ],
   "source": [
    "df_all = pd.read_csv('2000-2020_Model_Ready', index_col=0)\n",
    "df_all.head(2)"
   ]
  },
  {
   "cell_type": "markdown",
   "metadata": {},
   "source": [
    "## Feature, Labels, and Data Training"
   ]
  },
  {
   "cell_type": "code",
   "execution_count": 223,
   "metadata": {
    "ExecuteTime": {
     "end_time": "2020-08-23T18:55:36.912395Z",
     "start_time": "2020-08-23T18:55:36.906749Z"
    }
   },
   "outputs": [
    {
     "data": {
      "text/plain": [
       "1    16673\n",
       "0    11307\n",
       "Name: Game_Result, dtype: int64"
      ]
     },
     "execution_count": 223,
     "metadata": {},
     "output_type": "execute_result"
    }
   ],
   "source": [
    "# Target Variable\n",
    "df_all.Game_Result.value_counts()"
   ]
  },
  {
   "cell_type": "markdown",
   "metadata": {},
   "source": [
    "During the past 20 years/seasons a total of 27980 games have been played, out of which almost 60% have been won by the Home Team (Team1). Lets check how the ensemble algorithms respond to this, and if they can actually predict properly these results"
   ]
  },
  {
   "cell_type": "code",
   "execution_count": 224,
   "metadata": {
    "ExecuteTime": {
     "end_time": "2020-08-23T18:57:58.686343Z",
     "start_time": "2020-08-23T18:57:58.673415Z"
    }
   },
   "outputs": [],
   "source": [
    "# Create features (X) and labels (y)\n",
    "y = df_all['Game_Result']\n",
    "X = df_all.drop(['Game_Result'], axis=1)\n",
    "\n",
    "# Perform the split\n",
    "X_test, X_train, y_test, y_train = train_test_split(X, y, test_size=0.25, random_state=42)"
   ]
  },
  {
   "cell_type": "markdown",
   "metadata": {},
   "source": [
    "## Build a regular tree as baseline"
   ]
  },
  {
   "cell_type": "code",
   "execution_count": 225,
   "metadata": {
    "ExecuteTime": {
     "end_time": "2020-08-23T18:58:46.805187Z",
     "start_time": "2020-08-23T18:58:46.765195Z"
    }
   },
   "outputs": [
    {
     "data": {
      "text/plain": [
       "DecisionTreeClassifier(max_depth=5)"
      ]
     },
     "execution_count": 225,
     "metadata": {},
     "output_type": "execute_result"
    }
   ],
   "source": [
    "tree4_clf = DecisionTreeClassifier(criterion='gini', max_depth=5)\n",
    "tree4_clf.fit(X_train, y_train)"
   ]
  },
  {
   "cell_type": "code",
   "execution_count": 226,
   "metadata": {
    "ExecuteTime": {
     "end_time": "2020-08-23T18:58:58.074897Z",
     "start_time": "2020-08-23T18:58:58.071012Z"
    }
   },
   "outputs": [
    {
     "data": {
      "text/plain": [
       "array([0.        , 0.0363785 , 0.        , 0.        , 0.17700227,\n",
       "       0.1957144 , 0.        , 0.00271819, 0.        , 0.        ,\n",
       "       0.01451023, 0.        , 0.00735254, 0.23889287, 0.31928375,\n",
       "       0.        , 0.        , 0.00814726])"
      ]
     },
     "execution_count": 226,
     "metadata": {},
     "output_type": "execute_result"
    }
   ],
   "source": [
    "tree4_clf.feature_importances_"
   ]
  },
  {
   "cell_type": "code",
   "execution_count": 227,
   "metadata": {
    "ExecuteTime": {
     "end_time": "2020-08-23T18:59:12.135752Z",
     "start_time": "2020-08-23T18:59:11.916162Z"
    }
   },
   "outputs": [
    {
     "data": {
      "image/png": "[encoded data removed]",
      "text/plain": [
       "<Figure size 720x720 with 1 Axes>"
      ]
     },
     "metadata": {},
     "output_type": "display_data"
    }
   ],
   "source": [
    "plot_feature_importances(tree4_clf)"
   ]
  },
  {
   "cell_type": "markdown",
   "metadata": {},
   "source": [
    "## Model Performance"
   ]
  },
  {
   "cell_type": "code",
   "execution_count": 228,
   "metadata": {
    "ExecuteTime": {
     "end_time": "2020-08-23T18:59:31.359009Z",
     "start_time": "2020-08-23T18:59:31.352759Z"
    }
   },
   "outputs": [],
   "source": [
    "# Test set predictions\n",
    "pred = tree4_clf.predict(X_test)"
   ]
  },
  {
   "cell_type": "code",
   "execution_count": 229,
   "metadata": {
    "ExecuteTime": {
     "end_time": "2020-08-23T18:59:42.270292Z",
     "start_time": "2020-08-23T18:59:42.220644Z"
    }
   },
   "outputs": [
    {
     "name": "stdout",
     "output_type": "stream",
     "text": [
      "\n",
      "Confusion Matrix\n",
      "----------------\n"
     ]
    },
    {
     "data": {
      "text/html": [
       "<div>\n",
       "<style scoped>\n",
       "    .dataframe tbody tr th:only-of-type {\n",
       "        vertical-align: middle;\n",
       "    }\n",
       "\n",
       "    .dataframe tbody tr th {\n",
       "        vertical-align: top;\n",
       "    }\n",
       "\n",
       "    .dataframe thead th {\n",
       "        text-align: right;\n",
       "    }\n",
       "</style>\n",
       "<table border=\"1\" class=\"dataframe\">\n",
       "  <thead>\n",
       "    <tr style=\"text-align: right;\">\n",
       "      <th>Predicted</th>\n",
       "      <th>0</th>\n",
       "      <th>1</th>\n",
       "      <th>All</th>\n",
       "    </tr>\n",
       "    <tr>\n",
       "      <th>True</th>\n",
       "      <th></th>\n",
       "      <th></th>\n",
       "      <th></th>\n",
       "    </tr>\n",
       "  </thead>\n",
       "  <tbody>\n",
       "    <tr>\n",
       "      <td>0</td>\n",
       "      <td>4464</td>\n",
       "      <td>4032</td>\n",
       "      <td>8496</td>\n",
       "    </tr>\n",
       "    <tr>\n",
       "      <td>1</td>\n",
       "      <td>2852</td>\n",
       "      <td>9637</td>\n",
       "      <td>12489</td>\n",
       "    </tr>\n",
       "    <tr>\n",
       "      <td>All</td>\n",
       "      <td>7316</td>\n",
       "      <td>13669</td>\n",
       "      <td>20985</td>\n",
       "    </tr>\n",
       "  </tbody>\n",
       "</table>\n",
       "</div>"
      ],
      "text/plain": [
       "Predicted     0      1    All\n",
       "True                         \n",
       "0          4464   4032   8496\n",
       "1          2852   9637  12489\n",
       "All        7316  13669  20985"
      ]
     },
     "execution_count": 229,
     "metadata": {},
     "output_type": "execute_result"
    }
   ],
   "source": [
    "# confusion matrix and classfication report\n",
    "print('\\nConfusion Matrix')\n",
    "print('----------------')\n",
    "pd.crosstab(y_test, pred, rownames=['True'], colnames=['Predicted'], margins=True)"
   ]
  },
  {
   "cell_type": "code",
   "execution_count": 230,
   "metadata": {
    "ExecuteTime": {
     "end_time": "2020-08-23T18:59:54.792041Z",
     "start_time": "2020-08-23T18:59:54.759331Z"
    }
   },
   "outputs": [
    {
     "name": "stdout",
     "output_type": "stream",
     "text": [
      "Classficiation Report\n",
      "---------------------\n",
      "              precision    recall  f1-score   support\n",
      "\n",
      "           0       0.61      0.53      0.56      8496\n",
      "           1       0.71      0.77      0.74     12489\n",
      "\n",
      "    accuracy                           0.67     20985\n",
      "   macro avg       0.66      0.65      0.65     20985\n",
      "weighted avg       0.67      0.67      0.67     20985\n",
      "\n"
     ]
    }
   ],
   "source": [
    "print('Classficiation Report')\n",
    "print('---------------------')\n",
    "print(classification_report(y_test, pred))"
   ]
  },
  {
   "cell_type": "code",
   "execution_count": 231,
   "metadata": {
    "ExecuteTime": {
     "end_time": "2020-08-23T19:00:19.008650Z",
     "start_time": "2020-08-23T19:00:19.003492Z"
    }
   },
   "outputs": [
    {
     "name": "stdout",
     "output_type": "stream",
     "text": [
      "Testing Accuracy for Decision Tree Classifier: 67.2%\n"
     ]
    }
   ],
   "source": [
    "print(\"Testing Accuracy for Decision Tree Classifier: {:.4}%\".format(accuracy_score(y_test, pred) * 100))"
   ]
  },
  {
   "cell_type": "markdown",
   "metadata": {},
   "source": [
    "## Bagged Trees"
   ]
  },
  {
   "cell_type": "code",
   "execution_count": 232,
   "metadata": {
    "ExecuteTime": {
     "end_time": "2020-08-23T19:01:09.973409Z",
     "start_time": "2020-08-23T19:01:09.970635Z"
    }
   },
   "outputs": [],
   "source": [
    "# We start by instantiating the BaggingClassifire\n",
    "bagged_tree4 =  BaggingClassifier(DecisionTreeClassifier(criterion='gini', max_depth=5), \n",
    "                                 n_estimators=20)"
   ]
  },
  {
   "cell_type": "code",
   "execution_count": 235,
   "metadata": {
    "ExecuteTime": {
     "end_time": "2020-08-23T19:02:09.149068Z",
     "start_time": "2020-08-23T19:02:08.734642Z"
    }
   },
   "outputs": [
    {
     "data": {
      "text/plain": [
       "BaggingClassifier(base_estimator=DecisionTreeClassifier(max_depth=5),\n",
       "                  n_estimators=20)"
      ]
     },
     "execution_count": 235,
     "metadata": {},
     "output_type": "execute_result"
    }
   ],
   "source": [
    "# Now to fitting the training data:\n",
    "bagged_tree4.fit(X_train, y_train)"
   ]
  },
  {
   "cell_type": "code",
   "execution_count": 236,
   "metadata": {
    "ExecuteTime": {
     "end_time": "2020-08-23T19:02:14.264455Z",
     "start_time": "2020-08-23T19:02:14.181975Z"
    }
   },
   "outputs": [
    {
     "data": {
      "text/plain": [
       "0.7325232308791995"
      ]
     },
     "metadata": {},
     "output_type": "display_data"
    },
    {
     "data": {
      "text/plain": [
       "0.6920181081725042"
      ]
     },
     "metadata": {},
     "output_type": "display_data"
    }
   ],
   "source": [
    "# I'm going to call the .score() to obtain the accuracy score on the training dataset and then on the test data:\n",
    "display(bagged_tree4.score(X_train, y_train))\n",
    "\n",
    "display(bagged_tree4.score(X_test, y_test))"
   ]
  },
  {
   "cell_type": "markdown",
   "metadata": {},
   "source": [
    "## Random Forest"
   ]
  },
  {
   "cell_type": "code",
   "execution_count": 237,
   "metadata": {
    "ExecuteTime": {
     "end_time": "2020-08-23T19:03:54.328510Z",
     "start_time": "2020-08-23T19:03:53.784195Z"
    }
   },
   "outputs": [
    {
     "data": {
      "text/plain": [
       "RandomForestClassifier(max_depth=5)"
      ]
     },
     "execution_count": 237,
     "metadata": {},
     "output_type": "execute_result"
    }
   ],
   "source": [
    "# I'll start by instantiating the RandomForestClassifier\n",
    "forest4 = RandomForestClassifier(n_estimators=100, max_depth=5)\n",
    "forest4.fit(X_train, y_train)"
   ]
  },
  {
   "cell_type": "code",
   "execution_count": 240,
   "metadata": {
    "ExecuteTime": {
     "end_time": "2020-08-23T19:05:57.558163Z",
     "start_time": "2020-08-23T19:05:57.345095Z"
    }
   },
   "outputs": [
    {
     "data": {
      "text/plain": [
       "0.731951393852752"
      ]
     },
     "metadata": {},
     "output_type": "display_data"
    },
    {
     "data": {
      "text/plain": [
       "0.6940195377650703"
      ]
     },
     "metadata": {},
     "output_type": "display_data"
    }
   ],
   "source": [
    "# Now to check the accuracy score\n",
    "display(forest4.score(X_train, y_train))\n",
    "\n",
    "# And for the test set:\n",
    "display(forest4.score(X_test, y_test))"
   ]
  },
  {
   "cell_type": "code",
   "execution_count": 241,
   "metadata": {
    "ExecuteTime": {
     "end_time": "2020-08-23T19:06:42.563200Z",
     "start_time": "2020-08-23T19:06:42.329972Z"
    }
   },
   "outputs": [
    {
     "data": {
      "image/png": "[encoded data removed]",
      "text/plain": [
       "<Figure size 720x720 with 1 Axes>"
      ]
     },
     "metadata": {},
     "output_type": "display_data"
    }
   ],
   "source": [
    "plot_feature_importances(forest4)\n",
    "plt.rcParams[\"figure.facecolor\"] = \"lightblue\""
   ]
  },
  {
   "cell_type": "markdown",
   "metadata": {},
   "source": [
    "## Model Test I"
   ]
  },
  {
   "cell_type": "code",
   "execution_count": 243,
   "metadata": {
    "ExecuteTime": {
     "end_time": "2020-08-23T19:14:22.185635Z",
     "start_time": "2020-08-23T19:14:22.162294Z"
    }
   },
   "outputs": [
    {
     "data": {
      "text/html": [
       "<div>\n",
       "<style scoped>\n",
       "    .dataframe tbody tr th:only-of-type {\n",
       "        vertical-align: middle;\n",
       "    }\n",
       "\n",
       "    .dataframe tbody tr th {\n",
       "        vertical-align: top;\n",
       "    }\n",
       "\n",
       "    .dataframe thead th {\n",
       "        text-align: right;\n",
       "    }\n",
       "</style>\n",
       "<table border=\"1\" class=\"dataframe\">\n",
       "  <thead>\n",
       "    <tr style=\"text-align: right;\">\n",
       "      <th></th>\n",
       "      <th>Game_Result</th>\n",
       "      <th>Team1_FGA</th>\n",
       "      <th>Team1_FG_P</th>\n",
       "      <th>Team1_3PA</th>\n",
       "      <th>Team1_3P_P</th>\n",
       "      <th>Team1_OFFRTG</th>\n",
       "      <th>Team1_DEFRTG</th>\n",
       "      <th>Team1_REB_P</th>\n",
       "      <th>Team1_AST/TO</th>\n",
       "      <th>Team1_PACE</th>\n",
       "      <th>Team2_FGA</th>\n",
       "      <th>Team2_FG_P</th>\n",
       "      <th>Team2_3PA</th>\n",
       "      <th>Team2_3P_P</th>\n",
       "      <th>Team2_OFFRTG</th>\n",
       "      <th>Team2_DEFRTG</th>\n",
       "      <th>Team2_REB_P</th>\n",
       "      <th>Team2_AST/TO</th>\n",
       "      <th>Team2_PACE</th>\n",
       "    </tr>\n",
       "  </thead>\n",
       "  <tbody>\n",
       "    <tr>\n",
       "      <td>9</td>\n",
       "      <td>1</td>\n",
       "      <td>86.0</td>\n",
       "      <td>42.3</td>\n",
       "      <td>28.4</td>\n",
       "      <td>35.2</td>\n",
       "      <td>99.8</td>\n",
       "      <td>107.9</td>\n",
       "      <td>51.6</td>\n",
       "      <td>1.02</td>\n",
       "      <td>100.80</td>\n",
       "      <td>89.0</td>\n",
       "      <td>47.5</td>\n",
       "      <td>23.0</td>\n",
       "      <td>33.7</td>\n",
       "      <td>108.6</td>\n",
       "      <td>106.2</td>\n",
       "      <td>52.8</td>\n",
       "      <td>1.36</td>\n",
       "      <td>104.75</td>\n",
       "    </tr>\n",
       "    <tr>\n",
       "      <td>32</td>\n",
       "      <td>1</td>\n",
       "      <td>94.0</td>\n",
       "      <td>47.9</td>\n",
       "      <td>38.0</td>\n",
       "      <td>38.2</td>\n",
       "      <td>113.6</td>\n",
       "      <td>113.6</td>\n",
       "      <td>49.3</td>\n",
       "      <td>1.69</td>\n",
       "      <td>104.88</td>\n",
       "      <td>89.0</td>\n",
       "      <td>47.5</td>\n",
       "      <td>23.0</td>\n",
       "      <td>33.7</td>\n",
       "      <td>108.6</td>\n",
       "      <td>106.2</td>\n",
       "      <td>52.8</td>\n",
       "      <td>1.36</td>\n",
       "      <td>104.75</td>\n",
       "    </tr>\n",
       "  </tbody>\n",
       "</table>\n",
       "</div>"
      ],
      "text/plain": [
       "    Game_Result  Team1_FGA  Team1_FG_P  Team1_3PA  Team1_3P_P  Team1_OFFRTG  \\\n",
       "9             1       86.0        42.3       28.4        35.2          99.8   \n",
       "32            1       94.0        47.9       38.0        38.2         113.6   \n",
       "\n",
       "    Team1_DEFRTG  Team1_REB_P  Team1_AST/TO  Team1_PACE  Team2_FGA  \\\n",
       "9          107.9         51.6          1.02      100.80       89.0   \n",
       "32         113.6         49.3          1.69      104.88       89.0   \n",
       "\n",
       "    Team2_FG_P  Team2_3PA  Team2_3P_P  Team2_OFFRTG  Team2_DEFRTG  \\\n",
       "9         47.5       23.0        33.7         108.6         106.2   \n",
       "32        47.5       23.0        33.7         108.6         106.2   \n",
       "\n",
       "    Team2_REB_P  Team2_AST/TO  Team2_PACE  \n",
       "9          52.8          1.36      104.75  \n",
       "32         52.8          1.36      104.75  "
      ]
     },
     "execution_count": 243,
     "metadata": {},
     "output_type": "execute_result"
    }
   ],
   "source": [
    "df_SAS_3 = pd.read_csv('df_SAS_2.csv', index_col=0)\n",
    "df_SAS_3.head(2)"
   ]
  },
  {
   "cell_type": "code",
   "execution_count": 244,
   "metadata": {
    "ExecuteTime": {
     "end_time": "2020-08-23T19:14:30.214812Z",
     "start_time": "2020-08-23T19:14:30.211257Z"
    }
   },
   "outputs": [
    {
     "data": {
      "text/plain": [
       "(949, 19)"
      ]
     },
     "execution_count": 244,
     "metadata": {},
     "output_type": "execute_result"
    }
   ],
   "source": [
    "df_SAS_3.shape"
   ]
  },
  {
   "cell_type": "code",
   "execution_count": 245,
   "metadata": {
    "ExecuteTime": {
     "end_time": "2020-08-23T19:14:46.670655Z",
     "start_time": "2020-08-23T19:14:46.665785Z"
    }
   },
   "outputs": [
    {
     "data": {
      "text/plain": [
       "0"
      ]
     },
     "execution_count": 245,
     "metadata": {},
     "output_type": "execute_result"
    }
   ],
   "source": [
    "df_SAS_3.isna().sum().sum()"
   ]
  },
  {
   "cell_type": "code",
   "execution_count": 249,
   "metadata": {
    "ExecuteTime": {
     "end_time": "2020-08-23T19:18:29.275413Z",
     "start_time": "2020-08-23T19:18:29.270868Z"
    }
   },
   "outputs": [
    {
     "data": {
      "text/plain": [
       "1    749\n",
       "0    200\n",
       "Name: Game_Result, dtype: int64"
      ]
     },
     "execution_count": 249,
     "metadata": {},
     "output_type": "execute_result"
    }
   ],
   "source": [
    "# Target Variable:\n",
    "df_SAS_3.Game_Result.value_counts()"
   ]
  },
  {
   "cell_type": "markdown",
   "metadata": {},
   "source": [
    "During the past 20 years/seasons, the San Antonio Spurs have been quite a dominant team by winning 78.93% of their home games. This is quite remarkable and probably one of the highest winning teams of the last 20 years."
   ]
  },
  {
   "cell_type": "code",
   "execution_count": 250,
   "metadata": {
    "ExecuteTime": {
     "end_time": "2020-08-23T19:20:19.222704Z",
     "start_time": "2020-08-23T19:20:19.219136Z"
    }
   },
   "outputs": [],
   "source": [
    "# Create features (X) and labels (y)\n",
    "y = df_SAS_3['Game_Result']\n",
    "X = df_SAS_3.drop(['Game_Result'], axis=1)"
   ]
  },
  {
   "cell_type": "code",
   "execution_count": 251,
   "metadata": {
    "ExecuteTime": {
     "end_time": "2020-08-23T19:20:30.983624Z",
     "start_time": "2020-08-23T19:20:30.978268Z"
    }
   },
   "outputs": [],
   "source": [
    "# Perform the split\n",
    "X_test, X_train, y_test, y_train = train_test_split(X, y, test_size=0.25, random_state=42)"
   ]
  },
  {
   "cell_type": "code",
   "execution_count": 252,
   "metadata": {
    "ExecuteTime": {
     "end_time": "2020-08-23T19:20:47.996443Z",
     "start_time": "2020-08-23T19:20:47.988325Z"
    }
   },
   "outputs": [
    {
     "data": {
      "text/plain": [
       "DecisionTreeClassifier(max_depth=5)"
      ]
     },
     "execution_count": 252,
     "metadata": {},
     "output_type": "execute_result"
    }
   ],
   "source": [
    "tree5_clf = DecisionTreeClassifier(criterion='gini', max_depth=5)\n",
    "tree5_clf.fit(X_train, y_train)"
   ]
  },
  {
   "cell_type": "code",
   "execution_count": 253,
   "metadata": {
    "ExecuteTime": {
     "end_time": "2020-08-23T19:21:00.800825Z",
     "start_time": "2020-08-23T19:21:00.796909Z"
    }
   },
   "outputs": [
    {
     "data": {
      "text/plain": [
       "array([0.        , 0.15794076, 0.        , 0.        , 0.0955665 ,\n",
       "       0.19001234, 0.02908506, 0.1888159 , 0.        , 0.15839916,\n",
       "       0.10981476, 0.        , 0.        , 0.07036551, 0.        ,\n",
       "       0.        , 0.        , 0.        ])"
      ]
     },
     "execution_count": 253,
     "metadata": {},
     "output_type": "execute_result"
    }
   ],
   "source": [
    "tree5_clf.feature_importances_"
   ]
  },
  {
   "cell_type": "code",
   "execution_count": 255,
   "metadata": {
    "ExecuteTime": {
     "end_time": "2020-08-23T19:21:38.237716Z",
     "start_time": "2020-08-23T19:21:37.988793Z"
    }
   },
   "outputs": [
    {
     "data": {
      "image/png": "[encoded data removed]",
      "text/plain": [
       "<Figure size 720x720 with 1 Axes>"
      ]
     },
     "metadata": {},
     "output_type": "display_data"
    }
   ],
   "source": [
    "plot_feature_importances(tree5_clf)"
   ]
  },
  {
   "cell_type": "code",
   "execution_count": 256,
   "metadata": {
    "ExecuteTime": {
     "end_time": "2020-08-23T19:22:02.912141Z",
     "start_time": "2020-08-23T19:22:02.907246Z"
    }
   },
   "outputs": [],
   "source": [
    "# Test set predictions\n",
    "pred = tree5_clf.predict(X_test)"
   ]
  },
  {
   "cell_type": "code",
   "execution_count": 257,
   "metadata": {
    "ExecuteTime": {
     "end_time": "2020-08-23T19:22:19.245671Z",
     "start_time": "2020-08-23T19:22:19.198123Z"
    }
   },
   "outputs": [
    {
     "name": "stdout",
     "output_type": "stream",
     "text": [
      "\n",
      "Confusion Matrix\n",
      "----------------\n"
     ]
    },
    {
     "data": {
      "text/html": [
       "<div>\n",
       "<style scoped>\n",
       "    .dataframe tbody tr th:only-of-type {\n",
       "        vertical-align: middle;\n",
       "    }\n",
       "\n",
       "    .dataframe tbody tr th {\n",
       "        vertical-align: top;\n",
       "    }\n",
       "\n",
       "    .dataframe thead th {\n",
       "        text-align: right;\n",
       "    }\n",
       "</style>\n",
       "<table border=\"1\" class=\"dataframe\">\n",
       "  <thead>\n",
       "    <tr style=\"text-align: right;\">\n",
       "      <th>Predicted</th>\n",
       "      <th>0</th>\n",
       "      <th>1</th>\n",
       "      <th>All</th>\n",
       "    </tr>\n",
       "    <tr>\n",
       "      <th>True</th>\n",
       "      <th></th>\n",
       "      <th></th>\n",
       "      <th></th>\n",
       "    </tr>\n",
       "  </thead>\n",
       "  <tbody>\n",
       "    <tr>\n",
       "      <td>0</td>\n",
       "      <td>30</td>\n",
       "      <td>123</td>\n",
       "      <td>153</td>\n",
       "    </tr>\n",
       "    <tr>\n",
       "      <td>1</td>\n",
       "      <td>70</td>\n",
       "      <td>488</td>\n",
       "      <td>558</td>\n",
       "    </tr>\n",
       "    <tr>\n",
       "      <td>All</td>\n",
       "      <td>100</td>\n",
       "      <td>611</td>\n",
       "      <td>711</td>\n",
       "    </tr>\n",
       "  </tbody>\n",
       "</table>\n",
       "</div>"
      ],
      "text/plain": [
       "Predicted    0    1  All\n",
       "True                    \n",
       "0           30  123  153\n",
       "1           70  488  558\n",
       "All        100  611  711"
      ]
     },
     "execution_count": 257,
     "metadata": {},
     "output_type": "execute_result"
    }
   ],
   "source": [
    "# confusion matrix and classfication report\n",
    "print('\\nConfusion Matrix')\n",
    "print('----------------')\n",
    "pd.crosstab(y_test, pred, rownames=['True'], colnames=['Predicted'], margins=True)"
   ]
  },
  {
   "cell_type": "code",
   "execution_count": 285,
   "metadata": {
    "ExecuteTime": {
     "end_time": "2020-08-23T20:52:21.473578Z",
     "start_time": "2020-08-23T20:52:21.465634Z"
    }
   },
   "outputs": [
    {
     "name": "stdout",
     "output_type": "stream",
     "text": [
      "Classification Report\n",
      "---------------------\n",
      "              precision    recall  f1-score   support\n",
      "\n",
      "           0       0.55      0.53      0.54       282\n",
      "           1       0.70      0.71      0.70       426\n",
      "\n",
      "    accuracy                           0.64       708\n",
      "   macro avg       0.62      0.62      0.62       708\n",
      "weighted avg       0.64      0.64      0.64       708\n",
      "\n"
     ]
    }
   ],
   "source": [
    "print('Classification Report')\n",
    "print('---------------------')\n",
    "print(classification_report(y_test, pred))"
   ]
  },
  {
   "cell_type": "code",
   "execution_count": 259,
   "metadata": {
    "ExecuteTime": {
     "end_time": "2020-08-23T19:22:59.133558Z",
     "start_time": "2020-08-23T19:22:59.129668Z"
    }
   },
   "outputs": [
    {
     "name": "stdout",
     "output_type": "stream",
     "text": [
      "Testing Accuracy for Decision Tree Classifier: 72.86%\n"
     ]
    }
   ],
   "source": [
    "print(\"Testing Accuracy for Decision Tree Classifier: {:.4}%\".format(accuracy_score(y_test, pred) * 100))"
   ]
  },
  {
   "cell_type": "markdown",
   "metadata": {},
   "source": [
    "### Bagged Trees"
   ]
  },
  {
   "cell_type": "code",
   "execution_count": 288,
   "metadata": {
    "ExecuteTime": {
     "end_time": "2020-08-23T20:56:17.360212Z",
     "start_time": "2020-08-23T20:56:17.357558Z"
    }
   },
   "outputs": [],
   "source": [
    "# I'll start by instantiating the BaggingClassifire\n",
    "bagged_tree5 =  BaggingClassifier(DecisionTreeClassifier(criterion='gini', max_depth=5), \n",
    "                                 n_estimators=20)"
   ]
  },
  {
   "cell_type": "code",
   "execution_count": 261,
   "metadata": {
    "ExecuteTime": {
     "end_time": "2020-08-23T19:24:42.423869Z",
     "start_time": "2020-08-23T19:24:42.381464Z"
    }
   },
   "outputs": [
    {
     "data": {
      "text/plain": [
       "BaggingClassifier(base_estimator=DecisionTreeClassifier(max_depth=5),\n",
       "                  n_estimators=20)"
      ]
     },
     "execution_count": 261,
     "metadata": {},
     "output_type": "execute_result"
    }
   ],
   "source": [
    "# Now to fitting the training data:\n",
    "bagged_tree5.fit(X_train, y_train)"
   ]
  },
  {
   "cell_type": "code",
   "execution_count": 268,
   "metadata": {
    "ExecuteTime": {
     "end_time": "2020-08-23T19:26:34.174307Z",
     "start_time": "2020-08-23T19:26:34.155897Z"
    }
   },
   "outputs": [
    {
     "data": {
      "text/plain": [
       "0.9159663865546218"
      ]
     },
     "metadata": {},
     "output_type": "display_data"
    },
    {
     "data": {
      "text/plain": [
       "0.7637130801687764"
      ]
     },
     "metadata": {},
     "output_type": "display_data"
    }
   ],
   "source": [
    "# I'm going to call the .score() to obtain the accuracy score on the training dataset and then on the test data:\n",
    "display(bagged_tree5.score(X_train, y_train))\n",
    "\n",
    "display(bagged_tree5.score(X_test, y_test))"
   ]
  },
  {
   "cell_type": "markdown",
   "metadata": {
    "ExecuteTime": {
     "end_time": "2020-08-23T19:29:53.987542Z",
     "start_time": "2020-08-23T19:29:53.983943Z"
    }
   },
   "source": [
    "### Random Forest"
   ]
  },
  {
   "cell_type": "code",
   "execution_count": 272,
   "metadata": {
    "ExecuteTime": {
     "end_time": "2020-08-23T19:30:05.176850Z",
     "start_time": "2020-08-23T19:30:05.063381Z"
    }
   },
   "outputs": [
    {
     "data": {
      "text/plain": [
       "RandomForestClassifier(max_depth=5)"
      ]
     },
     "execution_count": 272,
     "metadata": {},
     "output_type": "execute_result"
    }
   ],
   "source": [
    "# I'll start by instantiating the RandomForestClassifier\n",
    "forest5 = RandomForestClassifier(n_estimators=100, max_depth=5)\n",
    "forest5.fit(X_train, y_train)"
   ]
  },
  {
   "cell_type": "code",
   "execution_count": 273,
   "metadata": {
    "ExecuteTime": {
     "end_time": "2020-08-23T19:30:32.717856Z",
     "start_time": "2020-08-23T19:30:32.683412Z"
    }
   },
   "outputs": [
    {
     "data": {
      "text/plain": [
       "0.8823529411764706"
      ]
     },
     "metadata": {},
     "output_type": "display_data"
    },
    {
     "data": {
      "text/plain": [
       "0.7876230661040787"
      ]
     },
     "metadata": {},
     "output_type": "display_data"
    }
   ],
   "source": [
    "# Now to check the accuracy score\n",
    "display(forest5.score(X_train, y_train))\n",
    "\n",
    "# And for the test set:\n",
    "display(forest5.score(X_test, y_test))"
   ]
  },
  {
   "cell_type": "markdown",
   "metadata": {},
   "source": [
    "This model has performed extremely well, which even when it is not bad it is concerning as it is very close to the real values. Maybe a second look at it is worth it to double check that I didn't make a mistake as this is quite a repetitive process and hence easy to make a mistake with one of the names."
   ]
  },
  {
   "cell_type": "markdown",
   "metadata": {},
   "source": [
    "## Model Test II"
   ]
  },
  {
   "cell_type": "code",
   "execution_count": 275,
   "metadata": {
    "ExecuteTime": {
     "end_time": "2020-08-23T20:50:35.285611Z",
     "start_time": "2020-08-23T20:50:35.262523Z"
    }
   },
   "outputs": [
    {
     "data": {
      "text/html": [
       "<div>\n",
       "<style scoped>\n",
       "    .dataframe tbody tr th:only-of-type {\n",
       "        vertical-align: middle;\n",
       "    }\n",
       "\n",
       "    .dataframe tbody tr th {\n",
       "        vertical-align: top;\n",
       "    }\n",
       "\n",
       "    .dataframe thead th {\n",
       "        text-align: right;\n",
       "    }\n",
       "</style>\n",
       "<table border=\"1\" class=\"dataframe\">\n",
       "  <thead>\n",
       "    <tr style=\"text-align: right;\">\n",
       "      <th></th>\n",
       "      <th>Game_Result</th>\n",
       "      <th>Team1_FGA</th>\n",
       "      <th>Team1_FG_P</th>\n",
       "      <th>Team1_3PA</th>\n",
       "      <th>Team1_3P_P</th>\n",
       "      <th>Team1_OFFRTG</th>\n",
       "      <th>Team1_DEFRTG</th>\n",
       "      <th>Team1_REB_P</th>\n",
       "      <th>Team1_AST/TO</th>\n",
       "      <th>Team1_PACE</th>\n",
       "      <th>Team2_FGA</th>\n",
       "      <th>Team2_FG_P</th>\n",
       "      <th>Team2_3PA</th>\n",
       "      <th>Team2_3P_P</th>\n",
       "      <th>Team2_OFFRTG</th>\n",
       "      <th>Team2_DEFRTG</th>\n",
       "      <th>Team2_REB_P</th>\n",
       "      <th>Team2_AST/TO</th>\n",
       "      <th>Team2_PACE</th>\n",
       "    </tr>\n",
       "  </thead>\n",
       "  <tbody>\n",
       "    <tr>\n",
       "      <td>6</td>\n",
       "      <td>1</td>\n",
       "      <td>95.3</td>\n",
       "      <td>41.5</td>\n",
       "      <td>32.0</td>\n",
       "      <td>28.1</td>\n",
       "      <td>95.7</td>\n",
       "      <td>108.1</td>\n",
       "      <td>48.4</td>\n",
       "      <td>1.32</td>\n",
       "      <td>108.91</td>\n",
       "      <td>85.6</td>\n",
       "      <td>47.0</td>\n",
       "      <td>33.2</td>\n",
       "      <td>39.2</td>\n",
       "      <td>106.6</td>\n",
       "      <td>99.3</td>\n",
       "      <td>52.5</td>\n",
       "      <td>1.19</td>\n",
       "      <td>106.09</td>\n",
       "    </tr>\n",
       "    <tr>\n",
       "      <td>51</td>\n",
       "      <td>1</td>\n",
       "      <td>85.0</td>\n",
       "      <td>45.6</td>\n",
       "      <td>32.2</td>\n",
       "      <td>29.2</td>\n",
       "      <td>102.0</td>\n",
       "      <td>103.4</td>\n",
       "      <td>49.6</td>\n",
       "      <td>1.36</td>\n",
       "      <td>101.20</td>\n",
       "      <td>85.6</td>\n",
       "      <td>47.0</td>\n",
       "      <td>33.2</td>\n",
       "      <td>39.2</td>\n",
       "      <td>106.6</td>\n",
       "      <td>99.3</td>\n",
       "      <td>52.5</td>\n",
       "      <td>1.19</td>\n",
       "      <td>106.09</td>\n",
       "    </tr>\n",
       "  </tbody>\n",
       "</table>\n",
       "</div>"
      ],
      "text/plain": [
       "    Game_Result  Team1_FGA  Team1_FG_P  Team1_3PA  Team1_3P_P  Team1_OFFRTG  \\\n",
       "6             1       95.3        41.5       32.0        28.1          95.7   \n",
       "51            1       85.0        45.6       32.2        29.2         102.0   \n",
       "\n",
       "    Team1_DEFRTG  Team1_REB_P  Team1_AST/TO  Team1_PACE  Team2_FGA  \\\n",
       "6          108.1         48.4          1.32      108.91       85.6   \n",
       "51         103.4         49.6          1.36      101.20       85.6   \n",
       "\n",
       "    Team2_FG_P  Team2_3PA  Team2_3P_P  Team2_OFFRTG  Team2_DEFRTG  \\\n",
       "6         47.0       33.2        39.2         106.6          99.3   \n",
       "51        47.0       33.2        39.2         106.6          99.3   \n",
       "\n",
       "    Team2_REB_P  Team2_AST/TO  Team2_PACE  \n",
       "6          52.5          1.19      106.09  \n",
       "51         52.5          1.19      106.09  "
      ]
     },
     "execution_count": 275,
     "metadata": {},
     "output_type": "execute_result"
    }
   ],
   "source": [
    "df_MIA_3 = pd.read_csv('df_MIA_2.csv', index_col=0)\n",
    "df_MIA_3.head(2)"
   ]
  },
  {
   "cell_type": "code",
   "execution_count": 276,
   "metadata": {
    "ExecuteTime": {
     "end_time": "2020-08-23T20:50:38.967297Z",
     "start_time": "2020-08-23T20:50:38.963609Z"
    }
   },
   "outputs": [
    {
     "data": {
      "text/plain": [
       "(944, 19)"
      ]
     },
     "execution_count": 276,
     "metadata": {},
     "output_type": "execute_result"
    }
   ],
   "source": [
    "df_MIA_3.shape"
   ]
  },
  {
   "cell_type": "code",
   "execution_count": 277,
   "metadata": {
    "ExecuteTime": {
     "end_time": "2020-08-23T20:50:40.684977Z",
     "start_time": "2020-08-23T20:50:40.679810Z"
    },
    "scrolled": true
   },
   "outputs": [
    {
     "data": {
      "text/plain": [
       "0"
      ]
     },
     "execution_count": 277,
     "metadata": {},
     "output_type": "execute_result"
    }
   ],
   "source": [
    "df_MIA_3.isna().sum().sum()"
   ]
  },
  {
   "cell_type": "code",
   "execution_count": 278,
   "metadata": {
    "ExecuteTime": {
     "end_time": "2020-08-23T20:50:41.940970Z",
     "start_time": "2020-08-23T20:50:41.928799Z"
    }
   },
   "outputs": [
    {
     "data": {
      "text/plain": [
       "array([0.        , 0.15794076, 0.        , 0.        , 0.0955665 ,\n",
       "       0.19001234, 0.02908506, 0.1888159 , 0.        , 0.15839916,\n",
       "       0.10981476, 0.        , 0.        , 0.07036551, 0.        ,\n",
       "       0.        , 0.        , 0.        ])"
      ]
     },
     "metadata": {},
     "output_type": "display_data"
    }
   ],
   "source": [
    "# Create features (X) and labels (y)\n",
    "y = df_MIA_3['Game_Result']\n",
    "X = df_MIA_3.drop(['Game_Result'], axis=1)\n",
    "\n",
    "# Perform the split\n",
    "X_test, X_train, y_test, y_train = train_test_split(X, y, test_size=0.25, random_state=42)\n",
    "\n",
    "tree6_clf = DecisionTreeClassifier(criterion='gini', max_depth=5)\n",
    "tree6_clf.fit(X_train, y_train)\n",
    "\n",
    "display(tree5_clf.feature_importances_)"
   ]
  },
  {
   "cell_type": "code",
   "execution_count": 279,
   "metadata": {
    "ExecuteTime": {
     "end_time": "2020-08-23T20:50:59.552419Z",
     "start_time": "2020-08-23T20:50:59.302990Z"
    }
   },
   "outputs": [
    {
     "data": {
      "image/png": "[encoded data removed]",
      "text/plain": [
       "<Figure size 720x720 with 1 Axes>"
      ]
     },
     "metadata": {},
     "output_type": "display_data"
    }
   ],
   "source": [
    "plot_feature_importances(tree6_clf)"
   ]
  },
  {
   "cell_type": "code",
   "execution_count": 280,
   "metadata": {
    "ExecuteTime": {
     "end_time": "2020-08-23T20:51:31.464687Z",
     "start_time": "2020-08-23T20:51:31.459750Z"
    }
   },
   "outputs": [],
   "source": [
    "# Test set predictions\n",
    "pred = tree6_clf.predict(X_test)"
   ]
  },
  {
   "cell_type": "code",
   "execution_count": 281,
   "metadata": {
    "ExecuteTime": {
     "end_time": "2020-08-23T20:51:47.040867Z",
     "start_time": "2020-08-23T20:51:46.993116Z"
    }
   },
   "outputs": [
    {
     "name": "stdout",
     "output_type": "stream",
     "text": [
      "\n",
      "Confusion Matrix\n",
      "----------------\n"
     ]
    },
    {
     "data": {
      "text/html": [
       "<div>\n",
       "<style scoped>\n",
       "    .dataframe tbody tr th:only-of-type {\n",
       "        vertical-align: middle;\n",
       "    }\n",
       "\n",
       "    .dataframe tbody tr th {\n",
       "        vertical-align: top;\n",
       "    }\n",
       "\n",
       "    .dataframe thead th {\n",
       "        text-align: right;\n",
       "    }\n",
       "</style>\n",
       "<table border=\"1\" class=\"dataframe\">\n",
       "  <thead>\n",
       "    <tr style=\"text-align: right;\">\n",
       "      <th>Predicted</th>\n",
       "      <th>0</th>\n",
       "      <th>1</th>\n",
       "      <th>All</th>\n",
       "    </tr>\n",
       "    <tr>\n",
       "      <th>True</th>\n",
       "      <th></th>\n",
       "      <th></th>\n",
       "      <th></th>\n",
       "    </tr>\n",
       "  </thead>\n",
       "  <tbody>\n",
       "    <tr>\n",
       "      <td>0</td>\n",
       "      <td>150</td>\n",
       "      <td>132</td>\n",
       "      <td>282</td>\n",
       "    </tr>\n",
       "    <tr>\n",
       "      <td>1</td>\n",
       "      <td>123</td>\n",
       "      <td>303</td>\n",
       "      <td>426</td>\n",
       "    </tr>\n",
       "    <tr>\n",
       "      <td>All</td>\n",
       "      <td>273</td>\n",
       "      <td>435</td>\n",
       "      <td>708</td>\n",
       "    </tr>\n",
       "  </tbody>\n",
       "</table>\n",
       "</div>"
      ],
      "text/plain": [
       "Predicted    0    1  All\n",
       "True                    \n",
       "0          150  132  282\n",
       "1          123  303  426\n",
       "All        273  435  708"
      ]
     },
     "execution_count": 281,
     "metadata": {},
     "output_type": "execute_result"
    }
   ],
   "source": [
    "# confusion matrix and classfication report\n",
    "print('\\nConfusion Matrix')\n",
    "print('----------------')\n",
    "pd.crosstab(y_test, pred, rownames=['True'], colnames=['Predicted'], margins=True)"
   ]
  },
  {
   "cell_type": "code",
   "execution_count": 284,
   "metadata": {
    "ExecuteTime": {
     "end_time": "2020-08-23T20:52:08.241111Z",
     "start_time": "2020-08-23T20:52:08.233195Z"
    }
   },
   "outputs": [
    {
     "name": "stdout",
     "output_type": "stream",
     "text": [
      "Classification Report\n",
      "---------------------\n",
      "              precision    recall  f1-score   support\n",
      "\n",
      "           0       0.55      0.53      0.54       282\n",
      "           1       0.70      0.71      0.70       426\n",
      "\n",
      "    accuracy                           0.64       708\n",
      "   macro avg       0.62      0.62      0.62       708\n",
      "weighted avg       0.64      0.64      0.64       708\n",
      "\n"
     ]
    }
   ],
   "source": [
    "print('Classification Report')\n",
    "print('---------------------')\n",
    "print(classification_report(y_test, pred))"
   ]
  },
  {
   "cell_type": "code",
   "execution_count": 286,
   "metadata": {
    "ExecuteTime": {
     "end_time": "2020-08-23T20:52:32.889512Z",
     "start_time": "2020-08-23T20:52:32.885622Z"
    }
   },
   "outputs": [
    {
     "name": "stdout",
     "output_type": "stream",
     "text": [
      "Testing Accuracy for Decision Tree Classifier: 63.98%\n"
     ]
    }
   ],
   "source": [
    "print(\"Testing Accuracy for Decision Tree Classifier: {:.4}%\".format(accuracy_score(y_test, pred) * 100))"
   ]
  },
  {
   "cell_type": "markdown",
   "metadata": {},
   "source": [
    "### Bagged Trees"
   ]
  },
  {
   "cell_type": "code",
   "execution_count": 287,
   "metadata": {
    "ExecuteTime": {
     "end_time": "2020-08-23T20:53:42.002696Z",
     "start_time": "2020-08-23T20:53:41.999949Z"
    }
   },
   "outputs": [],
   "source": [
    "# We start by instantiating the BaggingClassifire\n",
    "bagged_tree6 =  BaggingClassifier(DecisionTreeClassifier(criterion='gini', max_depth=5), \n",
    "                                 n_estimators=20)"
   ]
  },
  {
   "cell_type": "code",
   "execution_count": 289,
   "metadata": {
    "ExecuteTime": {
     "end_time": "2020-08-23T20:56:26.375773Z",
     "start_time": "2020-08-23T20:56:26.333428Z"
    }
   },
   "outputs": [
    {
     "data": {
      "text/plain": [
       "BaggingClassifier(base_estimator=DecisionTreeClassifier(max_depth=5),\n",
       "                  n_estimators=20)"
      ]
     },
     "execution_count": 289,
     "metadata": {},
     "output_type": "execute_result"
    }
   ],
   "source": [
    "# Now to fitting the training data:\n",
    "bagged_tree6.fit(X_train, y_train)"
   ]
  },
  {
   "cell_type": "code",
   "execution_count": 290,
   "metadata": {
    "ExecuteTime": {
     "end_time": "2020-08-23T20:56:44.031670Z",
     "start_time": "2020-08-23T20:56:44.013276Z"
    }
   },
   "outputs": [
    {
     "data": {
      "text/plain": [
       "0.9576271186440678"
      ]
     },
     "metadata": {},
     "output_type": "display_data"
    },
    {
     "data": {
      "text/plain": [
       "0.7062146892655368"
      ]
     },
     "metadata": {},
     "output_type": "display_data"
    }
   ],
   "source": [
    "# I'm going to call the .score() to obtain the accuracy score on the training dataset and then on the test data:\n",
    "display(bagged_tree6.score(X_train, y_train))\n",
    "\n",
    "display(bagged_tree6.score(X_test, y_test))"
   ]
  },
  {
   "cell_type": "markdown",
   "metadata": {},
   "source": [
    "With an accuracy of 70.62% the model is off by 10%. What is happening is that is over-estimating the home wins, so it doesn't seem very fit for bets, or at least not with this data/model "
   ]
  },
  {
   "cell_type": "markdown",
   "metadata": {},
   "source": [
    "### Random Forest"
   ]
  },
  {
   "cell_type": "code",
   "execution_count": 291,
   "metadata": {
    "ExecuteTime": {
     "end_time": "2020-08-23T20:58:29.070085Z",
     "start_time": "2020-08-23T20:58:28.959225Z"
    }
   },
   "outputs": [
    {
     "data": {
      "text/plain": [
       "RandomForestClassifier(max_depth=5)"
      ]
     },
     "execution_count": 291,
     "metadata": {},
     "output_type": "execute_result"
    }
   ],
   "source": [
    "# I'll start by instantiating the RandomForestClassifier\n",
    "forest6 = RandomForestClassifier(n_estimators=100, max_depth=5)\n",
    "forest6.fit(X_train, y_train)"
   ]
  },
  {
   "cell_type": "code",
   "execution_count": 293,
   "metadata": {
    "ExecuteTime": {
     "end_time": "2020-08-23T20:58:33.208233Z",
     "start_time": "2020-08-23T20:58:33.173812Z"
    }
   },
   "outputs": [
    {
     "data": {
      "text/plain": [
       "0.9110169491525424"
      ]
     },
     "metadata": {},
     "output_type": "display_data"
    },
    {
     "data": {
      "text/plain": [
       "0.7048022598870056"
      ]
     },
     "metadata": {},
     "output_type": "display_data"
    }
   ],
   "source": [
    "# Now to check the accuracy score\n",
    "display(forest6.score(X_train, y_train))\n",
    "\n",
    "# And for the test set:\n",
    "display(forest6.score(X_test, y_test))"
   ]
  },
  {
   "cell_type": "markdown",
   "metadata": {},
   "source": [
    "# 2000 - 2010 Dataset - Game Evolution"
   ]
  },
  {
   "cell_type": "code",
   "execution_count": null,
   "metadata": {},
   "outputs": [],
   "source": []
  },
  {
   "cell_type": "markdown",
   "metadata": {},
   "source": [
    "## Feature, Labels, and Data Training"
   ]
  },
  {
   "cell_type": "code",
   "execution_count": null,
   "metadata": {},
   "outputs": [],
   "source": []
  },
  {
   "cell_type": "code",
   "execution_count": null,
   "metadata": {},
   "outputs": [],
   "source": []
  },
  {
   "cell_type": "code",
   "execution_count": null,
   "metadata": {},
   "outputs": [],
   "source": []
  },
  {
   "cell_type": "markdown",
   "metadata": {},
   "source": [
    "# Summary/Observations"
   ]
  },
  {
   "cell_type": "code",
   "execution_count": null,
   "metadata": {},
   "outputs": [],
   "source": []
  }
 ],
 "metadata": {
  "kernelspec": {
   "display_name": "learn-env",
   "language": "python",
   "name": "learn-env"
  },
  "language_info": {
   "codemirror_mode": {
    "name": "ipython",
    "version": 3
   },
   "file_extension": ".py",
   "mimetype": "text/x-python",
   "name": "python",
   "nbconvert_exporter": "python",
   "pygments_lexer": "ipython3",
   "version": "3.6.9"
  },
  "toc": {
   "base_numbering": 1,
   "nav_menu": {},
   "number_sections": true,
   "sideBar": true,
   "skip_h1_title": false,
   "title_cell": "Table of Contents",
   "title_sidebar": "Contents",
   "toc_cell": false,
   "toc_position": {
    "height": "calc(100% - 180px)",
    "left": "10px",
    "top": "150px",
    "width": "295.1875px"
   },
   "toc_section_display": true,
   "toc_window_display": true
  },
  "varInspector": {
   "cols": {
    "lenName": 16,
    "lenType": 16,
    "lenVar": 40
   },
   "kernels_config": {
    "python": {
     "delete_cmd_postfix": "",
     "delete_cmd_prefix": "del ",
     "library": "var_list.py",
     "varRefreshCmd": "print(var_dic_list())"
    },
    "r": {
     "delete_cmd_postfix": ") ",
     "delete_cmd_prefix": "rm(",
     "library": "var_list.r",
     "varRefreshCmd": "cat(var_dic_list()) "
    }
   },
   "types_to_exclude": [
    "module",
    "function",
    "builtin_function_or_method",
    "instance",
    "_Feature"
   ],
   "window_display": false
  }
 },
 "nbformat": 4,
 "nbformat_minor": 4
}
