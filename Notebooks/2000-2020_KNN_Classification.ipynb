{
 "cells": [
  {
   "cell_type": "markdown",
   "metadata": {},
   "source": [
    "# KNN CLASSIFICATION"
   ]
  },
  {
   "cell_type": "markdown",
   "metadata": {},
   "source": [
    "This notebook will be exclusively for running KNN classifications using three datasets prepared on the 2018-2019_Subset_Data_Cleeaning and 2000-2020_Data_Cleaning_Conditioning Jupyter Notebooks.\n",
    "\n",
    "The first dataset (2018-2019) forms a part of the testing process done to verify before hand is this project to predict the winners by Home Teams would work, and if it did work, then the idea was to add the other datasets. At this point it was already proven that it did work for 1 year, so in this Notebook you will see the results of that model and then further down, the addition of larger datasets including 10 and 20 years of basketball stats. \n",
    "\n",
    "For more details on the data sets, please refer to the README where you can find the sources and an explanation of how the dataset was created. "
   ]
  },
  {
   "cell_type": "markdown",
   "metadata": {},
   "source": [
    "# 2018 - 2019 Test Dataset"
   ]
  },
  {
   "cell_type": "markdown",
   "metadata": {},
   "source": [
    "## Libraries and Data Loading"
   ]
  },
  {
   "cell_type": "code",
   "execution_count": 1,
   "metadata": {
    "ExecuteTime": {
     "end_time": "2020-08-18T15:17:44.367366Z",
     "start_time": "2020-08-18T15:17:42.749425Z"
    }
   },
   "outputs": [],
   "source": [
    "import pandas as pd\n",
    "import numpy as np\n",
    "import matplotlib.pyplot as plt\n",
    "%matplotlib inline\n",
    "\n",
    "from sklearn.model_selection import train_test_split\n",
    "from sklearn.preprocessing import StandardScaler\n",
    "from sklearn.neighbors import KNeighborsClassifier\n",
    "from sklearn.metrics import precision_score, recall_score, accuracy_score, f1_score\n",
    "\n",
    "import warnings\n",
    "warnings.filterwarnings('ignore')\n",
    "\n",
    "pd.set_option('display.max_columns', None)"
   ]
  },
  {
   "cell_type": "code",
   "execution_count": 5,
   "metadata": {
    "ExecuteTime": {
     "end_time": "2020-08-18T15:20:52.650591Z",
     "start_time": "2020-08-18T15:20:52.625590Z"
    }
   },
   "outputs": [
    {
     "data": {
      "text/html": [
       "<div>\n",
       "<style scoped>\n",
       "    .dataframe tbody tr th:only-of-type {\n",
       "        vertical-align: middle;\n",
       "    }\n",
       "\n",
       "    .dataframe tbody tr th {\n",
       "        vertical-align: top;\n",
       "    }\n",
       "\n",
       "    .dataframe thead th {\n",
       "        text-align: right;\n",
       "    }\n",
       "</style>\n",
       "<table border=\"1\" class=\"dataframe\">\n",
       "  <thead>\n",
       "    <tr style=\"text-align: right;\">\n",
       "      <th></th>\n",
       "      <th>Game_Result</th>\n",
       "      <th>Team1_OFFRTG</th>\n",
       "      <th>Team1_DEFRTG</th>\n",
       "      <th>Team1_AST/TO</th>\n",
       "      <th>Team1_REB_P</th>\n",
       "      <th>Team1_FG_P</th>\n",
       "      <th>Team1_FGA</th>\n",
       "      <th>Team1_PACE</th>\n",
       "      <th>Team1_3PA</th>\n",
       "      <th>Team1_3P_P</th>\n",
       "      <th>Team2_OFFRTG</th>\n",
       "      <th>Team2_DEFRTG</th>\n",
       "      <th>Team2_AST/TO</th>\n",
       "      <th>Team2_REB_P</th>\n",
       "      <th>Team2_FG_P</th>\n",
       "      <th>Team2_FGA</th>\n",
       "      <th>Team2_PACE</th>\n",
       "      <th>Team2_3PA</th>\n",
       "      <th>Team2_3P_P</th>\n",
       "    </tr>\n",
       "  </thead>\n",
       "  <tbody>\n",
       "    <tr>\n",
       "      <td>0</td>\n",
       "      <td>1</td>\n",
       "      <td>106.3</td>\n",
       "      <td>107.5</td>\n",
       "      <td>1.83</td>\n",
       "      <td>51.1</td>\n",
       "      <td>43.5</td>\n",
       "      <td>93.1</td>\n",
       "      <td>104.39</td>\n",
       "      <td>35.9</td>\n",
       "      <td>33.8</td>\n",
       "      <td>100.8</td>\n",
       "      <td>96.2</td>\n",
       "      <td>1.66</td>\n",
       "      <td>50.6</td>\n",
       "      <td>41.8</td>\n",
       "      <td>89.3</td>\n",
       "      <td>101.50</td>\n",
       "      <td>33.6</td>\n",
       "      <td>32.8</td>\n",
       "    </tr>\n",
       "    <tr>\n",
       "      <td>1</td>\n",
       "      <td>1</td>\n",
       "      <td>102.4</td>\n",
       "      <td>105.0</td>\n",
       "      <td>1.30</td>\n",
       "      <td>50.8</td>\n",
       "      <td>42.8</td>\n",
       "      <td>93.8</td>\n",
       "      <td>106.08</td>\n",
       "      <td>29.7</td>\n",
       "      <td>27.5</td>\n",
       "      <td>120.3</td>\n",
       "      <td>107.5</td>\n",
       "      <td>2.00</td>\n",
       "      <td>51.1</td>\n",
       "      <td>52.4</td>\n",
       "      <td>89.1</td>\n",
       "      <td>104.00</td>\n",
       "      <td>31.9</td>\n",
       "      <td>41.8</td>\n",
       "    </tr>\n",
       "    <tr>\n",
       "      <td>1276</td>\n",
       "      <td>1</td>\n",
       "      <td>111.5</td>\n",
       "      <td>105.4</td>\n",
       "      <td>2.36</td>\n",
       "      <td>48.3</td>\n",
       "      <td>46.3</td>\n",
       "      <td>90.2</td>\n",
       "      <td>100.80</td>\n",
       "      <td>33.2</td>\n",
       "      <td>36.1</td>\n",
       "      <td>113.0</td>\n",
       "      <td>110.9</td>\n",
       "      <td>1.86</td>\n",
       "      <td>50.7</td>\n",
       "      <td>47.4</td>\n",
       "      <td>93.2</td>\n",
       "      <td>109.70</td>\n",
       "      <td>37.8</td>\n",
       "      <td>33.3</td>\n",
       "    </tr>\n",
       "    <tr>\n",
       "      <td>1277</td>\n",
       "      <td>1</td>\n",
       "      <td>126.0</td>\n",
       "      <td>103.9</td>\n",
       "      <td>2.65</td>\n",
       "      <td>49.0</td>\n",
       "      <td>48.2</td>\n",
       "      <td>94.2</td>\n",
       "      <td>102.10</td>\n",
       "      <td>53.6</td>\n",
       "      <td>41.4</td>\n",
       "      <td>113.7</td>\n",
       "      <td>103.7</td>\n",
       "      <td>2.02</td>\n",
       "      <td>49.4</td>\n",
       "      <td>50.6</td>\n",
       "      <td>92.5</td>\n",
       "      <td>103.42</td>\n",
       "      <td>35.7</td>\n",
       "      <td>41.1</td>\n",
       "    </tr>\n",
       "  </tbody>\n",
       "</table>\n",
       "</div>"
      ],
      "text/plain": [
       "      Game_Result  Team1_OFFRTG  Team1_DEFRTG  Team1_AST/TO  Team1_REB_P  \\\n",
       "0               1         106.3         107.5          1.83         51.1   \n",
       "1               1         102.4         105.0          1.30         50.8   \n",
       "1276            1         111.5         105.4          2.36         48.3   \n",
       "1277            1         126.0         103.9          2.65         49.0   \n",
       "\n",
       "      Team1_FG_P  Team1_FGA  Team1_PACE  Team1_3PA  Team1_3P_P  Team2_OFFRTG  \\\n",
       "0           43.5       93.1      104.39       35.9        33.8         100.8   \n",
       "1           42.8       93.8      106.08       29.7        27.5         120.3   \n",
       "1276        46.3       90.2      100.80       33.2        36.1         113.0   \n",
       "1277        48.2       94.2      102.10       53.6        41.4         113.7   \n",
       "\n",
       "      Team2_DEFRTG  Team2_AST/TO  Team2_REB_P  Team2_FG_P  Team2_FGA  \\\n",
       "0             96.2          1.66         50.6        41.8       89.3   \n",
       "1            107.5          2.00         51.1        52.4       89.1   \n",
       "1276         110.9          1.86         50.7        47.4       93.2   \n",
       "1277         103.7          2.02         49.4        50.6       92.5   \n",
       "\n",
       "      Team2_PACE  Team2_3PA  Team2_3P_P  \n",
       "0         101.50       33.6        32.8  \n",
       "1         104.00       31.9        41.8  \n",
       "1276      109.70       37.8        33.3  \n",
       "1277      103.42       35.7        41.1  "
      ]
     },
     "execution_count": 5,
     "metadata": {},
     "output_type": "execute_result"
    }
   ],
   "source": [
    "df = pd.read_csv('2018-2019_Model_Ready.csv', index_col=0)\n",
    "df.head(2).append(df.tail(2))"
   ]
  },
  {
   "cell_type": "markdown",
   "metadata": {},
   "source": [
    "## KNN Model"
   ]
  },
  {
   "cell_type": "code",
   "execution_count": 6,
   "metadata": {
    "ExecuteTime": {
     "end_time": "2020-08-18T15:27:11.789830Z",
     "start_time": "2020-08-18T15:27:11.785935Z"
    }
   },
   "outputs": [],
   "source": [
    "y = df['Game_Result']\n",
    "X = df.drop(['Game_Result'], axis=1)"
   ]
  },
  {
   "cell_type": "code",
   "execution_count": 7,
   "metadata": {
    "ExecuteTime": {
     "end_time": "2020-08-18T15:27:22.859540Z",
     "start_time": "2020-08-18T15:27:22.854717Z"
    }
   },
   "outputs": [],
   "source": [
    "# Split data\n",
    "X_train, X_test, y_train, y_test = train_test_split(X, y, test_size=0.25, random_state=42)"
   ]
  },
  {
   "cell_type": "markdown",
   "metadata": {},
   "source": [
    "Since KNN is a distance-based classifier, if data is in different scales, then larger scaled features have a larger impact on the distance between points"
   ]
  },
  {
   "cell_type": "code",
   "execution_count": 8,
   "metadata": {
    "ExecuteTime": {
     "end_time": "2020-08-18T15:28:02.744993Z",
     "start_time": "2020-08-18T15:28:02.716587Z"
    }
   },
   "outputs": [
    {
     "data": {
      "text/html": [
       "<div>\n",
       "<style scoped>\n",
       "    .dataframe tbody tr th:only-of-type {\n",
       "        vertical-align: middle;\n",
       "    }\n",
       "\n",
       "    .dataframe tbody tr th {\n",
       "        vertical-align: top;\n",
       "    }\n",
       "\n",
       "    .dataframe thead th {\n",
       "        text-align: right;\n",
       "    }\n",
       "</style>\n",
       "<table border=\"1\" class=\"dataframe\">\n",
       "  <thead>\n",
       "    <tr style=\"text-align: right;\">\n",
       "      <th></th>\n",
       "      <th>Team1_OFFRTG</th>\n",
       "      <th>Team1_DEFRTG</th>\n",
       "      <th>Team1_AST/TO</th>\n",
       "      <th>Team1_REB_P</th>\n",
       "      <th>Team1_FG_P</th>\n",
       "      <th>Team1_FGA</th>\n",
       "      <th>Team1_PACE</th>\n",
       "      <th>Team1_3PA</th>\n",
       "      <th>Team1_3P_P</th>\n",
       "      <th>Team2_OFFRTG</th>\n",
       "      <th>Team2_DEFRTG</th>\n",
       "      <th>Team2_AST/TO</th>\n",
       "      <th>Team2_REB_P</th>\n",
       "      <th>Team2_FG_P</th>\n",
       "      <th>Team2_FGA</th>\n",
       "      <th>Team2_PACE</th>\n",
       "      <th>Team2_3PA</th>\n",
       "      <th>Team2_3P_P</th>\n",
       "    </tr>\n",
       "  </thead>\n",
       "  <tbody>\n",
       "    <tr>\n",
       "      <td>0</td>\n",
       "      <td>-0.379392</td>\n",
       "      <td>0.417546</td>\n",
       "      <td>-1.101766</td>\n",
       "      <td>-0.604676</td>\n",
       "      <td>-0.337516</td>\n",
       "      <td>-0.559669</td>\n",
       "      <td>-0.525387</td>\n",
       "      <td>0.719092</td>\n",
       "      <td>0.973258</td>\n",
       "      <td>0.969020</td>\n",
       "      <td>0.879702</td>\n",
       "      <td>0.325376</td>\n",
       "      <td>0.605448</td>\n",
       "      <td>1.384720</td>\n",
       "      <td>1.201549</td>\n",
       "      <td>2.252532</td>\n",
       "      <td>-0.869222</td>\n",
       "      <td>0.605130</td>\n",
       "    </tr>\n",
       "    <tr>\n",
       "      <td>1</td>\n",
       "      <td>-1.149107</td>\n",
       "      <td>1.096517</td>\n",
       "      <td>-1.136027</td>\n",
       "      <td>-3.196884</td>\n",
       "      <td>-1.382358</td>\n",
       "      <td>0.232148</td>\n",
       "      <td>1.806706</td>\n",
       "      <td>0.637973</td>\n",
       "      <td>-1.174885</td>\n",
       "      <td>-0.173740</td>\n",
       "      <td>-0.190568</td>\n",
       "      <td>-0.813500</td>\n",
       "      <td>-1.034019</td>\n",
       "      <td>1.828016</td>\n",
       "      <td>0.459596</td>\n",
       "      <td>2.382581</td>\n",
       "      <td>-1.471744</td>\n",
       "      <td>1.640316</td>\n",
       "    </tr>\n",
       "    <tr>\n",
       "      <td>2</td>\n",
       "      <td>1.010370</td>\n",
       "      <td>0.487784</td>\n",
       "      <td>0.439977</td>\n",
       "      <td>0.547416</td>\n",
       "      <td>1.652660</td>\n",
       "      <td>-0.718033</td>\n",
       "      <td>-0.438206</td>\n",
       "      <td>-1.248049</td>\n",
       "      <td>2.973253</td>\n",
       "      <td>-1.184642</td>\n",
       "      <td>0.018833</td>\n",
       "      <td>-0.635551</td>\n",
       "      <td>-0.166066</td>\n",
       "      <td>-1.422821</td>\n",
       "      <td>-1.240712</td>\n",
       "      <td>-1.738103</td>\n",
       "      <td>0.516580</td>\n",
       "      <td>-0.430057</td>\n",
       "    </tr>\n",
       "    <tr>\n",
       "      <td>3</td>\n",
       "      <td>0.539989</td>\n",
       "      <td>-1.151112</td>\n",
       "      <td>0.474238</td>\n",
       "      <td>1.555497</td>\n",
       "      <td>0.359046</td>\n",
       "      <td>-0.052906</td>\n",
       "      <td>-1.270058</td>\n",
       "      <td>-0.315178</td>\n",
       "      <td>0.565852</td>\n",
       "      <td>0.353688</td>\n",
       "      <td>0.251500</td>\n",
       "      <td>-0.493191</td>\n",
       "      <td>1.521621</td>\n",
       "      <td>0.399618</td>\n",
       "      <td>0.552340</td>\n",
       "      <td>1.152692</td>\n",
       "      <td>-0.728633</td>\n",
       "      <td>-0.910679</td>\n",
       "    </tr>\n",
       "    <tr>\n",
       "      <td>4</td>\n",
       "      <td>-0.379392</td>\n",
       "      <td>1.611599</td>\n",
       "      <td>-0.450808</td>\n",
       "      <td>-1.276730</td>\n",
       "      <td>0.160028</td>\n",
       "      <td>-0.591342</td>\n",
       "      <td>-0.078584</td>\n",
       "      <td>-0.355738</td>\n",
       "      <td>1.417701</td>\n",
       "      <td>-0.789072</td>\n",
       "      <td>-0.469769</td>\n",
       "      <td>0.147427</td>\n",
       "      <td>0.509009</td>\n",
       "      <td>-1.275056</td>\n",
       "      <td>1.139720</td>\n",
       "      <td>1.390496</td>\n",
       "      <td>0.717420</td>\n",
       "      <td>-0.651882</td>\n",
       "    </tr>\n",
       "  </tbody>\n",
       "</table>\n",
       "</div>"
      ],
      "text/plain": [
       "   Team1_OFFRTG  Team1_DEFRTG  Team1_AST/TO  Team1_REB_P  Team1_FG_P  \\\n",
       "0     -0.379392      0.417546     -1.101766    -0.604676   -0.337516   \n",
       "1     -1.149107      1.096517     -1.136027    -3.196884   -1.382358   \n",
       "2      1.010370      0.487784      0.439977     0.547416    1.652660   \n",
       "3      0.539989     -1.151112      0.474238     1.555497    0.359046   \n",
       "4     -0.379392      1.611599     -0.450808    -1.276730    0.160028   \n",
       "\n",
       "   Team1_FGA  Team1_PACE  Team1_3PA  Team1_3P_P  Team2_OFFRTG  Team2_DEFRTG  \\\n",
       "0  -0.559669   -0.525387   0.719092    0.973258      0.969020      0.879702   \n",
       "1   0.232148    1.806706   0.637973   -1.174885     -0.173740     -0.190568   \n",
       "2  -0.718033   -0.438206  -1.248049    2.973253     -1.184642      0.018833   \n",
       "3  -0.052906   -1.270058  -0.315178    0.565852      0.353688      0.251500   \n",
       "4  -0.591342   -0.078584  -0.355738    1.417701     -0.789072     -0.469769   \n",
       "\n",
       "   Team2_AST/TO  Team2_REB_P  Team2_FG_P  Team2_FGA  Team2_PACE  Team2_3PA  \\\n",
       "0      0.325376     0.605448    1.384720   1.201549    2.252532  -0.869222   \n",
       "1     -0.813500    -1.034019    1.828016   0.459596    2.382581  -1.471744   \n",
       "2     -0.635551    -0.166066   -1.422821  -1.240712   -1.738103   0.516580   \n",
       "3     -0.493191     1.521621    0.399618   0.552340    1.152692  -0.728633   \n",
       "4      0.147427     0.509009   -1.275056   1.139720    1.390496   0.717420   \n",
       "\n",
       "   Team2_3P_P  \n",
       "0    0.605130  \n",
       "1    1.640316  \n",
       "2   -0.430057  \n",
       "3   -0.910679  \n",
       "4   -0.651882  "
      ]
     },
     "execution_count": 8,
     "metadata": {},
     "output_type": "execute_result"
    }
   ],
   "source": [
    "# Instantiate StandardScaler\n",
    "scaler = StandardScaler()\n",
    "\n",
    "# Transform the training and test sets\n",
    "scaled_data_train = scaler.fit_transform(X_train) \n",
    "scaled_data_test = scaler.transform(X_test)\n",
    "\n",
    "# Convert into a DataFrame\n",
    "scaled_df_train = pd.DataFrame(scaled_data_train, columns=X.columns)\n",
    "scaled_df_train.head()"
   ]
  },
  {
   "cell_type": "markdown",
   "metadata": {},
   "source": [
    "### Fitting the Model"
   ]
  },
  {
   "cell_type": "code",
   "execution_count": 9,
   "metadata": {
    "ExecuteTime": {
     "end_time": "2020-08-18T15:30:32.211892Z",
     "start_time": "2020-08-18T15:30:32.190390Z"
    }
   },
   "outputs": [],
   "source": [
    "# Instantiate KNeighborsClassifier\n",
    "clf = KNeighborsClassifier(n_neighbors=10)\n",
    "\n",
    "# Fit the classifier\n",
    "clf.fit(scaled_data_train, y_train)\n",
    "\n",
    "# Predict on the test set\n",
    "test_preds = clf.predict(scaled_data_test)"
   ]
  },
  {
   "cell_type": "markdown",
   "metadata": {},
   "source": [
    "### Evaluating the Model"
   ]
  },
  {
   "cell_type": "code",
   "execution_count": 10,
   "metadata": {
    "ExecuteTime": {
     "end_time": "2020-08-18T15:31:35.900142Z",
     "start_time": "2020-08-18T15:31:35.889770Z"
    }
   },
   "outputs": [
    {
     "name": "stdout",
     "output_type": "stream",
     "text": [
      "Precision Score: 0.71875\n",
      "Recall Score: 0.7666666666666667\n",
      "Accuracy Score: 0.6778523489932886\n",
      "F1 Score: 0.7419354838709677\n"
     ]
    }
   ],
   "source": [
    "def print_metrics(y, preds):\n",
    "    print(\"Precision Score: {}\".format(precision_score(y, preds)))\n",
    "    print(\"Recall Score: {}\".format(recall_score(y, preds)))\n",
    "    print(\"Accuracy Score: {}\".format(accuracy_score(y, preds)))\n",
    "    print(\"F1 Score: {}\".format(f1_score(y, preds)))\n",
    "    \n",
    "print_metrics(y_test, test_preds)"
   ]
  },
  {
   "cell_type": "markdown",
   "metadata": {},
   "source": [
    "As a first model the results aren't bad with an accuracy of 67.78% with a n_neighbors = 10) and without tuning the model.  \n",
    "\n",
    "On the next step I will try to refine this model and see if by finding the best_K() might improve it's performance"
   ]
  },
  {
   "cell_type": "markdown",
   "metadata": {},
   "source": [
    "### Attempt to improve the model performance"
   ]
  },
  {
   "cell_type": "code",
   "execution_count": 11,
   "metadata": {
    "ExecuteTime": {
     "end_time": "2020-08-18T15:32:24.339359Z",
     "start_time": "2020-08-18T15:32:24.333966Z"
    }
   },
   "outputs": [],
   "source": [
    "def find_best_k(X_train, y_train, X_test, y_test, min_k=1, max_k=25):\n",
    "    best_k = 0\n",
    "    best_score = 0.0\n",
    "    \n",
    "    for k in range(min_k, max_k+1, 2):\n",
    "        knn = KNeighborsClassifier(n_neighbors=k)\n",
    "        knn.fit(X_train, y_train)\n",
    "        preds = knn.predict(X_test)\n",
    "        f1 = f1_score(y_test, preds)\n",
    "        if f1 > best_score:\n",
    "            best_k = k\n",
    "            best_score = f1\n",
    "    \n",
    "    print(\"The best Value for k is: {}\".format(best_k))\n",
    "    print(\"The best F1 score is: {}\".format(best_score))"
   ]
  },
  {
   "cell_type": "code",
   "execution_count": 12,
   "metadata": {
    "ExecuteTime": {
     "end_time": "2020-08-18T15:32:33.489886Z",
     "start_time": "2020-08-18T15:32:33.288831Z"
    }
   },
   "outputs": [
    {
     "name": "stdout",
     "output_type": "stream",
     "text": [
      "The best Value for k is: 25\n",
      "The best F1 score is: 0.8020050125313283\n"
     ]
    }
   ],
   "source": [
    "find_best_k(scaled_data_train, y_train, scaled_data_test, y_test)"
   ]
  },
  {
   "cell_type": "markdown",
   "metadata": {},
   "source": [
    "I will refit the model with k=25 and re-evaluate it to see how the 4 metrics change and if the increase can justify such a jump from 10 to 25. "
   ]
  },
  {
   "cell_type": "code",
   "execution_count": 13,
   "metadata": {
    "ExecuteTime": {
     "end_time": "2020-08-18T15:33:11.912810Z",
     "start_time": "2020-08-18T15:33:11.890953Z"
    }
   },
   "outputs": [],
   "source": [
    "# Instantiate KNeighborsClassifier\n",
    "clf = KNeighborsClassifier(n_neighbors=25)\n",
    "\n",
    "# Fit the classifier\n",
    "clf.fit(scaled_data_train, y_train)\n",
    "\n",
    "# Predict on the test set\n",
    "test_preds = clf.predict(scaled_data_test)"
   ]
  },
  {
   "cell_type": "code",
   "execution_count": 14,
   "metadata": {
    "ExecuteTime": {
     "end_time": "2020-08-18T15:33:13.325896Z",
     "start_time": "2020-08-18T15:33:13.315847Z"
    }
   },
   "outputs": [
    {
     "name": "stdout",
     "output_type": "stream",
     "text": [
      "Precision Score: 0.730593607305936\n",
      "Recall Score: 0.8888888888888888\n",
      "Accuracy Score: 0.7348993288590604\n",
      "F1 Score: 0.8020050125313283\n"
     ]
    }
   ],
   "source": [
    "def print_metrics(y, preds):\n",
    "    print(\"Precision Score: {}\".format(precision_score(y, preds)))\n",
    "    print(\"Recall Score: {}\".format(recall_score(y, preds)))\n",
    "    print(\"Accuracy Score: {}\".format(accuracy_score(y, preds)))\n",
    "    print(\"F1 Score: {}\".format(f1_score(y, preds)))\n",
    "    \n",
    "print_metrics(y_test, test_preds)"
   ]
  },
  {
   "cell_type": "markdown",
   "metadata": {},
   "source": [
    "All the metrics have increased, however, such a small increase doesn't justify such a big jump with the K value. What I will do, since it is advisable to use odd numbers for k, I will run it for k=11 and see what comes out of it. "
   ]
  },
  {
   "cell_type": "code",
   "execution_count": 15,
   "metadata": {
    "ExecuteTime": {
     "end_time": "2020-08-18T15:33:16.194283Z",
     "start_time": "2020-08-18T15:33:16.172988Z"
    }
   },
   "outputs": [],
   "source": [
    "# Instantiate KNeighborsClassifier\n",
    "clf = KNeighborsClassifier(n_neighbors=11)\n",
    "\n",
    "# Fit the classifier\n",
    "clf.fit(scaled_data_train, y_train)\n",
    "\n",
    "# Predict on the test set\n",
    "test_preds = clf.predict(scaled_data_test)"
   ]
  },
  {
   "cell_type": "code",
   "execution_count": 16,
   "metadata": {
    "ExecuteTime": {
     "end_time": "2020-08-18T15:33:16.654448Z",
     "start_time": "2020-08-18T15:33:16.644689Z"
    }
   },
   "outputs": [
    {
     "name": "stdout",
     "output_type": "stream",
     "text": [
      "Precision Score: 0.7077625570776256\n",
      "Recall Score: 0.8611111111111112\n",
      "Accuracy Score: 0.7013422818791947\n",
      "F1 Score: 0.7769423558897244\n"
     ]
    }
   ],
   "source": [
    "def print_metrics(y, preds):\n",
    "    print(\"Precision Score: {}\".format(precision_score(y, preds)))\n",
    "    print(\"Recall Score: {}\".format(recall_score(y, preds)))\n",
    "    print(\"Accuracy Score: {}\".format(accuracy_score(y, preds)))\n",
    "    print(\"F1 Score: {}\".format(f1_score(y, preds)))\n",
    "    \n",
    "print_metrics(y_test, test_preds)"
   ]
  },
  {
   "cell_type": "markdown",
   "metadata": {},
   "source": [
    "This seems to be a considerably better value for K, as with an increase of +1, Recall (+10%), Accuracy (+3%), and F1_score (+3%) have all increased, and the drop in Precision is only a -1% "
   ]
  },
  {
   "cell_type": "markdown",
   "metadata": {},
   "source": [
    "============================================================================================"
   ]
  },
  {
   "cell_type": "markdown",
   "metadata": {},
   "source": [
    "### Model Test I"
   ]
  },
  {
   "cell_type": "markdown",
   "metadata": {},
   "source": [
    "This will be only for 1 season dataset and for 1 team in particular: San Antonio Spurs"
   ]
  },
  {
   "cell_type": "code",
   "execution_count": 243,
   "metadata": {
    "ExecuteTime": {
     "end_time": "2020-08-23T12:41:20.486996Z",
     "start_time": "2020-08-23T12:41:20.463753Z"
    },
    "scrolled": true
   },
   "outputs": [
    {
     "data": {
      "text/html": [
       "<div>\n",
       "<style scoped>\n",
       "    .dataframe tbody tr th:only-of-type {\n",
       "        vertical-align: middle;\n",
       "    }\n",
       "\n",
       "    .dataframe tbody tr th {\n",
       "        vertical-align: top;\n",
       "    }\n",
       "\n",
       "    .dataframe thead th {\n",
       "        text-align: right;\n",
       "    }\n",
       "</style>\n",
       "<table border=\"1\" class=\"dataframe\">\n",
       "  <thead>\n",
       "    <tr style=\"text-align: right;\">\n",
       "      <th></th>\n",
       "      <th>Game_Result</th>\n",
       "      <th>Team1_OFFRTG</th>\n",
       "      <th>Team1_DEFRTG</th>\n",
       "      <th>Team1_AST/TO</th>\n",
       "      <th>Team1_REB_P</th>\n",
       "      <th>Team1_FG_P</th>\n",
       "      <th>Team1_FGA</th>\n",
       "      <th>Team1_PACE</th>\n",
       "      <th>Team1_3PA</th>\n",
       "      <th>Team1_3P_P</th>\n",
       "      <th>Team2_OFFRTG</th>\n",
       "      <th>Team2_DEFRTG</th>\n",
       "      <th>Team2_AST/TO</th>\n",
       "      <th>Team2_REB_P</th>\n",
       "      <th>Team2_FG_P</th>\n",
       "      <th>Team2_FGA</th>\n",
       "      <th>Team2_PACE</th>\n",
       "      <th>Team2_3PA</th>\n",
       "      <th>Team2_3P_P</th>\n",
       "    </tr>\n",
       "  </thead>\n",
       "  <tbody>\n",
       "    <tr>\n",
       "      <td>9</td>\n",
       "      <td>1</td>\n",
       "      <td>111.4</td>\n",
       "      <td>114.2</td>\n",
       "      <td>1.64</td>\n",
       "      <td>48.7</td>\n",
       "      <td>44.8</td>\n",
       "      <td>92.4</td>\n",
       "      <td>103.94</td>\n",
       "      <td>28.9</td>\n",
       "      <td>38.1</td>\n",
       "      <td>111.9</td>\n",
       "      <td>110.6</td>\n",
       "      <td>2.02</td>\n",
       "      <td>50.8</td>\n",
       "      <td>46.6</td>\n",
       "      <td>91.7</td>\n",
       "      <td>99.33</td>\n",
       "      <td>22.3</td>\n",
       "      <td>39.1</td>\n",
       "    </tr>\n",
       "    <tr>\n",
       "      <td>57</td>\n",
       "      <td>0</td>\n",
       "      <td>112.1</td>\n",
       "      <td>105.5</td>\n",
       "      <td>1.67</td>\n",
       "      <td>49.2</td>\n",
       "      <td>50.6</td>\n",
       "      <td>86.0</td>\n",
       "      <td>97.13</td>\n",
       "      <td>22.3</td>\n",
       "      <td>41.6</td>\n",
       "      <td>111.9</td>\n",
       "      <td>110.6</td>\n",
       "      <td>2.02</td>\n",
       "      <td>50.8</td>\n",
       "      <td>46.6</td>\n",
       "      <td>91.7</td>\n",
       "      <td>99.33</td>\n",
       "      <td>22.3</td>\n",
       "      <td>39.1</td>\n",
       "    </tr>\n",
       "  </tbody>\n",
       "</table>\n",
       "</div>"
      ],
      "text/plain": [
       "    Game_Result  Team1_OFFRTG  Team1_DEFRTG  Team1_AST/TO  Team1_REB_P  \\\n",
       "9             1         111.4         114.2          1.64         48.7   \n",
       "57            0         112.1         105.5          1.67         49.2   \n",
       "\n",
       "    Team1_FG_P  Team1_FGA  Team1_PACE  Team1_3PA  Team1_3P_P  Team2_OFFRTG  \\\n",
       "9         44.8       92.4      103.94       28.9        38.1         111.9   \n",
       "57        50.6       86.0       97.13       22.3        41.6         111.9   \n",
       "\n",
       "    Team2_DEFRTG  Team2_AST/TO  Team2_REB_P  Team2_FG_P  Team2_FGA  \\\n",
       "9          110.6          2.02         50.8        46.6       91.7   \n",
       "57         110.6          2.02         50.8        46.6       91.7   \n",
       "\n",
       "    Team2_PACE  Team2_3PA  Team2_3P_P  \n",
       "9        99.33       22.3        39.1  \n",
       "57       99.33       22.3        39.1  "
      ]
     },
     "execution_count": 243,
     "metadata": {},
     "output_type": "execute_result"
    }
   ],
   "source": [
    "df_SAS = pd.read_csv('df_SAS_1S.csv', index_col=0)\n",
    "df_SAS.head(2)"
   ]
  },
  {
   "cell_type": "code",
   "execution_count": 317,
   "metadata": {
    "ExecuteTime": {
     "end_time": "2020-08-23T14:08:17.562540Z",
     "start_time": "2020-08-23T14:08:17.558996Z"
    }
   },
   "outputs": [
    {
     "data": {
      "text/plain": [
       "(40, 19)"
      ]
     },
     "execution_count": 317,
     "metadata": {},
     "output_type": "execute_result"
    }
   ],
   "source": [
    "df_MIA.shape"
   ]
  },
  {
   "cell_type": "code",
   "execution_count": 244,
   "metadata": {
    "ExecuteTime": {
     "end_time": "2020-08-23T12:41:21.301433Z",
     "start_time": "2020-08-23T12:41:21.296060Z"
    },
    "scrolled": true
   },
   "outputs": [
    {
     "data": {
      "text/plain": [
       "1    33\n",
       "0     9\n",
       "Name: Game_Result, dtype: int64"
      ]
     },
     "execution_count": 244,
     "metadata": {},
     "output_type": "execute_result"
    }
   ],
   "source": [
    "df_SAS.Game_Result.value_counts()"
   ]
  },
  {
   "cell_type": "markdown",
   "metadata": {},
   "source": [
    "42 is the normal number of home games, of which SAS won 33 or ~79% of the games.\n",
    "\n",
    "Now to the Modeling:"
   ]
  },
  {
   "cell_type": "markdown",
   "metadata": {},
   "source": [
    "<b>Target (y) and Features (X) definition, splitting data, and verifying the split</b>"
   ]
  },
  {
   "cell_type": "code",
   "execution_count": 256,
   "metadata": {
    "ExecuteTime": {
     "end_time": "2020-08-23T12:48:39.349702Z",
     "start_time": "2020-08-23T12:48:39.340223Z"
    }
   },
   "outputs": [
    {
     "name": "stdout",
     "output_type": "stream",
     "text": [
      "1    23\n",
      "0     8\n",
      "Name: Game_Result, dtype: int64 \n",
      "\n",
      " 1    10\n",
      "0     1\n",
      "Name: Game_Result, dtype: int64\n"
     ]
    }
   ],
   "source": [
    "# Define X and y\n",
    "y = df_SAS['Game_Result']\n",
    "X = df_SAS.drop(columns=['Game_Result'], axis=1)\n",
    "\n",
    "# Splitting the data into training and test datasets\n",
    "X_train, X_test, y_train, y_test = train_test_split(X, y, test_size=0.25, random_state=42)\n",
    "\n",
    "# Print the value_counts() for y_train and y_test to verify the split\n",
    "print(y_train.value_counts(), '\\n\\n', y_test.value_counts())"
   ]
  },
  {
   "cell_type": "markdown",
   "metadata": {
    "ExecuteTime": {
     "end_time": "2020-08-23T12:12:48.834866Z",
     "start_time": "2020-08-23T12:12:48.822341Z"
    }
   },
   "source": [
    "<b>Scaling the data</b>"
   ]
  },
  {
   "cell_type": "code",
   "execution_count": 257,
   "metadata": {
    "ExecuteTime": {
     "end_time": "2020-08-23T12:48:40.448782Z",
     "start_time": "2020-08-23T12:48:40.438602Z"
    }
   },
   "outputs": [],
   "source": [
    "from sklearn.preprocessing import StandardScaler\n",
    "scaler = StandardScaler()\n",
    "scaler.fit(X_train)\n",
    "\n",
    "X_train = scaler.transform(X_train)\n",
    "X_test = scaler.transform(X_test)"
   ]
  },
  {
   "cell_type": "markdown",
   "metadata": {},
   "source": [
    "<b>Training and Predictions</b>"
   ]
  },
  {
   "cell_type": "code",
   "execution_count": 282,
   "metadata": {
    "ExecuteTime": {
     "end_time": "2020-08-23T13:04:12.708734Z",
     "start_time": "2020-08-23T13:04:12.703811Z"
    }
   },
   "outputs": [
    {
     "data": {
      "text/plain": [
       "KNeighborsClassifier(n_neighbors=3)"
      ]
     },
     "execution_count": 282,
     "metadata": {},
     "output_type": "execute_result"
    }
   ],
   "source": [
    "from sklearn.neighbors import KNeighborsClassifier\n",
    "classifier = KNeighborsClassifier(n_neighbors=3)\n",
    "classifier.fit(X_train, y_train)"
   ]
  },
  {
   "cell_type": "markdown",
   "metadata": {},
   "source": [
    "<b>Evaluating the Algorithm</b>"
   ]
  },
  {
   "cell_type": "code",
   "execution_count": 283,
   "metadata": {
    "ExecuteTime": {
     "end_time": "2020-08-23T13:04:14.086938Z",
     "start_time": "2020-08-23T13:04:14.078516Z"
    }
   },
   "outputs": [
    {
     "name": "stdout",
     "output_type": "stream",
     "text": [
      "[[ 1  0]\n",
      " [ 0 10]]\n",
      "              precision    recall  f1-score   support\n",
      "\n",
      "           0       1.00      1.00      1.00         1\n",
      "           1       1.00      1.00      1.00        10\n",
      "\n",
      "    accuracy                           1.00        11\n",
      "   macro avg       1.00      1.00      1.00        11\n",
      "weighted avg       1.00      1.00      1.00        11\n",
      "\n"
     ]
    }
   ],
   "source": [
    "from sklearn.metrics import classification_report, confusion_matrix\n",
    "print(confusion_matrix(y_test, y_pred))\n",
    "print(classification_report(y_test, y_pred))"
   ]
  },
  {
   "cell_type": "markdown",
   "metadata": {},
   "source": [
    "This results are suggesting that the KNN algorithm was able to classify all the records in the test set with a 100% accuracy, which is excellent, but seems odd to me. The algorithm is performing extremely well on this dataset. Is it because of the number of samples being too low? or not enough categories? It is known that the KNN algorithm doesn't always perform as well with high-dimensionality or categorical features, but on this data there are no categoricals but the target (Game_Result)\n",
    "\n",
    "I will still explore a bit more to try to understand this better because I am not 100% convinced that this is giving correct results\n",
    "\n",
    "Let's look first at the predictions and compare them with the true values:"
   ]
  },
  {
   "cell_type": "code",
   "execution_count": 284,
   "metadata": {
    "ExecuteTime": {
     "end_time": "2020-08-23T13:04:14.834886Z",
     "start_time": "2020-08-23T13:04:14.831017Z"
    }
   },
   "outputs": [
    {
     "name": "stdout",
     "output_type": "stream",
     "text": [
      "True:      [1 1 0 1 1 1 1 1 1 1 1]\n",
      "Predicted: [1 1 0 1 1 1 1 1 1 1 1]\n"
     ]
    }
   ],
   "source": [
    "print(\"True:     \", y_test.values[0:30]) # These are the real values\n",
    "print(\"Predicted:\", y_pred[0:30]) # These correspond to the predicted values"
   ]
  },
  {
   "cell_type": "markdown",
   "metadata": {},
   "source": [
    "There are 11 values to predict, so really it is not a large dataset and hence it does seem possible as the prediction above suggest \n",
    "\n",
    "It is known that there is no way to know beforehand the best value for K to yield the best results on the first attempt. I chose 3 thinking on the size of the data, but I could as well have chosen 5, 7, 9 or 11 as I have done for the other larger datasets. It turned out that 3 was enough to yield a 100% accuracy. I also tested 5 and 7 and the result was the same. \n",
    "\n",
    "What I will do next, just to double check that those are good/or the best values for k, I will plot the \"mean error\" for the predicted values of the test set for all the k values between 1 and 25, which is the value suggested as ideal for the entire 2018-2019 dataset (for all teams).\n",
    "\n",
    "First I will need to calculate the mean of the error for all the predicted values where k ranges between 1 and 25:"
   ]
  },
  {
   "cell_type": "code",
   "execution_count": 285,
   "metadata": {
    "ExecuteTime": {
     "end_time": "2020-08-23T13:04:15.712225Z",
     "start_time": "2020-08-23T13:04:15.662910Z"
    }
   },
   "outputs": [],
   "source": [
    "error = []\n",
    "\n",
    "# Calculating error for K values between 1 and 25\n",
    "for i in range(1, 25):\n",
    "    knn = KNeighborsClassifier(n_neighbors=i)\n",
    "    knn.fit(X_train, y_train)\n",
    "    pred_i = knn.predict(X_test)\n",
    "    error.append(np.mean(pred_i != y_test))"
   ]
  },
  {
   "cell_type": "markdown",
   "metadata": {},
   "source": [
    "Now that I have the error, I will plot it against the k values:"
   ]
  },
  {
   "cell_type": "code",
   "execution_count": 286,
   "metadata": {
    "ExecuteTime": {
     "end_time": "2020-08-23T13:04:17.145696Z",
     "start_time": "2020-08-23T13:04:17.012799Z"
    }
   },
   "outputs": [
    {
     "data": {
      "image/png": "[encoded data removed]",
      "text/plain": [
       "<Figure size 864x432 with 1 Axes>"
      ]
     },
     "metadata": {},
     "output_type": "display_data"
    }
   ],
   "source": [
    "plt.figure(figsize=(12, 6))\n",
    "plt.plot(range(1, 25), error, color='red', linestyle='dashed', marker='o',\n",
    "         markerfacecolor='black', markersize=10)\n",
    "plt.title('Error Rate K Value')\n",
    "plt.rcParams[\"figure.facecolor\"] = \"lightblue\"\n",
    "plt.grid(True)\n",
    "plt.xlabel('K Value')\n",
    "plt.ylabel('Mean Error')\n",
    "plt.show()"
   ]
  },
  {
   "cell_type": "markdown",
   "metadata": {},
   "source": [
    "From the plot we are getting all the different values where the Mean Error is equal to zero as: 7, 11, 12, and 14. I tested a few of these different values and all with the same result. In this came the sample is quite small so it is not that unusual \n",
    "\n",
    "Lets head now to the second example, the team of the Miami Heat and see what happens when the team has a different record and just barely wins half their games"
   ]
  },
  {
   "cell_type": "markdown",
   "metadata": {},
   "source": [
    "### Model Test II"
   ]
  },
  {
   "cell_type": "code",
   "execution_count": 189,
   "metadata": {
    "ExecuteTime": {
     "end_time": "2020-08-23T11:18:32.232756Z",
     "start_time": "2020-08-23T11:18:32.210259Z"
    }
   },
   "outputs": [
    {
     "data": {
      "text/html": [
       "<div>\n",
       "<style scoped>\n",
       "    .dataframe tbody tr th:only-of-type {\n",
       "        vertical-align: middle;\n",
       "    }\n",
       "\n",
       "    .dataframe tbody tr th {\n",
       "        vertical-align: top;\n",
       "    }\n",
       "\n",
       "    .dataframe thead th {\n",
       "        text-align: right;\n",
       "    }\n",
       "</style>\n",
       "<table border=\"1\" class=\"dataframe\">\n",
       "  <thead>\n",
       "    <tr style=\"text-align: right;\">\n",
       "      <th></th>\n",
       "      <th>Game_Result</th>\n",
       "      <th>Team1_OFFRTG</th>\n",
       "      <th>Team1_DEFRTG</th>\n",
       "      <th>Team1_AST/TO</th>\n",
       "      <th>Team1_REB_P</th>\n",
       "      <th>Team1_FG_P</th>\n",
       "      <th>Team1_FGA</th>\n",
       "      <th>Team1_PACE</th>\n",
       "      <th>Team1_3PA</th>\n",
       "      <th>Team1_3P_P</th>\n",
       "      <th>Team2_OFFRTG</th>\n",
       "      <th>Team2_DEFRTG</th>\n",
       "      <th>Team2_AST/TO</th>\n",
       "      <th>Team2_REB_P</th>\n",
       "      <th>Team2_FG_P</th>\n",
       "      <th>Team2_FGA</th>\n",
       "      <th>Team2_PACE</th>\n",
       "      <th>Team2_3PA</th>\n",
       "      <th>Team2_3P_P</th>\n",
       "    </tr>\n",
       "  </thead>\n",
       "  <tbody>\n",
       "    <tr>\n",
       "      <td>30</td>\n",
       "      <td>0</td>\n",
       "      <td>114.9</td>\n",
       "      <td>109.1</td>\n",
       "      <td>2.09</td>\n",
       "      <td>49.2</td>\n",
       "      <td>46.3</td>\n",
       "      <td>91.0</td>\n",
       "      <td>100.44</td>\n",
       "      <td>34.5</td>\n",
       "      <td>37.7</td>\n",
       "      <td>108.9</td>\n",
       "      <td>107.6</td>\n",
       "      <td>1.37</td>\n",
       "      <td>53.6</td>\n",
       "      <td>43.6</td>\n",
       "      <td>91.4</td>\n",
       "      <td>102.71</td>\n",
       "      <td>33.9</td>\n",
       "      <td>35.4</td>\n",
       "    </tr>\n",
       "    <tr>\n",
       "      <td>53</td>\n",
       "      <td>1</td>\n",
       "      <td>105.2</td>\n",
       "      <td>109.8</td>\n",
       "      <td>1.39</td>\n",
       "      <td>51.0</td>\n",
       "      <td>43.1</td>\n",
       "      <td>91.8</td>\n",
       "      <td>100.56</td>\n",
       "      <td>30.8</td>\n",
       "      <td>36.2</td>\n",
       "      <td>108.9</td>\n",
       "      <td>107.6</td>\n",
       "      <td>1.37</td>\n",
       "      <td>53.6</td>\n",
       "      <td>43.6</td>\n",
       "      <td>91.4</td>\n",
       "      <td>102.71</td>\n",
       "      <td>33.9</td>\n",
       "      <td>35.4</td>\n",
       "    </tr>\n",
       "  </tbody>\n",
       "</table>\n",
       "</div>"
      ],
      "text/plain": [
       "    Game_Result  Team1_OFFRTG  Team1_DEFRTG  Team1_AST/TO  Team1_REB_P  \\\n",
       "30            0         114.9         109.1          2.09         49.2   \n",
       "53            1         105.2         109.8          1.39         51.0   \n",
       "\n",
       "    Team1_FG_P  Team1_FGA  Team1_PACE  Team1_3PA  Team1_3P_P  Team2_OFFRTG  \\\n",
       "30        46.3       91.0      100.44       34.5        37.7         108.9   \n",
       "53        43.1       91.8      100.56       30.8        36.2         108.9   \n",
       "\n",
       "    Team2_DEFRTG  Team2_AST/TO  Team2_REB_P  Team2_FG_P  Team2_FGA  \\\n",
       "30         107.6          1.37         53.6        43.6       91.4   \n",
       "53         107.6          1.37         53.6        43.6       91.4   \n",
       "\n",
       "    Team2_PACE  Team2_3PA  Team2_3P_P  \n",
       "30      102.71       33.9        35.4  \n",
       "53      102.71       33.9        35.4  "
      ]
     },
     "execution_count": 189,
     "metadata": {},
     "output_type": "execute_result"
    }
   ],
   "source": [
    "df_MIA = pd.read_csv('df_MIA_1S.csv', index_col=0)\n",
    "df_MIA.head(2)"
   ]
  },
  {
   "cell_type": "code",
   "execution_count": 319,
   "metadata": {
    "ExecuteTime": {
     "end_time": "2020-08-23T14:08:45.107570Z",
     "start_time": "2020-08-23T14:08:45.103308Z"
    }
   },
   "outputs": [
    {
     "data": {
      "text/plain": [
       "(40, 19)"
      ]
     },
     "execution_count": 319,
     "metadata": {},
     "output_type": "execute_result"
    }
   ],
   "source": [
    "df_MIA.shape"
   ]
  },
  {
   "cell_type": "code",
   "execution_count": 320,
   "metadata": {
    "ExecuteTime": {
     "end_time": "2020-08-23T14:08:50.461510Z",
     "start_time": "2020-08-23T14:08:50.456417Z"
    }
   },
   "outputs": [
    {
     "data": {
      "text/plain": [
       "0    21\n",
       "1    19\n",
       "Name: Game_Result, dtype: int64"
      ]
     },
     "execution_count": 320,
     "metadata": {},
     "output_type": "execute_result"
    }
   ],
   "source": [
    "df_MIA.Game_Result.value_counts()"
   ]
  },
  {
   "cell_type": "markdown",
   "metadata": {},
   "source": [
    "The Miami Heat won 52.5% of their Home Games, so not very impressive and not a team I would personally like to make a bet on. Still lets see how the algorithm behave here"
   ]
  },
  {
   "cell_type": "markdown",
   "metadata": {
    "ExecuteTime": {
     "end_time": "2020-08-23T13:54:27.492199Z",
     "start_time": "2020-08-23T13:54:27.488554Z"
    }
   },
   "source": [
    "<b>Target (y) and Features (X) definition, splitting data, and verifying the split</b>"
   ]
  },
  {
   "cell_type": "code",
   "execution_count": 325,
   "metadata": {
    "ExecuteTime": {
     "end_time": "2020-08-23T14:09:45.579486Z",
     "start_time": "2020-08-23T14:09:45.570407Z"
    }
   },
   "outputs": [
    {
     "name": "stdout",
     "output_type": "stream",
     "text": [
      "0    16\n",
      "1    13\n",
      "Name: Game_Result, dtype: int64 \n",
      "\n",
      " 1    6\n",
      "0    5\n",
      "Name: Game_Result, dtype: int64\n"
     ]
    }
   ],
   "source": [
    "# Define X and y\n",
    "y = df_MIA['Game_Result']\n",
    "X = df_MIA.drop(columns=['Game_Result'], axis=1)\n",
    "\n",
    "# Splitting the data into training and test datasets\n",
    "X_train, X_test, y_train, y_test = train_test_split(X, y, test_size=0.275, random_state=0)\n",
    "\n",
    "# Print the value_counts() for y_train and y_test to verify the split\n",
    "print(y_train.value_counts(), '\\n\\n', y_test.value_counts())"
   ]
  },
  {
   "cell_type": "markdown",
   "metadata": {},
   "source": [
    "Once again, we have a very small test sample with 10 games..."
   ]
  },
  {
   "cell_type": "markdown",
   "metadata": {},
   "source": [
    "<b>Scaling the data</b>"
   ]
  },
  {
   "cell_type": "code",
   "execution_count": 326,
   "metadata": {
    "ExecuteTime": {
     "end_time": "2020-08-23T14:09:48.139569Z",
     "start_time": "2020-08-23T14:09:48.129701Z"
    }
   },
   "outputs": [],
   "source": [
    "from sklearn.preprocessing import StandardScaler\n",
    "scaler = StandardScaler()\n",
    "scaler.fit(X_train)\n",
    "\n",
    "X_train = scaler.transform(X_train)\n",
    "X_test = scaler.transform(X_test)"
   ]
  },
  {
   "cell_type": "markdown",
   "metadata": {},
   "source": [
    "<b>Training and Predictions</b>"
   ]
  },
  {
   "cell_type": "code",
   "execution_count": 341,
   "metadata": {
    "ExecuteTime": {
     "end_time": "2020-08-23T14:15:23.764135Z",
     "start_time": "2020-08-23T14:15:23.759239Z"
    }
   },
   "outputs": [
    {
     "data": {
      "text/plain": [
       "KNeighborsClassifier(n_neighbors=3)"
      ]
     },
     "execution_count": 341,
     "metadata": {},
     "output_type": "execute_result"
    }
   ],
   "source": [
    "from sklearn.neighbors import KNeighborsClassifier\n",
    "classifier = KNeighborsClassifier(n_neighbors=3)\n",
    "classifier.fit(X_train, y_train)"
   ]
  },
  {
   "cell_type": "markdown",
   "metadata": {},
   "source": [
    "<b>Evaluating the algorithm</b>"
   ]
  },
  {
   "cell_type": "code",
   "execution_count": 342,
   "metadata": {
    "ExecuteTime": {
     "end_time": "2020-08-23T14:15:24.595691Z",
     "start_time": "2020-08-23T14:15:24.587181Z"
    }
   },
   "outputs": [
    {
     "name": "stdout",
     "output_type": "stream",
     "text": [
      "[[1 4]\n",
      " [0 6]]\n",
      "              precision    recall  f1-score   support\n",
      "\n",
      "           0       1.00      0.20      0.33         5\n",
      "           1       0.60      1.00      0.75         6\n",
      "\n",
      "    accuracy                           0.64        11\n",
      "   macro avg       0.80      0.60      0.54        11\n",
      "weighted avg       0.78      0.64      0.56        11\n",
      "\n"
     ]
    }
   ],
   "source": [
    "from sklearn.metrics import classification_report, confusion_matrix\n",
    "print(confusion_matrix(y_test, y_pred))\n",
    "print(classification_report(y_test, y_pred))"
   ]
  },
  {
   "cell_type": "markdown",
   "metadata": {},
   "source": [
    "An accuracy of 64 is a bit high compared to the number of games that the Miami Heat won at home. Let's quickly check the predictions and compared them to the True values:"
   ]
  },
  {
   "cell_type": "code",
   "execution_count": 343,
   "metadata": {
    "ExecuteTime": {
     "end_time": "2020-08-23T14:15:25.694838Z",
     "start_time": "2020-08-23T14:15:25.691218Z"
    }
   },
   "outputs": [
    {
     "name": "stdout",
     "output_type": "stream",
     "text": [
      "True:      [1 0 0 1 0 1 1 1 0 1 0]\n",
      "Predicted: [1 1 0 1 1 1 1 1 1 1 1]\n"
     ]
    }
   ],
   "source": [
    "print(\"True:     \", y_test.values[0:11]) # These are the real values\n",
    "print(\"Predicted:\", y_pred[0:11]) # These correspond to the predicted values"
   ]
  },
  {
   "cell_type": "markdown",
   "metadata": {},
   "source": [
    "The games won are not a problem, the issue is with the Home Games lost, the algorithm is over predicted the Miami Heat's success at home here."
   ]
  },
  {
   "cell_type": "markdown",
   "metadata": {},
   "source": [
    "Now I will do the same exercise as for the previous Model Test I where I tried to determine the best K value:"
   ]
  },
  {
   "cell_type": "code",
   "execution_count": 344,
   "metadata": {
    "ExecuteTime": {
     "end_time": "2020-08-23T14:15:28.642002Z",
     "start_time": "2020-08-23T14:15:28.591284Z"
    }
   },
   "outputs": [],
   "source": [
    "error = []\n",
    "\n",
    "# Calculating error for K values between 1 and 25\n",
    "for i in range(1, 25):\n",
    "    knn = KNeighborsClassifier(n_neighbors=i)\n",
    "    knn.fit(X_train, y_train)\n",
    "    pred_i = knn.predict(X_test)\n",
    "    error.append(np.mean(pred_i != y_test))"
   ]
  },
  {
   "cell_type": "code",
   "execution_count": 332,
   "metadata": {
    "ExecuteTime": {
     "end_time": "2020-08-23T14:12:56.980849Z",
     "start_time": "2020-08-23T14:12:56.835509Z"
    }
   },
   "outputs": [
    {
     "data": {
      "image/png": "[encoded data removed]",
      "text/plain": [
       "<Figure size 864x432 with 1 Axes>"
      ]
     },
     "metadata": {},
     "output_type": "display_data"
    }
   ],
   "source": [
    "plt.figure(figsize=(12, 6))\n",
    "plt.plot(range(1, 25), error, color='red', linestyle='dashed', marker='o',\n",
    "         markerfacecolor='black', markersize=10)\n",
    "plt.title('Error Rate K Value')\n",
    "plt.rcParams[\"figure.facecolor\"] = \"lightblue\"\n",
    "plt.grid(True)\n",
    "plt.xlabel('K Value')\n",
    "plt.ylabel('Mean Error')\n",
    "plt.show()"
   ]
  },
  {
   "cell_type": "markdown",
   "metadata": {},
   "source": [
    "According to th Error Rate vs K-Value plot, there is not a single k value that will give an error equal to zero, but the best ones are quite high, at 17, 18, and 19. Just to for fun I will briefly test them and if one give a better accuracy then I will keep it, if not then you will know since I kept the original 3 value. "
   ]
  },
  {
   "cell_type": "markdown",
   "metadata": {},
   "source": [
    "# 2010 - 2020 Dataset"
   ]
  },
  {
   "cell_type": "markdown",
   "metadata": {},
   "source": [
    "As this are a pair of cleaned data sets they have not been loaded, so I will proceed to do it and display 3 of their rows for a quick QC."
   ]
  },
  {
   "cell_type": "code",
   "execution_count": 36,
   "metadata": {
    "ExecuteTime": {
     "end_time": "2020-08-22T21:57:20.513113Z",
     "start_time": "2020-08-22T21:57:20.404840Z"
    }
   },
   "outputs": [
    {
     "name": "stdout",
     "output_type": "stream",
     "text": [
      "df1:\n"
     ]
    },
    {
     "data": {
      "text/html": [
       "<div>\n",
       "<style scoped>\n",
       "    .dataframe tbody tr th:only-of-type {\n",
       "        vertical-align: middle;\n",
       "    }\n",
       "\n",
       "    .dataframe tbody tr th {\n",
       "        vertical-align: top;\n",
       "    }\n",
       "\n",
       "    .dataframe thead th {\n",
       "        text-align: right;\n",
       "    }\n",
       "</style>\n",
       "<table border=\"1\" class=\"dataframe\">\n",
       "  <thead>\n",
       "    <tr style=\"text-align: right;\">\n",
       "      <th></th>\n",
       "      <th>Game_Result</th>\n",
       "      <th>Team1_FGA</th>\n",
       "      <th>Team1_FG_P</th>\n",
       "      <th>Team1_3PA</th>\n",
       "      <th>Team1_3P_P</th>\n",
       "      <th>Team1_OFFRTG</th>\n",
       "      <th>Team1_DEFRTG</th>\n",
       "      <th>Team1_REB_P</th>\n",
       "      <th>Team1_AST/TO</th>\n",
       "      <th>Team1_PACE</th>\n",
       "      <th>Team2_FGA</th>\n",
       "      <th>Team2_FG_P</th>\n",
       "      <th>Team2_3PA</th>\n",
       "      <th>Team2_3P_P</th>\n",
       "      <th>Team2_OFFRTG</th>\n",
       "      <th>Team2_DEFRTG</th>\n",
       "      <th>Team2_REB_P</th>\n",
       "      <th>Team2_AST/TO</th>\n",
       "      <th>Team2_PACE</th>\n",
       "    </tr>\n",
       "  </thead>\n",
       "  <tbody>\n",
       "    <tr>\n",
       "      <td>0</td>\n",
       "      <td>1</td>\n",
       "      <td>96.0</td>\n",
       "      <td>46.5</td>\n",
       "      <td>43.2</td>\n",
       "      <td>38.0</td>\n",
       "      <td>112.2</td>\n",
       "      <td>114.2</td>\n",
       "      <td>46.9</td>\n",
       "      <td>1.89</td>\n",
       "      <td>106.09</td>\n",
       "      <td>86.8</td>\n",
       "      <td>46.3</td>\n",
       "      <td>36.8</td>\n",
       "      <td>38.0</td>\n",
       "      <td>107.5</td>\n",
       "      <td>99.1</td>\n",
       "      <td>51.1</td>\n",
       "      <td>1.26</td>\n",
       "      <td>104.23</td>\n",
       "    </tr>\n",
       "    <tr>\n",
       "      <td>1</td>\n",
       "      <td>1</td>\n",
       "      <td>87.5</td>\n",
       "      <td>45.7</td>\n",
       "      <td>29.0</td>\n",
       "      <td>33.6</td>\n",
       "      <td>107.9</td>\n",
       "      <td>96.8</td>\n",
       "      <td>51.4</td>\n",
       "      <td>1.54</td>\n",
       "      <td>101.00</td>\n",
       "      <td>84.0</td>\n",
       "      <td>49.6</td>\n",
       "      <td>29.5</td>\n",
       "      <td>36.7</td>\n",
       "      <td>112.9</td>\n",
       "      <td>107.5</td>\n",
       "      <td>49.6</td>\n",
       "      <td>1.35</td>\n",
       "      <td>101.50</td>\n",
       "    </tr>\n",
       "    <tr>\n",
       "      <td>2</td>\n",
       "      <td>1</td>\n",
       "      <td>94.0</td>\n",
       "      <td>41.1</td>\n",
       "      <td>36.2</td>\n",
       "      <td>29.3</td>\n",
       "      <td>103.7</td>\n",
       "      <td>109.6</td>\n",
       "      <td>45.2</td>\n",
       "      <td>1.81</td>\n",
       "      <td>101.80</td>\n",
       "      <td>86.0</td>\n",
       "      <td>46.3</td>\n",
       "      <td>35.8</td>\n",
       "      <td>41.9</td>\n",
       "      <td>104.9</td>\n",
       "      <td>114.2</td>\n",
       "      <td>47.3</td>\n",
       "      <td>1.30</td>\n",
       "      <td>103.00</td>\n",
       "    </tr>\n",
       "  </tbody>\n",
       "</table>\n",
       "</div>"
      ],
      "text/plain": [
       "   Game_Result  Team1_FGA  Team1_FG_P  Team1_3PA  Team1_3P_P  Team1_OFFRTG  \\\n",
       "0            1       96.0        46.5       43.2        38.0         112.2   \n",
       "1            1       87.5        45.7       29.0        33.6         107.9   \n",
       "2            1       94.0        41.1       36.2        29.3         103.7   \n",
       "\n",
       "   Team1_DEFRTG  Team1_REB_P  Team1_AST/TO  Team1_PACE  Team2_FGA  Team2_FG_P  \\\n",
       "0         114.2         46.9          1.89      106.09       86.8        46.3   \n",
       "1          96.8         51.4          1.54      101.00       84.0        49.6   \n",
       "2         109.6         45.2          1.81      101.80       86.0        46.3   \n",
       "\n",
       "   Team2_3PA  Team2_3P_P  Team2_OFFRTG  Team2_DEFRTG  Team2_REB_P  \\\n",
       "0       36.8        38.0         107.5          99.1         51.1   \n",
       "1       29.5        36.7         112.9         107.5         49.6   \n",
       "2       35.8        41.9         104.9         114.2         47.3   \n",
       "\n",
       "   Team2_AST/TO  Team2_PACE  \n",
       "0          1.26      104.23  \n",
       "1          1.35      101.50  \n",
       "2          1.30      103.00  "
      ]
     },
     "metadata": {},
     "output_type": "display_data"
    },
    {
     "name": "stdout",
     "output_type": "stream",
     "text": [
      "=============================================================================\n",
      "df2:\n"
     ]
    },
    {
     "data": {
      "text/html": [
       "<div>\n",
       "<style scoped>\n",
       "    .dataframe tbody tr th:only-of-type {\n",
       "        vertical-align: middle;\n",
       "    }\n",
       "\n",
       "    .dataframe tbody tr th {\n",
       "        vertical-align: top;\n",
       "    }\n",
       "\n",
       "    .dataframe thead th {\n",
       "        text-align: right;\n",
       "    }\n",
       "</style>\n",
       "<table border=\"1\" class=\"dataframe\">\n",
       "  <thead>\n",
       "    <tr style=\"text-align: right;\">\n",
       "      <th></th>\n",
       "      <th>Game_Result</th>\n",
       "      <th>Team1_FGA</th>\n",
       "      <th>Team1_FG_P</th>\n",
       "      <th>Team1_3PA</th>\n",
       "      <th>Team1_3P_P</th>\n",
       "      <th>Team1_OFFRTG</th>\n",
       "      <th>Team1_DEFRTG</th>\n",
       "      <th>Team1_REB_P</th>\n",
       "      <th>Team1_AST/TO</th>\n",
       "      <th>Team1_PACE</th>\n",
       "      <th>Team2_FGA</th>\n",
       "      <th>Team2_FG_P</th>\n",
       "      <th>Team2_3PA</th>\n",
       "      <th>Team2_3P_P</th>\n",
       "      <th>Team2_OFFRTG</th>\n",
       "      <th>Team2_DEFRTG</th>\n",
       "      <th>Team2_REB_P</th>\n",
       "      <th>Team2_AST/TO</th>\n",
       "      <th>Team2_PACE</th>\n",
       "    </tr>\n",
       "  </thead>\n",
       "  <tbody>\n",
       "    <tr>\n",
       "      <td>0</td>\n",
       "      <td>0</td>\n",
       "      <td>62.0</td>\n",
       "      <td>56.5</td>\n",
       "      <td>9.0</td>\n",
       "      <td>55.6</td>\n",
       "      <td>114.0</td>\n",
       "      <td>89.1</td>\n",
       "      <td>56.6</td>\n",
       "      <td>0.94</td>\n",
       "      <td>92.5</td>\n",
       "      <td>81.0</td>\n",
       "      <td>37.0</td>\n",
       "      <td>15.0</td>\n",
       "      <td>40.0</td>\n",
       "      <td>89.1</td>\n",
       "      <td>114.0</td>\n",
       "      <td>43.4</td>\n",
       "      <td>1.08</td>\n",
       "      <td>92.5</td>\n",
       "    </tr>\n",
       "    <tr>\n",
       "      <td>1</td>\n",
       "      <td>0</td>\n",
       "      <td>78.0</td>\n",
       "      <td>41.0</td>\n",
       "      <td>7.0</td>\n",
       "      <td>28.6</td>\n",
       "      <td>87.8</td>\n",
       "      <td>83.7</td>\n",
       "      <td>52.3</td>\n",
       "      <td>0.84</td>\n",
       "      <td>98.0</td>\n",
       "      <td>85.0</td>\n",
       "      <td>36.5</td>\n",
       "      <td>10.0</td>\n",
       "      <td>30.0</td>\n",
       "      <td>83.7</td>\n",
       "      <td>87.8</td>\n",
       "      <td>47.7</td>\n",
       "      <td>1.60</td>\n",
       "      <td>98.0</td>\n",
       "    </tr>\n",
       "    <tr>\n",
       "      <td>2</td>\n",
       "      <td>1</td>\n",
       "      <td>72.0</td>\n",
       "      <td>45.8</td>\n",
       "      <td>7.0</td>\n",
       "      <td>57.1</td>\n",
       "      <td>87.8</td>\n",
       "      <td>99.0</td>\n",
       "      <td>53.3</td>\n",
       "      <td>0.74</td>\n",
       "      <td>98.0</td>\n",
       "      <td>79.0</td>\n",
       "      <td>43.0</td>\n",
       "      <td>16.0</td>\n",
       "      <td>37.5</td>\n",
       "      <td>99.0</td>\n",
       "      <td>87.8</td>\n",
       "      <td>46.7</td>\n",
       "      <td>1.33</td>\n",
       "      <td>98.0</td>\n",
       "    </tr>\n",
       "  </tbody>\n",
       "</table>\n",
       "</div>"
      ],
      "text/plain": [
       "   Game_Result  Team1_FGA  Team1_FG_P  Team1_3PA  Team1_3P_P  Team1_OFFRTG  \\\n",
       "0            0       62.0        56.5        9.0        55.6         114.0   \n",
       "1            0       78.0        41.0        7.0        28.6          87.8   \n",
       "2            1       72.0        45.8        7.0        57.1          87.8   \n",
       "\n",
       "   Team1_DEFRTG  Team1_REB_P  Team1_AST/TO  Team1_PACE  Team2_FGA  Team2_FG_P  \\\n",
       "0          89.1         56.6          0.94        92.5       81.0        37.0   \n",
       "1          83.7         52.3          0.84        98.0       85.0        36.5   \n",
       "2          99.0         53.3          0.74        98.0       79.0        43.0   \n",
       "\n",
       "   Team2_3PA  Team2_3P_P  Team2_OFFRTG  Team2_DEFRTG  Team2_REB_P  \\\n",
       "0       15.0        40.0          89.1         114.0         43.4   \n",
       "1       10.0        30.0          83.7          87.8         47.7   \n",
       "2       16.0        37.5          99.0          87.8         46.7   \n",
       "\n",
       "   Team2_AST/TO  Team2_PACE  \n",
       "0          1.08        92.5  \n",
       "1          1.60        98.0  \n",
       "2          1.33        98.0  "
      ]
     },
     "metadata": {},
     "output_type": "display_data"
    }
   ],
   "source": [
    "df1 = pd.read_csv('2010-2020_Model_Ready.csv', index_col=0)\n",
    "print(\"df1:\")\n",
    "display(df1.head(3))\n",
    "df2 = pd.read_csv('2000-2010_Model_Ready.csv', index_col=0)\n",
    "print(\"=============================================================================\")\n",
    "print(\"df2:\")\n",
    "display(df2.head(3))"
   ]
  },
  {
   "cell_type": "markdown",
   "metadata": {},
   "source": [
    "Now to the modeling part, so I start by defining my target/Y (Game_Result) and my features (X below)"
   ]
  },
  {
   "cell_type": "code",
   "execution_count": 37,
   "metadata": {
    "ExecuteTime": {
     "end_time": "2020-08-22T22:00:22.279588Z",
     "start_time": "2020-08-22T22:00:22.274494Z"
    }
   },
   "outputs": [],
   "source": [
    "y = df1['Game_Result']\n",
    "X = df1.drop(['Game_Result'], axis=1)"
   ]
  },
  {
   "cell_type": "markdown",
   "metadata": {},
   "source": [
    "Now we split the data with a test_size of 25% and a random_state of 42"
   ]
  },
  {
   "cell_type": "code",
   "execution_count": 38,
   "metadata": {
    "ExecuteTime": {
     "end_time": "2020-08-22T22:01:09.110371Z",
     "start_time": "2020-08-22T22:01:09.100530Z"
    }
   },
   "outputs": [],
   "source": [
    "# Split data\n",
    "X_train, X_test, y_train, y_test = train_test_split(X, y, test_size=0.25, random_state=42)"
   ]
  },
  {
   "cell_type": "code",
   "execution_count": 39,
   "metadata": {
    "ExecuteTime": {
     "end_time": "2020-08-22T22:01:45.333641Z",
     "start_time": "2020-08-22T22:01:45.286441Z"
    }
   },
   "outputs": [
    {
     "data": {
      "text/html": [
       "<div>\n",
       "<style scoped>\n",
       "    .dataframe tbody tr th:only-of-type {\n",
       "        vertical-align: middle;\n",
       "    }\n",
       "\n",
       "    .dataframe tbody tr th {\n",
       "        vertical-align: top;\n",
       "    }\n",
       "\n",
       "    .dataframe thead th {\n",
       "        text-align: right;\n",
       "    }\n",
       "</style>\n",
       "<table border=\"1\" class=\"dataframe\">\n",
       "  <thead>\n",
       "    <tr style=\"text-align: right;\">\n",
       "      <th></th>\n",
       "      <th>Team1_FGA</th>\n",
       "      <th>Team1_FG_P</th>\n",
       "      <th>Team1_3PA</th>\n",
       "      <th>Team1_3P_P</th>\n",
       "      <th>Team1_OFFRTG</th>\n",
       "      <th>Team1_DEFRTG</th>\n",
       "      <th>Team1_REB_P</th>\n",
       "      <th>Team1_AST/TO</th>\n",
       "      <th>Team1_PACE</th>\n",
       "      <th>Team2_FGA</th>\n",
       "      <th>Team2_FG_P</th>\n",
       "      <th>Team2_3PA</th>\n",
       "      <th>Team2_3P_P</th>\n",
       "      <th>Team2_OFFRTG</th>\n",
       "      <th>Team2_DEFRTG</th>\n",
       "      <th>Team2_REB_P</th>\n",
       "      <th>Team2_AST/TO</th>\n",
       "      <th>Team2_PACE</th>\n",
       "    </tr>\n",
       "  </thead>\n",
       "  <tbody>\n",
       "    <tr>\n",
       "      <td>0</td>\n",
       "      <td>0.631796</td>\n",
       "      <td>0.302185</td>\n",
       "      <td>1.057023</td>\n",
       "      <td>0.134148</td>\n",
       "      <td>0.890019</td>\n",
       "      <td>0.225910</td>\n",
       "      <td>1.203354</td>\n",
       "      <td>0.401879</td>\n",
       "      <td>-0.214962</td>\n",
       "      <td>0.110644</td>\n",
       "      <td>1.435174</td>\n",
       "      <td>-0.204884</td>\n",
       "      <td>-0.443704</td>\n",
       "      <td>1.717849</td>\n",
       "      <td>0.702136</td>\n",
       "      <td>-0.430388</td>\n",
       "      <td>1.462444</td>\n",
       "      <td>-0.556086</td>\n",
       "    </tr>\n",
       "    <tr>\n",
       "      <td>1</td>\n",
       "      <td>-0.962900</td>\n",
       "      <td>0.627413</td>\n",
       "      <td>-0.190766</td>\n",
       "      <td>0.903198</td>\n",
       "      <td>1.471459</td>\n",
       "      <td>1.054991</td>\n",
       "      <td>-0.238876</td>\n",
       "      <td>0.670758</td>\n",
       "      <td>-0.959686</td>\n",
       "      <td>0.110644</td>\n",
       "      <td>-0.132162</td>\n",
       "      <td>-0.278170</td>\n",
       "      <td>-1.121423</td>\n",
       "      <td>-0.551846</td>\n",
       "      <td>-0.483582</td>\n",
       "      <td>1.017793</td>\n",
       "      <td>-0.540576</td>\n",
       "      <td>0.519703</td>\n",
       "    </tr>\n",
       "    <tr>\n",
       "      <td>2</td>\n",
       "      <td>1.490478</td>\n",
       "      <td>-0.534115</td>\n",
       "      <td>0.205590</td>\n",
       "      <td>-0.942522</td>\n",
       "      <td>-0.754054</td>\n",
       "      <td>0.778631</td>\n",
       "      <td>0.070173</td>\n",
       "      <td>-1.134575</td>\n",
       "      <td>2.011507</td>\n",
       "      <td>-0.477445</td>\n",
       "      <td>0.651506</td>\n",
       "      <td>0.205515</td>\n",
       "      <td>0.511262</td>\n",
       "      <td>0.432358</td>\n",
       "      <td>-0.674143</td>\n",
       "      <td>0.552306</td>\n",
       "      <td>0.537973</td>\n",
       "      <td>-0.275001</td>\n",
       "    </tr>\n",
       "    <tr>\n",
       "      <td>3</td>\n",
       "      <td>1.097937</td>\n",
       "      <td>-1.695644</td>\n",
       "      <td>1.321260</td>\n",
       "      <td>-0.450330</td>\n",
       "      <td>-1.195147</td>\n",
       "      <td>1.182542</td>\n",
       "      <td>-1.578089</td>\n",
       "      <td>0.478702</td>\n",
       "      <td>1.657121</td>\n",
       "      <td>1.262319</td>\n",
       "      <td>0.559310</td>\n",
       "      <td>1.246172</td>\n",
       "      <td>0.141598</td>\n",
       "      <td>1.195619</td>\n",
       "      <td>0.257492</td>\n",
       "      <td>0.759189</td>\n",
       "      <td>0.383895</td>\n",
       "      <td>1.345070</td>\n",
       "    </tr>\n",
       "    <tr>\n",
       "      <td>4</td>\n",
       "      <td>0.558194</td>\n",
       "      <td>0.395108</td>\n",
       "      <td>0.660666</td>\n",
       "      <td>-0.296520</td>\n",
       "      <td>0.729621</td>\n",
       "      <td>1.246317</td>\n",
       "      <td>-0.187368</td>\n",
       "      <td>0.325056</td>\n",
       "      <td>0.439882</td>\n",
       "      <td>-0.085385</td>\n",
       "      <td>1.020291</td>\n",
       "      <td>0.190858</td>\n",
       "      <td>1.250591</td>\n",
       "      <td>0.512702</td>\n",
       "      <td>0.765656</td>\n",
       "      <td>-0.430388</td>\n",
       "      <td>0.268336</td>\n",
       "      <td>0.662800</td>\n",
       "    </tr>\n",
       "  </tbody>\n",
       "</table>\n",
       "</div>"
      ],
      "text/plain": [
       "   Team1_FGA  Team1_FG_P  Team1_3PA  Team1_3P_P  Team1_OFFRTG  Team1_DEFRTG  \\\n",
       "0   0.631796    0.302185   1.057023    0.134148      0.890019      0.225910   \n",
       "1  -0.962900    0.627413  -0.190766    0.903198      1.471459      1.054991   \n",
       "2   1.490478   -0.534115   0.205590   -0.942522     -0.754054      0.778631   \n",
       "3   1.097937   -1.695644   1.321260   -0.450330     -1.195147      1.182542   \n",
       "4   0.558194    0.395108   0.660666   -0.296520      0.729621      1.246317   \n",
       "\n",
       "   Team1_REB_P  Team1_AST/TO  Team1_PACE  Team2_FGA  Team2_FG_P  Team2_3PA  \\\n",
       "0     1.203354      0.401879   -0.214962   0.110644    1.435174  -0.204884   \n",
       "1    -0.238876      0.670758   -0.959686   0.110644   -0.132162  -0.278170   \n",
       "2     0.070173     -1.134575    2.011507  -0.477445    0.651506   0.205515   \n",
       "3    -1.578089      0.478702    1.657121   1.262319    0.559310   1.246172   \n",
       "4    -0.187368      0.325056    0.439882  -0.085385    1.020291   0.190858   \n",
       "\n",
       "   Team2_3P_P  Team2_OFFRTG  Team2_DEFRTG  Team2_REB_P  Team2_AST/TO  \\\n",
       "0   -0.443704      1.717849      0.702136    -0.430388      1.462444   \n",
       "1   -1.121423     -0.551846     -0.483582     1.017793     -0.540576   \n",
       "2    0.511262      0.432358     -0.674143     0.552306      0.537973   \n",
       "3    0.141598      1.195619      0.257492     0.759189      0.383895   \n",
       "4    1.250591      0.512702      0.765656    -0.430388      0.268336   \n",
       "\n",
       "   Team2_PACE  \n",
       "0   -0.556086  \n",
       "1    0.519703  \n",
       "2   -0.275001  \n",
       "3    1.345070  \n",
       "4    0.662800  "
      ]
     },
     "execution_count": 39,
     "metadata": {},
     "output_type": "execute_result"
    }
   ],
   "source": [
    "# Instantiate StandardScaler\n",
    "scaler = StandardScaler()\n",
    "\n",
    "# Transform the training and test sets\n",
    "scaled_data_train = scaler.fit_transform(X_train) \n",
    "scaled_data_test = scaler.transform(X_test)\n",
    "\n",
    "# Convert into a DataFrame\n",
    "scaled_df_train = pd.DataFrame(scaled_data_train, columns=X.columns)\n",
    "scaled_df_train.head()"
   ]
  },
  {
   "cell_type": "markdown",
   "metadata": {},
   "source": [
    "## Fitting the Model"
   ]
  },
  {
   "cell_type": "code",
   "execution_count": 42,
   "metadata": {
    "ExecuteTime": {
     "end_time": "2020-08-22T22:03:01.650139Z",
     "start_time": "2020-08-22T22:03:00.793021Z"
    }
   },
   "outputs": [],
   "source": [
    "# Instantiate KNeighborsClassifier\n",
    "clf = KNeighborsClassifier(n_neighbors=11) \n",
    "\n",
    "# I will start with 11 as it was the most appropriate k number from the previous exercise for the 1 season\n",
    "\n",
    "# Fit the classifier\n",
    "clf.fit(scaled_data_train, y_train)\n",
    "\n",
    "# Predict on the test set\n",
    "test_preds = clf.predict(scaled_data_test)"
   ]
  },
  {
   "cell_type": "markdown",
   "metadata": {},
   "source": [
    "## Evaluating the Model"
   ]
  },
  {
   "cell_type": "code",
   "execution_count": 43,
   "metadata": {
    "ExecuteTime": {
     "end_time": "2020-08-22T22:03:02.770858Z",
     "start_time": "2020-08-22T22:03:02.758573Z"
    }
   },
   "outputs": [
    {
     "name": "stdout",
     "output_type": "stream",
     "text": [
      "Precision Score: 0.6969246031746031\n",
      "Recall Score: 0.7827298050139275\n",
      "Accuracy Score: 0.6718032786885246\n",
      "F1 Score: 0.7373392810286014\n"
     ]
    }
   ],
   "source": [
    "def print_metrics(y, preds):\n",
    "    print(\"Precision Score: {}\".format(precision_score(y, preds)))\n",
    "    print(\"Recall Score: {}\".format(recall_score(y, preds)))\n",
    "    print(\"Accuracy Score: {}\".format(accuracy_score(y, preds)))\n",
    "    print(\"F1 Score: {}\".format(f1_score(y, preds)))\n",
    "    \n",
    "print_metrics(y_test, test_preds)"
   ]
  },
  {
   "cell_type": "markdown",
   "metadata": {},
   "source": [
    "## Attempt to Improve the Model"
   ]
  },
  {
   "cell_type": "code",
   "execution_count": 44,
   "metadata": {
    "ExecuteTime": {
     "end_time": "2020-08-22T22:13:42.072754Z",
     "start_time": "2020-08-22T22:13:42.062513Z"
    }
   },
   "outputs": [],
   "source": [
    "def find_best_k(X_train, y_train, X_test, y_test, min_k=1, max_k=25):\n",
    "    best_k = 0\n",
    "    best_score = 0.0\n",
    "    \n",
    "    for k in range(min_k, max_k+1, 2):\n",
    "        knn = KNeighborsClassifier(n_neighbors=k)\n",
    "        knn.fit(X_train, y_train)\n",
    "        preds = knn.predict(X_test)\n",
    "        f1 = f1_score(y_test, preds)\n",
    "        if f1 > best_score:\n",
    "            best_k = k\n",
    "            best_score = f1\n",
    "    \n",
    "    print(\"The best Value for k is: {}\".format(best_k))\n",
    "    print(\"The best F1 score is: {}\".format(best_score))"
   ]
  },
  {
   "cell_type": "code",
   "execution_count": 45,
   "metadata": {
    "ExecuteTime": {
     "end_time": "2020-08-22T22:14:16.329716Z",
     "start_time": "2020-08-22T22:14:05.269786Z"
    }
   },
   "outputs": [
    {
     "name": "stdout",
     "output_type": "stream",
     "text": [
      "The best Value for k is: 25\n",
      "The best F1 score is: 0.7532333160889808\n"
     ]
    }
   ],
   "source": [
    "find_best_k(scaled_data_train, y_train, scaled_data_test, y_test)"
   ]
  },
  {
   "cell_type": "markdown",
   "metadata": {},
   "source": [
    "I will refit the model with k=25 and re-evaluate it to see how the 4 metrics change and if the increase can justify such a jump from 11 to 25, I doubt it but worth checking"
   ]
  },
  {
   "cell_type": "code",
   "execution_count": 46,
   "metadata": {
    "ExecuteTime": {
     "end_time": "2020-08-22T22:15:22.617997Z",
     "start_time": "2020-08-22T22:15:21.645919Z"
    }
   },
   "outputs": [],
   "source": [
    "# Instantiate KNeighborsClassifier\n",
    "clf = KNeighborsClassifier(n_neighbors=25)\n",
    "\n",
    "# Fit the classifier\n",
    "clf.fit(scaled_data_train, y_train)\n",
    "\n",
    "# Predict on the test set\n",
    "test_preds = clf.predict(scaled_data_test)"
   ]
  },
  {
   "cell_type": "code",
   "execution_count": 47,
   "metadata": {
    "ExecuteTime": {
     "end_time": "2020-08-22T22:15:39.254726Z",
     "start_time": "2020-08-22T22:15:39.242781Z"
    }
   },
   "outputs": [
    {
     "name": "stdout",
     "output_type": "stream",
     "text": [
      "Precision Score: 0.7030420086914534\n",
      "Recall Score: 0.811142061281337\n",
      "Accuracy Score: 0.6872131147540984\n",
      "F1 Score: 0.7532333160889808\n"
     ]
    }
   ],
   "source": [
    "def print_metrics(y, preds):\n",
    "    print(\"Precision Score: {}\".format(precision_score(y, preds)))\n",
    "    print(\"Recall Score: {}\".format(recall_score(y, preds)))\n",
    "    print(\"Accuracy Score: {}\".format(accuracy_score(y, preds)))\n",
    "    print(\"F1 Score: {}\".format(f1_score(y, preds)))\n",
    "    \n",
    "print_metrics(y_test, test_preds)"
   ]
  },
  {
   "cell_type": "markdown",
   "metadata": {},
   "source": [
    "an increase in the accuracy of 1.6% cannot justify such an increment on the k number, therefore I am keeping it equal to 11 which resulted in an accuracy of 67.18%"
   ]
  },
  {
   "cell_type": "markdown",
   "metadata": {},
   "source": [
    "## Model Test I"
   ]
  },
  {
   "cell_type": "code",
   "execution_count": 125,
   "metadata": {
    "ExecuteTime": {
     "end_time": "2020-08-22T23:10:39.097541Z",
     "start_time": "2020-08-22T23:10:39.026985Z"
    }
   },
   "outputs": [
    {
     "data": {
      "text/html": [
       "<div>\n",
       "<style scoped>\n",
       "    .dataframe tbody tr th:only-of-type {\n",
       "        vertical-align: middle;\n",
       "    }\n",
       "\n",
       "    .dataframe tbody tr th {\n",
       "        vertical-align: top;\n",
       "    }\n",
       "\n",
       "    .dataframe thead th {\n",
       "        text-align: right;\n",
       "    }\n",
       "</style>\n",
       "<table border=\"1\" class=\"dataframe\">\n",
       "  <thead>\n",
       "    <tr style=\"text-align: right;\">\n",
       "      <th></th>\n",
       "      <th>Team1</th>\n",
       "      <th>Team1Score</th>\n",
       "      <th>Team2</th>\n",
       "      <th>Team2Score</th>\n",
       "      <th>year</th>\n",
       "      <th>month</th>\n",
       "      <th>Game_Result</th>\n",
       "      <th>Team1_year</th>\n",
       "      <th>Team1_month</th>\n",
       "      <th>Team1_FGA</th>\n",
       "      <th>Team1_FG_P</th>\n",
       "      <th>Team1_3PA</th>\n",
       "      <th>Team1_3P_P</th>\n",
       "      <th>Team1_OFFRTG</th>\n",
       "      <th>Team1_DEFRTG</th>\n",
       "      <th>Team1_REB_P</th>\n",
       "      <th>Team1_AST/TO</th>\n",
       "      <th>Team1_PACE</th>\n",
       "      <th>Team2_year</th>\n",
       "      <th>Team2_month</th>\n",
       "      <th>Team2_FGA</th>\n",
       "      <th>Team2_FG_P</th>\n",
       "      <th>Team2_3PA</th>\n",
       "      <th>Team2_3P_P</th>\n",
       "      <th>Team2_OFFRTG</th>\n",
       "      <th>Team2_DEFRTG</th>\n",
       "      <th>Team2_REB_P</th>\n",
       "      <th>Team2_AST/TO</th>\n",
       "      <th>Team2_PACE</th>\n",
       "    </tr>\n",
       "  </thead>\n",
       "  <tbody>\n",
       "    <tr>\n",
       "      <td>0</td>\n",
       "      <td>New Orleans Pelicans</td>\n",
       "      <td>122</td>\n",
       "      <td>Toronto Raptors</td>\n",
       "      <td>130</td>\n",
       "      <td>2019</td>\n",
       "      <td>10</td>\n",
       "      <td>1</td>\n",
       "      <td>2019.0</td>\n",
       "      <td>10.0</td>\n",
       "      <td>96.0</td>\n",
       "      <td>46.5</td>\n",
       "      <td>43.2</td>\n",
       "      <td>38.0</td>\n",
       "      <td>112.2</td>\n",
       "      <td>114.2</td>\n",
       "      <td>46.9</td>\n",
       "      <td>1.89</td>\n",
       "      <td>106.09</td>\n",
       "      <td>2019.0</td>\n",
       "      <td>10.0</td>\n",
       "      <td>86.8</td>\n",
       "      <td>46.3</td>\n",
       "      <td>36.8</td>\n",
       "      <td>38.0</td>\n",
       "      <td>107.5</td>\n",
       "      <td>99.1</td>\n",
       "      <td>51.1</td>\n",
       "      <td>1.26</td>\n",
       "      <td>104.23</td>\n",
       "    </tr>\n",
       "    <tr>\n",
       "      <td>1</td>\n",
       "      <td>Los Angeles Lakers</td>\n",
       "      <td>102</td>\n",
       "      <td>Los Angeles Clippers</td>\n",
       "      <td>112</td>\n",
       "      <td>2019</td>\n",
       "      <td>10</td>\n",
       "      <td>1</td>\n",
       "      <td>2019.0</td>\n",
       "      <td>10.0</td>\n",
       "      <td>87.5</td>\n",
       "      <td>45.7</td>\n",
       "      <td>29.0</td>\n",
       "      <td>33.6</td>\n",
       "      <td>107.9</td>\n",
       "      <td>96.8</td>\n",
       "      <td>51.4</td>\n",
       "      <td>1.54</td>\n",
       "      <td>101.00</td>\n",
       "      <td>2019.0</td>\n",
       "      <td>10.0</td>\n",
       "      <td>84.0</td>\n",
       "      <td>49.6</td>\n",
       "      <td>29.5</td>\n",
       "      <td>36.7</td>\n",
       "      <td>112.9</td>\n",
       "      <td>107.5</td>\n",
       "      <td>49.6</td>\n",
       "      <td>1.35</td>\n",
       "      <td>101.50</td>\n",
       "    </tr>\n",
       "  </tbody>\n",
       "</table>\n",
       "</div>"
      ],
      "text/plain": [
       "                  Team1  Team1Score                 Team2  Team2Score  year  \\\n",
       "0  New Orleans Pelicans         122       Toronto Raptors         130  2019   \n",
       "1    Los Angeles Lakers         102  Los Angeles Clippers         112  2019   \n",
       "\n",
       "   month  Game_Result  Team1_year  Team1_month  Team1_FGA  Team1_FG_P  \\\n",
       "0     10            1      2019.0         10.0       96.0        46.5   \n",
       "1     10            1      2019.0         10.0       87.5        45.7   \n",
       "\n",
       "   Team1_3PA  Team1_3P_P  Team1_OFFRTG  Team1_DEFRTG  Team1_REB_P  \\\n",
       "0       43.2        38.0         112.2         114.2         46.9   \n",
       "1       29.0        33.6         107.9          96.8         51.4   \n",
       "\n",
       "   Team1_AST/TO  Team1_PACE  Team2_year  Team2_month  Team2_FGA  Team2_FG_P  \\\n",
       "0          1.89      106.09      2019.0         10.0       86.8        46.3   \n",
       "1          1.54      101.00      2019.0         10.0       84.0        49.6   \n",
       "\n",
       "   Team2_3PA  Team2_3P_P  Team2_OFFRTG  Team2_DEFRTG  Team2_REB_P  \\\n",
       "0       36.8        38.0         107.5          99.1         51.1   \n",
       "1       29.5        36.7         112.9         107.5         49.6   \n",
       "\n",
       "   Team2_AST/TO  Team2_PACE  \n",
       "0          1.26      104.23  \n",
       "1          1.35      101.50  "
      ]
     },
     "execution_count": 125,
     "metadata": {},
     "output_type": "execute_result"
    }
   ],
   "source": [
    "df_SAS = pd.read_csv('df_merge_a.csv', index_col=0)\n",
    "df_SAS.head(2)"
   ]
  },
  {
   "cell_type": "code",
   "execution_count": 126,
   "metadata": {
    "ExecuteTime": {
     "end_time": "2020-08-22T23:10:49.946598Z",
     "start_time": "2020-08-22T23:10:49.942178Z"
    }
   },
   "outputs": [],
   "source": [
    "df_SAS = df_SAS[df_SAS['Team2'] == 'San Antonio Spurs']"
   ]
  },
  {
   "cell_type": "code",
   "execution_count": 128,
   "metadata": {
    "ExecuteTime": {
     "end_time": "2020-08-22T23:12:51.268425Z",
     "start_time": "2020-08-22T23:12:51.264364Z"
    }
   },
   "outputs": [],
   "source": [
    "df_SAS = df_SAS.drop(['Team1', 'Team1Score', 'Team2Score', 'Team2', 'year', 'month', 'Team1_month', 'Team2_month', 'Team1_year', 'Team2_year'], axis=1)"
   ]
  },
  {
   "cell_type": "code",
   "execution_count": 131,
   "metadata": {
    "ExecuteTime": {
     "end_time": "2020-08-22T23:13:24.981957Z",
     "start_time": "2020-08-22T23:13:24.976875Z"
    }
   },
   "outputs": [
    {
     "data": {
      "text/plain": [
       "1    334\n",
       "0     81\n",
       "Name: Game_Result, dtype: int64"
      ]
     },
     "execution_count": 131,
     "metadata": {},
     "output_type": "execute_result"
    }
   ],
   "source": [
    "df_SAS.Game_Result.value_counts() "
   ]
  },
  {
   "cell_type": "code",
   "execution_count": 132,
   "metadata": {
    "ExecuteTime": {
     "end_time": "2020-08-22T23:14:12.906523Z",
     "start_time": "2020-08-22T23:14:12.903095Z"
    }
   },
   "outputs": [],
   "source": [
    "y = df_SAS['Game_Result']\n",
    "X = df_SAS.drop(['Game_Result'], axis=1)"
   ]
  },
  {
   "cell_type": "code",
   "execution_count": 134,
   "metadata": {
    "ExecuteTime": {
     "end_time": "2020-08-22T23:14:58.637642Z",
     "start_time": "2020-08-22T23:14:58.632989Z"
    }
   },
   "outputs": [],
   "source": [
    "X_train, X_test, y_train, y_test = train_test_split(X, y, test_size=0.25, random_state=42)"
   ]
  },
  {
   "cell_type": "code",
   "execution_count": 136,
   "metadata": {
    "ExecuteTime": {
     "end_time": "2020-08-22T23:16:30.592349Z",
     "start_time": "2020-08-22T23:16:30.581505Z"
    }
   },
   "outputs": [],
   "source": [
    "from sklearn.preprocessing import StandardScaler\n",
    "scaler = StandardScaler()\n",
    "scaler.fit(X_train)\n",
    "\n",
    "X_train = scaler.transform(X_train)\n",
    "X_test = scaler.transform(X_test)"
   ]
  },
  {
   "cell_type": "code",
   "execution_count": 138,
   "metadata": {
    "ExecuteTime": {
     "end_time": "2020-08-22T23:17:29.636816Z",
     "start_time": "2020-08-22T23:17:29.631748Z"
    }
   },
   "outputs": [
    {
     "data": {
      "text/plain": [
       "KNeighborsClassifier(n_neighbors=11)"
      ]
     },
     "execution_count": 138,
     "metadata": {},
     "output_type": "execute_result"
    }
   ],
   "source": [
    "from sklearn.neighbors import KNeighborsClassifier\n",
    "clf = KNeighborsClassifier(n_neighbors=11)\n",
    "clf.fit(X_train, y_train)"
   ]
  },
  {
   "cell_type": "code",
   "execution_count": 140,
   "metadata": {
    "ExecuteTime": {
     "end_time": "2020-08-22T23:17:58.459235Z",
     "start_time": "2020-08-22T23:17:58.449582Z"
    }
   },
   "outputs": [],
   "source": [
    "y_pred = clf.predict(X_test)"
   ]
  },
  {
   "cell_type": "code",
   "execution_count": 141,
   "metadata": {
    "ExecuteTime": {
     "end_time": "2020-08-22T23:18:27.605590Z",
     "start_time": "2020-08-22T23:18:27.589941Z"
    }
   },
   "outputs": [
    {
     "name": "stdout",
     "output_type": "stream",
     "text": [
      "[[ 0 25]\n",
      " [ 0 79]]\n",
      "              precision    recall  f1-score   support\n",
      "\n",
      "           0       0.00      0.00      0.00        25\n",
      "           1       0.76      1.00      0.86        79\n",
      "\n",
      "    accuracy                           0.76       104\n",
      "   macro avg       0.38      0.50      0.43       104\n",
      "weighted avg       0.58      0.76      0.66       104\n",
      "\n"
     ]
    }
   ],
   "source": [
    "from sklearn.metrics import classification_report, confusion_matrix\n",
    "print(confusion_matrix(y_test, y_pred))\n",
    "print(classification_report(y_test, y_pred))"
   ]
  },
  {
   "cell_type": "code",
   "execution_count": 143,
   "metadata": {
    "ExecuteTime": {
     "end_time": "2020-08-22T23:20:30.955912Z",
     "start_time": "2020-08-22T23:20:30.947595Z"
    }
   },
   "outputs": [
    {
     "name": "stdout",
     "output_type": "stream",
     "text": [
      "Precision Score: 0.7596153846153846\n",
      "Recall Score: 1.0\n",
      "Accuracy Score: 0.7596153846153846\n",
      "F1 Score: 0.8633879781420765\n"
     ]
    }
   ],
   "source": [
    "print_metrics(y_test, y_pred)"
   ]
  },
  {
   "cell_type": "markdown",
   "metadata": {},
   "source": [
    "## Model Test II"
   ]
  },
  {
   "cell_type": "code",
   "execution_count": 144,
   "metadata": {
    "ExecuteTime": {
     "end_time": "2020-08-22T23:21:19.060897Z",
     "start_time": "2020-08-22T23:21:18.984087Z"
    }
   },
   "outputs": [
    {
     "data": {
      "text/html": [
       "<div>\n",
       "<style scoped>\n",
       "    .dataframe tbody tr th:only-of-type {\n",
       "        vertical-align: middle;\n",
       "    }\n",
       "\n",
       "    .dataframe tbody tr th {\n",
       "        vertical-align: top;\n",
       "    }\n",
       "\n",
       "    .dataframe thead th {\n",
       "        text-align: right;\n",
       "    }\n",
       "</style>\n",
       "<table border=\"1\" class=\"dataframe\">\n",
       "  <thead>\n",
       "    <tr style=\"text-align: right;\">\n",
       "      <th></th>\n",
       "      <th>Team1</th>\n",
       "      <th>Team1Score</th>\n",
       "      <th>Team2</th>\n",
       "      <th>Team2Score</th>\n",
       "      <th>year</th>\n",
       "      <th>month</th>\n",
       "      <th>Game_Result</th>\n",
       "      <th>Team1_year</th>\n",
       "      <th>Team1_month</th>\n",
       "      <th>Team1_FGA</th>\n",
       "      <th>Team1_FG_P</th>\n",
       "      <th>Team1_3PA</th>\n",
       "      <th>Team1_3P_P</th>\n",
       "      <th>Team1_OFFRTG</th>\n",
       "      <th>Team1_DEFRTG</th>\n",
       "      <th>Team1_REB_P</th>\n",
       "      <th>Team1_AST/TO</th>\n",
       "      <th>Team1_PACE</th>\n",
       "      <th>Team2_year</th>\n",
       "      <th>Team2_month</th>\n",
       "      <th>Team2_FGA</th>\n",
       "      <th>Team2_FG_P</th>\n",
       "      <th>Team2_3PA</th>\n",
       "      <th>Team2_3P_P</th>\n",
       "      <th>Team2_OFFRTG</th>\n",
       "      <th>Team2_DEFRTG</th>\n",
       "      <th>Team2_REB_P</th>\n",
       "      <th>Team2_AST/TO</th>\n",
       "      <th>Team2_PACE</th>\n",
       "    </tr>\n",
       "  </thead>\n",
       "  <tbody>\n",
       "    <tr>\n",
       "      <td>0</td>\n",
       "      <td>New Orleans Pelicans</td>\n",
       "      <td>122</td>\n",
       "      <td>Toronto Raptors</td>\n",
       "      <td>130</td>\n",
       "      <td>2019</td>\n",
       "      <td>10</td>\n",
       "      <td>1</td>\n",
       "      <td>2019.0</td>\n",
       "      <td>10.0</td>\n",
       "      <td>96.0</td>\n",
       "      <td>46.5</td>\n",
       "      <td>43.2</td>\n",
       "      <td>38.0</td>\n",
       "      <td>112.2</td>\n",
       "      <td>114.2</td>\n",
       "      <td>46.9</td>\n",
       "      <td>1.89</td>\n",
       "      <td>106.09</td>\n",
       "      <td>2019.0</td>\n",
       "      <td>10.0</td>\n",
       "      <td>86.8</td>\n",
       "      <td>46.3</td>\n",
       "      <td>36.8</td>\n",
       "      <td>38.0</td>\n",
       "      <td>107.5</td>\n",
       "      <td>99.1</td>\n",
       "      <td>51.1</td>\n",
       "      <td>1.26</td>\n",
       "      <td>104.23</td>\n",
       "    </tr>\n",
       "    <tr>\n",
       "      <td>1</td>\n",
       "      <td>Los Angeles Lakers</td>\n",
       "      <td>102</td>\n",
       "      <td>Los Angeles Clippers</td>\n",
       "      <td>112</td>\n",
       "      <td>2019</td>\n",
       "      <td>10</td>\n",
       "      <td>1</td>\n",
       "      <td>2019.0</td>\n",
       "      <td>10.0</td>\n",
       "      <td>87.5</td>\n",
       "      <td>45.7</td>\n",
       "      <td>29.0</td>\n",
       "      <td>33.6</td>\n",
       "      <td>107.9</td>\n",
       "      <td>96.8</td>\n",
       "      <td>51.4</td>\n",
       "      <td>1.54</td>\n",
       "      <td>101.00</td>\n",
       "      <td>2019.0</td>\n",
       "      <td>10.0</td>\n",
       "      <td>84.0</td>\n",
       "      <td>49.6</td>\n",
       "      <td>29.5</td>\n",
       "      <td>36.7</td>\n",
       "      <td>112.9</td>\n",
       "      <td>107.5</td>\n",
       "      <td>49.6</td>\n",
       "      <td>1.35</td>\n",
       "      <td>101.50</td>\n",
       "    </tr>\n",
       "  </tbody>\n",
       "</table>\n",
       "</div>"
      ],
      "text/plain": [
       "                  Team1  Team1Score                 Team2  Team2Score  year  \\\n",
       "0  New Orleans Pelicans         122       Toronto Raptors         130  2019   \n",
       "1    Los Angeles Lakers         102  Los Angeles Clippers         112  2019   \n",
       "\n",
       "   month  Game_Result  Team1_year  Team1_month  Team1_FGA  Team1_FG_P  \\\n",
       "0     10            1      2019.0         10.0       96.0        46.5   \n",
       "1     10            1      2019.0         10.0       87.5        45.7   \n",
       "\n",
       "   Team1_3PA  Team1_3P_P  Team1_OFFRTG  Team1_DEFRTG  Team1_REB_P  \\\n",
       "0       43.2        38.0         112.2         114.2         46.9   \n",
       "1       29.0        33.6         107.9          96.8         51.4   \n",
       "\n",
       "   Team1_AST/TO  Team1_PACE  Team2_year  Team2_month  Team2_FGA  Team2_FG_P  \\\n",
       "0          1.89      106.09      2019.0         10.0       86.8        46.3   \n",
       "1          1.54      101.00      2019.0         10.0       84.0        49.6   \n",
       "\n",
       "   Team2_3PA  Team2_3P_P  Team2_OFFRTG  Team2_DEFRTG  Team2_REB_P  \\\n",
       "0       36.8        38.0         107.5          99.1         51.1   \n",
       "1       29.5        36.7         112.9         107.5         49.6   \n",
       "\n",
       "   Team2_AST/TO  Team2_PACE  \n",
       "0          1.26      104.23  \n",
       "1          1.35      101.50  "
      ]
     },
     "execution_count": 144,
     "metadata": {},
     "output_type": "execute_result"
    }
   ],
   "source": [
    "df_MIA = pd.read_csv('df_merge_a.csv', index_col=0)\n",
    "df_MIA.head(2)"
   ]
  },
  {
   "cell_type": "code",
   "execution_count": 145,
   "metadata": {
    "ExecuteTime": {
     "end_time": "2020-08-22T23:21:43.489754Z",
     "start_time": "2020-08-22T23:21:43.485476Z"
    }
   },
   "outputs": [],
   "source": [
    "df_MIA = df_MIA[df_MIA['Team2'] == 'Miami Heat']"
   ]
  },
  {
   "cell_type": "code",
   "execution_count": 147,
   "metadata": {
    "ExecuteTime": {
     "end_time": "2020-08-22T23:22:14.526789Z",
     "start_time": "2020-08-22T23:22:14.523005Z"
    }
   },
   "outputs": [],
   "source": [
    "df_MIA = df_MIA.drop(['Team1', 'Team1Score', 'Team2Score', 'Team2', 'year', 'month', 'Team1_month', 'Team2_month', 'Team1_year', 'Team2_year'], axis=1)"
   ]
  },
  {
   "cell_type": "code",
   "execution_count": 148,
   "metadata": {
    "ExecuteTime": {
     "end_time": "2020-08-22T23:22:29.042787Z",
     "start_time": "2020-08-22T23:22:29.037290Z"
    }
   },
   "outputs": [
    {
     "data": {
      "text/plain": [
       "1    281\n",
       "0    128\n",
       "Name: Game_Result, dtype: int64"
      ]
     },
     "execution_count": 148,
     "metadata": {},
     "output_type": "execute_result"
    }
   ],
   "source": [
    "df_MIA.Game_Result.value_counts() "
   ]
  },
  {
   "cell_type": "code",
   "execution_count": 149,
   "metadata": {
    "ExecuteTime": {
     "end_time": "2020-08-22T23:22:44.624156Z",
     "start_time": "2020-08-22T23:22:44.620689Z"
    }
   },
   "outputs": [],
   "source": [
    "y = df_MIA['Game_Result']\n",
    "X = df_MIA.drop(['Game_Result'], axis=1)"
   ]
  },
  {
   "cell_type": "code",
   "execution_count": 150,
   "metadata": {
    "ExecuteTime": {
     "end_time": "2020-08-22T23:22:55.182511Z",
     "start_time": "2020-08-22T23:22:55.178286Z"
    }
   },
   "outputs": [],
   "source": [
    "X_train, X_test, y_train, y_test = train_test_split(X, y, test_size=0.25, random_state=42)"
   ]
  },
  {
   "cell_type": "code",
   "execution_count": 151,
   "metadata": {
    "ExecuteTime": {
     "end_time": "2020-08-22T23:23:08.296835Z",
     "start_time": "2020-08-22T23:23:08.286170Z"
    }
   },
   "outputs": [],
   "source": [
    "scaler = StandardScaler()\n",
    "scaler.fit(X_train)\n",
    "\n",
    "X_train = scaler.transform(X_train)\n",
    "X_test = scaler.transform(X_test)"
   ]
  },
  {
   "cell_type": "code",
   "execution_count": 152,
   "metadata": {
    "ExecuteTime": {
     "end_time": "2020-08-22T23:23:22.502349Z",
     "start_time": "2020-08-22T23:23:22.497597Z"
    }
   },
   "outputs": [
    {
     "data": {
      "text/plain": [
       "KNeighborsClassifier(n_neighbors=11)"
      ]
     },
     "execution_count": 152,
     "metadata": {},
     "output_type": "execute_result"
    }
   ],
   "source": [
    "clf = KNeighborsClassifier(n_neighbors=11)\n",
    "clf.fit(X_train, y_train)"
   ]
  },
  {
   "cell_type": "code",
   "execution_count": 153,
   "metadata": {
    "ExecuteTime": {
     "end_time": "2020-08-22T23:23:41.316850Z",
     "start_time": "2020-08-22T23:23:41.309573Z"
    }
   },
   "outputs": [],
   "source": [
    "y_pred = clf.predict(X_test)"
   ]
  },
  {
   "cell_type": "code",
   "execution_count": 154,
   "metadata": {
    "ExecuteTime": {
     "end_time": "2020-08-22T23:23:55.212660Z",
     "start_time": "2020-08-22T23:23:55.203749Z"
    }
   },
   "outputs": [
    {
     "name": "stdout",
     "output_type": "stream",
     "text": [
      "[[ 8 22]\n",
      " [16 57]]\n",
      "              precision    recall  f1-score   support\n",
      "\n",
      "           0       0.33      0.27      0.30        30\n",
      "           1       0.72      0.78      0.75        73\n",
      "\n",
      "    accuracy                           0.63       103\n",
      "   macro avg       0.53      0.52      0.52       103\n",
      "weighted avg       0.61      0.63      0.62       103\n",
      "\n"
     ]
    }
   ],
   "source": [
    "from sklearn.metrics import classification_report, confusion_matrix\n",
    "print(confusion_matrix(y_test, y_pred))\n",
    "print(classification_report(y_test, y_pred))"
   ]
  },
  {
   "cell_type": "code",
   "execution_count": 155,
   "metadata": {
    "ExecuteTime": {
     "end_time": "2020-08-22T23:24:09.658403Z",
     "start_time": "2020-08-22T23:24:09.649954Z"
    }
   },
   "outputs": [
    {
     "name": "stdout",
     "output_type": "stream",
     "text": [
      "Precision Score: 0.7215189873417721\n",
      "Recall Score: 0.7808219178082192\n",
      "Accuracy Score: 0.6310679611650486\n",
      "F1 Score: 0.7500000000000001\n"
     ]
    }
   ],
   "source": [
    "print_metrics(y_test, y_pred)"
   ]
  },
  {
   "cell_type": "markdown",
   "metadata": {},
   "source": [
    "# 2000 - 2020 Dataset"
   ]
  },
  {
   "cell_type": "code",
   "execution_count": 118,
   "metadata": {
    "ExecuteTime": {
     "end_time": "2020-08-22T22:54:29.201098Z",
     "start_time": "2020-08-22T22:54:29.198101Z"
    }
   },
   "outputs": [
    {
     "name": "stdout",
     "output_type": "stream",
     "text": [
      "Shape of df1: (12198, 19)\n",
      "Shape of df2: (15782, 19)\n"
     ]
    }
   ],
   "source": [
    "print('Shape of df1:', df1.shape)\n",
    "print('Shape of df2:', df2.shape)"
   ]
  },
  {
   "cell_type": "code",
   "execution_count": 119,
   "metadata": {
    "ExecuteTime": {
     "end_time": "2020-08-22T22:54:40.405011Z",
     "start_time": "2020-08-22T22:54:40.398150Z"
    }
   },
   "outputs": [
    {
     "name": "stdout",
     "output_type": "stream",
     "text": [
      "Shape of df3: (27980, 19)\n"
     ]
    }
   ],
   "source": [
    "df3 = df1.append(df2)\n",
    "print('Shape of df3:', df3.shape) # the shape of df3 should be the result of adding df1 + df2"
   ]
  },
  {
   "cell_type": "code",
   "execution_count": 120,
   "metadata": {
    "ExecuteTime": {
     "end_time": "2020-08-22T22:56:56.119289Z",
     "start_time": "2020-08-22T22:56:56.113117Z"
    }
   },
   "outputs": [],
   "source": [
    "# Defininf target and features\n",
    "y = df3['Game_Result']\n",
    "X = df3.drop(['Game_Result'], axis=1)"
   ]
  },
  {
   "cell_type": "code",
   "execution_count": 121,
   "metadata": {
    "ExecuteTime": {
     "end_time": "2020-08-22T22:56:56.821311Z",
     "start_time": "2020-08-22T22:56:56.812727Z"
    }
   },
   "outputs": [],
   "source": [
    "# Split data\n",
    "X_train, X_test, y_train, y_test = train_test_split(X, y, test_size=0.25, random_state=42)"
   ]
  },
  {
   "cell_type": "code",
   "execution_count": 122,
   "metadata": {
    "ExecuteTime": {
     "end_time": "2020-08-22T22:56:58.566843Z",
     "start_time": "2020-08-22T22:56:58.524979Z"
    }
   },
   "outputs": [
    {
     "data": {
      "text/html": [
       "<div>\n",
       "<style scoped>\n",
       "    .dataframe tbody tr th:only-of-type {\n",
       "        vertical-align: middle;\n",
       "    }\n",
       "\n",
       "    .dataframe tbody tr th {\n",
       "        vertical-align: top;\n",
       "    }\n",
       "\n",
       "    .dataframe thead th {\n",
       "        text-align: right;\n",
       "    }\n",
       "</style>\n",
       "<table border=\"1\" class=\"dataframe\">\n",
       "  <thead>\n",
       "    <tr style=\"text-align: right;\">\n",
       "      <th></th>\n",
       "      <th>Team1_FGA</th>\n",
       "      <th>Team1_FG_P</th>\n",
       "      <th>Team1_3PA</th>\n",
       "      <th>Team1_3P_P</th>\n",
       "      <th>Team1_OFFRTG</th>\n",
       "      <th>Team1_DEFRTG</th>\n",
       "      <th>Team1_REB_P</th>\n",
       "      <th>Team1_AST/TO</th>\n",
       "      <th>Team1_PACE</th>\n",
       "      <th>Team2_FGA</th>\n",
       "      <th>Team2_FG_P</th>\n",
       "      <th>Team2_3PA</th>\n",
       "      <th>Team2_3P_P</th>\n",
       "      <th>Team2_OFFRTG</th>\n",
       "      <th>Team2_DEFRTG</th>\n",
       "      <th>Team2_REB_P</th>\n",
       "      <th>Team2_AST/TO</th>\n",
       "      <th>Team2_PACE</th>\n",
       "    </tr>\n",
       "  </thead>\n",
       "  <tbody>\n",
       "    <tr>\n",
       "      <td>0</td>\n",
       "      <td>0.980672</td>\n",
       "      <td>0.292450</td>\n",
       "      <td>-0.295799</td>\n",
       "      <td>0.514467</td>\n",
       "      <td>0.859482</td>\n",
       "      <td>-1.197297</td>\n",
       "      <td>0.372692</td>\n",
       "      <td>2.252454</td>\n",
       "      <td>-0.104554</td>\n",
       "      <td>0.120772</td>\n",
       "      <td>-1.168202</td>\n",
       "      <td>-0.544569</td>\n",
       "      <td>0.598336</td>\n",
       "      <td>-1.032387</td>\n",
       "      <td>0.107868</td>\n",
       "      <td>-0.371816</td>\n",
       "      <td>0.022602</td>\n",
       "      <td>-0.919336</td>\n",
       "    </tr>\n",
       "    <tr>\n",
       "      <td>1</td>\n",
       "      <td>-0.166305</td>\n",
       "      <td>-0.427128</td>\n",
       "      <td>-0.324989</td>\n",
       "      <td>-0.701506</td>\n",
       "      <td>-0.002269</td>\n",
       "      <td>0.496033</td>\n",
       "      <td>-0.294712</td>\n",
       "      <td>-1.148796</td>\n",
       "      <td>0.683883</td>\n",
       "      <td>-0.399469</td>\n",
       "      <td>-0.900958</td>\n",
       "      <td>0.155562</td>\n",
       "      <td>0.120080</td>\n",
       "      <td>-0.953587</td>\n",
       "      <td>1.310573</td>\n",
       "      <td>-2.267120</td>\n",
       "      <td>-0.753150</td>\n",
       "      <td>0.069182</td>\n",
       "    </tr>\n",
       "    <tr>\n",
       "      <td>2</td>\n",
       "      <td>1.052358</td>\n",
       "      <td>-0.427128</td>\n",
       "      <td>-0.719058</td>\n",
       "      <td>0.136164</td>\n",
       "      <td>0.467777</td>\n",
       "      <td>0.227578</td>\n",
       "      <td>0.680725</td>\n",
       "      <td>-0.646338</td>\n",
       "      <td>1.256815</td>\n",
       "      <td>-0.115701</td>\n",
       "      <td>0.479798</td>\n",
       "      <td>-0.792532</td>\n",
       "      <td>0.678046</td>\n",
       "      <td>0.839114</td>\n",
       "      <td>0.841722</td>\n",
       "      <td>-1.191407</td>\n",
       "      <td>0.138964</td>\n",
       "      <td>-0.270785</td>\n",
       "    </tr>\n",
       "    <tr>\n",
       "      <td>3</td>\n",
       "      <td>-0.022933</td>\n",
       "      <td>0.922080</td>\n",
       "      <td>0.959381</td>\n",
       "      <td>0.703618</td>\n",
       "      <td>1.212016</td>\n",
       "      <td>-0.515835</td>\n",
       "      <td>2.066872</td>\n",
       "      <td>-0.143881</td>\n",
       "      <td>-0.130836</td>\n",
       "      <td>-1.037946</td>\n",
       "      <td>2.350501</td>\n",
       "      <td>0.272250</td>\n",
       "      <td>0.757755</td>\n",
       "      <td>1.174015</td>\n",
       "      <td>1.310573</td>\n",
       "      <td>-1.754875</td>\n",
       "      <td>0.720778</td>\n",
       "      <td>0.526829</td>\n",
       "    </tr>\n",
       "    <tr>\n",
       "      <td>4</td>\n",
       "      <td>0.813405</td>\n",
       "      <td>0.112555</td>\n",
       "      <td>0.025293</td>\n",
       "      <td>-0.080009</td>\n",
       "      <td>-0.374389</td>\n",
       "      <td>0.991641</td>\n",
       "      <td>0.988758</td>\n",
       "      <td>-1.110145</td>\n",
       "      <td>0.731189</td>\n",
       "      <td>-0.706884</td>\n",
       "      <td>0.747041</td>\n",
       "      <td>-0.325778</td>\n",
       "      <td>0.624906</td>\n",
       "      <td>0.011714</td>\n",
       "      <td>-0.401753</td>\n",
       "      <td>0.191653</td>\n",
       "      <td>0.604415</td>\n",
       "      <td>0.040415</td>\n",
       "    </tr>\n",
       "  </tbody>\n",
       "</table>\n",
       "</div>"
      ],
      "text/plain": [
       "   Team1_FGA  Team1_FG_P  Team1_3PA  Team1_3P_P  Team1_OFFRTG  Team1_DEFRTG  \\\n",
       "0   0.980672    0.292450  -0.295799    0.514467      0.859482     -1.197297   \n",
       "1  -0.166305   -0.427128  -0.324989   -0.701506     -0.002269      0.496033   \n",
       "2   1.052358   -0.427128  -0.719058    0.136164      0.467777      0.227578   \n",
       "3  -0.022933    0.922080   0.959381    0.703618      1.212016     -0.515835   \n",
       "4   0.813405    0.112555   0.025293   -0.080009     -0.374389      0.991641   \n",
       "\n",
       "   Team1_REB_P  Team1_AST/TO  Team1_PACE  Team2_FGA  Team2_FG_P  Team2_3PA  \\\n",
       "0     0.372692      2.252454   -0.104554   0.120772   -1.168202  -0.544569   \n",
       "1    -0.294712     -1.148796    0.683883  -0.399469   -0.900958   0.155562   \n",
       "2     0.680725     -0.646338    1.256815  -0.115701    0.479798  -0.792532   \n",
       "3     2.066872     -0.143881   -0.130836  -1.037946    2.350501   0.272250   \n",
       "4     0.988758     -1.110145    0.731189  -0.706884    0.747041  -0.325778   \n",
       "\n",
       "   Team2_3P_P  Team2_OFFRTG  Team2_DEFRTG  Team2_REB_P  Team2_AST/TO  \\\n",
       "0    0.598336     -1.032387      0.107868    -0.371816      0.022602   \n",
       "1    0.120080     -0.953587      1.310573    -2.267120     -0.753150   \n",
       "2    0.678046      0.839114      0.841722    -1.191407      0.138964   \n",
       "3    0.757755      1.174015      1.310573    -1.754875      0.720778   \n",
       "4    0.624906      0.011714     -0.401753     0.191653      0.604415   \n",
       "\n",
       "   Team2_PACE  \n",
       "0   -0.919336  \n",
       "1    0.069182  \n",
       "2   -0.270785  \n",
       "3    0.526829  \n",
       "4    0.040415  "
      ]
     },
     "execution_count": 122,
     "metadata": {},
     "output_type": "execute_result"
    }
   ],
   "source": [
    "# Instantiate StandardScaler\n",
    "scaler = StandardScaler()\n",
    "\n",
    "# Transform the training and test sets\n",
    "scaled_data_train = scaler.fit_transform(X_train) \n",
    "scaled_data_test = scaler.transform(X_test)\n",
    "\n",
    "# Convert into a DataFrame\n",
    "scaled_df_train = pd.DataFrame(scaled_data_train, columns=X.columns)\n",
    "scaled_df_train.head()"
   ]
  },
  {
   "cell_type": "markdown",
   "metadata": {},
   "source": [
    "## Fitting the Model"
   ]
  },
  {
   "cell_type": "code",
   "execution_count": 123,
   "metadata": {
    "ExecuteTime": {
     "end_time": "2020-08-22T22:57:37.639167Z",
     "start_time": "2020-08-22T22:57:33.609029Z"
    }
   },
   "outputs": [],
   "source": [
    "# Instantiate KNeighborsClassifier\n",
    "clf = KNeighborsClassifier(n_neighbors=11) \n",
    "\n",
    "# I will start with 11 as it was the most appropriate k number from the previous exercise for the 1 season\n",
    "\n",
    "# Fit the classifier\n",
    "clf.fit(scaled_data_train, y_train)\n",
    "\n",
    "# Predict on the test set\n",
    "test_preds = clf.predict(scaled_data_test)"
   ]
  },
  {
   "cell_type": "markdown",
   "metadata": {},
   "source": [
    "## Evaluating the Model"
   ]
  },
  {
   "cell_type": "code",
   "execution_count": 124,
   "metadata": {
    "ExecuteTime": {
     "end_time": "2020-08-22T22:58:02.450716Z",
     "start_time": "2020-08-22T22:58:02.435341Z"
    }
   },
   "outputs": [
    {
     "name": "stdout",
     "output_type": "stream",
     "text": [
      "Precision Score: 0.7119219346627068\n",
      "Recall Score: 0.8021032504780115\n",
      "Accuracy Score: 0.6874910650464617\n",
      "F1 Score: 0.7543268150146101\n"
     ]
    }
   ],
   "source": [
    "def print_metrics(y, preds):\n",
    "    print(\"Precision Score: {}\".format(precision_score(y, preds)))\n",
    "    print(\"Recall Score: {}\".format(recall_score(y, preds)))\n",
    "    print(\"Accuracy Score: {}\".format(accuracy_score(y, preds)))\n",
    "    print(\"F1 Score: {}\".format(f1_score(y, preds)))\n",
    "    \n",
    "print_metrics(y_test, test_preds)"
   ]
  },
  {
   "cell_type": "markdown",
   "metadata": {},
   "source": [
    "Surprisingly for me this model is slightly closer to the predictions that the NBA Analysts make. The model has an accuracy of 68.74% whereas the NBA has 76%. It is not a great improvement but it did improve over 1%. Still there is not a big difference between thee three datasets. The idea would be to try to predict for specific teams and not for all the Home Teams. That needs to be done as part of the process for better betting. "
   ]
  },
  {
   "cell_type": "markdown",
   "metadata": {},
   "source": [
    "## Model Test I"
   ]
  },
  {
   "cell_type": "code",
   "execution_count": 166,
   "metadata": {
    "ExecuteTime": {
     "end_time": "2020-08-22T23:30:22.274512Z",
     "start_time": "2020-08-22T23:30:22.161493Z"
    }
   },
   "outputs": [],
   "source": [
    "df_SAS_a = pd.read_csv('df_merge_a.csv', index_col=0)\n",
    "df_SAS_b = pd.read_csv('df_merge_b.csv', index_col=0)"
   ]
  },
  {
   "cell_type": "code",
   "execution_count": 167,
   "metadata": {
    "ExecuteTime": {
     "end_time": "2020-08-22T23:30:22.618004Z",
     "start_time": "2020-08-22T23:30:22.606741Z"
    }
   },
   "outputs": [
    {
     "name": "stdout",
     "output_type": "stream",
     "text": [
      "Shape of df_SAS_a: (415, 29)\n",
      "Shape of df_SAS_b: (534, 29)\n",
      "Shape of new DataFrame: (949, 29)\n"
     ]
    }
   ],
   "source": [
    "df_SAS_a = df_SAS_a[df_SAS_a['Team2'] == 'San Antonio Spurs']\n",
    "df_SAS_b = df_SAS_b[df_SAS_b['Team2'] == 'San Antonio Spurs']\n",
    "df_SAS_2 = df_SAS_a.append(df_SAS_b) # This will append both DataFrames\n",
    "print('Shape of df_SAS_a:', df_SAS_a.shape)\n",
    "print('Shape of df_SAS_b:', df_SAS_b.shape)\n",
    "print('Shape of new DataFrame:', df_SAS_2.shape)"
   ]
  },
  {
   "cell_type": "code",
   "execution_count": 168,
   "metadata": {
    "ExecuteTime": {
     "end_time": "2020-08-22T23:30:23.095877Z",
     "start_time": "2020-08-22T23:30:23.071498Z"
    }
   },
   "outputs": [
    {
     "data": {
      "text/html": [
       "<div>\n",
       "<style scoped>\n",
       "    .dataframe tbody tr th:only-of-type {\n",
       "        vertical-align: middle;\n",
       "    }\n",
       "\n",
       "    .dataframe tbody tr th {\n",
       "        vertical-align: top;\n",
       "    }\n",
       "\n",
       "    .dataframe thead th {\n",
       "        text-align: right;\n",
       "    }\n",
       "</style>\n",
       "<table border=\"1\" class=\"dataframe\">\n",
       "  <thead>\n",
       "    <tr style=\"text-align: right;\">\n",
       "      <th></th>\n",
       "      <th>Team1</th>\n",
       "      <th>Team1Score</th>\n",
       "      <th>Team2</th>\n",
       "      <th>Team2Score</th>\n",
       "      <th>year</th>\n",
       "      <th>month</th>\n",
       "      <th>Game_Result</th>\n",
       "      <th>Team1_year</th>\n",
       "      <th>Team1_month</th>\n",
       "      <th>Team1_FGA</th>\n",
       "      <th>Team1_FG_P</th>\n",
       "      <th>Team1_3PA</th>\n",
       "      <th>Team1_3P_P</th>\n",
       "      <th>Team1_OFFRTG</th>\n",
       "      <th>Team1_DEFRTG</th>\n",
       "      <th>Team1_REB_P</th>\n",
       "      <th>Team1_AST/TO</th>\n",
       "      <th>Team1_PACE</th>\n",
       "      <th>Team2_year</th>\n",
       "      <th>Team2_month</th>\n",
       "      <th>Team2_FGA</th>\n",
       "      <th>Team2_FG_P</th>\n",
       "      <th>Team2_3PA</th>\n",
       "      <th>Team2_3P_P</th>\n",
       "      <th>Team2_OFFRTG</th>\n",
       "      <th>Team2_DEFRTG</th>\n",
       "      <th>Team2_REB_P</th>\n",
       "      <th>Team2_AST/TO</th>\n",
       "      <th>Team2_PACE</th>\n",
       "    </tr>\n",
       "  </thead>\n",
       "  <tbody>\n",
       "    <tr>\n",
       "      <td>9</td>\n",
       "      <td>New York Knicks</td>\n",
       "      <td>111</td>\n",
       "      <td>San Antonio Spurs</td>\n",
       "      <td>120</td>\n",
       "      <td>2019</td>\n",
       "      <td>10</td>\n",
       "      <td>1</td>\n",
       "      <td>2019.0</td>\n",
       "      <td>10.0</td>\n",
       "      <td>86.0</td>\n",
       "      <td>42.3</td>\n",
       "      <td>28.4</td>\n",
       "      <td>35.2</td>\n",
       "      <td>99.8</td>\n",
       "      <td>107.9</td>\n",
       "      <td>51.6</td>\n",
       "      <td>1.02</td>\n",
       "      <td>100.80</td>\n",
       "      <td>2019.0</td>\n",
       "      <td>10.0</td>\n",
       "      <td>89.0</td>\n",
       "      <td>47.5</td>\n",
       "      <td>23.0</td>\n",
       "      <td>33.7</td>\n",
       "      <td>108.6</td>\n",
       "      <td>106.2</td>\n",
       "      <td>52.8</td>\n",
       "      <td>1.36</td>\n",
       "      <td>104.75</td>\n",
       "    </tr>\n",
       "    <tr>\n",
       "      <td>32</td>\n",
       "      <td>Washington Wizards</td>\n",
       "      <td>122</td>\n",
       "      <td>San Antonio Spurs</td>\n",
       "      <td>124</td>\n",
       "      <td>2019</td>\n",
       "      <td>10</td>\n",
       "      <td>1</td>\n",
       "      <td>2019.0</td>\n",
       "      <td>10.0</td>\n",
       "      <td>94.0</td>\n",
       "      <td>47.9</td>\n",
       "      <td>38.0</td>\n",
       "      <td>38.2</td>\n",
       "      <td>113.6</td>\n",
       "      <td>113.6</td>\n",
       "      <td>49.3</td>\n",
       "      <td>1.69</td>\n",
       "      <td>104.88</td>\n",
       "      <td>2019.0</td>\n",
       "      <td>10.0</td>\n",
       "      <td>89.0</td>\n",
       "      <td>47.5</td>\n",
       "      <td>23.0</td>\n",
       "      <td>33.7</td>\n",
       "      <td>108.6</td>\n",
       "      <td>106.2</td>\n",
       "      <td>52.8</td>\n",
       "      <td>1.36</td>\n",
       "      <td>104.75</td>\n",
       "    </tr>\n",
       "  </tbody>\n",
       "</table>\n",
       "</div>"
      ],
      "text/plain": [
       "                 Team1  Team1Score              Team2  Team2Score  year  \\\n",
       "9      New York Knicks         111  San Antonio Spurs         120  2019   \n",
       "32  Washington Wizards         122  San Antonio Spurs         124  2019   \n",
       "\n",
       "    month  Game_Result  Team1_year  Team1_month  Team1_FGA  Team1_FG_P  \\\n",
       "9      10            1      2019.0         10.0       86.0        42.3   \n",
       "32     10            1      2019.0         10.0       94.0        47.9   \n",
       "\n",
       "    Team1_3PA  Team1_3P_P  Team1_OFFRTG  Team1_DEFRTG  Team1_REB_P  \\\n",
       "9        28.4        35.2          99.8         107.9         51.6   \n",
       "32       38.0        38.2         113.6         113.6         49.3   \n",
       "\n",
       "    Team1_AST/TO  Team1_PACE  Team2_year  Team2_month  Team2_FGA  Team2_FG_P  \\\n",
       "9           1.02      100.80      2019.0         10.0       89.0        47.5   \n",
       "32          1.69      104.88      2019.0         10.0       89.0        47.5   \n",
       "\n",
       "    Team2_3PA  Team2_3P_P  Team2_OFFRTG  Team2_DEFRTG  Team2_REB_P  \\\n",
       "9        23.0        33.7         108.6         106.2         52.8   \n",
       "32       23.0        33.7         108.6         106.2         52.8   \n",
       "\n",
       "    Team2_AST/TO  Team2_PACE  \n",
       "9           1.36      104.75  \n",
       "32          1.36      104.75  "
      ]
     },
     "execution_count": 168,
     "metadata": {},
     "output_type": "execute_result"
    }
   ],
   "source": [
    "df_SAS_2.head(2)"
   ]
  },
  {
   "cell_type": "code",
   "execution_count": 169,
   "metadata": {
    "ExecuteTime": {
     "end_time": "2020-08-22T23:30:23.869010Z",
     "start_time": "2020-08-22T23:30:23.850294Z"
    }
   },
   "outputs": [
    {
     "data": {
      "text/html": [
       "<div>\n",
       "<style scoped>\n",
       "    .dataframe tbody tr th:only-of-type {\n",
       "        vertical-align: middle;\n",
       "    }\n",
       "\n",
       "    .dataframe tbody tr th {\n",
       "        vertical-align: top;\n",
       "    }\n",
       "\n",
       "    .dataframe thead th {\n",
       "        text-align: right;\n",
       "    }\n",
       "</style>\n",
       "<table border=\"1\" class=\"dataframe\">\n",
       "  <thead>\n",
       "    <tr style=\"text-align: right;\">\n",
       "      <th></th>\n",
       "      <th>Game_Result</th>\n",
       "      <th>Team1_FGA</th>\n",
       "      <th>Team1_FG_P</th>\n",
       "      <th>Team1_3PA</th>\n",
       "      <th>Team1_3P_P</th>\n",
       "      <th>Team1_OFFRTG</th>\n",
       "      <th>Team1_DEFRTG</th>\n",
       "      <th>Team1_REB_P</th>\n",
       "      <th>Team1_AST/TO</th>\n",
       "      <th>Team1_PACE</th>\n",
       "      <th>Team2_FGA</th>\n",
       "      <th>Team2_FG_P</th>\n",
       "      <th>Team2_3PA</th>\n",
       "      <th>Team2_3P_P</th>\n",
       "      <th>Team2_OFFRTG</th>\n",
       "      <th>Team2_DEFRTG</th>\n",
       "      <th>Team2_REB_P</th>\n",
       "      <th>Team2_AST/TO</th>\n",
       "      <th>Team2_PACE</th>\n",
       "    </tr>\n",
       "  </thead>\n",
       "  <tbody>\n",
       "    <tr>\n",
       "      <td>9</td>\n",
       "      <td>1</td>\n",
       "      <td>86.0</td>\n",
       "      <td>42.3</td>\n",
       "      <td>28.4</td>\n",
       "      <td>35.2</td>\n",
       "      <td>99.8</td>\n",
       "      <td>107.9</td>\n",
       "      <td>51.6</td>\n",
       "      <td>1.02</td>\n",
       "      <td>100.80</td>\n",
       "      <td>89.0</td>\n",
       "      <td>47.5</td>\n",
       "      <td>23.0</td>\n",
       "      <td>33.7</td>\n",
       "      <td>108.6</td>\n",
       "      <td>106.2</td>\n",
       "      <td>52.8</td>\n",
       "      <td>1.36</td>\n",
       "      <td>104.75</td>\n",
       "    </tr>\n",
       "    <tr>\n",
       "      <td>32</td>\n",
       "      <td>1</td>\n",
       "      <td>94.0</td>\n",
       "      <td>47.9</td>\n",
       "      <td>38.0</td>\n",
       "      <td>38.2</td>\n",
       "      <td>113.6</td>\n",
       "      <td>113.6</td>\n",
       "      <td>49.3</td>\n",
       "      <td>1.69</td>\n",
       "      <td>104.88</td>\n",
       "      <td>89.0</td>\n",
       "      <td>47.5</td>\n",
       "      <td>23.0</td>\n",
       "      <td>33.7</td>\n",
       "      <td>108.6</td>\n",
       "      <td>106.2</td>\n",
       "      <td>52.8</td>\n",
       "      <td>1.36</td>\n",
       "      <td>104.75</td>\n",
       "    </tr>\n",
       "  </tbody>\n",
       "</table>\n",
       "</div>"
      ],
      "text/plain": [
       "    Game_Result  Team1_FGA  Team1_FG_P  Team1_3PA  Team1_3P_P  Team1_OFFRTG  \\\n",
       "9             1       86.0        42.3       28.4        35.2          99.8   \n",
       "32            1       94.0        47.9       38.0        38.2         113.6   \n",
       "\n",
       "    Team1_DEFRTG  Team1_REB_P  Team1_AST/TO  Team1_PACE  Team2_FGA  \\\n",
       "9          107.9         51.6          1.02      100.80       89.0   \n",
       "32         113.6         49.3          1.69      104.88       89.0   \n",
       "\n",
       "    Team2_FG_P  Team2_3PA  Team2_3P_P  Team2_OFFRTG  Team2_DEFRTG  \\\n",
       "9         47.5       23.0        33.7         108.6         106.2   \n",
       "32        47.5       23.0        33.7         108.6         106.2   \n",
       "\n",
       "    Team2_REB_P  Team2_AST/TO  Team2_PACE  \n",
       "9          52.8          1.36      104.75  \n",
       "32         52.8          1.36      104.75  "
      ]
     },
     "execution_count": 169,
     "metadata": {},
     "output_type": "execute_result"
    }
   ],
   "source": [
    "df_SAS_2 = df_SAS_2.drop(['Team1', 'Team1Score', 'Team2Score', 'Team2', 'year', 'month', 'Team1_month', 'Team2_month', 'Team1_year', 'Team2_year'], axis=1)\n",
    "df_SAS_2.head(2)"
   ]
  },
  {
   "cell_type": "code",
   "execution_count": 170,
   "metadata": {
    "ExecuteTime": {
     "end_time": "2020-08-22T23:30:24.654248Z",
     "start_time": "2020-08-22T23:30:24.650584Z"
    }
   },
   "outputs": [],
   "source": [
    "y = df_SAS_2['Game_Result']\n",
    "X = df_SAS_2.drop(['Game_Result'], axis=1)"
   ]
  },
  {
   "cell_type": "code",
   "execution_count": 171,
   "metadata": {
    "ExecuteTime": {
     "end_time": "2020-08-22T23:30:25.429626Z",
     "start_time": "2020-08-22T23:30:25.424953Z"
    }
   },
   "outputs": [],
   "source": [
    "X_train, X_test, y_train, y_test = train_test_split(X, y, test_size=0.25, random_state=42)"
   ]
  },
  {
   "cell_type": "code",
   "execution_count": 172,
   "metadata": {
    "ExecuteTime": {
     "end_time": "2020-08-22T23:30:25.933264Z",
     "start_time": "2020-08-22T23:30:25.923042Z"
    }
   },
   "outputs": [],
   "source": [
    "scaler = StandardScaler()\n",
    "scaler.fit(X_train)\n",
    "\n",
    "X_train = scaler.transform(X_train)\n",
    "X_test = scaler.transform(X_test)"
   ]
  },
  {
   "cell_type": "code",
   "execution_count": 173,
   "metadata": {
    "ExecuteTime": {
     "end_time": "2020-08-22T23:30:26.606605Z",
     "start_time": "2020-08-22T23:30:26.600785Z"
    }
   },
   "outputs": [
    {
     "data": {
      "text/plain": [
       "KNeighborsClassifier(n_neighbors=11)"
      ]
     },
     "execution_count": 173,
     "metadata": {},
     "output_type": "execute_result"
    }
   ],
   "source": [
    "clf = KNeighborsClassifier(n_neighbors=11)\n",
    "clf.fit(X_train, y_train)"
   ]
  },
  {
   "cell_type": "code",
   "execution_count": 174,
   "metadata": {
    "ExecuteTime": {
     "end_time": "2020-08-22T23:30:27.361994Z",
     "start_time": "2020-08-22T23:30:27.346634Z"
    }
   },
   "outputs": [],
   "source": [
    "y_pred = clf.predict(X_test)"
   ]
  },
  {
   "cell_type": "code",
   "execution_count": 175,
   "metadata": {
    "ExecuteTime": {
     "end_time": "2020-08-22T23:30:28.141074Z",
     "start_time": "2020-08-22T23:30:28.132460Z"
    }
   },
   "outputs": [
    {
     "name": "stdout",
     "output_type": "stream",
     "text": [
      "[[  6  41]\n",
      " [  7 184]]\n",
      "              precision    recall  f1-score   support\n",
      "\n",
      "           0       0.46      0.13      0.20        47\n",
      "           1       0.82      0.96      0.88       191\n",
      "\n",
      "    accuracy                           0.80       238\n",
      "   macro avg       0.64      0.55      0.54       238\n",
      "weighted avg       0.75      0.80      0.75       238\n",
      "\n"
     ]
    }
   ],
   "source": [
    "print(confusion_matrix(y_test, y_pred))\n",
    "print(classification_report(y_test, y_pred))"
   ]
  },
  {
   "cell_type": "code",
   "execution_count": 176,
   "metadata": {
    "ExecuteTime": {
     "end_time": "2020-08-22T23:31:02.471539Z",
     "start_time": "2020-08-22T23:31:02.462930Z"
    }
   },
   "outputs": [
    {
     "name": "stdout",
     "output_type": "stream",
     "text": [
      "Precision Score: 0.8177777777777778\n",
      "Recall Score: 0.9633507853403142\n",
      "Accuracy Score: 0.7983193277310925\n",
      "F1 Score: 0.8846153846153847\n"
     ]
    }
   ],
   "source": [
    "print_metrics(y_test, y_pred)"
   ]
  },
  {
   "cell_type": "markdown",
   "metadata": {},
   "source": [
    "## Model Test II"
   ]
  },
  {
   "cell_type": "code",
   "execution_count": 177,
   "metadata": {
    "ExecuteTime": {
     "end_time": "2020-08-22T23:32:40.199185Z",
     "start_time": "2020-08-22T23:32:40.091003Z"
    }
   },
   "outputs": [],
   "source": [
    "df_MIA_a = pd.read_csv('df_merge_a.csv', index_col=0)\n",
    "df_MIA_b = pd.read_csv('df_merge_b.csv', index_col=0)"
   ]
  },
  {
   "cell_type": "code",
   "execution_count": 178,
   "metadata": {
    "ExecuteTime": {
     "end_time": "2020-08-22T23:33:38.848467Z",
     "start_time": "2020-08-22T23:33:38.836414Z"
    }
   },
   "outputs": [
    {
     "name": "stdout",
     "output_type": "stream",
     "text": [
      "Shape of df_SAS_a: (409, 29)\n",
      "Shape of df_SAS_b: (535, 29)\n",
      "Shape of new DataFrame: (944, 29)\n"
     ]
    }
   ],
   "source": [
    "df_MIA_a = df_MIA_a[df_MIA_a['Team2'] == 'Miami Heat']\n",
    "df_MIA_b = df_MIA_b[df_MIA_b['Team2'] == 'Miami Heat']\n",
    "df_MIA_2 = df_MIA_a.append(df_MIA_b) # This will append both DataFrames\n",
    "print('Shape of df_SAS_a:', df_MIA_a.shape)\n",
    "print('Shape of df_SAS_b:', df_MIA_b.shape)\n",
    "print('Shape of new DataFrame:', df_MIA_2.shape)"
   ]
  },
  {
   "cell_type": "code",
   "execution_count": 179,
   "metadata": {
    "ExecuteTime": {
     "end_time": "2020-08-22T23:33:52.723865Z",
     "start_time": "2020-08-22T23:33:52.699578Z"
    }
   },
   "outputs": [
    {
     "data": {
      "text/html": [
       "<div>\n",
       "<style scoped>\n",
       "    .dataframe tbody tr th:only-of-type {\n",
       "        vertical-align: middle;\n",
       "    }\n",
       "\n",
       "    .dataframe tbody tr th {\n",
       "        vertical-align: top;\n",
       "    }\n",
       "\n",
       "    .dataframe thead th {\n",
       "        text-align: right;\n",
       "    }\n",
       "</style>\n",
       "<table border=\"1\" class=\"dataframe\">\n",
       "  <thead>\n",
       "    <tr style=\"text-align: right;\">\n",
       "      <th></th>\n",
       "      <th>Team1</th>\n",
       "      <th>Team1Score</th>\n",
       "      <th>Team2</th>\n",
       "      <th>Team2Score</th>\n",
       "      <th>year</th>\n",
       "      <th>month</th>\n",
       "      <th>Game_Result</th>\n",
       "      <th>Team1_year</th>\n",
       "      <th>Team1_month</th>\n",
       "      <th>Team1_FGA</th>\n",
       "      <th>Team1_FG_P</th>\n",
       "      <th>Team1_3PA</th>\n",
       "      <th>Team1_3P_P</th>\n",
       "      <th>Team1_OFFRTG</th>\n",
       "      <th>Team1_DEFRTG</th>\n",
       "      <th>Team1_REB_P</th>\n",
       "      <th>Team1_AST/TO</th>\n",
       "      <th>Team1_PACE</th>\n",
       "      <th>Team2_year</th>\n",
       "      <th>Team2_month</th>\n",
       "      <th>Team2_FGA</th>\n",
       "      <th>Team2_FG_P</th>\n",
       "      <th>Team2_3PA</th>\n",
       "      <th>Team2_3P_P</th>\n",
       "      <th>Team2_OFFRTG</th>\n",
       "      <th>Team2_DEFRTG</th>\n",
       "      <th>Team2_REB_P</th>\n",
       "      <th>Team2_AST/TO</th>\n",
       "      <th>Team2_PACE</th>\n",
       "    </tr>\n",
       "  </thead>\n",
       "  <tbody>\n",
       "    <tr>\n",
       "      <td>6</td>\n",
       "      <td>Memphis Grizzlies</td>\n",
       "      <td>101</td>\n",
       "      <td>Miami Heat</td>\n",
       "      <td>120</td>\n",
       "      <td>2019</td>\n",
       "      <td>10</td>\n",
       "      <td>1</td>\n",
       "      <td>2019.0</td>\n",
       "      <td>10.0</td>\n",
       "      <td>95.3</td>\n",
       "      <td>41.5</td>\n",
       "      <td>32.0</td>\n",
       "      <td>28.1</td>\n",
       "      <td>95.7</td>\n",
       "      <td>108.1</td>\n",
       "      <td>48.4</td>\n",
       "      <td>1.32</td>\n",
       "      <td>108.91</td>\n",
       "      <td>2019.0</td>\n",
       "      <td>10.0</td>\n",
       "      <td>85.6</td>\n",
       "      <td>47.0</td>\n",
       "      <td>33.2</td>\n",
       "      <td>39.2</td>\n",
       "      <td>106.6</td>\n",
       "      <td>99.3</td>\n",
       "      <td>52.5</td>\n",
       "      <td>1.19</td>\n",
       "      <td>106.09</td>\n",
       "    </tr>\n",
       "    <tr>\n",
       "      <td>51</td>\n",
       "      <td>Atlanta Hawks</td>\n",
       "      <td>97</td>\n",
       "      <td>Miami Heat</td>\n",
       "      <td>112</td>\n",
       "      <td>2019</td>\n",
       "      <td>10</td>\n",
       "      <td>1</td>\n",
       "      <td>2019.0</td>\n",
       "      <td>10.0</td>\n",
       "      <td>85.0</td>\n",
       "      <td>45.6</td>\n",
       "      <td>32.2</td>\n",
       "      <td>29.2</td>\n",
       "      <td>102.0</td>\n",
       "      <td>103.4</td>\n",
       "      <td>49.6</td>\n",
       "      <td>1.36</td>\n",
       "      <td>101.20</td>\n",
       "      <td>2019.0</td>\n",
       "      <td>10.0</td>\n",
       "      <td>85.6</td>\n",
       "      <td>47.0</td>\n",
       "      <td>33.2</td>\n",
       "      <td>39.2</td>\n",
       "      <td>106.6</td>\n",
       "      <td>99.3</td>\n",
       "      <td>52.5</td>\n",
       "      <td>1.19</td>\n",
       "      <td>106.09</td>\n",
       "    </tr>\n",
       "  </tbody>\n",
       "</table>\n",
       "</div>"
      ],
      "text/plain": [
       "                Team1  Team1Score       Team2  Team2Score  year  month  \\\n",
       "6   Memphis Grizzlies         101  Miami Heat         120  2019     10   \n",
       "51      Atlanta Hawks          97  Miami Heat         112  2019     10   \n",
       "\n",
       "    Game_Result  Team1_year  Team1_month  Team1_FGA  Team1_FG_P  Team1_3PA  \\\n",
       "6             1      2019.0         10.0       95.3        41.5       32.0   \n",
       "51            1      2019.0         10.0       85.0        45.6       32.2   \n",
       "\n",
       "    Team1_3P_P  Team1_OFFRTG  Team1_DEFRTG  Team1_REB_P  Team1_AST/TO  \\\n",
       "6         28.1          95.7         108.1         48.4          1.32   \n",
       "51        29.2         102.0         103.4         49.6          1.36   \n",
       "\n",
       "    Team1_PACE  Team2_year  Team2_month  Team2_FGA  Team2_FG_P  Team2_3PA  \\\n",
       "6       108.91      2019.0         10.0       85.6        47.0       33.2   \n",
       "51      101.20      2019.0         10.0       85.6        47.0       33.2   \n",
       "\n",
       "    Team2_3P_P  Team2_OFFRTG  Team2_DEFRTG  Team2_REB_P  Team2_AST/TO  \\\n",
       "6         39.2         106.6          99.3         52.5          1.19   \n",
       "51        39.2         106.6          99.3         52.5          1.19   \n",
       "\n",
       "    Team2_PACE  \n",
       "6       106.09  \n",
       "51      106.09  "
      ]
     },
     "execution_count": 179,
     "metadata": {},
     "output_type": "execute_result"
    }
   ],
   "source": [
    "df_MIA_2.head(2)"
   ]
  },
  {
   "cell_type": "code",
   "execution_count": 180,
   "metadata": {
    "ExecuteTime": {
     "end_time": "2020-08-22T23:34:14.670923Z",
     "start_time": "2020-08-22T23:34:14.650032Z"
    }
   },
   "outputs": [
    {
     "data": {
      "text/html": [
       "<div>\n",
       "<style scoped>\n",
       "    .dataframe tbody tr th:only-of-type {\n",
       "        vertical-align: middle;\n",
       "    }\n",
       "\n",
       "    .dataframe tbody tr th {\n",
       "        vertical-align: top;\n",
       "    }\n",
       "\n",
       "    .dataframe thead th {\n",
       "        text-align: right;\n",
       "    }\n",
       "</style>\n",
       "<table border=\"1\" class=\"dataframe\">\n",
       "  <thead>\n",
       "    <tr style=\"text-align: right;\">\n",
       "      <th></th>\n",
       "      <th>Game_Result</th>\n",
       "      <th>Team1_FGA</th>\n",
       "      <th>Team1_FG_P</th>\n",
       "      <th>Team1_3PA</th>\n",
       "      <th>Team1_3P_P</th>\n",
       "      <th>Team1_OFFRTG</th>\n",
       "      <th>Team1_DEFRTG</th>\n",
       "      <th>Team1_REB_P</th>\n",
       "      <th>Team1_AST/TO</th>\n",
       "      <th>Team1_PACE</th>\n",
       "      <th>Team2_FGA</th>\n",
       "      <th>Team2_FG_P</th>\n",
       "      <th>Team2_3PA</th>\n",
       "      <th>Team2_3P_P</th>\n",
       "      <th>Team2_OFFRTG</th>\n",
       "      <th>Team2_DEFRTG</th>\n",
       "      <th>Team2_REB_P</th>\n",
       "      <th>Team2_AST/TO</th>\n",
       "      <th>Team2_PACE</th>\n",
       "    </tr>\n",
       "  </thead>\n",
       "  <tbody>\n",
       "    <tr>\n",
       "      <td>6</td>\n",
       "      <td>1</td>\n",
       "      <td>95.3</td>\n",
       "      <td>41.5</td>\n",
       "      <td>32.0</td>\n",
       "      <td>28.1</td>\n",
       "      <td>95.7</td>\n",
       "      <td>108.1</td>\n",
       "      <td>48.4</td>\n",
       "      <td>1.32</td>\n",
       "      <td>108.91</td>\n",
       "      <td>85.6</td>\n",
       "      <td>47.0</td>\n",
       "      <td>33.2</td>\n",
       "      <td>39.2</td>\n",
       "      <td>106.6</td>\n",
       "      <td>99.3</td>\n",
       "      <td>52.5</td>\n",
       "      <td>1.19</td>\n",
       "      <td>106.09</td>\n",
       "    </tr>\n",
       "    <tr>\n",
       "      <td>51</td>\n",
       "      <td>1</td>\n",
       "      <td>85.0</td>\n",
       "      <td>45.6</td>\n",
       "      <td>32.2</td>\n",
       "      <td>29.2</td>\n",
       "      <td>102.0</td>\n",
       "      <td>103.4</td>\n",
       "      <td>49.6</td>\n",
       "      <td>1.36</td>\n",
       "      <td>101.20</td>\n",
       "      <td>85.6</td>\n",
       "      <td>47.0</td>\n",
       "      <td>33.2</td>\n",
       "      <td>39.2</td>\n",
       "      <td>106.6</td>\n",
       "      <td>99.3</td>\n",
       "      <td>52.5</td>\n",
       "      <td>1.19</td>\n",
       "      <td>106.09</td>\n",
       "    </tr>\n",
       "  </tbody>\n",
       "</table>\n",
       "</div>"
      ],
      "text/plain": [
       "    Game_Result  Team1_FGA  Team1_FG_P  Team1_3PA  Team1_3P_P  Team1_OFFRTG  \\\n",
       "6             1       95.3        41.5       32.0        28.1          95.7   \n",
       "51            1       85.0        45.6       32.2        29.2         102.0   \n",
       "\n",
       "    Team1_DEFRTG  Team1_REB_P  Team1_AST/TO  Team1_PACE  Team2_FGA  \\\n",
       "6          108.1         48.4          1.32      108.91       85.6   \n",
       "51         103.4         49.6          1.36      101.20       85.6   \n",
       "\n",
       "    Team2_FG_P  Team2_3PA  Team2_3P_P  Team2_OFFRTG  Team2_DEFRTG  \\\n",
       "6         47.0       33.2        39.2         106.6          99.3   \n",
       "51        47.0       33.2        39.2         106.6          99.3   \n",
       "\n",
       "    Team2_REB_P  Team2_AST/TO  Team2_PACE  \n",
       "6          52.5          1.19      106.09  \n",
       "51         52.5          1.19      106.09  "
      ]
     },
     "execution_count": 180,
     "metadata": {},
     "output_type": "execute_result"
    }
   ],
   "source": [
    "df_MIA_2 = df_MIA_2.drop(['Team1', 'Team1Score', 'Team2Score', 'Team2', 'year', 'month', 'Team1_month', 'Team2_month', 'Team1_year', 'Team2_year'], axis=1)\n",
    "df_MIA_2.head(2)"
   ]
  },
  {
   "cell_type": "code",
   "execution_count": 181,
   "metadata": {
    "ExecuteTime": {
     "end_time": "2020-08-22T23:34:29.219372Z",
     "start_time": "2020-08-22T23:34:29.215671Z"
    }
   },
   "outputs": [],
   "source": [
    "y = df_MIA_2['Game_Result']\n",
    "X = df_MIA_2.drop(['Game_Result'], axis=1)"
   ]
  },
  {
   "cell_type": "code",
   "execution_count": 182,
   "metadata": {
    "ExecuteTime": {
     "end_time": "2020-08-22T23:35:19.492282Z",
     "start_time": "2020-08-22T23:35:19.487830Z"
    }
   },
   "outputs": [],
   "source": [
    "X_train, X_test, y_train, y_test = train_test_split(X, y, test_size=0.25, random_state=42)"
   ]
  },
  {
   "cell_type": "code",
   "execution_count": 183,
   "metadata": {
    "ExecuteTime": {
     "end_time": "2020-08-22T23:35:29.737300Z",
     "start_time": "2020-08-22T23:35:29.727004Z"
    }
   },
   "outputs": [],
   "source": [
    "scaler = StandardScaler()\n",
    "scaler.fit(X_train)\n",
    "\n",
    "X_train = scaler.transform(X_train)\n",
    "X_test = scaler.transform(X_test)"
   ]
  },
  {
   "cell_type": "code",
   "execution_count": 184,
   "metadata": {
    "ExecuteTime": {
     "end_time": "2020-08-22T23:35:37.849886Z",
     "start_time": "2020-08-22T23:35:37.844920Z"
    }
   },
   "outputs": [
    {
     "data": {
      "text/plain": [
       "KNeighborsClassifier(n_neighbors=11)"
      ]
     },
     "execution_count": 184,
     "metadata": {},
     "output_type": "execute_result"
    }
   ],
   "source": [
    "clf = KNeighborsClassifier(n_neighbors=11)\n",
    "clf.fit(X_train, y_train)"
   ]
  },
  {
   "cell_type": "code",
   "execution_count": 185,
   "metadata": {
    "ExecuteTime": {
     "end_time": "2020-08-22T23:36:04.183988Z",
     "start_time": "2020-08-22T23:36:04.167993Z"
    }
   },
   "outputs": [],
   "source": [
    "y_pred = clf.predict(X_test)"
   ]
  },
  {
   "cell_type": "code",
   "execution_count": 186,
   "metadata": {
    "ExecuteTime": {
     "end_time": "2020-08-22T23:36:13.076193Z",
     "start_time": "2020-08-22T23:36:13.067205Z"
    }
   },
   "outputs": [
    {
     "name": "stdout",
     "output_type": "stream",
     "text": [
      "[[ 39  48]\n",
      " [ 28 121]]\n",
      "              precision    recall  f1-score   support\n",
      "\n",
      "           0       0.58      0.45      0.51        87\n",
      "           1       0.72      0.81      0.76       149\n",
      "\n",
      "    accuracy                           0.68       236\n",
      "   macro avg       0.65      0.63      0.63       236\n",
      "weighted avg       0.67      0.68      0.67       236\n",
      "\n"
     ]
    }
   ],
   "source": [
    "print(confusion_matrix(y_test, y_pred))\n",
    "print(classification_report(y_test, y_pred))"
   ]
  },
  {
   "cell_type": "code",
   "execution_count": 187,
   "metadata": {
    "ExecuteTime": {
     "end_time": "2020-08-22T23:36:35.237580Z",
     "start_time": "2020-08-22T23:36:35.228860Z"
    }
   },
   "outputs": [
    {
     "name": "stdout",
     "output_type": "stream",
     "text": [
      "Precision Score: 0.7159763313609467\n",
      "Recall Score: 0.8120805369127517\n",
      "Accuracy Score: 0.6779661016949152\n",
      "F1 Score: 0.761006289308176\n"
     ]
    }
   ],
   "source": [
    "print_metrics(y_test, y_pred)"
   ]
  },
  {
   "cell_type": "markdown",
   "metadata": {},
   "source": [
    "# Summary/Observations"
   ]
  },
  {
   "cell_type": "code",
   "execution_count": null,
   "metadata": {},
   "outputs": [],
   "source": []
  }
 ],
 "metadata": {
  "kernelspec": {
   "display_name": "learn-env",
   "language": "python",
   "name": "learn-env"
  },
  "language_info": {
   "codemirror_mode": {
    "name": "ipython",
    "version": 3
   },
   "file_extension": ".py",
   "mimetype": "text/x-python",
   "name": "python",
   "nbconvert_exporter": "python",
   "pygments_lexer": "ipython3",
   "version": "3.6.9"
  },
  "toc": {
   "base_numbering": 1,
   "nav_menu": {},
   "number_sections": true,
   "sideBar": true,
   "skip_h1_title": false,
   "title_cell": "Table of Contents",
   "title_sidebar": "Contents",
   "toc_cell": false,
   "toc_position": {
    "height": "calc(100% - 180px)",
    "left": "10px",
    "top": "150px",
    "width": "297.390625px"
   },
   "toc_section_display": true,
   "toc_window_display": true
  },
  "varInspector": {
   "cols": {
    "lenName": 16,
    "lenType": 16,
    "lenVar": 40
   },
   "kernels_config": {
    "python": {
     "delete_cmd_postfix": "",
     "delete_cmd_prefix": "del ",
     "library": "var_list.py",
     "varRefreshCmd": "print(var_dic_list())"
    },
    "r": {
     "delete_cmd_postfix": ") ",
     "delete_cmd_prefix": "rm(",
     "library": "var_list.r",
     "varRefreshCmd": "cat(var_dic_list()) "
    }
   },
   "types_to_exclude": [
    "module",
    "function",
    "builtin_function_or_method",
    "instance",
    "_Feature"
   ],
   "window_display": false
  }
 },
 "nbformat": 4,
 "nbformat_minor": 4
}
